{
 "cells": [
  {
   "cell_type": "code",
   "execution_count": 1,
   "outputs": [],
   "source": [
    "import numpy as np\n",
    "import markov_chains_methods as mc\n",
    "import utils as ul\n",
    "import pandas as pd\n",
    "import metrics\n",
    "from time import time"
   ],
   "metadata": {
    "collapsed": false,
    "ExecuteTime": {
     "end_time": "2023-11-16T08:40:50.104287Z",
     "start_time": "2023-11-16T08:40:49.451289500Z"
    }
   },
   "id": "initial_id"
  },
  {
   "cell_type": "code",
   "execution_count": 2,
   "outputs": [
    {
     "data": {
      "text/plain": "   Unnamed: 0  ranker 1  ranker 2  ranker 3  ranker 4  ranker 5  ranker 6  \\\n0         M01        20        86        79        32        28        70   \n1         M02        14         9         7        52        55        26   \n2         M03        22         3        24        31        97        29   \n3         M04        54        87        13        22        95        46   \n4         M05        93         6        53        92        31        10   \n..        ...       ...       ...       ...       ...       ...       ...   \n95        W66        44        29        85        15        72        11   \n96        W67        50        66        29        83         4        81   \n97        W68        65        75        78        80        68        12   \n98        W69        41        60         9        34        99        30   \n99        W70        70        43        19        38        29        35   \n\n    ranker 7  ranker 8  ranker 11  ranker 12  \n0         21        71          1          1  \n1         89        72          2          2  \n2         41        73          3          3  \n3         32        74          4          4  \n4         56        75          5          5  \n..       ...       ...        ...        ...  \n95        67        66         96         81  \n96        40        67         97         82  \n97        73        68         98         83  \n98        63        69         99         84  \n99        52        70        100         85  \n\n[100 rows x 11 columns]",
      "text/html": "<div>\n<style scoped>\n    .dataframe tbody tr th:only-of-type {\n        vertical-align: middle;\n    }\n\n    .dataframe tbody tr th {\n        vertical-align: top;\n    }\n\n    .dataframe thead th {\n        text-align: right;\n    }\n</style>\n<table border=\"1\" class=\"dataframe\">\n  <thead>\n    <tr style=\"text-align: right;\">\n      <th></th>\n      <th>Unnamed: 0</th>\n      <th>ranker 1</th>\n      <th>ranker 2</th>\n      <th>ranker 3</th>\n      <th>ranker 4</th>\n      <th>ranker 5</th>\n      <th>ranker 6</th>\n      <th>ranker 7</th>\n      <th>ranker 8</th>\n      <th>ranker 11</th>\n      <th>ranker 12</th>\n    </tr>\n  </thead>\n  <tbody>\n    <tr>\n      <th>0</th>\n      <td>M01</td>\n      <td>20</td>\n      <td>86</td>\n      <td>79</td>\n      <td>32</td>\n      <td>28</td>\n      <td>70</td>\n      <td>21</td>\n      <td>71</td>\n      <td>1</td>\n      <td>1</td>\n    </tr>\n    <tr>\n      <th>1</th>\n      <td>M02</td>\n      <td>14</td>\n      <td>9</td>\n      <td>7</td>\n      <td>52</td>\n      <td>55</td>\n      <td>26</td>\n      <td>89</td>\n      <td>72</td>\n      <td>2</td>\n      <td>2</td>\n    </tr>\n    <tr>\n      <th>2</th>\n      <td>M03</td>\n      <td>22</td>\n      <td>3</td>\n      <td>24</td>\n      <td>31</td>\n      <td>97</td>\n      <td>29</td>\n      <td>41</td>\n      <td>73</td>\n      <td>3</td>\n      <td>3</td>\n    </tr>\n    <tr>\n      <th>3</th>\n      <td>M04</td>\n      <td>54</td>\n      <td>87</td>\n      <td>13</td>\n      <td>22</td>\n      <td>95</td>\n      <td>46</td>\n      <td>32</td>\n      <td>74</td>\n      <td>4</td>\n      <td>4</td>\n    </tr>\n    <tr>\n      <th>4</th>\n      <td>M05</td>\n      <td>93</td>\n      <td>6</td>\n      <td>53</td>\n      <td>92</td>\n      <td>31</td>\n      <td>10</td>\n      <td>56</td>\n      <td>75</td>\n      <td>5</td>\n      <td>5</td>\n    </tr>\n    <tr>\n      <th>...</th>\n      <td>...</td>\n      <td>...</td>\n      <td>...</td>\n      <td>...</td>\n      <td>...</td>\n      <td>...</td>\n      <td>...</td>\n      <td>...</td>\n      <td>...</td>\n      <td>...</td>\n      <td>...</td>\n    </tr>\n    <tr>\n      <th>95</th>\n      <td>W66</td>\n      <td>44</td>\n      <td>29</td>\n      <td>85</td>\n      <td>15</td>\n      <td>72</td>\n      <td>11</td>\n      <td>67</td>\n      <td>66</td>\n      <td>96</td>\n      <td>81</td>\n    </tr>\n    <tr>\n      <th>96</th>\n      <td>W67</td>\n      <td>50</td>\n      <td>66</td>\n      <td>29</td>\n      <td>83</td>\n      <td>4</td>\n      <td>81</td>\n      <td>40</td>\n      <td>67</td>\n      <td>97</td>\n      <td>82</td>\n    </tr>\n    <tr>\n      <th>97</th>\n      <td>W68</td>\n      <td>65</td>\n      <td>75</td>\n      <td>78</td>\n      <td>80</td>\n      <td>68</td>\n      <td>12</td>\n      <td>73</td>\n      <td>68</td>\n      <td>98</td>\n      <td>83</td>\n    </tr>\n    <tr>\n      <th>98</th>\n      <td>W69</td>\n      <td>41</td>\n      <td>60</td>\n      <td>9</td>\n      <td>34</td>\n      <td>99</td>\n      <td>30</td>\n      <td>63</td>\n      <td>69</td>\n      <td>99</td>\n      <td>84</td>\n    </tr>\n    <tr>\n      <th>99</th>\n      <td>W70</td>\n      <td>70</td>\n      <td>43</td>\n      <td>19</td>\n      <td>38</td>\n      <td>29</td>\n      <td>35</td>\n      <td>52</td>\n      <td>70</td>\n      <td>100</td>\n      <td>85</td>\n    </tr>\n  </tbody>\n</table>\n<p>100 rows × 11 columns</p>\n</div>"
     },
     "execution_count": 2,
     "metadata": {},
     "output_type": "execute_result"
    }
   ],
   "source": [
    "\n",
    "df=pd.read_csv('20230918dataset_uf.csv')\n",
    "#add a ranking all m candidates has smaller rank than w's\n",
    "df[\"ranker 11\"]=np.arange(1,101,1)\n",
    "#add a ranking half  m candidates on the top of ranking and another half m candidates on the bottom of rinking and w candidates on the middle  \n",
    "ranker_12=np.concatenate((np.arange(1,16,1),np.arange(86,101,1),np.arange(16,86,1)), axis=None)\n",
    "#print(ranker_12)\n",
    "df[\"ranker 12\"]=ranker_12\n",
    "df=df.drop(['ranker 9','ranker 10'],axis=1)\n",
    "df\n"
   ],
   "metadata": {
    "collapsed": false,
    "ExecuteTime": {
     "end_time": "2023-11-16T08:40:50.137025700Z",
     "start_time": "2023-11-16T08:40:50.108289300Z"
    }
   },
   "id": "324e1d81feffef57"
  },
  {
   "cell_type": "code",
   "execution_count": null,
   "outputs": [],
   "source": [],
   "metadata": {
    "collapsed": false
   },
   "id": "9cbb90e79627ddc1"
  },
  {
   "cell_type": "code",
   "execution_count": 3,
   "outputs": [
    {
     "data": {
      "text/plain": "array([[ 20,  86,  79,  32,  28,  70,  21,  71,   1,   1],\n       [ 14,   9,   7,  52,  55,  26,  89,  72,   2,   2],\n       [ 22,   3,  24,  31,  97,  29,  41,  73,   3,   3],\n       [ 54,  87,  13,  22,  95,  46,  32,  74,   4,   4],\n       [ 93,   6,  53,  92,  31,  10,  56,  75,   5,   5],\n       [ 24,  38,  88,   2, 100,  61,  68,  76,   6,   6],\n       [ 10,  45,  31,  59,  98,  84,  80,  77,   7,   7],\n       [ 85,  37,  77,  76,  19,   3,  50,  78,   8,   8],\n       [ 59,  70,  44,  53,  27,  54,  49,  79,   9,   9],\n       [ 31,  97,  97,  25,  77,   1,  16,  80,  10,  10],\n       [ 58,  90,   5,   6,  18,  67,   8,  81,  11,  11],\n       [ 12,  49,  90,  44,  67,   6,   2,  82,  12,  12],\n       [ 47,  63,  60,  69,  32,  15,  19,  83,  13,  13],\n       [ 86,  61,  43,  49,  37,  63,  97,  84,  14,  14],\n       [ 21,  69,  49,  63,   8,  65,  57,  85,  15,  15],\n       [ 17,  46,  34,  97,  91,  36,  91,  86,  16,  86],\n       [ 71,  76,  70,  64,  39,  24,  14,  87,  17,  87],\n       [  2,  74,  92,  84,  62,  45,  45,  88,  18,  88],\n       [ 94,  15,  76,  98,  40, 100,  46,  89,  19,  89],\n       [ 76,  80,  42,  86,   5,  76,  59,  90,  20,  90],\n       [ 36,  16,  37,   1,   6,  62,   7,  91,  21,  91],\n       [  6,  17,  47,  56,  82,  23,  90,  92,  22,  92],\n       [ 56,  95,  98,  12,  61,  90,  29,  93,  23,  93],\n       [ 43,  89,  22,  42,  54,  47,  15,  94,  24,  94],\n       [ 19,   4,  10,  55,  43,  49,  34,  95,  25,  95],\n       [ 48,   5,  57,  27,  85,  53,  95,  96,  26,  96],\n       [ 64,  58,  75,   5,  15,  38,   6,  97,  27,  97],\n       [ 33,  36,  99, 100,   3,  95,  60,  98,  28,  98],\n       [ 52,  59,  38,  87,  66,  34,  31,  99,  29,  99],\n       [ 23,  33,  69,  40,  51,  41,   3, 100,  30, 100],\n       [ 16,  39,  12,  89,  42,  85,  26,   1,  31,  16],\n       [ 11,  30,  68,  67,  13,  31,  51,   2,  32,  17],\n       [ 99,  28,  23,  79,  12,  78,  96,   3,  33,  18],\n       [ 38,  77,  82,  85,  60,  97,  79,   4,  34,  19],\n       [ 92,  26,   3,  82,  49,  91,   5,   5,  35,  20],\n       [ 84,  91,  86,  18,  50,  87,  66,   6,  36,  21],\n       [ 90,  47,  52,  48,  45,  75,  93,   7,  37,  22],\n       [ 75,  52,  45,  43,  81,  92,  65,   8,  38,  23],\n       [ 30,  88,  87,  71,  34,   9,  38,   9,  39,  24],\n       [ 97,  24,  65,  74,  75,  25,  83,  10,  40,  25],\n       [ 13,   2,  83,  47,  93,  33,  37,  11,  41,  26],\n       [ 78, 100,  20,  91,  90,  86,  43,  12,  42,  27],\n       [  5,  44,  89,  26,  35,  17,  92,  13,  43,  28],\n       [ 42,  92,  39,  39,  25,   2,  36,  14,  44,  29],\n       [ 62,  40,  36,   8,  87,  55,  20,  15,  45,  30],\n       [  4,  22,  93,   3,  20,  58,  11,  16,  46,  31],\n       [ 88,  14,   8,  62,  69,  21,   9,  17,  47,  32],\n       [ 40,  72,  15,  13,  24,  13,  13,  18,  48,  33],\n       [ 15,  42,  80,  19,  63,  20,  61,  19,  49,  34],\n       [ 68,  13,  50,  72,  58,  71,  39,  20,  50,  35],\n       [ 29,  41,  54,  65,  79,  52,  44,  21,  51,  36],\n       [ 87,  18,  16,  61,  26,  83,  82,  22,  52,  37],\n       [ 91,  10,  58,  46,  11,   5,  70,  23,  53,  38],\n       [ 46,  82,  67,   7,  46,  18,  77,  24,  54,  39],\n       [ 72,  57,  35,  50,  41,  59,  28,  25,  55,  40],\n       [ 74,  48,   2,  10,  92,  14,  10,  26,  56,  41],\n       [ 57,  27,   4,  90,  83,  60,  84,  27,  57,  42],\n       [ 25,  85,  46,  68,  52,   7,  85,  28,  58,  43],\n       [ 49,   7,  73,  28,   1,  99,  53,  29,  59,  44],\n       [  7,  98,  84,  78,  89,  80,  78,  30,  60,  45],\n       [ 18,  68,  32,  11,  33,  88,   1,  31,  61,  46],\n       [ 66,  65,  56,  37,  56,  48,  69,  32,  62,  47],\n       [ 35,  54,  25,  54,  88,  22,  74,  33,  63,  48],\n       [ 60,  94,   6,   4,  48,  16,  55,  34,  64,  49],\n       [ 28,  64,  26,  16,  71,  82,  72,  35,  65,  50],\n       [ 45,  35, 100,   9,  86,  57,  64,  36,  66,  51],\n       [ 83,  79,  14,  24,  59,  69,  18,  37,  67,  52],\n       [ 77,  81,  72,  70,  65,  93,  12,  38,  68,  53],\n       [ 80,  19,  62,  96,  44,  42,  98,  39,  69,  54],\n       [  1,  73,  55,  75,  22,  44,  23,  40,  70,  55],\n       [  9,  12,  95,  94,  10,  66,  47,  41,  71,  56],\n       [ 89,  96,  71,  88,  36,  89,  86,  42,  72,  57],\n       [ 81,  78,  28,  77,  84,  51,  25,  43,  73,  58],\n       [ 39,  50,  40,  20,  96,  28,  27,  44,  74,  59],\n       [ 73,  34,  66,  93,  17,  74,  42,  45,  75,  60],\n       [ 37,  11,  96,  66,  80,  64,  35,  46,  76,  61],\n       [ 27,   8,  61,  36,   9,  43,  99,  47,  77,  62],\n       [ 53,  20,  91,  73,   2,  40, 100,  48,  78,  63],\n       [ 98,  25,  18,  30,  53,  94,  87,  49,  79,  64],\n       [ 34,  71,   1,  57,  94,  79,  76,  50,  80,  65],\n       [ 55,   1,  27,  60,  23,  96,  75,  51,  81,  66],\n       [ 69,  23,  51,  14,  73,  50,  48,  52,  82,  67],\n       [ 67,  99,  30,  29,  47,  37,  71,  53,  83,  68],\n       [ 82,  55,  81,  99,   7,   8,  94,  54,  84,  69],\n       [ 96,  84,  59,  45,  14,  32,  54,  55,  85,  70],\n       [ 79,  83,  48,  81,  70,  27,  24,  56,  86,  71],\n       [ 63,  32,  33,  33,  21,  73,  62,  57,  87,  72],\n       [100,  21,  74,  95,  16,  98,  88,  58,  88,  73],\n       [ 95,  56,  21,  21,  74,  77,  30,  59,  89,  74],\n       [  3,  67,  63,  58,  78,   4,  22,  60,  90,  75],\n       [ 32,  53,  94,  35,  64,  56,  81,  61,  91,  76],\n       [ 26,  51,  41,  51,  76,  72,   4,  62,  92,  77],\n       [  8,  62,  64,  23,  38,  39,  58,  63,  93,  78],\n       [ 61,  31,  17,  41,  30,  68,  17,  64,  94,  79],\n       [ 51,  93,  11,  17,  57,  19,  33,  65,  95,  80],\n       [ 44,  29,  85,  15,  72,  11,  67,  66,  96,  81],\n       [ 50,  66,  29,  83,   4,  81,  40,  67,  97,  82],\n       [ 65,  75,  78,  80,  68,  12,  73,  68,  98,  83],\n       [ 41,  60,   9,  34,  99,  30,  63,  69,  99,  84],\n       [ 70,  43,  19,  38,  29,  35,  52,  70, 100,  85]], dtype=int64)"
     },
     "execution_count": 3,
     "metadata": {},
     "output_type": "execute_result"
    }
   ],
   "source": [
    "rankings=df[df.columns[1:]].to_numpy()\n",
    "rankings"
   ],
   "metadata": {
    "collapsed": false,
    "ExecuteTime": {
     "end_time": "2023-11-16T08:40:50.837204400Z",
     "start_time": "2023-11-16T08:40:50.802886900Z"
    }
   },
   "id": "ea94d30d73b1198c"
  },
  {
   "cell_type": "code",
   "execution_count": 4,
   "outputs": [
    {
     "data": {
      "text/plain": "(array([[ 20,  14,  22,  54,  93,  24,  10,  85,  59,  31,  58,  12,  47,\n          86,  21,  17,  71,   2,  94,  76,  36,   6,  56,  43,  19,  48,\n          64,  33,  52,  23,  16,  11,  99,  38,  92,  84,  90,  75,  30,\n          97,  13,  78,   5,  42,  62,   4,  88,  40,  15,  68,  29,  87,\n          91,  46,  72,  74,  57,  25,  49,   7,  18,  66,  35,  60,  28,\n          45,  83,  77,  80,   1,   9,  89,  81,  39,  73,  37,  27,  53,\n          98,  34,  55,  69,  67,  82,  96,  79,  63, 100,  95,   3,  32,\n          26,   8,  61,  51,  44,  50,  65,  41,  70],\n        [ 86,   9,   3,  87,   6,  38,  45,  37,  70,  97,  90,  49,  63,\n          61,  69,  46,  76,  74,  15,  80,  16,  17,  95,  89,   4,   5,\n          58,  36,  59,  33,  39,  30,  28,  77,  26,  91,  47,  52,  88,\n          24,   2, 100,  44,  92,  40,  22,  14,  72,  42,  13,  41,  18,\n          10,  82,  57,  48,  27,  85,   7,  98,  68,  65,  54,  94,  64,\n          35,  79,  81,  19,  73,  12,  96,  78,  50,  34,  11,   8,  20,\n          25,  71,   1,  23,  99,  55,  84,  83,  32,  21,  56,  67,  53,\n          51,  62,  31,  93,  29,  66,  75,  60,  43],\n        [ 79,   7,  24,  13,  53,  88,  31,  77,  44,  97,   5,  90,  60,\n          43,  49,  34,  70,  92,  76,  42,  37,  47,  98,  22,  10,  57,\n          75,  99,  38,  69,  12,  68,  23,  82,   3,  86,  52,  45,  87,\n          65,  83,  20,  89,  39,  36,  93,   8,  15,  80,  50,  54,  16,\n          58,  67,  35,   2,   4,  46,  73,  84,  32,  56,  25,   6,  26,\n         100,  14,  72,  62,  55,  95,  71,  28,  40,  66,  96,  61,  91,\n          18,   1,  27,  51,  30,  81,  59,  48,  33,  74,  21,  63,  94,\n          41,  64,  17,  11,  85,  29,  78,   9,  19],\n        [ 32,  52,  31,  22,  92,   2,  59,  76,  53,  25,   6,  44,  69,\n          49,  63,  97,  64,  84,  98,  86,   1,  56,  12,  42,  55,  27,\n           5, 100,  87,  40,  89,  67,  79,  85,  82,  18,  48,  43,  71,\n          74,  47,  91,  26,  39,   8,   3,  62,  13,  19,  72,  65,  61,\n          46,   7,  50,  10,  90,  68,  28,  78,  11,  37,  54,   4,  16,\n           9,  24,  70,  96,  75,  94,  88,  77,  20,  93,  66,  36,  73,\n          30,  57,  60,  14,  29,  99,  45,  81,  33,  95,  21,  58,  35,\n          51,  23,  41,  17,  15,  83,  80,  34,  38],\n        [ 28,  55,  97,  95,  31, 100,  98,  19,  27,  77,  18,  67,  32,\n          37,   8,  91,  39,  62,  40,   5,   6,  82,  61,  54,  43,  85,\n          15,   3,  66,  51,  42,  13,  12,  60,  49,  50,  45,  81,  34,\n          75,  93,  90,  35,  25,  87,  20,  69,  24,  63,  58,  79,  26,\n          11,  46,  41,  92,  83,  52,   1,  89,  33,  56,  88,  48,  71,\n          86,  59,  65,  44,  22,  10,  36,  84,  96,  17,  80,   9,   2,\n          53,  94,  23,  73,  47,   7,  14,  70,  21,  16,  74,  78,  64,\n          76,  38,  30,  57,  72,   4,  68,  99,  29],\n        [ 70,  26,  29,  46,  10,  61,  84,   3,  54,   1,  67,   6,  15,\n          63,  65,  36,  24,  45, 100,  76,  62,  23,  90,  47,  49,  53,\n          38,  95,  34,  41,  85,  31,  78,  97,  91,  87,  75,  92,   9,\n          25,  33,  86,  17,   2,  55,  58,  21,  13,  20,  71,  52,  83,\n           5,  18,  59,  14,  60,   7,  99,  80,  88,  48,  22,  16,  82,\n          57,  69,  93,  42,  44,  66,  89,  51,  28,  74,  64,  43,  40,\n          94,  79,  96,  50,  37,   8,  32,  27,  73,  98,  77,   4,  56,\n          72,  39,  68,  19,  11,  81,  12,  30,  35],\n        [ 21,  89,  41,  32,  56,  68,  80,  50,  49,  16,   8,   2,  19,\n          97,  57,  91,  14,  45,  46,  59,   7,  90,  29,  15,  34,  95,\n           6,  60,  31,   3,  26,  51,  96,  79,   5,  66,  93,  65,  38,\n          83,  37,  43,  92,  36,  20,  11,   9,  13,  61,  39,  44,  82,\n          70,  77,  28,  10,  84,  85,  53,  78,   1,  69,  74,  55,  72,\n          64,  18,  12,  98,  23,  47,  86,  25,  27,  42,  35,  99, 100,\n          87,  76,  75,  48,  71,  94,  54,  24,  62,  88,  30,  22,  81,\n           4,  58,  17,  33,  67,  40,  73,  63,  52],\n        [ 71,  72,  73,  74,  75,  76,  77,  78,  79,  80,  81,  82,  83,\n          84,  85,  86,  87,  88,  89,  90,  91,  92,  93,  94,  95,  96,\n          97,  98,  99, 100,   1,   2,   3,   4,   5,   6,   7,   8,   9,\n          10,  11,  12,  13,  14,  15,  16,  17,  18,  19,  20,  21,  22,\n          23,  24,  25,  26,  27,  28,  29,  30,  31,  32,  33,  34,  35,\n          36,  37,  38,  39,  40,  41,  42,  43,  44,  45,  46,  47,  48,\n          49,  50,  51,  52,  53,  54,  55,  56,  57,  58,  59,  60,  61,\n          62,  63,  64,  65,  66,  67,  68,  69,  70],\n        [  1,   2,   3,   4,   5,   6,   7,   8,   9,  10,  11,  12,  13,\n          14,  15,  16,  17,  18,  19,  20,  21,  22,  23,  24,  25,  26,\n          27,  28,  29,  30,  31,  32,  33,  34,  35,  36,  37,  38,  39,\n          40,  41,  42,  43,  44,  45,  46,  47,  48,  49,  50,  51,  52,\n          53,  54,  55,  56,  57,  58,  59,  60,  61,  62,  63,  64,  65,\n          66,  67,  68,  69,  70,  71,  72,  73,  74,  75,  76,  77,  78,\n          79,  80,  81,  82,  83,  84,  85,  86,  87,  88,  89,  90,  91,\n          92,  93,  94,  95,  96,  97,  98,  99, 100],\n        [  1,   2,   3,   4,   5,   6,   7,   8,   9,  10,  11,  12,  13,\n          14,  15,  86,  87,  88,  89,  90,  91,  92,  93,  94,  95,  96,\n          97,  98,  99, 100,  16,  17,  18,  19,  20,  21,  22,  23,  24,\n          25,  26,  27,  28,  29,  30,  31,  32,  33,  34,  35,  36,  37,\n          38,  39,  40,  41,  42,  43,  44,  45,  46,  47,  48,  49,  50,\n          51,  52,  53,  54,  55,  56,  57,  58,  59,  60,  61,  62,  63,\n          64,  65,  66,  67,  68,  69,  70,  71,  72,  73,  74,  75,  76,\n          77,  78,  79,  80,  81,  82,  83,  84,  85]], dtype=int64),\n (10, 100))"
     },
     "execution_count": 4,
     "metadata": {},
     "output_type": "execute_result"
    }
   ],
   "source": [
    "\n",
    "rankings=rankings.transpose()\n",
    "rankings,rankings.shape\n"
   ],
   "metadata": {
    "collapsed": false,
    "ExecuteTime": {
     "end_time": "2023-11-16T08:40:51.571610200Z",
     "start_time": "2023-11-16T08:40:51.544038600Z"
    }
   },
   "id": "6b63e5af659975a1"
  },
  {
   "cell_type": "code",
   "execution_count": 5,
   "outputs": [],
   "source": [
    "threshold=0.01"
   ],
   "metadata": {
    "collapsed": false,
    "ExecuteTime": {
     "end_time": "2023-11-16T08:40:52.574752Z",
     "start_time": "2023-11-16T08:40:52.561749400Z"
    }
   },
   "id": "162ecc8816a3daf5"
  },
  {
   "cell_type": "code",
   "execution_count": 6,
   "outputs": [],
   "source": [
    "\n",
    "attribute = np.append(np.repeat(0, 30), np.repeat(1, 70))\n",
    "attribute=np.c_[np.arange(100),attribute]\n",
    "df_groups=pd.DataFrame(attribute,columns=['id','attribute'])\n",
    "groups=df_groups.groupby(df_groups.columns[1]).count()\n",
    "groups=groups.to_numpy()\n",
    "groups=np.c_[np.array([[0],[1]]),groups]\n",
    "\n",
    "group_proportions =mc.proportions(groups)\n",
    "transition_matrix = mc.generate_transition_matrix(rankings)\n",
    "size_candidate = rankings.shape[1]"
   ],
   "metadata": {
    "collapsed": false,
    "ExecuteTime": {
     "end_time": "2023-11-16T08:40:53.237965500Z",
     "start_time": "2023-11-16T08:40:53.164760500Z"
    }
   },
   "id": "af3baf77345a451d"
  },
  {
   "cell_type": "code",
   "execution_count": 7,
   "outputs": [
    {
     "data": {
      "text/plain": "array([[ 0,  0],\n       [ 1,  0],\n       [ 2,  0],\n       [ 3,  0],\n       [ 4,  0],\n       [ 5,  0],\n       [ 6,  0],\n       [ 7,  0],\n       [ 8,  0],\n       [ 9,  0],\n       [10,  0],\n       [11,  0],\n       [12,  0],\n       [13,  0],\n       [14,  0],\n       [15,  0],\n       [16,  0],\n       [17,  0],\n       [18,  0],\n       [19,  0],\n       [20,  0],\n       [21,  0],\n       [22,  0],\n       [23,  0],\n       [24,  0],\n       [25,  0],\n       [26,  0],\n       [27,  0],\n       [28,  0],\n       [29,  0],\n       [30,  1],\n       [31,  1],\n       [32,  1],\n       [33,  1],\n       [34,  1],\n       [35,  1],\n       [36,  1],\n       [37,  1],\n       [38,  1],\n       [39,  1],\n       [40,  1],\n       [41,  1],\n       [42,  1],\n       [43,  1],\n       [44,  1],\n       [45,  1],\n       [46,  1],\n       [47,  1],\n       [48,  1],\n       [49,  1],\n       [50,  1],\n       [51,  1],\n       [52,  1],\n       [53,  1],\n       [54,  1],\n       [55,  1],\n       [56,  1],\n       [57,  1],\n       [58,  1],\n       [59,  1],\n       [60,  1],\n       [61,  1],\n       [62,  1],\n       [63,  1],\n       [64,  1],\n       [65,  1],\n       [66,  1],\n       [67,  1],\n       [68,  1],\n       [69,  1],\n       [70,  1],\n       [71,  1],\n       [72,  1],\n       [73,  1],\n       [74,  1],\n       [75,  1],\n       [76,  1],\n       [77,  1],\n       [78,  1],\n       [79,  1],\n       [80,  1],\n       [81,  1],\n       [82,  1],\n       [83,  1],\n       [84,  1],\n       [85,  1],\n       [86,  1],\n       [87,  1],\n       [88,  1],\n       [89,  1],\n       [90,  1],\n       [91,  1],\n       [92,  1],\n       [93,  1],\n       [94,  1],\n       [95,  1],\n       [96,  1],\n       [97,  1],\n       [98,  1],\n       [99,  1]])"
     },
     "execution_count": 7,
     "metadata": {},
     "output_type": "execute_result"
    }
   ],
   "source": [
    "attribute"
   ],
   "metadata": {
    "collapsed": false,
    "ExecuteTime": {
     "end_time": "2023-11-16T08:40:53.932462Z",
     "start_time": "2023-11-16T08:40:53.900303700Z"
    }
   },
   "id": "f71408d9bdde345c"
  },
  {
   "cell_type": "code",
   "execution_count": 8,
   "outputs": [
    {
     "name": "stdout",
     "output_type": "stream",
     "text": [
      "[[0.409 0.006 0.006 ... 0.006 0.006 0.006]\n",
      " [0.004 0.328 0.007 ... 0.007 0.007 0.006]\n",
      " [0.004 0.003 0.326 ... 0.007 0.008 0.007]\n",
      " ...\n",
      " [0.004 0.003 0.003 ... 0.7   0.005 0.005]\n",
      " [0.004 0.003 0.002 ... 0.005 0.588 0.007]\n",
      " [0.004 0.004 0.003 ... 0.005 0.003 0.541]]\n"
     ]
    },
    {
     "data": {
      "text/plain": "13.438883781433105"
     },
     "execution_count": 8,
     "metadata": {},
     "output_type": "execute_result"
    }
   ],
   "source": [
    "fair_kemeny_rankings_greedy_t0=time()\n",
    "fair_kemeny_rankings_greedy=mc.fair_kemeny_mc_rankings_greedy(rankings,attribute,groups,threshold)\n",
    "fair_kemeny_rankings_greedy_t1=time()\n",
    "fair_kemeny_rankings_greedy_t1-fair_kemeny_rankings_greedy_t0"
   ],
   "metadata": {
    "collapsed": false,
    "ExecuteTime": {
     "end_time": "2023-11-16T08:41:08.154427300Z",
     "start_time": "2023-11-16T08:40:54.757652900Z"
    }
   },
   "id": "3a04441457519f7b"
  },
  {
   "cell_type": "code",
   "execution_count": 9,
   "outputs": [
    {
     "data": {
      "text/plain": "[29512,\n 29144,\n 29266,\n 29626,\n 29434,\n 29640,\n 29588,\n 29464,\n 29508,\n 29616,\n 29400,\n 29404,\n 29436,\n 29534,\n 29474,\n 29694,\n 29568,\n 29836,\n 29722,\n 29522,\n 29438,\n 29524,\n 29732,\n 29376,\n 29286,\n 29710,\n 29624,\n 29612,\n 29734,\n 29752,\n 29240,\n 29130,\n 29408,\n 29512,\n 29346,\n 29524,\n 29640,\n 29524,\n 29374,\n 29606,\n 29328,\n 29814,\n 29348,\n 29346,\n 29406,\n 29244,\n 29294,\n 29282,\n 29344,\n 29494,\n 29706,\n 29526,\n 29314,\n 29590,\n 29362,\n 29320,\n 29650,\n 29594,\n 29404,\n 29678,\n 29280,\n 29586,\n 29558,\n 29486,\n 29502,\n 29536,\n 29582,\n 29578,\n 29584,\n 29440,\n 29480,\n 29650,\n 29602,\n 29546,\n 29540,\n 29614,\n 29396,\n 29624,\n 29690,\n 29584,\n 29372,\n 29570,\n 29482,\n 29548,\n 29564,\n 29628,\n 29514,\n 29612,\n 29758,\n 29608,\n 29588,\n 29680,\n 29664,\n 29536,\n 29566,\n 29658,\n 29598,\n 29698,\n 29772,\n 29630]"
     },
     "execution_count": 9,
     "metadata": {},
     "output_type": "execute_result"
    }
   ],
   "source": [
    "[row[1] for row in fair_kemeny_rankings_greedy]"
   ],
   "metadata": {
    "collapsed": false,
    "ExecuteTime": {
     "end_time": "2023-11-16T08:41:11.256459200Z",
     "start_time": "2023-11-16T08:41:11.237424200Z"
    }
   },
   "id": "356c5f95ed3ecd4c"
  },
  {
   "cell_type": "code",
   "execution_count": 10,
   "outputs": [
    {
     "data": {
      "text/plain": "(array([31, 33, 41, 15, 26, 35, 78, 87, 18, 27, 65, 79, 85, 88, 96, 19, 71,\n        83, 84, 97, 25, 28, 74, 90, 13, 22, 37, 59, 77, 17, 56, 72, 73, 98,\n        23, 49, 81, 99, 16, 67, 70, 86, 36, 89, 14, 53, 82, 91, 21, 29, 50,\n        75, 80,  4,  5, 10, 66, 68, 95,  6, 57, 61, 64,  9, 12, 39, 69, 92,\n        24, 51, 60, 94,  8, 38, 63, 76, 93,  7, 11, 62, 20, 43, 52, 54, 58,\n         1, 32, 42, 46,  3, 40, 44, 55,  2, 34, 48,  0, 30, 47, 45],\n       dtype=int64),\n (array([96., 85., 93., 89., 53., 54., 59., 77., 72., 63., 55., 78., 64.,\n         24., 44.,  3., 38., 29.,  8., 15., 80., 48., 25., 34., 68., 20.,\n          4.,  9., 21., 49., 97.,  0., 86.,  1., 94.,  5., 42., 26., 73.,\n         65., 90.,  2., 87., 81., 91., 99., 88., 98., 95., 35., 50., 69.,\n         82., 45., 83., 92., 30., 60., 84., 27., 70., 61., 79., 74., 62.,\n         10., 56., 39., 57., 66., 40., 16., 31., 32., 22., 51., 75., 28.,\n          6., 11., 52., 36., 46., 17., 18., 12., 41.,  7., 13., 43., 23.,\n         47., 67., 76., 71., 58., 14., 19., 33., 37.]),\n  29130))"
     },
     "execution_count": 10,
     "metadata": {},
     "output_type": "execute_result"
    }
   ],
   "source": [
    "\n",
    "\n",
    "fair_kemeny_ranking_dist_greedy=np.array([row[1] for row in fair_kemeny_rankings_greedy])\n",
    "\n",
    "optimal_fair_kemeny_ranking_greedy_index=np.argmin(fair_kemeny_ranking_dist_greedy)\n",
    "optimal_fair_kemeny_ranking_greedy=fair_kemeny_rankings_greedy[optimal_fair_kemeny_ranking_greedy_index]\n",
    "optimal_fair_kemeny_ranking_greedy_permutation=np.argsort(optimal_fair_kemeny_ranking_greedy[0])\n",
    "optimal_fair_kemeny_ranking_greedy_permutation,optimal_fair_kemeny_ranking_greedy"
   ],
   "metadata": {
    "collapsed": false,
    "ExecuteTime": {
     "end_time": "2023-11-16T08:41:13.558498700Z",
     "start_time": "2023-11-16T08:41:13.533076300Z"
    }
   },
   "id": "dba5791442fc0efe"
  },
  {
   "cell_type": "code",
   "execution_count": 11,
   "outputs": [
    {
     "data": {
      "text/plain": "0.0838095238095238"
     },
     "execution_count": 11,
     "metadata": {},
     "output_type": "execute_result"
    }
   ],
   "source": [
    "optimal_fair_kemeny_ranking_greedy_m=np.c_[np.arange(30),optimal_fair_kemeny_ranking_greedy[0][:30]]\n",
    "optimal_fair_kemeny_ranking_greedy_w=np.c_[np.arange(30,100),optimal_fair_kemeny_ranking_greedy[0][30:]]\n",
    "parity_optimal_fair_kemeny_ranking_greedy=metrics.pairwise_statistical_parity(optimal_fair_kemeny_ranking_greedy_m,optimal_fair_kemeny_ranking_greedy_w)\n",
    "parity_optimal_fair_kemeny_ranking_greedy"
   ],
   "metadata": {
    "collapsed": false,
    "ExecuteTime": {
     "end_time": "2023-11-16T08:38:21.288086500Z",
     "start_time": "2023-11-16T08:38:21.269295700Z"
    }
   },
   "id": "68d1e696c564d9f2"
  },
  {
   "cell_type": "code",
   "execution_count": 12,
   "outputs": [
    {
     "name": "stdout",
     "output_type": "stream",
     "text": [
      "0 0 1 1\n",
      "1 0 1 1\n",
      "1 0 1 2\n",
      "1 1 2 2\n",
      "1 0 1 3\n",
      "2 2 3 3\n",
      "2 1 2 4\n",
      "2 2 3 4\n",
      "2 1 2 5\n",
      "3 3 4 5\n",
      "2 1 2 6\n",
      "4 4 5 6\n",
      "3 2 3 7\n",
      "4 4 5 7\n",
      "3 2 3 8\n",
      "5 5 6 8\n",
      "3 2 3 9\n",
      "6 6 7 9\n",
      "4 2 4 10\n",
      "6 6 8 10\n",
      "4 3 4 11\n",
      "7 7 8 11\n",
      "4 3 4 12\n",
      "8 8 9 12\n",
      "4 3 5 13\n",
      "9 8 10 13\n",
      "5 4 5 14\n",
      "9 9 10 14\n",
      "5 4 5 15\n",
      "10 10 11 15\n",
      "5 4 5 16\n",
      "11 11 12 16\n",
      "5 4 6 17\n",
      "12 11 13 17\n",
      "6 5 6 18\n",
      "12 12 13 18\n",
      "6 5 6 19\n",
      "13 13 14 19\n",
      "7 5 7 20\n",
      "13 13 15 20\n",
      "7 6 7 21\n",
      "14 14 15 21\n",
      "7 6 7 22\n",
      "15 15 16 22\n",
      "8 6 8 23\n",
      "15 15 17 23\n",
      "8 6 8 24\n",
      "16 16 18 24\n",
      "8 7 8 25\n",
      "17 17 18 25\n",
      "8 7 9 26\n",
      "18 17 19 26\n",
      "9 7 9 27\n",
      "18 18 20 27\n",
      "9 8 9 28\n",
      "19 19 20 28\n",
      "9 8 9 29\n",
      "20 20 21 29\n",
      "10 8 10 30\n",
      "20 20 22 30\n",
      "10 8 10 31\n",
      "21 21 23 31\n",
      "10 9 10 32\n",
      "22 22 23 32\n",
      "11 9 11 33\n",
      "22 22 24 33\n",
      "11 9 11 34\n",
      "23 23 25 34\n",
      "11 10 11 35\n",
      "24 24 25 35\n",
      "11 10 12 36\n",
      "25 24 26 36\n",
      "12 10 12 37\n",
      "25 25 27 37\n",
      "12 11 12 38\n",
      "26 26 27 38\n",
      "13 11 13 39\n",
      "26 26 28 39\n",
      "13 11 13 40\n",
      "27 27 29 40\n",
      "13 11 13 41\n",
      "28 28 30 41\n",
      "13 12 14 42\n",
      "29 28 30 42\n",
      "14 12 14 43\n",
      "29 29 31 43\n",
      "14 12 14 44\n",
      "30 30 32 44\n",
      "14 13 14 45\n",
      "31 31 32 45\n",
      "15 13 15 46\n",
      "31 31 33 46\n",
      "15 13 15 47\n",
      "32 32 34 47\n",
      "15 13 15 48\n",
      "33 33 35 48\n",
      "16 14 16 49\n",
      "33 33 35 49\n",
      "16 14 16 50\n",
      "34 34 36 50\n",
      "16 14 16 51\n",
      "35 35 37 51\n",
      "17 15 17 52\n",
      "35 35 37 52\n",
      "17 15 17 53\n",
      "36 36 38 53\n",
      "17 15 17 54\n",
      "37 37 39 54\n",
      "18 15 18 55\n",
      "37 37 40 55\n",
      "18 16 18 56\n",
      "38 38 40 56\n",
      "18 16 18 57\n",
      "39 39 41 57\n",
      "18 16 18 58\n",
      "40 40 42 58\n",
      "19 17 19 59\n",
      "40 40 42 59\n",
      "19 17 19 60\n",
      "41 41 43 60\n",
      "19 17 19 61\n",
      "42 42 44 61\n",
      "19 17 20 62\n",
      "43 42 45 62\n",
      "19 18 20 63\n",
      "44 43 45 63\n",
      "20 18 20 64\n",
      "44 44 46 64\n",
      "21 18 21 65\n",
      "44 44 47 65\n",
      "21 19 21 66\n",
      "45 45 47 66\n",
      "21 19 21 67\n",
      "46 46 48 67\n",
      "22 19 22 68\n",
      "46 46 49 68\n",
      "22 20 22 69\n",
      "47 47 49 69\n",
      "22 20 22 70\n",
      "48 48 50 70\n",
      "23 20 23 71\n",
      "48 48 51 71\n",
      "23 20 23 72\n",
      "49 49 52 72\n",
      "23 21 23 73\n",
      "50 50 52 73\n",
      "23 21 23 74\n",
      "51 51 53 74\n",
      "24 21 24 75\n",
      "51 51 54 75\n",
      "24 22 24 76\n",
      "52 52 54 76\n",
      "24 22 24 77\n",
      "53 53 55 77\n",
      "25 22 25 78\n",
      "53 53 56 78\n",
      "25 22 25 79\n",
      "54 54 57 79\n",
      "25 23 25 80\n",
      "55 55 57 80\n",
      "26 23 26 81\n",
      "55 55 58 81\n",
      "26 23 26 82\n",
      "56 56 59 82\n",
      "26 24 26 83\n",
      "57 57 59 83\n",
      "27 24 27 84\n",
      "57 57 60 84\n",
      "27 24 27 85\n",
      "58 58 61 85\n",
      "27 24 27 86\n",
      "59 59 62 86\n",
      "27 25 27 87\n",
      "60 60 62 87\n",
      "28 25 28 88\n",
      "60 60 63 88\n",
      "28 25 28 89\n",
      "61 61 64 89\n",
      "28 26 28 90\n",
      "62 62 64 90\n",
      "29 26 29 91\n",
      "62 62 65 91\n",
      "29 26 29 92\n",
      "63 63 66 92\n",
      "29 26 29 93\n",
      "64 64 67 93\n",
      "30 27 30 94\n",
      "64 64 67 94\n",
      "30 27 30 95\n",
      "65 65 68 95\n",
      "30 27 30 96\n",
      "66 66 69 96\n",
      "30 28 31 97\n",
      "67 66 69 97\n",
      "30 28 31 98\n",
      "68 67 70 98\n",
      "30 28 31 99\n",
      "69 68 71 99\n"
     ]
    }
   ],
   "source": [
    "satisfied_array=[]\n",
    "for k in range(1,100):\n",
    "    ranking =pd.DataFrame(columns=['id', 'ranker'])\n",
    "    ranking[\"id\"]=np.arange(0,100,1)\n",
    "    ranking[\"ranker\"]=optimal_fair_kemeny_ranking_greedy[0]\n",
    "    ranking_m =ranking.head(30).to_numpy()\n",
    "    ranking_w =ranking.tail(70).to_numpy()\n",
    "    rankings_fair=np.array([ranking_m,ranking_w], dtype=object)\n",
    "    satisfied=metrics.top_k_parity(rankings_fair,k,threshold )\n",
    "    satisfied_array.append([\"ranker\",k,satisfied])"
   ],
   "metadata": {
    "collapsed": false,
    "ExecuteTime": {
     "end_time": "2023-11-16T08:38:22.250429700Z",
     "start_time": "2023-11-16T08:38:22.096812100Z"
    }
   },
   "id": "198e9242bf3888f5"
  },
  {
   "cell_type": "code",
   "execution_count": 13,
   "outputs": [
    {
     "data": {
      "text/plain": "[['ranker', 1, True],\n ['ranker', 2, True],\n ['ranker', 3, True],\n ['ranker', 4, True],\n ['ranker', 5, True],\n ['ranker', 6, True],\n ['ranker', 7, True],\n ['ranker', 8, True],\n ['ranker', 9, True],\n ['ranker', 10, True],\n ['ranker', 11, True],\n ['ranker', 12, True],\n ['ranker', 13, True],\n ['ranker', 14, True],\n ['ranker', 15, True],\n ['ranker', 16, True],\n ['ranker', 17, True],\n ['ranker', 18, True],\n ['ranker', 19, True],\n ['ranker', 20, True],\n ['ranker', 21, True],\n ['ranker', 22, True],\n ['ranker', 23, True],\n ['ranker', 24, True],\n ['ranker', 25, True],\n ['ranker', 26, True],\n ['ranker', 27, True],\n ['ranker', 28, True],\n ['ranker', 29, True],\n ['ranker', 30, True],\n ['ranker', 31, True],\n ['ranker', 32, True],\n ['ranker', 33, True],\n ['ranker', 34, True],\n ['ranker', 35, True],\n ['ranker', 36, True],\n ['ranker', 37, True],\n ['ranker', 38, True],\n ['ranker', 39, True],\n ['ranker', 40, True],\n ['ranker', 41, True],\n ['ranker', 42, True],\n ['ranker', 43, True],\n ['ranker', 44, True],\n ['ranker', 45, True],\n ['ranker', 46, True],\n ['ranker', 47, True],\n ['ranker', 48, True],\n ['ranker', 49, True],\n ['ranker', 50, True],\n ['ranker', 51, True],\n ['ranker', 52, True],\n ['ranker', 53, True],\n ['ranker', 54, True],\n ['ranker', 55, True],\n ['ranker', 56, True],\n ['ranker', 57, True],\n ['ranker', 58, True],\n ['ranker', 59, True],\n ['ranker', 60, True],\n ['ranker', 61, True],\n ['ranker', 62, True],\n ['ranker', 63, True],\n ['ranker', 64, True],\n ['ranker', 65, True],\n ['ranker', 66, True],\n ['ranker', 67, True],\n ['ranker', 68, True],\n ['ranker', 69, True],\n ['ranker', 70, True],\n ['ranker', 71, True],\n ['ranker', 72, True],\n ['ranker', 73, True],\n ['ranker', 74, True],\n ['ranker', 75, True],\n ['ranker', 76, True],\n ['ranker', 77, True],\n ['ranker', 78, True],\n ['ranker', 79, True],\n ['ranker', 80, True],\n ['ranker', 81, True],\n ['ranker', 82, True],\n ['ranker', 83, True],\n ['ranker', 84, True],\n ['ranker', 85, True],\n ['ranker', 86, True],\n ['ranker', 87, True],\n ['ranker', 88, True],\n ['ranker', 89, True],\n ['ranker', 90, True],\n ['ranker', 91, True],\n ['ranker', 92, True],\n ['ranker', 93, True],\n ['ranker', 94, True],\n ['ranker', 95, True],\n ['ranker', 96, True],\n ['ranker', 97, True],\n ['ranker', 98, True],\n ['ranker', 99, True]]"
     },
     "execution_count": 13,
     "metadata": {},
     "output_type": "execute_result"
    }
   ],
   "source": [
    "satisfied_array"
   ],
   "metadata": {
    "collapsed": false,
    "ExecuteTime": {
     "end_time": "2023-11-16T08:38:23.384835300Z",
     "start_time": "2023-11-16T08:38:23.358847500Z"
    }
   },
   "id": "678f30cf210a0e28"
  },
  {
   "cell_type": "code",
   "execution_count": 13,
   "outputs": [],
   "source": [],
   "metadata": {
    "collapsed": false,
    "ExecuteTime": {
     "end_time": "2023-11-16T08:38:24.448630Z",
     "start_time": "2023-11-16T08:38:24.442104700Z"
    }
   },
   "id": "1f1487083221af7b"
  },
  {
   "cell_type": "code",
   "execution_count": 14,
   "outputs": [
    {
     "data": {
      "text/plain": "(array([20,  4,  3, 26, 23, 39, 49, 28, 32, 30,  7, 12, 18, 67, 27, 87, 65,\n        85, 96, 90, 10, 62, 94, 59, 25, 79, 43, 95, 81, 45,  5,  2, 38, 73,\n        19, 66, 50, 52, 22, 51, 13, 75, 14,  6, 15,  1,  8,  0, 16, 35, 34,\n        40, 17, 33, 31,  9, 56, 42, 24, 93, 11, 57, 41, 21, 47, 63, 44, 88,\n        83, 29, 46, 99, 77, 37, 72, 70, 36, 69, 80, 86, 61, 55, 74, 91, 78,\n        89, 60, 98, 82, 54, 92, 68, 58, 48, 53, 71, 84, 97, 76, 64],\n       dtype=int64),\n array([21,  4,  3, 29, 24, 42, 49, 31, 32, 35,  8, 12, 18, 66, 27, 88, 64,\n        86, 96, 90, 11, 63, 94, 61, 25, 85, 46, 95, 84, 47,  6,  2, 40, 74,\n        20, 67, 51, 55, 23, 52, 13, 78, 17,  5, 15,  1,  7,  0, 14, 33, 34,\n        38, 16, 30, 28,  9, 54, 41, 22, 91, 10, 50, 39, 19, 44, 62, 43, 87,\n        77, 26, 45, 98, 75, 36, 71, 69, 37, 70, 79, 81, 59, 53, 72, 92, 76,\n        89, 56, 99, 82, 58, 93, 68, 60, 48, 57, 73, 83, 97, 80, 65],\n       dtype=int64))"
     },
     "execution_count": 14,
     "metadata": {},
     "output_type": "execute_result"
    }
   ],
   "source": [
    "agg_ranking_0=mc.aggregate_rank_mc(rankings,0)\n",
    "agg_ranking_1=mc.aggregate_rank_mc(rankings,1)\n",
    "agg_ranking_0,agg_ranking_1"
   ],
   "metadata": {
    "collapsed": false,
    "ExecuteTime": {
     "end_time": "2023-11-16T08:38:25.167791200Z",
     "start_time": "2023-11-16T08:38:24.961206100Z"
    }
   },
   "id": "fd96e6566fe900fb"
  },
  {
   "cell_type": "code",
   "execution_count": 16,
   "outputs": [
    {
     "data": {
      "text/plain": "array([78, 95, 96, 70, 75, 57, 50, 68, 67, 64, 91, 87, 81, 33, 72, 11, 35,\n       13,  3,  9, 88, 36,  5, 38, 74, 14, 53,  4, 15, 52, 93, 97, 59, 25,\n       79, 32, 48, 44, 76, 47, 86, 21, 82, 94, 84, 98, 92, 99, 85, 66, 65,\n       61, 83, 69, 71, 90, 45, 58, 77,  8, 89, 49, 60, 80, 55, 37, 56, 12,\n       22, 73, 54,  1, 24, 63, 28, 30, 62, 29, 20, 18, 40, 46, 27,  7, 23,\n       10, 43,  0, 17, 41,  6, 31, 39, 51, 42, 26, 16,  2, 19, 34],\n      dtype=int64)"
     },
     "execution_count": 16,
     "metadata": {},
     "output_type": "execute_result"
    }
   ],
   "source": [
    "agg_ranking_1_rever=99-agg_ranking_1\n",
    "agg_ranking_1_rever"
   ],
   "metadata": {
    "collapsed": false,
    "ExecuteTime": {
     "end_time": "2023-11-16T08:32:45.395028Z",
     "start_time": "2023-11-16T08:32:45.380183300Z"
    }
   },
   "id": "caee294b9e37643a"
  },
  {
   "cell_type": "code",
   "execution_count": 28,
   "outputs": [
    {
     "data": {
      "text/plain": "(19126, 19140, 0.16199612617492676)"
     },
     "execution_count": 28,
     "metadata": {},
     "output_type": "execute_result"
    }
   ],
   "source": [
    "\n",
    "\n",
    "t0 = time()\n",
    "\n",
    "\n",
    "kemeny_dist_0=ul.kemeny_dist(rankings,agg_ranking_0)\n",
    "t1 = time()\n",
    "kemeny_dist_1=ul.kemeny_dist(rankings,agg_ranking_1)\n",
    "\n",
    "kemeny_dist_0,kemeny_dist_1,(t1-t0)"
   ],
   "metadata": {
    "collapsed": false,
    "ExecuteTime": {
     "end_time": "2023-11-16T07:54:23.390669700Z",
     "start_time": "2023-11-16T07:54:23.077452600Z"
    }
   },
   "id": "f4cb380833c55f87"
  },
  {
   "cell_type": "code",
   "execution_count": 19,
   "outputs": [],
   "source": [],
   "metadata": {
    "collapsed": false,
    "ExecuteTime": {
     "end_time": "2023-11-16T07:45:30.220521200Z",
     "start_time": "2023-11-16T07:45:30.213304100Z"
    }
   },
   "id": "48f37c4424c4920f"
  },
  {
   "cell_type": "code",
   "execution_count": 19,
   "outputs": [],
   "source": [],
   "metadata": {
    "collapsed": false,
    "ExecuteTime": {
     "end_time": "2023-11-16T07:45:30.925667300Z",
     "start_time": "2023-11-16T07:45:30.888145100Z"
    }
   },
   "id": "ca472d44a76ecf2d"
  },
  {
   "cell_type": "code",
   "execution_count": 20,
   "outputs": [
    {
     "data": {
      "text/plain": "(array([[ 0, 20],\n        [ 1,  4],\n        [ 2,  3],\n        [ 3, 26],\n        [ 4, 23],\n        [ 5, 39],\n        [ 6, 49],\n        [ 7, 28],\n        [ 8, 32],\n        [ 9, 30],\n        [10,  7],\n        [11, 12],\n        [12, 18],\n        [13, 67],\n        [14, 27],\n        [15, 87],\n        [16, 65],\n        [17, 85],\n        [18, 96],\n        [19, 90],\n        [20, 10],\n        [21, 62],\n        [22, 94],\n        [23, 59],\n        [24, 25],\n        [25, 79],\n        [26, 43],\n        [27, 95],\n        [28, 81],\n        [29, 45]], dtype=int64),\n array([[30,  5],\n        [31,  2],\n        [32, 38],\n        [33, 73],\n        [34, 19],\n        [35, 66],\n        [36, 50],\n        [37, 52],\n        [38, 22],\n        [39, 51],\n        [40, 13],\n        [41, 75],\n        [42, 14],\n        [43,  6],\n        [44, 15],\n        [45,  1],\n        [46,  8],\n        [47,  0],\n        [48, 16],\n        [49, 35],\n        [50, 34],\n        [51, 40],\n        [52, 17],\n        [53, 33],\n        [54, 31],\n        [55,  9],\n        [56, 56],\n        [57, 42],\n        [58, 24],\n        [59, 93],\n        [60, 11],\n        [61, 57],\n        [62, 41],\n        [63, 21],\n        [64, 47],\n        [65, 63],\n        [66, 44],\n        [67, 88],\n        [68, 83],\n        [69, 29],\n        [70, 46],\n        [71, 99],\n        [72, 77],\n        [73, 37],\n        [74, 72],\n        [75, 70],\n        [76, 36],\n        [77, 69],\n        [78, 80],\n        [79, 86],\n        [80, 61],\n        [81, 55],\n        [82, 74],\n        [83, 91],\n        [84, 78],\n        [85, 89],\n        [86, 60],\n        [87, 98],\n        [88, 82],\n        [89, 54],\n        [90, 92],\n        [91, 68],\n        [92, 58],\n        [93, 48],\n        [94, 53],\n        [95, 71],\n        [96, 84],\n        [97, 97],\n        [98, 76],\n        [99, 64]], dtype=int64),\n array([[ 0, 21],\n        [ 1,  4],\n        [ 2,  3],\n        [ 3, 29],\n        [ 4, 24],\n        [ 5, 42],\n        [ 6, 49],\n        [ 7, 31],\n        [ 8, 32],\n        [ 9, 35],\n        [10,  8],\n        [11, 12],\n        [12, 18],\n        [13, 66],\n        [14, 27],\n        [15, 88],\n        [16, 64],\n        [17, 86],\n        [18, 96],\n        [19, 90],\n        [20, 11],\n        [21, 63],\n        [22, 94],\n        [23, 61],\n        [24, 25],\n        [25, 85],\n        [26, 46],\n        [27, 95],\n        [28, 84],\n        [29, 47]], dtype=int64),\n array([[30,  6],\n        [31,  2],\n        [32, 40],\n        [33, 74],\n        [34, 20],\n        [35, 67],\n        [36, 51],\n        [37, 55],\n        [38, 23],\n        [39, 52],\n        [40, 13],\n        [41, 78],\n        [42, 17],\n        [43,  5],\n        [44, 15],\n        [45,  1],\n        [46,  7],\n        [47,  0],\n        [48, 14],\n        [49, 33],\n        [50, 34],\n        [51, 38],\n        [52, 16],\n        [53, 30],\n        [54, 28],\n        [55,  9],\n        [56, 54],\n        [57, 41],\n        [58, 22],\n        [59, 91],\n        [60, 10],\n        [61, 50],\n        [62, 39],\n        [63, 19],\n        [64, 44],\n        [65, 62],\n        [66, 43],\n        [67, 87],\n        [68, 77],\n        [69, 26],\n        [70, 45],\n        [71, 98],\n        [72, 75],\n        [73, 36],\n        [74, 71],\n        [75, 69],\n        [76, 37],\n        [77, 70],\n        [78, 79],\n        [79, 81],\n        [80, 59],\n        [81, 53],\n        [82, 72],\n        [83, 92],\n        [84, 76],\n        [85, 89],\n        [86, 56],\n        [87, 99],\n        [88, 82],\n        [89, 58],\n        [90, 93],\n        [91, 68],\n        [92, 60],\n        [93, 48],\n        [94, 57],\n        [95, 73],\n        [96, 83],\n        [97, 97],\n        [98, 80],\n        [99, 65]], dtype=int64))"
     },
     "execution_count": 20,
     "metadata": {},
     "output_type": "execute_result"
    }
   ],
   "source": [
    "ranking_mc_0_m=np.c_[np.arange(30),agg_ranking_0[:30]]\n",
    "ranking_mc_0_w=np.c_[np.arange(30,100),agg_ranking_0[30:]]\n",
    "ranking_mc_1_m=np.c_[np.arange(30),agg_ranking_1[:30]]\n",
    "ranking_mc_1_w=np.c_[np.arange(30,100),agg_ranking_1[30:]]\n",
    "ranking_mc_0_m,ranking_mc_0_w,ranking_mc_1_m,ranking_mc_1_w"
   ],
   "metadata": {
    "collapsed": false,
    "ExecuteTime": {
     "end_time": "2023-11-16T07:45:31.856178100Z",
     "start_time": "2023-11-16T07:45:31.837309100Z"
    }
   },
   "id": "33e2e31d9146853d"
  },
  {
   "cell_type": "code",
   "execution_count": 21,
   "outputs": [
    {
     "data": {
      "text/plain": "(0.08, 0.04666666666666667)"
     },
     "execution_count": 21,
     "metadata": {},
     "output_type": "execute_result"
    }
   ],
   "source": [
    "\n",
    "\n",
    "parity_mc_0=metrics.pairwise_statistical_parity(ranking_mc_0_m,ranking_mc_0_w)\n",
    "parity_mc_1=metrics.pairwise_statistical_parity(ranking_mc_1_m,ranking_mc_1_w)\n",
    "parity_mc_0,parity_mc_1"
   ],
   "metadata": {
    "collapsed": false,
    "ExecuteTime": {
     "end_time": "2023-11-16T07:45:33.068968900Z",
     "start_time": "2023-11-16T07:45:33.046374300Z"
    }
   },
   "id": "6076af817e04d5c5"
  },
  {
   "cell_type": "code",
   "execution_count": 22,
   "outputs": [
    {
     "name": "stdout",
     "output_type": "stream",
     "text": [
      "Set parameter Username\n",
      "Academic license - for non-commercial use only - expires 2024-11-13\n",
      "1\n",
      "2\n",
      "3\n",
      "4\n",
      "5\n"
     ]
    }
   ],
   "source": [
    "n_voter,n_candidate=rankings.shape\n",
    "kemeny_ranking=ul.aggregate_kemeny(n_voter,n_candidate,rankings)"
   ],
   "metadata": {
    "collapsed": false,
    "ExecuteTime": {
     "end_time": "2023-11-16T07:46:11.133012500Z",
     "start_time": "2023-11-16T07:45:37.522762300Z"
    }
   },
   "id": "d542a0f88f0e0951"
  },
  {
   "cell_type": "code",
   "execution_count": 23,
   "outputs": [
    {
     "data": {
      "text/plain": "((array([ 6.,  0.,  1.,  7.,  8.,  9., 75., 10., 11., 12., 13., 14., 15.,\n         76., 19., 77., 78., 79., 95., 80.,  2., 81., 98., 82., 18., 83.,\n         20., 99., 84., 26., 16.,  3., 21., 85., 22., 86., 30., 31., 23.,\n         36., 17., 87., 24., 25., 27.,  4., 28.,  5., 29., 32., 33., 34.,\n         35., 37., 39., 38., 40., 42., 43., 89., 41., 45., 46., 44., 47.,\n         48., 49., 88., 90., 50., 51., 91., 52., 53., 56., 55., 54., 57.,\n         58., 59., 60., 61., 62., 92., 63., 93., 64., 94., 65., 66., 96.,\n         67., 68., 69., 70., 71., 72., 97., 73., 74.]),\n  12.34399962425232),\n 2)"
     },
     "execution_count": 23,
     "metadata": {},
     "output_type": "execute_result"
    }
   ],
   "source": [
    "\n",
    "kemeny_ranking,len(kemeny_ranking)"
   ],
   "metadata": {
    "collapsed": false,
    "ExecuteTime": {
     "end_time": "2023-11-16T07:46:15.631370500Z",
     "start_time": "2023-11-16T07:46:15.614629300Z"
    }
   },
   "id": "65a707961dad4738"
  },
  {
   "cell_type": "code",
   "execution_count": 24,
   "outputs": [
    {
     "data": {
      "text/plain": "18480"
     },
     "execution_count": 24,
     "metadata": {},
     "output_type": "execute_result"
    }
   ],
   "source": [
    "kemeny_dist_gurobi=ul.kemeny_dist(rankings,kemeny_ranking[0])\n",
    "kemeny_dist_gurobi"
   ],
   "metadata": {
    "collapsed": false,
    "ExecuteTime": {
     "end_time": "2023-11-16T07:46:18.542900900Z",
     "start_time": "2023-11-16T07:46:18.406377500Z"
    }
   },
   "id": "3ec31d4e810644c7"
  },
  {
   "cell_type": "code",
   "execution_count": null,
   "outputs": [],
   "source": [
    "stationary_distribute_0 = mc.stationary_distribute(rankings, 0)\n",
    "stationary_distribute_1 = mc.stationary_distribute(rankings, 1)\n",
    "stationary_distribute_0, stationary_distribute_1"
   ],
   "metadata": {
    "collapsed": false
   },
   "id": "f4da36d48118c2a7"
  },
  {
   "cell_type": "code",
   "execution_count": null,
   "outputs": [],
   "source": [
    "transition_matrix_0 = mc.generate_transition_matrix(rankings)\n",
    "transition_matrix_1 = mc.generate_transition_matrix_without_self_circle(rankings)\n",
    "#sum_of_probability_candidate=np.array([np.sum(transition_matrix_2[i, :]) for i in range(rankings.shape[1])])\n",
    "\n",
    "transition_matrix_0[30],transition_matrix_1[30]"
   ],
   "metadata": {
    "collapsed": false
   },
   "id": "98abe1d8973c35f4"
  },
  {
   "cell_type": "code",
   "execution_count": null,
   "outputs": [],
   "source": [],
   "metadata": {
    "collapsed": false
   },
   "id": "c9f0700baf5cebc2"
  },
  {
   "cell_type": "code",
   "execution_count": null,
   "outputs": [],
   "source": [
    "\n"
   ],
   "metadata": {
    "collapsed": false
   },
   "id": "357ab9bba6221fe6"
  }
 ],
 "metadata": {
  "kernelspec": {
   "display_name": "Python 3",
   "language": "python",
   "name": "python3"
  },
  "language_info": {
   "codemirror_mode": {
    "name": "ipython",
    "version": 2
   },
   "file_extension": ".py",
   "mimetype": "text/x-python",
   "name": "python",
   "nbconvert_exporter": "python",
   "pygments_lexer": "ipython2",
   "version": "2.7.6"
  }
 },
 "nbformat": 4,
 "nbformat_minor": 5
}
