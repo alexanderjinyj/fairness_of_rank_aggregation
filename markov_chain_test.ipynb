{
 "cells": [
  {
   "cell_type": "code",
   "execution_count": 1,
   "outputs": [],
   "source": [
    "import numpy as np\n",
    "import markov_chains_methods as mc\n",
    "import utils as ul\n",
    "import pandas as pd\n",
    "import metrics\n",
    "from time import time"
   ],
   "metadata": {
    "collapsed": false,
    "ExecuteTime": {
     "end_time": "2023-11-29T21:00:38.733041400Z",
     "start_time": "2023-11-29T21:00:38.078171Z"
    }
   },
   "id": "initial_id"
  },
  {
   "cell_type": "code",
   "execution_count": 2,
   "outputs": [
    {
     "data": {
      "text/plain": "   Unnamed: 0  ranker 1  ranker 2  ranker 3  ranker 4  ranker 5  ranker 6  \\\n0         M01        20        86        79        32        28        70   \n1         M02        14         9         7        52        55        26   \n2         M03        22         3        24        31        97        29   \n3         M04        54        87        13        22        95        46   \n4         M05        93         6        53        92        31        10   \n..        ...       ...       ...       ...       ...       ...       ...   \n95        W66        44        29        85        15        72        11   \n96        W67        50        66        29        83         4        81   \n97        W68        65        75        78        80        68        12   \n98        W69        41        60         9        34        99        30   \n99        W70        70        43        19        38        29        35   \n\n    ranker 7  ranker 8  ranker 9  ranker 10  ranker 11  ranker 12  \n0         21        71        71         71          1          1  \n1         89        72        72         72          2          2  \n2         41        73        73         73          3          3  \n3         32        74        74         74          4          4  \n4         56        75        75         75          5          5  \n..       ...       ...       ...        ...        ...        ...  \n95        67        66        66         66         96         81  \n96        40        67        67         67         97         82  \n97        73        68        68         68         98         83  \n98        63        69        69         69         99         84  \n99        52        70        70         70        100         85  \n\n[100 rows x 13 columns]",
      "text/html": "<div>\n<style scoped>\n    .dataframe tbody tr th:only-of-type {\n        vertical-align: middle;\n    }\n\n    .dataframe tbody tr th {\n        vertical-align: top;\n    }\n\n    .dataframe thead th {\n        text-align: right;\n    }\n</style>\n<table border=\"1\" class=\"dataframe\">\n  <thead>\n    <tr style=\"text-align: right;\">\n      <th></th>\n      <th>Unnamed: 0</th>\n      <th>ranker 1</th>\n      <th>ranker 2</th>\n      <th>ranker 3</th>\n      <th>ranker 4</th>\n      <th>ranker 5</th>\n      <th>ranker 6</th>\n      <th>ranker 7</th>\n      <th>ranker 8</th>\n      <th>ranker 9</th>\n      <th>ranker 10</th>\n      <th>ranker 11</th>\n      <th>ranker 12</th>\n    </tr>\n  </thead>\n  <tbody>\n    <tr>\n      <th>0</th>\n      <td>M01</td>\n      <td>20</td>\n      <td>86</td>\n      <td>79</td>\n      <td>32</td>\n      <td>28</td>\n      <td>70</td>\n      <td>21</td>\n      <td>71</td>\n      <td>71</td>\n      <td>71</td>\n      <td>1</td>\n      <td>1</td>\n    </tr>\n    <tr>\n      <th>1</th>\n      <td>M02</td>\n      <td>14</td>\n      <td>9</td>\n      <td>7</td>\n      <td>52</td>\n      <td>55</td>\n      <td>26</td>\n      <td>89</td>\n      <td>72</td>\n      <td>72</td>\n      <td>72</td>\n      <td>2</td>\n      <td>2</td>\n    </tr>\n    <tr>\n      <th>2</th>\n      <td>M03</td>\n      <td>22</td>\n      <td>3</td>\n      <td>24</td>\n      <td>31</td>\n      <td>97</td>\n      <td>29</td>\n      <td>41</td>\n      <td>73</td>\n      <td>73</td>\n      <td>73</td>\n      <td>3</td>\n      <td>3</td>\n    </tr>\n    <tr>\n      <th>3</th>\n      <td>M04</td>\n      <td>54</td>\n      <td>87</td>\n      <td>13</td>\n      <td>22</td>\n      <td>95</td>\n      <td>46</td>\n      <td>32</td>\n      <td>74</td>\n      <td>74</td>\n      <td>74</td>\n      <td>4</td>\n      <td>4</td>\n    </tr>\n    <tr>\n      <th>4</th>\n      <td>M05</td>\n      <td>93</td>\n      <td>6</td>\n      <td>53</td>\n      <td>92</td>\n      <td>31</td>\n      <td>10</td>\n      <td>56</td>\n      <td>75</td>\n      <td>75</td>\n      <td>75</td>\n      <td>5</td>\n      <td>5</td>\n    </tr>\n    <tr>\n      <th>...</th>\n      <td>...</td>\n      <td>...</td>\n      <td>...</td>\n      <td>...</td>\n      <td>...</td>\n      <td>...</td>\n      <td>...</td>\n      <td>...</td>\n      <td>...</td>\n      <td>...</td>\n      <td>...</td>\n      <td>...</td>\n      <td>...</td>\n    </tr>\n    <tr>\n      <th>95</th>\n      <td>W66</td>\n      <td>44</td>\n      <td>29</td>\n      <td>85</td>\n      <td>15</td>\n      <td>72</td>\n      <td>11</td>\n      <td>67</td>\n      <td>66</td>\n      <td>66</td>\n      <td>66</td>\n      <td>96</td>\n      <td>81</td>\n    </tr>\n    <tr>\n      <th>96</th>\n      <td>W67</td>\n      <td>50</td>\n      <td>66</td>\n      <td>29</td>\n      <td>83</td>\n      <td>4</td>\n      <td>81</td>\n      <td>40</td>\n      <td>67</td>\n      <td>67</td>\n      <td>67</td>\n      <td>97</td>\n      <td>82</td>\n    </tr>\n    <tr>\n      <th>97</th>\n      <td>W68</td>\n      <td>65</td>\n      <td>75</td>\n      <td>78</td>\n      <td>80</td>\n      <td>68</td>\n      <td>12</td>\n      <td>73</td>\n      <td>68</td>\n      <td>68</td>\n      <td>68</td>\n      <td>98</td>\n      <td>83</td>\n    </tr>\n    <tr>\n      <th>98</th>\n      <td>W69</td>\n      <td>41</td>\n      <td>60</td>\n      <td>9</td>\n      <td>34</td>\n      <td>99</td>\n      <td>30</td>\n      <td>63</td>\n      <td>69</td>\n      <td>69</td>\n      <td>69</td>\n      <td>99</td>\n      <td>84</td>\n    </tr>\n    <tr>\n      <th>99</th>\n      <td>W70</td>\n      <td>70</td>\n      <td>43</td>\n      <td>19</td>\n      <td>38</td>\n      <td>29</td>\n      <td>35</td>\n      <td>52</td>\n      <td>70</td>\n      <td>70</td>\n      <td>70</td>\n      <td>100</td>\n      <td>85</td>\n    </tr>\n  </tbody>\n</table>\n<p>100 rows × 13 columns</p>\n</div>"
     },
     "execution_count": 2,
     "metadata": {},
     "output_type": "execute_result"
    }
   ],
   "source": [
    "\n",
    "df=pd.read_csv('20230918dataset_uf.csv')\n",
    "#add a ranking all m candidates has smaller rank than w's\n",
    "df[\"ranker 11\"]=np.arange(1,101,1)\n",
    "#add a ranking half  m candidates on the top of ranking and another half m candidates on the bottom of rinking and w candidates on the middle  \n",
    "ranker_12=np.concatenate((np.arange(1,16,1),np.arange(86,101,1),np.arange(16,86,1)), axis=None)\n",
    "#print(ranker_12)\n",
    "df[\"ranker 12\"]=ranker_12\n",
    "df"
   ],
   "metadata": {
    "collapsed": false,
    "ExecuteTime": {
     "end_time": "2023-11-29T21:00:38.764740300Z",
     "start_time": "2023-11-29T21:00:38.737048300Z"
    }
   },
   "id": "324e1d81feffef57"
  },
  {
   "cell_type": "code",
   "execution_count": null,
   "outputs": [],
   "source": [],
   "metadata": {
    "collapsed": false
   },
   "id": "4e1c5d358fce525a"
  },
  {
   "cell_type": "code",
   "execution_count": 3,
   "outputs": [
    {
     "data": {
      "text/plain": "array([[ 20,  86,  79, ...,  71,   1,   1],\n       [ 14,   9,   7, ...,  72,   2,   2],\n       [ 22,   3,  24, ...,  73,   3,   3],\n       ...,\n       [ 65,  75,  78, ...,  68,  98,  83],\n       [ 41,  60,   9, ...,  69,  99,  84],\n       [ 70,  43,  19, ...,  70, 100,  85]], dtype=int64)"
     },
     "execution_count": 3,
     "metadata": {},
     "output_type": "execute_result"
    }
   ],
   "source": [
    "rankings=df[df.columns[1:]].to_numpy()\n",
    "rankings"
   ],
   "metadata": {
    "collapsed": false,
    "ExecuteTime": {
     "end_time": "2023-11-29T21:00:39.103739Z",
     "start_time": "2023-11-29T21:00:39.063154800Z"
    }
   },
   "id": "ea94d30d73b1198c"
  },
  {
   "cell_type": "code",
   "execution_count": 4,
   "outputs": [
    {
     "data": {
      "text/plain": "(array([[ 20,  14,  22, ...,  65,  41,  70],\n        [ 86,   9,   3, ...,  75,  60,  43],\n        [ 79,   7,  24, ...,  78,   9,  19],\n        ...,\n        [ 71,  72,  73, ...,  68,  69,  70],\n        [  1,   2,   3, ...,  98,  99, 100],\n        [  1,   2,   3, ...,  83,  84,  85]], dtype=int64),\n (12, 100))"
     },
     "execution_count": 4,
     "metadata": {},
     "output_type": "execute_result"
    }
   ],
   "source": [
    "rankings=rankings.transpose()\n",
    "rankings,rankings.shape"
   ],
   "metadata": {
    "collapsed": false,
    "ExecuteTime": {
     "end_time": "2023-11-29T21:00:40.035314300Z",
     "start_time": "2023-11-29T21:00:39.978012400Z"
    }
   },
   "id": "6b63e5af659975a1"
  },
  {
   "cell_type": "code",
   "execution_count": 5,
   "outputs": [],
   "source": [
    "threshold=0"
   ],
   "metadata": {
    "collapsed": false,
    "ExecuteTime": {
     "end_time": "2023-11-29T21:00:40.861694800Z",
     "start_time": "2023-11-29T21:00:40.820683100Z"
    }
   },
   "id": "162ecc8816a3daf5"
  },
  {
   "cell_type": "code",
   "execution_count": 6,
   "outputs": [],
   "source": [
    "attribute = np.append(np.repeat(0, 30), np.repeat(1, 70))\n",
    "attribute=np.c_[np.arange(100),attribute]\n",
    "df_groups=pd.DataFrame(attribute,columns=['id','attribute'])\n",
    "groups=df_groups.groupby(df_groups.columns[1]).count()\n",
    "groups=groups.to_numpy()\n",
    "groups=np.c_[np.array([[0],[1]]),groups]\n",
    "\n",
    "group_proportions =mc.proportions(groups)\n",
    "transition_matrix = mc.generate_transition_matrix(rankings)\n",
    "size_candidate = rankings.shape[1]"
   ],
   "metadata": {
    "collapsed": false,
    "ExecuteTime": {
     "end_time": "2023-11-29T21:00:41.534594900Z",
     "start_time": "2023-11-29T21:00:41.397037600Z"
    }
   },
   "id": "af3baf77345a451d"
  },
  {
   "cell_type": "code",
   "execution_count": 7,
   "outputs": [
    {
     "data": {
      "text/plain": "array([7.06775000e-01, 4.60000000e-03, 4.92500000e-03, 2.85833333e-03,\n       2.86666667e-03, 1.94166667e-03, 1.95000000e-03, 2.15000000e-03,\n       2.43333333e-03, 2.11666667e-03, 3.67500000e-03, 3.35833333e-03,\n       2.73333333e-03, 1.24166667e-03, 2.15000000e-03, 9.75000000e-04,\n       1.40833333e-03, 7.83333333e-04, 5.83333333e-04, 7.75000000e-04,\n       2.74166667e-03, 8.33333333e-04, 3.58333333e-04, 7.91666667e-04,\n       2.15000000e-03, 3.41666667e-04, 8.08333333e-04, 1.50000000e-04,\n       2.50000000e-04, 9.00000000e-04, 6.62500000e-03, 6.98333333e-03,\n       5.05000000e-03, 3.10000000e-03, 5.77500000e-03, 3.61666667e-03,\n       4.05833333e-03, 3.75000000e-03, 5.27500000e-03, 3.94166667e-03,\n       5.99166667e-03, 2.73333333e-03, 5.75000000e-03, 5.89166667e-03,\n       5.36666667e-03, 6.41666667e-03, 5.90833333e-03, 6.45833333e-03,\n       5.40833333e-03, 4.40833333e-03, 4.53333333e-03, 4.31666667e-03,\n       5.15000000e-03, 4.50833333e-03, 4.31666667e-03, 5.31666667e-03,\n       3.65833333e-03, 3.95833333e-03, 4.46666667e-03, 1.86666667e-03,\n       4.95833333e-03, 3.03333333e-03, 3.91666667e-03, 4.35000000e-03,\n       3.55000000e-03, 3.05833333e-03, 3.44166667e-03, 2.19166667e-03,\n       2.38333333e-03, 3.81666667e-03, 3.32500000e-03, 9.50000000e-04,\n       2.34166667e-03, 3.62500000e-03, 2.26666667e-03, 2.29166667e-03,\n       3.37500000e-03, 2.53333333e-03, 2.35833333e-03, 1.99166667e-03,\n       2.52500000e-03, 2.50000000e-03, 1.97500000e-03, 1.64166667e-03,\n       2.02500000e-03, 1.54166667e-03, 2.49166667e-03, 9.75000000e-04,\n       1.81666667e-03, 2.24166667e-03, 1.26666667e-03, 1.94166667e-03,\n       2.04166667e-03, 2.25000000e-03, 2.03333333e-03, 1.60000000e-03,\n       1.39166667e-03, 6.58333333e-04, 1.41666667e-03, 1.68333333e-03])"
     },
     "execution_count": 7,
     "metadata": {},
     "output_type": "execute_result"
    }
   ],
   "source": [
    "precedence=mc.build_precedence_matrix(rankings)\n",
    "out_degree=mc.build_out_degree_matrix(precedence)\n",
    "matrix=mc.incresing_consensus_transition_matrix(rankings,precedence,out_degree)\n",
    "matrix[0]"
   ],
   "metadata": {
    "collapsed": false,
    "ExecuteTime": {
     "end_time": "2023-11-29T21:00:42.469477800Z",
     "start_time": "2023-11-29T21:00:42.264201Z"
    }
   },
   "id": "e734f5d6369c6576"
  },
  {
   "cell_type": "code",
   "execution_count": 8,
   "outputs": [
    {
     "data": {
      "text/plain": "array([[ 0,  0],\n       [ 1,  0],\n       [ 2,  0],\n       [ 3,  0],\n       [ 4,  0],\n       [ 5,  0],\n       [ 6,  0],\n       [ 7,  0],\n       [ 8,  0],\n       [ 9,  0],\n       [10,  0],\n       [11,  0],\n       [12,  0],\n       [13,  0],\n       [14,  0],\n       [15,  0],\n       [16,  0],\n       [17,  0],\n       [18,  0],\n       [19,  0],\n       [20,  0],\n       [21,  0],\n       [22,  0],\n       [23,  0],\n       [24,  0],\n       [25,  0],\n       [26,  0],\n       [27,  0],\n       [28,  0],\n       [29,  0],\n       [30,  1],\n       [31,  1],\n       [32,  1],\n       [33,  1],\n       [34,  1],\n       [35,  1],\n       [36,  1],\n       [37,  1],\n       [38,  1],\n       [39,  1],\n       [40,  1],\n       [41,  1],\n       [42,  1],\n       [43,  1],\n       [44,  1],\n       [45,  1],\n       [46,  1],\n       [47,  1],\n       [48,  1],\n       [49,  1],\n       [50,  1],\n       [51,  1],\n       [52,  1],\n       [53,  1],\n       [54,  1],\n       [55,  1],\n       [56,  1],\n       [57,  1],\n       [58,  1],\n       [59,  1],\n       [60,  1],\n       [61,  1],\n       [62,  1],\n       [63,  1],\n       [64,  1],\n       [65,  1],\n       [66,  1],\n       [67,  1],\n       [68,  1],\n       [69,  1],\n       [70,  1],\n       [71,  1],\n       [72,  1],\n       [73,  1],\n       [74,  1],\n       [75,  1],\n       [76,  1],\n       [77,  1],\n       [78,  1],\n       [79,  1],\n       [80,  1],\n       [81,  1],\n       [82,  1],\n       [83,  1],\n       [84,  1],\n       [85,  1],\n       [86,  1],\n       [87,  1],\n       [88,  1],\n       [89,  1],\n       [90,  1],\n       [91,  1],\n       [92,  1],\n       [93,  1],\n       [94,  1],\n       [95,  1],\n       [96,  1],\n       [97,  1],\n       [98,  1],\n       [99,  1]])"
     },
     "execution_count": 8,
     "metadata": {},
     "output_type": "execute_result"
    }
   ],
   "source": [
    "attribute"
   ],
   "metadata": {
    "collapsed": false,
    "ExecuteTime": {
     "end_time": "2023-11-29T21:00:43.654842200Z",
     "start_time": "2023-11-29T21:00:43.603756600Z"
    }
   },
   "id": "f71408d9bdde345c"
  },
  {
   "cell_type": "code",
   "execution_count": 16,
   "outputs": [
    {
     "name": "stdout",
     "output_type": "stream",
     "text": [
      "initial: 31\n"
     ]
    },
    {
     "data": {
      "text/plain": "0.3380312919616699"
     },
     "execution_count": 16,
     "metadata": {},
     "output_type": "execute_result"
    }
   ],
   "source": [
    "#fair_kemeny_rankings_greedy_1_t0=time()\n",
    "#fair_kemeny_rankings_greedy_1=mc.fair_kemeny_mc_rankings_greedy(rankings,attribute,groups,threshold,1)\n",
    "#fair_kemeny_rankings_greedy_1_t1=time()\n",
    "\n",
    "fair_kemeny_rankings_greedy_0_t0=time()\n",
    "fair_kemeny_rankings_greedy_0=mc.fair_kemeny_mc_rankings_greedy(rankings,attribute,groups,threshold,0)\n",
    "fair_kemeny_rankings_greedy_0_t1=time()\n",
    "\n",
    "#fair_kemeny_rankings_greedy_1_t1-fair_kemeny_rankings_greedy_1_t0,\n",
    "fair_kemeny_rankings_greedy_0_t1-fair_kemeny_rankings_greedy_0_t0"
   ],
   "metadata": {
    "collapsed": false,
    "ExecuteTime": {
     "end_time": "2023-11-29T21:01:28.576409300Z",
     "start_time": "2023-11-29T21:01:28.232457600Z"
    }
   },
   "id": "3a04441457519f7b"
  },
  {
   "cell_type": "code",
   "execution_count": 17,
   "outputs": [
    {
     "ename": "NameError",
     "evalue": "name 'fair_kemeny_rankings_greedy_1' is not defined",
     "output_type": "error",
     "traceback": [
      "\u001B[1;31m---------------------------------------------------------------------------\u001B[0m",
      "\u001B[1;31mNameError\u001B[0m                                 Traceback (most recent call last)",
      "Cell \u001B[1;32mIn[17], line 1\u001B[0m\n\u001B[1;32m----> 1\u001B[0m fair_kemeny_rankings_greedy_1,fair_kemeny_rankings_greedy_0\n",
      "\u001B[1;31mNameError\u001B[0m: name 'fair_kemeny_rankings_greedy_1' is not defined"
     ]
    }
   ],
   "source": [
    "fair_kemeny_rankings_greedy_1,fair_kemeny_rankings_greedy_0"
   ],
   "metadata": {
    "collapsed": false,
    "ExecuteTime": {
     "end_time": "2023-11-29T21:01:30.894472900Z",
     "start_time": "2023-11-29T21:01:29.996962400Z"
    }
   },
   "id": "356c5f95ed3ecd4c"
  },
  {
   "cell_type": "code",
   "execution_count": null,
   "outputs": [],
   "source": [
    "\n",
    "\n",
    "fair_kemeny_ranking_dist_greedy=np.array([row[1] for row in fair_kemeny_rankings_greedy_1])\n",
    "\n",
    "optimal_fair_kemeny_ranking_greedy_1_index=np.argmin(fair_kemeny_ranking_dist_greedy)\n",
    "optimal_fair_kemeny_ranking_greedy_1=fair_kemeny_rankings_greedy_1[optimal_fair_kemeny_ranking_greedy_1_index]\n",
    "optimal_fair_kemeny_ranking_greedy_1_permutation=np.argsort(optimal_fair_kemeny_ranking_greedy_1[0])\n",
    "optimal_fair_kemeny_ranking_greedy_1_permutation,optimal_fair_kemeny_ranking_greedy_1"
   ],
   "metadata": {
    "collapsed": false,
    "ExecuteTime": {
     "start_time": "2023-11-29T21:01:30.893477900Z"
    }
   },
   "id": "dba5791442fc0efe"
  },
  {
   "cell_type": "code",
   "execution_count": 18,
   "outputs": [
    {
     "data": {
      "text/plain": "(array([31, 47, 30,  1, 45, 46, 10, 40, 43, 11, 42, 34, 48,  3, 55, 44,  4,\n        52, 38, 20, 60, 32,  2, 50, 53, 58, 12, 63, 49,  8, 51, 54, 57,  9,\n        62, 69, 24, 36, 39,  7, 73, 37, 56, 14, 64, 66,  6, 76, 35,  5, 70,\n        65, 61, 16, 33, 41, 13,  0, 77, 80, 81, 86, 89, 29, 93, 72, 19, 78,\n        68, 26, 74, 75, 92, 21, 67, 84, 17, 94, 82, 23, 91, 79, 88, 18, 59,\n        83, 25, 99, 95, 22, 98, 85, 96, 28, 90, 15, 87, 71, 97, 27],\n       dtype=int64),\n (array([57.,  3., 22., 13., 16., 49., 46., 39., 29., 33.,  6.,  9., 26.,\n         56., 43., 95., 53., 76., 83., 66., 19., 73., 89., 79., 36., 86.,\n         69., 99., 93., 63.,  2.,  0., 21., 54., 11., 48., 37., 41., 18.,\n         38.,  7., 55., 10.,  8., 15.,  4.,  5.,  1., 12., 28., 23., 30.,\n         17., 24., 31., 14., 42., 32., 25., 84., 20., 52., 34., 27., 44.,\n         51., 45., 74., 68., 35., 50., 97., 65., 40., 70., 71., 47., 58.,\n         67., 81., 59., 60., 78., 85., 75., 91., 61., 96., 82., 62., 94.,\n         80., 72., 64., 77., 88., 92., 98., 90., 87.]),\n  22578))"
     },
     "execution_count": 18,
     "metadata": {},
     "output_type": "execute_result"
    }
   ],
   "source": [
    "fair_kemeny_ranking_dist_greedy=np.array([row[1] for row in fair_kemeny_rankings_greedy_0])\n",
    "\n",
    "optimal_fair_kemeny_ranking_greedy_0_index=np.argmin(fair_kemeny_ranking_dist_greedy)\n",
    "optimal_fair_kemeny_ranking_greedy_0=fair_kemeny_rankings_greedy_0[optimal_fair_kemeny_ranking_greedy_0_index]\n",
    "optimal_fair_kemeny_ranking_greedy_0_permutation=np.argsort(optimal_fair_kemeny_ranking_greedy_0[0])\n",
    "optimal_fair_kemeny_ranking_greedy_0_permutation,optimal_fair_kemeny_ranking_greedy_0"
   ],
   "metadata": {
    "collapsed": false,
    "ExecuteTime": {
     "end_time": "2023-11-29T21:01:33.477205900Z",
     "start_time": "2023-11-29T21:01:33.452686700Z"
    }
   },
   "id": "8a56504c27979470"
  },
  {
   "cell_type": "code",
   "execution_count": 11,
   "outputs": [
    {
     "ename": "NameError",
     "evalue": "name 'optimal_fair_kemeny_ranking_greedy_1' is not defined",
     "output_type": "error",
     "traceback": [
      "\u001B[1;31m---------------------------------------------------------------------------\u001B[0m",
      "\u001B[1;31mNameError\u001B[0m                                 Traceback (most recent call last)",
      "Cell \u001B[1;32mIn[11], line 1\u001B[0m\n\u001B[1;32m----> 1\u001B[0m optimal_fair_kemeny_ranking_greedy_1_m\u001B[38;5;241m=\u001B[39mnp\u001B[38;5;241m.\u001B[39mc_[np\u001B[38;5;241m.\u001B[39marange(\u001B[38;5;241m30\u001B[39m),optimal_fair_kemeny_ranking_greedy_1[\u001B[38;5;241m0\u001B[39m][:\u001B[38;5;241m30\u001B[39m]]\n\u001B[0;32m      2\u001B[0m optimal_fair_kemeny_ranking_greedy_1_w\u001B[38;5;241m=\u001B[39mnp\u001B[38;5;241m.\u001B[39mc_[np\u001B[38;5;241m.\u001B[39marange(\u001B[38;5;241m30\u001B[39m,\u001B[38;5;241m100\u001B[39m),optimal_fair_kemeny_ranking_greedy_1[\u001B[38;5;241m0\u001B[39m][\u001B[38;5;241m30\u001B[39m:]]\n\u001B[0;32m      3\u001B[0m parity_optimal_fair_kemeny_ranking_greedy_1\u001B[38;5;241m=\u001B[39mmetrics\u001B[38;5;241m.\u001B[39mpairwise_statistical_parity(optimal_fair_kemeny_ranking_greedy_1_m,optimal_fair_kemeny_ranking_greedy_1_w)\n",
      "\u001B[1;31mNameError\u001B[0m: name 'optimal_fair_kemeny_ranking_greedy_1' is not defined"
     ]
    }
   ],
   "source": [
    "optimal_fair_kemeny_ranking_greedy_1_m=np.c_[np.arange(30),optimal_fair_kemeny_ranking_greedy_1[0][:30]]\n",
    "optimal_fair_kemeny_ranking_greedy_1_w=np.c_[np.arange(30,100),optimal_fair_kemeny_ranking_greedy_1[0][30:]]\n",
    "parity_optimal_fair_kemeny_ranking_greedy_1=metrics.pairwise_statistical_parity(optimal_fair_kemeny_ranking_greedy_1_m,optimal_fair_kemeny_ranking_greedy_1_w)\n",
    "parity_optimal_fair_kemeny_ranking_greedy_1"
   ],
   "metadata": {
    "collapsed": false,
    "ExecuteTime": {
     "end_time": "2023-11-29T20:53:19.167018900Z",
     "start_time": "2023-11-29T20:53:19.066024600Z"
    }
   },
   "id": "68d1e696c564d9f2"
  },
  {
   "cell_type": "code",
   "execution_count": 12,
   "outputs": [
    {
     "ename": "NameError",
     "evalue": "name 'optimal_fair_kemeny_ranking_greedy_0' is not defined",
     "output_type": "error",
     "traceback": [
      "\u001B[1;31m---------------------------------------------------------------------------\u001B[0m",
      "\u001B[1;31mNameError\u001B[0m                                 Traceback (most recent call last)",
      "Cell \u001B[1;32mIn[12], line 1\u001B[0m\n\u001B[1;32m----> 1\u001B[0m optimal_fair_kemeny_ranking_greedy_0_m\u001B[38;5;241m=\u001B[39mnp\u001B[38;5;241m.\u001B[39mc_[np\u001B[38;5;241m.\u001B[39marange(\u001B[38;5;241m30\u001B[39m),optimal_fair_kemeny_ranking_greedy_0[\u001B[38;5;241m0\u001B[39m][:\u001B[38;5;241m30\u001B[39m]]\n\u001B[0;32m      2\u001B[0m optimal_fair_kemeny_ranking_greedy_0_w\u001B[38;5;241m=\u001B[39mnp\u001B[38;5;241m.\u001B[39mc_[np\u001B[38;5;241m.\u001B[39marange(\u001B[38;5;241m30\u001B[39m,\u001B[38;5;241m100\u001B[39m),optimal_fair_kemeny_ranking_greedy_0[\u001B[38;5;241m0\u001B[39m][\u001B[38;5;241m30\u001B[39m:]]\n\u001B[0;32m      3\u001B[0m parity_optimal_fair_kemeny_ranking_greedy_0\u001B[38;5;241m=\u001B[39mmetrics\u001B[38;5;241m.\u001B[39mpairwise_statistical_parity(optimal_fair_kemeny_ranking_greedy_0_m,optimal_fair_kemeny_ranking_greedy_0_w)\n",
      "\u001B[1;31mNameError\u001B[0m: name 'optimal_fair_kemeny_ranking_greedy_0' is not defined"
     ]
    }
   ],
   "source": [
    "optimal_fair_kemeny_ranking_greedy_0_m=np.c_[np.arange(30),optimal_fair_kemeny_ranking_greedy_0[0][:30]]\n",
    "optimal_fair_kemeny_ranking_greedy_0_w=np.c_[np.arange(30,100),optimal_fair_kemeny_ranking_greedy_0[0][30:]]\n",
    "parity_optimal_fair_kemeny_ranking_greedy_0=metrics.pairwise_statistical_parity(optimal_fair_kemeny_ranking_greedy_0_m,optimal_fair_kemeny_ranking_greedy_0_w)\n",
    "parity_optimal_fair_kemeny_ranking_greedy_0"
   ],
   "metadata": {
    "collapsed": false,
    "ExecuteTime": {
     "end_time": "2023-11-29T20:53:19.395120500Z",
     "start_time": "2023-11-29T20:53:19.327974800Z"
    }
   },
   "id": "1427d6e97cce5c7e"
  },
  {
   "cell_type": "code",
   "execution_count": 13,
   "outputs": [
    {
     "ename": "NameError",
     "evalue": "name 'optimal_fair_kemeny_ranking_greedy_1' is not defined",
     "output_type": "error",
     "traceback": [
      "\u001B[1;31m---------------------------------------------------------------------------\u001B[0m",
      "\u001B[1;31mNameError\u001B[0m                                 Traceback (most recent call last)",
      "Cell \u001B[1;32mIn[13], line 6\u001B[0m\n\u001B[0;32m      4\u001B[0m ranking \u001B[38;5;241m=\u001B[39mpd\u001B[38;5;241m.\u001B[39mDataFrame(columns\u001B[38;5;241m=\u001B[39m[\u001B[38;5;124m'\u001B[39m\u001B[38;5;124mid\u001B[39m\u001B[38;5;124m'\u001B[39m, \u001B[38;5;124m'\u001B[39m\u001B[38;5;124mranker\u001B[39m\u001B[38;5;124m'\u001B[39m])\n\u001B[0;32m      5\u001B[0m ranking[\u001B[38;5;124m\"\u001B[39m\u001B[38;5;124mid\u001B[39m\u001B[38;5;124m\"\u001B[39m]\u001B[38;5;241m=\u001B[39mnp\u001B[38;5;241m.\u001B[39marange(\u001B[38;5;241m0\u001B[39m,\u001B[38;5;241m100\u001B[39m,\u001B[38;5;241m1\u001B[39m)\n\u001B[1;32m----> 6\u001B[0m ranking[\u001B[38;5;124m\"\u001B[39m\u001B[38;5;124mranker\u001B[39m\u001B[38;5;124m\"\u001B[39m]\u001B[38;5;241m=\u001B[39moptimal_fair_kemeny_ranking_greedy_1[\u001B[38;5;241m0\u001B[39m]\n\u001B[0;32m      7\u001B[0m ranking_m \u001B[38;5;241m=\u001B[39mranking\u001B[38;5;241m.\u001B[39mhead(\u001B[38;5;241m30\u001B[39m)\u001B[38;5;241m.\u001B[39mto_numpy()\n\u001B[0;32m      8\u001B[0m ranking_w \u001B[38;5;241m=\u001B[39mranking\u001B[38;5;241m.\u001B[39mtail(\u001B[38;5;241m70\u001B[39m)\u001B[38;5;241m.\u001B[39mto_numpy()\n",
      "\u001B[1;31mNameError\u001B[0m: name 'optimal_fair_kemeny_ranking_greedy_1' is not defined"
     ]
    }
   ],
   "source": [
    "satisfied_array=[]\n",
    "k_threshold=0.05\n",
    "for k in range(1,100):\n",
    "    ranking =pd.DataFrame(columns=['id', 'ranker'])\n",
    "    ranking[\"id\"]=np.arange(0,100,1)\n",
    "    ranking[\"ranker\"]=optimal_fair_kemeny_ranking_greedy_1[0]\n",
    "    ranking_m =ranking.head(30).to_numpy()\n",
    "    ranking_w =ranking.tail(70).to_numpy()\n",
    "    rankings_fair=np.array([ranking_m,ranking_w], dtype=object)\n",
    "    satisfied=metrics.top_k_parity(rankings_fair,k,k-threshold )\n",
    "    satisfied_array.append([\"ranker\",k,satisfied])"
   ],
   "metadata": {
    "collapsed": false,
    "ExecuteTime": {
     "end_time": "2023-11-29T20:53:20.112749900Z",
     "start_time": "2023-11-29T20:53:20.029881100Z"
    }
   },
   "id": "198e9242bf3888f5"
  },
  {
   "cell_type": "code",
   "execution_count": 14,
   "outputs": [
    {
     "data": {
      "text/plain": "array([], dtype=float64)"
     },
     "execution_count": 14,
     "metadata": {},
     "output_type": "execute_result"
    }
   ],
   "source": [
    "satisfied_array=np.array(satisfied_array)\n",
    "satisfied_array"
   ],
   "metadata": {
    "collapsed": false,
    "ExecuteTime": {
     "end_time": "2023-11-29T20:53:20.685053700Z",
     "start_time": "2023-11-29T20:53:20.632533Z"
    }
   },
   "id": "678f30cf210a0e28"
  },
  {
   "cell_type": "code",
   "execution_count": 15,
   "outputs": [
    {
     "ename": "NameError",
     "evalue": "name 'optimal_fair_kemeny_ranking_greedy_0' is not defined",
     "output_type": "error",
     "traceback": [
      "\u001B[1;31m---------------------------------------------------------------------------\u001B[0m",
      "\u001B[1;31mNameError\u001B[0m                                 Traceback (most recent call last)",
      "Cell \u001B[1;32mIn[15], line 5\u001B[0m\n\u001B[0;32m      3\u001B[0m ranking \u001B[38;5;241m=\u001B[39mpd\u001B[38;5;241m.\u001B[39mDataFrame(columns\u001B[38;5;241m=\u001B[39m[\u001B[38;5;124m'\u001B[39m\u001B[38;5;124mid\u001B[39m\u001B[38;5;124m'\u001B[39m, \u001B[38;5;124m'\u001B[39m\u001B[38;5;124mranker\u001B[39m\u001B[38;5;124m'\u001B[39m])\n\u001B[0;32m      4\u001B[0m ranking[\u001B[38;5;124m\"\u001B[39m\u001B[38;5;124mid\u001B[39m\u001B[38;5;124m\"\u001B[39m]\u001B[38;5;241m=\u001B[39mnp\u001B[38;5;241m.\u001B[39marange(\u001B[38;5;241m0\u001B[39m,\u001B[38;5;241m100\u001B[39m,\u001B[38;5;241m1\u001B[39m)\n\u001B[1;32m----> 5\u001B[0m ranking[\u001B[38;5;124m\"\u001B[39m\u001B[38;5;124mranker\u001B[39m\u001B[38;5;124m\"\u001B[39m]\u001B[38;5;241m=\u001B[39moptimal_fair_kemeny_ranking_greedy_0[\u001B[38;5;241m0\u001B[39m]\n\u001B[0;32m      6\u001B[0m ranking_m \u001B[38;5;241m=\u001B[39mranking\u001B[38;5;241m.\u001B[39mhead(\u001B[38;5;241m30\u001B[39m)\u001B[38;5;241m.\u001B[39mto_numpy()\n\u001B[0;32m      7\u001B[0m ranking_w \u001B[38;5;241m=\u001B[39mranking\u001B[38;5;241m.\u001B[39mtail(\u001B[38;5;241m70\u001B[39m)\u001B[38;5;241m.\u001B[39mto_numpy()\n",
      "\u001B[1;31mNameError\u001B[0m: name 'optimal_fair_kemeny_ranking_greedy_0' is not defined"
     ]
    }
   ],
   "source": [
    "satisfied_array=[]\n",
    "for k in range(1,100):\n",
    "    ranking =pd.DataFrame(columns=['id', 'ranker'])\n",
    "    ranking[\"id\"]=np.arange(0,100,1)\n",
    "    ranking[\"ranker\"]=optimal_fair_kemeny_ranking_greedy_0[0]\n",
    "    ranking_m =ranking.head(30).to_numpy()\n",
    "    ranking_w =ranking.tail(70).to_numpy()\n",
    "    rankings_fair=np.array([ranking_m,ranking_w], dtype=object)\n",
    "    satisfied=metrics.top_k_parity(rankings_fair,k,threshold )\n",
    "    satisfied_array.append([\"ranker\",k,satisfied])"
   ],
   "metadata": {
    "collapsed": false,
    "ExecuteTime": {
     "end_time": "2023-11-29T20:53:21.442770700Z",
     "start_time": "2023-11-29T20:53:21.375016700Z"
    }
   },
   "id": "253fd6b3ffc3a2f1"
  },
  {
   "cell_type": "code",
   "execution_count": 16,
   "outputs": [
    {
     "data": {
      "text/plain": "array([], dtype=float64)"
     },
     "execution_count": 16,
     "metadata": {},
     "output_type": "execute_result"
    }
   ],
   "source": [
    "satisfied_array=np.array(satisfied_array)\n",
    "satisfied_array"
   ],
   "metadata": {
    "collapsed": false,
    "ExecuteTime": {
     "end_time": "2023-11-29T20:53:22.082335200Z",
     "start_time": "2023-11-29T20:53:22.058815400Z"
    }
   },
   "id": "ce5bb71364fc80fc"
  },
  {
   "cell_type": "code",
   "execution_count": 16,
   "outputs": [],
   "source": [],
   "metadata": {
    "collapsed": false,
    "ExecuteTime": {
     "end_time": "2023-11-29T20:53:23.655617500Z",
     "start_time": "2023-11-29T20:53:23.606602400Z"
    }
   },
   "id": "1f1487083221af7b"
  },
  {
   "cell_type": "code",
   "execution_count": 10,
   "outputs": [
    {
     "name": "stdout",
     "output_type": "stream",
     "text": [
      "[0.55083333 0.00333333 0.00333333 0.0025     0.0025     0.0025\n",
      " 0.0025     0.00333333 0.00333333 0.0025     0.00416667 0.00333333\n",
      " 0.00333333 0.0025     0.00333333 0.00333333 0.00333333 0.0025\n",
      " 0.00166667 0.0025     0.005      0.00333333 0.00083333 0.0025\n",
      " 0.00333333 0.00333333 0.005      0.00166667 0.0025     0.00333333\n",
      " 0.005      0.00666667 0.005      0.00333333 0.005      0.00333333\n",
      " 0.00416667 0.00416667 0.00333333 0.005      0.005      0.00333333\n",
      " 0.00583333 0.005      0.00666667 0.0075     0.00583333 0.0075\n",
      " 0.00583333 0.00416667 0.005      0.005      0.00583333 0.00583333\n",
      " 0.005      0.00666667 0.005      0.005      0.00583333 0.00333333\n",
      " 0.00666667 0.005      0.005      0.005      0.005      0.005\n",
      " 0.00666667 0.005      0.005      0.00666667 0.00583333 0.00333333\n",
      " 0.005      0.00583333 0.005      0.00416667 0.00583333 0.005\n",
      " 0.005      0.00416667 0.005      0.00583333 0.005      0.005\n",
      " 0.00583333 0.005      0.005      0.005      0.005      0.00583333\n",
      " 0.00416667 0.005      0.00666667 0.00583333 0.005      0.005\n",
      " 0.005      0.005      0.005      0.005     ]\n",
      "[7.06775000e-01 4.60000000e-03 4.92500000e-03 2.85833333e-03\n",
      " 2.86666667e-03 1.94166667e-03 1.95000000e-03 2.15000000e-03\n",
      " 2.43333333e-03 2.11666667e-03 3.67500000e-03 3.35833333e-03\n",
      " 2.73333333e-03 1.24166667e-03 2.15000000e-03 9.75000000e-04\n",
      " 1.40833333e-03 7.83333333e-04 5.83333333e-04 7.75000000e-04\n",
      " 2.74166667e-03 8.33333333e-04 3.58333333e-04 7.91666667e-04\n",
      " 2.15000000e-03 3.41666667e-04 8.08333333e-04 1.50000000e-04\n",
      " 2.50000000e-04 9.00000000e-04 6.62500000e-03 6.98333333e-03\n",
      " 5.05000000e-03 3.10000000e-03 5.77500000e-03 3.61666667e-03\n",
      " 4.05833333e-03 3.75000000e-03 5.27500000e-03 3.94166667e-03\n",
      " 5.99166667e-03 2.73333333e-03 5.75000000e-03 5.89166667e-03\n",
      " 5.36666667e-03 6.41666667e-03 5.90833333e-03 6.45833333e-03\n",
      " 5.40833333e-03 4.40833333e-03 4.53333333e-03 4.31666667e-03\n",
      " 5.15000000e-03 4.50833333e-03 4.31666667e-03 5.31666667e-03\n",
      " 3.65833333e-03 3.95833333e-03 4.46666667e-03 1.86666667e-03\n",
      " 4.95833333e-03 3.03333333e-03 3.91666667e-03 4.35000000e-03\n",
      " 3.55000000e-03 3.05833333e-03 3.44166667e-03 2.19166667e-03\n",
      " 2.38333333e-03 3.81666667e-03 3.32500000e-03 9.50000000e-04\n",
      " 2.34166667e-03 3.62500000e-03 2.26666667e-03 2.29166667e-03\n",
      " 3.37500000e-03 2.53333333e-03 2.35833333e-03 1.99166667e-03\n",
      " 2.52500000e-03 2.50000000e-03 1.97500000e-03 1.64166667e-03\n",
      " 2.02500000e-03 1.54166667e-03 2.49166667e-03 9.75000000e-04\n",
      " 1.81666667e-03 2.24166667e-03 1.26666667e-03 1.94166667e-03\n",
      " 2.04166667e-03 2.25000000e-03 2.03333333e-03 1.60000000e-03\n",
      " 1.39166667e-03 6.58333333e-04 1.41666667e-03 1.68333333e-03]\n"
     ]
    },
    {
     "data": {
      "text/plain": "(array([31, 15, 17, 36, 34, 52, 57, 42, 48, 43, 18, 28, 39, 76, 51, 90, 79,\n        89, 97, 93, 29, 70, 95, 72, 49, 88, 63, 94, 92, 64,  3,  0, 14, 35,\n         7, 32, 21, 27, 11, 26,  5, 50,  8,  4,  9,  2,  6,  1, 12, 25, 23,\n        30, 13, 22, 24, 10, 47, 37, 20, 84, 16, 53, 41, 19, 46, 56, 44, 83,\n        73, 33, 45, 99, 74, 40, 69, 67, 38, 65, 77, 80, 59, 58, 75, 86, 78,\n        87, 62, 96, 81, 55, 91, 66, 61, 54, 60, 71, 85, 98, 82, 68],\n       dtype=int64),\n 0.10801053047180176,\n array([46, 20, 16, 44, 43, 73, 72, 65, 56, 68, 33, 39, 47, 84, 64, 86, 82,\n        91, 95, 92, 45, 90, 96, 93, 66, 97, 89, 99, 98, 88,  1,  0, 15, 42,\n         8, 36, 26, 32, 13, 28,  4, 48,  7,  6, 10,  3,  5,  2,  9, 22, 19,\n        24, 12, 17, 23, 11, 31, 25, 18, 75, 14, 41, 27, 21, 34, 40, 35, 61,\n        53, 29, 38, 87, 55, 30, 59, 60, 37, 50, 54, 71, 51, 49, 69, 77, 63,\n        79, 52, 85, 74, 58, 83, 70, 62, 57, 67, 78, 81, 94, 80, 76],\n       dtype=int64))"
     },
     "execution_count": 10,
     "metadata": {},
     "output_type": "execute_result"
    }
   ],
   "source": [
    "\n",
    "t0=time()\n",
    "agg_ranking_0=mc.aggregate_rank_mc(rankings,0)\n",
    "t1=time()\n",
    "agg_ranking_1=mc.aggregate_rank_mc(rankings,1)\n",
    "agg_ranking_0,t1-t0,agg_ranking_1"
   ],
   "metadata": {
    "collapsed": false,
    "ExecuteTime": {
     "end_time": "2023-11-29T21:00:57.696918200Z",
     "start_time": "2023-11-29T21:00:57.398872Z"
    }
   },
   "id": "fd96e6566fe900fb"
  },
  {
   "cell_type": "code",
   "execution_count": 11,
   "outputs": [
    {
     "data": {
      "text/plain": "(array([31, 47, 45, 30, 43, 40, 46, 34, 42, 44, 55, 38, 48, 52, 32,  1, 60,\n         2, 10, 63, 58, 36, 53, 50, 54, 49, 39, 37, 11, 20, 51,  0, 35, 69,\n         4, 33,  3, 57, 76, 12, 73, 62,  7,  9, 66, 70, 64, 56,  8, 24, 41,\n        14,  5, 61, 93, 89, 65,  6, 81, 80, 94, 92, 86, 26, 29, 77, 91, 75,\n        99, 74, 21, 95, 23, 68, 72, 82, 13, 78, 84, 16, 79, 88, 98, 67, 59,\n        96, 83, 85, 25, 17, 15, 90, 28, 19, 27, 22, 87, 18, 97, 71],\n       dtype=int64),\n array([31, 30, 47, 45, 40, 46, 43, 42, 34, 48, 44, 55, 52, 38, 60, 32,  2,\n        53, 58, 50,  1, 63, 49, 54, 51, 57, 36, 62, 39, 69, 73, 56, 37, 10,\n        64, 66, 35, 76, 70, 11, 65, 61, 33,  4,  3, 20,  0, 12, 41, 81, 77,\n        80, 86, 68, 78, 72,  8, 93, 89, 74, 75, 67, 92, 84, 14,  7, 24, 94,\n         9, 82, 91, 79,  6,  5, 88, 59, 99, 83, 95, 85, 98, 96, 16, 90, 13,\n        87, 15, 71, 29, 26, 21, 17, 19, 23, 97, 18, 22, 25, 28, 27],\n       dtype=int64),\n 22356,\n 21962)"
     },
     "execution_count": 11,
     "metadata": {},
     "output_type": "execute_result"
    }
   ],
   "source": [
    "agg_ranking_permutation_0=np.argsort(agg_ranking_0)\n",
    "agg_ranking_permutation_1=np.argsort(agg_ranking_1)\n",
    "agg_ranking_permutation_0,agg_ranking_permutation_1,ul.kemeny_dist(rankings,agg_ranking_0),ul.kemeny_dist(rankings,agg_ranking_1)"
   ],
   "metadata": {
    "collapsed": false,
    "ExecuteTime": {
     "end_time": "2023-11-29T21:00:59.034843700Z",
     "start_time": "2023-11-29T21:00:58.846745Z"
    }
   },
   "id": "11942c5b16cb1ee6"
  },
  {
   "cell_type": "code",
   "execution_count": 12,
   "outputs": [
    {
     "name": "stdout",
     "output_type": "stream",
     "text": [
      "[]\n",
      "[31]\n",
      "[31, 47]\n",
      "[31, 47, 45]\n",
      "[31, 47, 45, 1]\n",
      "[31, 47, 45, 1, 30]\n",
      "[31, 47, 45, 1, 30, 43]\n",
      "[31, 47, 45, 1, 30, 43, 2]\n",
      "[31, 47, 45, 1, 30, 43, 2, 40]\n",
      "[31, 47, 45, 1, 30, 43, 2, 40, 46]\n",
      "[31, 47, 45, 1, 30, 43, 2, 40, 46, 10]\n",
      "[31, 47, 45, 1, 30, 43, 2, 40, 46, 10, 34]\n",
      "[31, 47, 45, 1, 30, 43, 2, 40, 46, 10, 34, 42]\n",
      "[31, 47, 45, 1, 30, 43, 2, 40, 46, 10, 34, 42, 44]\n",
      "[31, 47, 45, 1, 30, 43, 2, 40, 46, 10, 34, 42, 44, 11]\n",
      "[31, 47, 45, 1, 30, 43, 2, 40, 46, 10, 34, 42, 44, 11, 55]\n",
      "[31, 47, 45, 1, 30, 43, 2, 40, 46, 10, 34, 42, 44, 11, 55, 38]\n",
      "[31, 47, 45, 1, 30, 43, 2, 40, 46, 10, 34, 42, 44, 11, 55, 38, 20]\n",
      "[31, 47, 45, 1, 30, 43, 2, 40, 46, 10, 34, 42, 44, 11, 55, 38, 20, 48]\n",
      "[31, 47, 45, 1, 30, 43, 2, 40, 46, 10, 34, 42, 44, 11, 55, 38, 20, 48, 52]\n",
      "[31, 47, 45, 1, 30, 43, 2, 40, 46, 10, 34, 42, 44, 11, 55, 38, 20, 48, 52, 0]\n",
      "[31, 47, 45, 1, 30, 43, 2, 40, 46, 10, 34, 42, 44, 11, 55, 38, 20, 48, 52, 0, 32]\n",
      "[31, 47, 45, 1, 30, 43, 2, 40, 46, 10, 34, 42, 44, 11, 55, 38, 20, 48, 52, 0, 32, 60]\n",
      "[31, 47, 45, 1, 30, 43, 2, 40, 46, 10, 34, 42, 44, 11, 55, 38, 20, 48, 52, 0, 32, 60, 63]\n",
      "[31, 47, 45, 1, 30, 43, 2, 40, 46, 10, 34, 42, 44, 11, 55, 38, 20, 48, 52, 0, 32, 60, 63, 4]\n",
      "[31, 47, 45, 1, 30, 43, 2, 40, 46, 10, 34, 42, 44, 11, 55, 38, 20, 48, 52, 0, 32, 60, 63, 4, 58]\n",
      "[31, 47, 45, 1, 30, 43, 2, 40, 46, 10, 34, 42, 44, 11, 55, 38, 20, 48, 52, 0, 32, 60, 63, 4, 58, 36]\n",
      "[31, 47, 45, 1, 30, 43, 2, 40, 46, 10, 34, 42, 44, 11, 55, 38, 20, 48, 52, 0, 32, 60, 63, 4, 58, 36, 3]\n",
      "[31, 47, 45, 1, 30, 43, 2, 40, 46, 10, 34, 42, 44, 11, 55, 38, 20, 48, 52, 0, 32, 60, 63, 4, 58, 36, 3, 53]\n",
      "[31, 47, 45, 1, 30, 43, 2, 40, 46, 10, 34, 42, 44, 11, 55, 38, 20, 48, 52, 0, 32, 60, 63, 4, 58, 36, 3, 53, 50]\n",
      "[31, 47, 45, 1, 30, 43, 2, 40, 46, 10, 34, 42, 44, 11, 55, 38, 20, 48, 52, 0, 32, 60, 63, 4, 58, 36, 3, 53, 50, 12]\n",
      "[31, 47, 45, 1, 30, 43, 2, 40, 46, 10, 34, 42, 44, 11, 55, 38, 20, 48, 52, 0, 32, 60, 63, 4, 58, 36, 3, 53, 50, 12, 54]\n",
      "[31, 47, 45, 1, 30, 43, 2, 40, 46, 10, 34, 42, 44, 11, 55, 38, 20, 48, 52, 0, 32, 60, 63, 4, 58, 36, 3, 53, 50, 12, 54, 49]\n",
      "[31, 47, 45, 1, 30, 43, 2, 40, 46, 10, 34, 42, 44, 11, 55, 38, 20, 48, 52, 0, 32, 60, 63, 4, 58, 36, 3, 53, 50, 12, 54, 49, 39]\n",
      "[31, 47, 45, 1, 30, 43, 2, 40, 46, 10, 34, 42, 44, 11, 55, 38, 20, 48, 52, 0, 32, 60, 63, 4, 58, 36, 3, 53, 50, 12, 54, 49, 39, 7]\n",
      "[31, 47, 45, 1, 30, 43, 2, 40, 46, 10, 34, 42, 44, 11, 55, 38, 20, 48, 52, 0, 32, 60, 63, 4, 58, 36, 3, 53, 50, 12, 54, 49, 39, 7, 37]\n",
      "[31, 47, 45, 1, 30, 43, 2, 40, 46, 10, 34, 42, 44, 11, 55, 38, 20, 48, 52, 0, 32, 60, 63, 4, 58, 36, 3, 53, 50, 12, 54, 49, 39, 7, 37, 51]\n",
      "[31, 47, 45, 1, 30, 43, 2, 40, 46, 10, 34, 42, 44, 11, 55, 38, 20, 48, 52, 0, 32, 60, 63, 4, 58, 36, 3, 53, 50, 12, 54, 49, 39, 7, 37, 51, 9]\n",
      "[31, 47, 45, 1, 30, 43, 2, 40, 46, 10, 34, 42, 44, 11, 55, 38, 20, 48, 52, 0, 32, 60, 63, 4, 58, 36, 3, 53, 50, 12, 54, 49, 39, 7, 37, 51, 9, 35]\n",
      "[31, 47, 45, 1, 30, 43, 2, 40, 46, 10, 34, 42, 44, 11, 55, 38, 20, 48, 52, 0, 32, 60, 63, 4, 58, 36, 3, 53, 50, 12, 54, 49, 39, 7, 37, 51, 9, 35, 69]\n",
      "[31, 47, 45, 1, 30, 43, 2, 40, 46, 10, 34, 42, 44, 11, 55, 38, 20, 48, 52, 0, 32, 60, 63, 4, 58, 36, 3, 53, 50, 12, 54, 49, 39, 7, 37, 51, 9, 35, 69, 8]\n",
      "[31, 47, 45, 1, 30, 43, 2, 40, 46, 10, 34, 42, 44, 11, 55, 38, 20, 48, 52, 0, 32, 60, 63, 4, 58, 36, 3, 53, 50, 12, 54, 49, 39, 7, 37, 51, 9, 35, 69, 8, 33]\n",
      "[31, 47, 45, 1, 30, 43, 2, 40, 46, 10, 34, 42, 44, 11, 55, 38, 20, 48, 52, 0, 32, 60, 63, 4, 58, 36, 3, 53, 50, 12, 54, 49, 39, 7, 37, 51, 9, 35, 69, 8, 33, 57]\n",
      "[31, 47, 45, 1, 30, 43, 2, 40, 46, 10, 34, 42, 44, 11, 55, 38, 20, 48, 52, 0, 32, 60, 63, 4, 58, 36, 3, 53, 50, 12, 54, 49, 39, 7, 37, 51, 9, 35, 69, 8, 33, 57, 76]\n",
      "[31, 47, 45, 1, 30, 43, 2, 40, 46, 10, 34, 42, 44, 11, 55, 38, 20, 48, 52, 0, 32, 60, 63, 4, 58, 36, 3, 53, 50, 12, 54, 49, 39, 7, 37, 51, 9, 35, 69, 8, 33, 57, 76, 24]\n",
      "[31, 47, 45, 1, 30, 43, 2, 40, 46, 10, 34, 42, 44, 11, 55, 38, 20, 48, 52, 0, 32, 60, 63, 4, 58, 36, 3, 53, 50, 12, 54, 49, 39, 7, 37, 51, 9, 35, 69, 8, 33, 57, 76, 24, 73]\n",
      "[31, 47, 45, 1, 30, 43, 2, 40, 46, 10, 34, 42, 44, 11, 55, 38, 20, 48, 52, 0, 32, 60, 63, 4, 58, 36, 3, 53, 50, 12, 54, 49, 39, 7, 37, 51, 9, 35, 69, 8, 33, 57, 76, 24, 73, 62]\n",
      "[31, 47, 45, 1, 30, 43, 2, 40, 46, 10, 34, 42, 44, 11, 55, 38, 20, 48, 52, 0, 32, 60, 63, 4, 58, 36, 3, 53, 50, 12, 54, 49, 39, 7, 37, 51, 9, 35, 69, 8, 33, 57, 76, 24, 73, 62, 14]\n",
      "[31, 47, 45, 1, 30, 43, 2, 40, 46, 10, 34, 42, 44, 11, 55, 38, 20, 48, 52, 0, 32, 60, 63, 4, 58, 36, 3, 53, 50, 12, 54, 49, 39, 7, 37, 51, 9, 35, 69, 8, 33, 57, 76, 24, 73, 62, 14, 66]\n",
      "[31, 47, 45, 1, 30, 43, 2, 40, 46, 10, 34, 42, 44, 11, 55, 38, 20, 48, 52, 0, 32, 60, 63, 4, 58, 36, 3, 53, 50, 12, 54, 49, 39, 7, 37, 51, 9, 35, 69, 8, 33, 57, 76, 24, 73, 62, 14, 66, 70]\n",
      "[31, 47, 45, 1, 30, 43, 2, 40, 46, 10, 34, 42, 44, 11, 55, 38, 20, 48, 52, 0, 32, 60, 63, 4, 58, 36, 3, 53, 50, 12, 54, 49, 39, 7, 37, 51, 9, 35, 69, 8, 33, 57, 76, 24, 73, 62, 14, 66, 70, 5]\n",
      "[31, 47, 45, 1, 30, 43, 2, 40, 46, 10, 34, 42, 44, 11, 55, 38, 20, 48, 52, 0, 32, 60, 63, 4, 58, 36, 3, 53, 50, 12, 54, 49, 39, 7, 37, 51, 9, 35, 69, 8, 33, 57, 76, 24, 73, 62, 14, 66, 70, 5, 64]\n",
      "[31, 47, 45, 1, 30, 43, 2, 40, 46, 10, 34, 42, 44, 11, 55, 38, 20, 48, 52, 0, 32, 60, 63, 4, 58, 36, 3, 53, 50, 12, 54, 49, 39, 7, 37, 51, 9, 35, 69, 8, 33, 57, 76, 24, 73, 62, 14, 66, 70, 5, 64, 56]\n",
      "[31, 47, 45, 1, 30, 43, 2, 40, 46, 10, 34, 42, 44, 11, 55, 38, 20, 48, 52, 0, 32, 60, 63, 4, 58, 36, 3, 53, 50, 12, 54, 49, 39, 7, 37, 51, 9, 35, 69, 8, 33, 57, 76, 24, 73, 62, 14, 66, 70, 5, 64, 56, 41]\n",
      "[31, 47, 45, 1, 30, 43, 2, 40, 46, 10, 34, 42, 44, 11, 55, 38, 20, 48, 52, 0, 32, 60, 63, 4, 58, 36, 3, 53, 50, 12, 54, 49, 39, 7, 37, 51, 9, 35, 69, 8, 33, 57, 76, 24, 73, 62, 14, 66, 70, 5, 64, 56, 41, 6]\n",
      "[31, 47, 45, 1, 30, 43, 2, 40, 46, 10, 34, 42, 44, 11, 55, 38, 20, 48, 52, 0, 32, 60, 63, 4, 58, 36, 3, 53, 50, 12, 54, 49, 39, 7, 37, 51, 9, 35, 69, 8, 33, 57, 76, 24, 73, 62, 14, 66, 70, 5, 64, 56, 41, 6, 61]\n",
      "[31, 47, 45, 1, 30, 43, 2, 40, 46, 10, 34, 42, 44, 11, 55, 38, 20, 48, 52, 0, 32, 60, 63, 4, 58, 36, 3, 53, 50, 12, 54, 49, 39, 7, 37, 51, 9, 35, 69, 8, 33, 57, 76, 24, 73, 62, 14, 66, 70, 5, 64, 56, 41, 6, 61, 93]\n",
      "[31, 47, 45, 1, 30, 43, 2, 40, 46, 10, 34, 42, 44, 11, 55, 38, 20, 48, 52, 0, 32, 60, 63, 4, 58, 36, 3, 53, 50, 12, 54, 49, 39, 7, 37, 51, 9, 35, 69, 8, 33, 57, 76, 24, 73, 62, 14, 66, 70, 5, 64, 56, 41, 6, 61, 93, 26]\n",
      "[31, 47, 45, 1, 30, 43, 2, 40, 46, 10, 34, 42, 44, 11, 55, 38, 20, 48, 52, 0, 32, 60, 63, 4, 58, 36, 3, 53, 50, 12, 54, 49, 39, 7, 37, 51, 9, 35, 69, 8, 33, 57, 76, 24, 73, 62, 14, 66, 70, 5, 64, 56, 41, 6, 61, 93, 26, 89]\n",
      "[31, 47, 45, 1, 30, 43, 2, 40, 46, 10, 34, 42, 44, 11, 55, 38, 20, 48, 52, 0, 32, 60, 63, 4, 58, 36, 3, 53, 50, 12, 54, 49, 39, 7, 37, 51, 9, 35, 69, 8, 33, 57, 76, 24, 73, 62, 14, 66, 70, 5, 64, 56, 41, 6, 61, 93, 26, 89, 65]\n",
      "[31, 47, 45, 1, 30, 43, 2, 40, 46, 10, 34, 42, 44, 11, 55, 38, 20, 48, 52, 0, 32, 60, 63, 4, 58, 36, 3, 53, 50, 12, 54, 49, 39, 7, 37, 51, 9, 35, 69, 8, 33, 57, 76, 24, 73, 62, 14, 66, 70, 5, 64, 56, 41, 6, 61, 93, 26, 89, 65, 29]\n",
      "[31, 47, 45, 1, 30, 43, 2, 40, 46, 10, 34, 42, 44, 11, 55, 38, 20, 48, 52, 0, 32, 60, 63, 4, 58, 36, 3, 53, 50, 12, 54, 49, 39, 7, 37, 51, 9, 35, 69, 8, 33, 57, 76, 24, 73, 62, 14, 66, 70, 5, 64, 56, 41, 6, 61, 93, 26, 89, 65, 29, 81]\n",
      "[31, 47, 45, 1, 30, 43, 2, 40, 46, 10, 34, 42, 44, 11, 55, 38, 20, 48, 52, 0, 32, 60, 63, 4, 58, 36, 3, 53, 50, 12, 54, 49, 39, 7, 37, 51, 9, 35, 69, 8, 33, 57, 76, 24, 73, 62, 14, 66, 70, 5, 64, 56, 41, 6, 61, 93, 26, 89, 65, 29, 81, 80]\n",
      "[31, 47, 45, 1, 30, 43, 2, 40, 46, 10, 34, 42, 44, 11, 55, 38, 20, 48, 52, 0, 32, 60, 63, 4, 58, 36, 3, 53, 50, 12, 54, 49, 39, 7, 37, 51, 9, 35, 69, 8, 33, 57, 76, 24, 73, 62, 14, 66, 70, 5, 64, 56, 41, 6, 61, 93, 26, 89, 65, 29, 81, 80, 94]\n",
      "[31, 47, 45, 1, 30, 43, 2, 40, 46, 10, 34, 42, 44, 11, 55, 38, 20, 48, 52, 0, 32, 60, 63, 4, 58, 36, 3, 53, 50, 12, 54, 49, 39, 7, 37, 51, 9, 35, 69, 8, 33, 57, 76, 24, 73, 62, 14, 66, 70, 5, 64, 56, 41, 6, 61, 93, 26, 89, 65, 29, 81, 80, 94, 21]\n",
      "[31, 47, 45, 1, 30, 43, 2, 40, 46, 10, 34, 42, 44, 11, 55, 38, 20, 48, 52, 0, 32, 60, 63, 4, 58, 36, 3, 53, 50, 12, 54, 49, 39, 7, 37, 51, 9, 35, 69, 8, 33, 57, 76, 24, 73, 62, 14, 66, 70, 5, 64, 56, 41, 6, 61, 93, 26, 89, 65, 29, 81, 80, 94, 21, 92]\n",
      "[31, 47, 45, 1, 30, 43, 2, 40, 46, 10, 34, 42, 44, 11, 55, 38, 20, 48, 52, 0, 32, 60, 63, 4, 58, 36, 3, 53, 50, 12, 54, 49, 39, 7, 37, 51, 9, 35, 69, 8, 33, 57, 76, 24, 73, 62, 14, 66, 70, 5, 64, 56, 41, 6, 61, 93, 26, 89, 65, 29, 81, 80, 94, 21, 92, 86]\n",
      "[31, 47, 45, 1, 30, 43, 2, 40, 46, 10, 34, 42, 44, 11, 55, 38, 20, 48, 52, 0, 32, 60, 63, 4, 58, 36, 3, 53, 50, 12, 54, 49, 39, 7, 37, 51, 9, 35, 69, 8, 33, 57, 76, 24, 73, 62, 14, 66, 70, 5, 64, 56, 41, 6, 61, 93, 26, 89, 65, 29, 81, 80, 94, 21, 92, 86, 23]\n",
      "[31, 47, 45, 1, 30, 43, 2, 40, 46, 10, 34, 42, 44, 11, 55, 38, 20, 48, 52, 0, 32, 60, 63, 4, 58, 36, 3, 53, 50, 12, 54, 49, 39, 7, 37, 51, 9, 35, 69, 8, 33, 57, 76, 24, 73, 62, 14, 66, 70, 5, 64, 56, 41, 6, 61, 93, 26, 89, 65, 29, 81, 80, 94, 21, 92, 86, 23, 77]\n",
      "[31, 47, 45, 1, 30, 43, 2, 40, 46, 10, 34, 42, 44, 11, 55, 38, 20, 48, 52, 0, 32, 60, 63, 4, 58, 36, 3, 53, 50, 12, 54, 49, 39, 7, 37, 51, 9, 35, 69, 8, 33, 57, 76, 24, 73, 62, 14, 66, 70, 5, 64, 56, 41, 6, 61, 93, 26, 89, 65, 29, 81, 80, 94, 21, 92, 86, 23, 77, 91]\n",
      "[31, 47, 45, 1, 30, 43, 2, 40, 46, 10, 34, 42, 44, 11, 55, 38, 20, 48, 52, 0, 32, 60, 63, 4, 58, 36, 3, 53, 50, 12, 54, 49, 39, 7, 37, 51, 9, 35, 69, 8, 33, 57, 76, 24, 73, 62, 14, 66, 70, 5, 64, 56, 41, 6, 61, 93, 26, 89, 65, 29, 81, 80, 94, 21, 92, 86, 23, 77, 91, 13]\n",
      "[31, 47, 45, 1, 30, 43, 2, 40, 46, 10, 34, 42, 44, 11, 55, 38, 20, 48, 52, 0, 32, 60, 63, 4, 58, 36, 3, 53, 50, 12, 54, 49, 39, 7, 37, 51, 9, 35, 69, 8, 33, 57, 76, 24, 73, 62, 14, 66, 70, 5, 64, 56, 41, 6, 61, 93, 26, 89, 65, 29, 81, 80, 94, 21, 92, 86, 23, 77, 91, 13, 75]\n",
      "[31, 47, 45, 1, 30, 43, 2, 40, 46, 10, 34, 42, 44, 11, 55, 38, 20, 48, 52, 0, 32, 60, 63, 4, 58, 36, 3, 53, 50, 12, 54, 49, 39, 7, 37, 51, 9, 35, 69, 8, 33, 57, 76, 24, 73, 62, 14, 66, 70, 5, 64, 56, 41, 6, 61, 93, 26, 89, 65, 29, 81, 80, 94, 21, 92, 86, 23, 77, 91, 13, 75, 99]\n",
      "[31, 47, 45, 1, 30, 43, 2, 40, 46, 10, 34, 42, 44, 11, 55, 38, 20, 48, 52, 0, 32, 60, 63, 4, 58, 36, 3, 53, 50, 12, 54, 49, 39, 7, 37, 51, 9, 35, 69, 8, 33, 57, 76, 24, 73, 62, 14, 66, 70, 5, 64, 56, 41, 6, 61, 93, 26, 89, 65, 29, 81, 80, 94, 21, 92, 86, 23, 77, 91, 13, 75, 99, 74]\n",
      "[31, 47, 45, 1, 30, 43, 2, 40, 46, 10, 34, 42, 44, 11, 55, 38, 20, 48, 52, 0, 32, 60, 63, 4, 58, 36, 3, 53, 50, 12, 54, 49, 39, 7, 37, 51, 9, 35, 69, 8, 33, 57, 76, 24, 73, 62, 14, 66, 70, 5, 64, 56, 41, 6, 61, 93, 26, 89, 65, 29, 81, 80, 94, 21, 92, 86, 23, 77, 91, 13, 75, 99, 74, 16]\n",
      "[31, 47, 45, 1, 30, 43, 2, 40, 46, 10, 34, 42, 44, 11, 55, 38, 20, 48, 52, 0, 32, 60, 63, 4, 58, 36, 3, 53, 50, 12, 54, 49, 39, 7, 37, 51, 9, 35, 69, 8, 33, 57, 76, 24, 73, 62, 14, 66, 70, 5, 64, 56, 41, 6, 61, 93, 26, 89, 65, 29, 81, 80, 94, 21, 92, 86, 23, 77, 91, 13, 75, 99, 74, 16, 95]\n",
      "[31, 47, 45, 1, 30, 43, 2, 40, 46, 10, 34, 42, 44, 11, 55, 38, 20, 48, 52, 0, 32, 60, 63, 4, 58, 36, 3, 53, 50, 12, 54, 49, 39, 7, 37, 51, 9, 35, 69, 8, 33, 57, 76, 24, 73, 62, 14, 66, 70, 5, 64, 56, 41, 6, 61, 93, 26, 89, 65, 29, 81, 80, 94, 21, 92, 86, 23, 77, 91, 13, 75, 99, 74, 16, 95, 68]\n",
      "[31, 47, 45, 1, 30, 43, 2, 40, 46, 10, 34, 42, 44, 11, 55, 38, 20, 48, 52, 0, 32, 60, 63, 4, 58, 36, 3, 53, 50, 12, 54, 49, 39, 7, 37, 51, 9, 35, 69, 8, 33, 57, 76, 24, 73, 62, 14, 66, 70, 5, 64, 56, 41, 6, 61, 93, 26, 89, 65, 29, 81, 80, 94, 21, 92, 86, 23, 77, 91, 13, 75, 99, 74, 16, 95, 68, 25]\n",
      "[31, 47, 45, 1, 30, 43, 2, 40, 46, 10, 34, 42, 44, 11, 55, 38, 20, 48, 52, 0, 32, 60, 63, 4, 58, 36, 3, 53, 50, 12, 54, 49, 39, 7, 37, 51, 9, 35, 69, 8, 33, 57, 76, 24, 73, 62, 14, 66, 70, 5, 64, 56, 41, 6, 61, 93, 26, 89, 65, 29, 81, 80, 94, 21, 92, 86, 23, 77, 91, 13, 75, 99, 74, 16, 95, 68, 25, 72]\n",
      "[31, 47, 45, 1, 30, 43, 2, 40, 46, 10, 34, 42, 44, 11, 55, 38, 20, 48, 52, 0, 32, 60, 63, 4, 58, 36, 3, 53, 50, 12, 54, 49, 39, 7, 37, 51, 9, 35, 69, 8, 33, 57, 76, 24, 73, 62, 14, 66, 70, 5, 64, 56, 41, 6, 61, 93, 26, 89, 65, 29, 81, 80, 94, 21, 92, 86, 23, 77, 91, 13, 75, 99, 74, 16, 95, 68, 25, 72, 82]\n",
      "[31, 47, 45, 1, 30, 43, 2, 40, 46, 10, 34, 42, 44, 11, 55, 38, 20, 48, 52, 0, 32, 60, 63, 4, 58, 36, 3, 53, 50, 12, 54, 49, 39, 7, 37, 51, 9, 35, 69, 8, 33, 57, 76, 24, 73, 62, 14, 66, 70, 5, 64, 56, 41, 6, 61, 93, 26, 89, 65, 29, 81, 80, 94, 21, 92, 86, 23, 77, 91, 13, 75, 99, 74, 16, 95, 68, 25, 72, 82, 17]\n",
      "[31, 47, 45, 1, 30, 43, 2, 40, 46, 10, 34, 42, 44, 11, 55, 38, 20, 48, 52, 0, 32, 60, 63, 4, 58, 36, 3, 53, 50, 12, 54, 49, 39, 7, 37, 51, 9, 35, 69, 8, 33, 57, 76, 24, 73, 62, 14, 66, 70, 5, 64, 56, 41, 6, 61, 93, 26, 89, 65, 29, 81, 80, 94, 21, 92, 86, 23, 77, 91, 13, 75, 99, 74, 16, 95, 68, 25, 72, 82, 17, 78]\n",
      "[31, 47, 45, 1, 30, 43, 2, 40, 46, 10, 34, 42, 44, 11, 55, 38, 20, 48, 52, 0, 32, 60, 63, 4, 58, 36, 3, 53, 50, 12, 54, 49, 39, 7, 37, 51, 9, 35, 69, 8, 33, 57, 76, 24, 73, 62, 14, 66, 70, 5, 64, 56, 41, 6, 61, 93, 26, 89, 65, 29, 81, 80, 94, 21, 92, 86, 23, 77, 91, 13, 75, 99, 74, 16, 95, 68, 25, 72, 82, 17, 78, 84]\n",
      "[31, 47, 45, 1, 30, 43, 2, 40, 46, 10, 34, 42, 44, 11, 55, 38, 20, 48, 52, 0, 32, 60, 63, 4, 58, 36, 3, 53, 50, 12, 54, 49, 39, 7, 37, 51, 9, 35, 69, 8, 33, 57, 76, 24, 73, 62, 14, 66, 70, 5, 64, 56, 41, 6, 61, 93, 26, 89, 65, 29, 81, 80, 94, 21, 92, 86, 23, 77, 91, 13, 75, 99, 74, 16, 95, 68, 25, 72, 82, 17, 78, 84, 79]\n",
      "[31, 47, 45, 1, 30, 43, 2, 40, 46, 10, 34, 42, 44, 11, 55, 38, 20, 48, 52, 0, 32, 60, 63, 4, 58, 36, 3, 53, 50, 12, 54, 49, 39, 7, 37, 51, 9, 35, 69, 8, 33, 57, 76, 24, 73, 62, 14, 66, 70, 5, 64, 56, 41, 6, 61, 93, 26, 89, 65, 29, 81, 80, 94, 21, 92, 86, 23, 77, 91, 13, 75, 99, 74, 16, 95, 68, 25, 72, 82, 17, 78, 84, 79, 15]\n",
      "[31, 47, 45, 1, 30, 43, 2, 40, 46, 10, 34, 42, 44, 11, 55, 38, 20, 48, 52, 0, 32, 60, 63, 4, 58, 36, 3, 53, 50, 12, 54, 49, 39, 7, 37, 51, 9, 35, 69, 8, 33, 57, 76, 24, 73, 62, 14, 66, 70, 5, 64, 56, 41, 6, 61, 93, 26, 89, 65, 29, 81, 80, 94, 21, 92, 86, 23, 77, 91, 13, 75, 99, 74, 16, 95, 68, 25, 72, 82, 17, 78, 84, 79, 15, 88]\n",
      "[31, 47, 45, 1, 30, 43, 2, 40, 46, 10, 34, 42, 44, 11, 55, 38, 20, 48, 52, 0, 32, 60, 63, 4, 58, 36, 3, 53, 50, 12, 54, 49, 39, 7, 37, 51, 9, 35, 69, 8, 33, 57, 76, 24, 73, 62, 14, 66, 70, 5, 64, 56, 41, 6, 61, 93, 26, 89, 65, 29, 81, 80, 94, 21, 92, 86, 23, 77, 91, 13, 75, 99, 74, 16, 95, 68, 25, 72, 82, 17, 78, 84, 79, 15, 88, 98]\n",
      "[31, 47, 45, 1, 30, 43, 2, 40, 46, 10, 34, 42, 44, 11, 55, 38, 20, 48, 52, 0, 32, 60, 63, 4, 58, 36, 3, 53, 50, 12, 54, 49, 39, 7, 37, 51, 9, 35, 69, 8, 33, 57, 76, 24, 73, 62, 14, 66, 70, 5, 64, 56, 41, 6, 61, 93, 26, 89, 65, 29, 81, 80, 94, 21, 92, 86, 23, 77, 91, 13, 75, 99, 74, 16, 95, 68, 25, 72, 82, 17, 78, 84, 79, 15, 88, 98, 28]\n",
      "[31, 47, 45, 1, 30, 43, 2, 40, 46, 10, 34, 42, 44, 11, 55, 38, 20, 48, 52, 0, 32, 60, 63, 4, 58, 36, 3, 53, 50, 12, 54, 49, 39, 7, 37, 51, 9, 35, 69, 8, 33, 57, 76, 24, 73, 62, 14, 66, 70, 5, 64, 56, 41, 6, 61, 93, 26, 89, 65, 29, 81, 80, 94, 21, 92, 86, 23, 77, 91, 13, 75, 99, 74, 16, 95, 68, 25, 72, 82, 17, 78, 84, 79, 15, 88, 98, 28, 67]\n",
      "[31, 47, 45, 1, 30, 43, 2, 40, 46, 10, 34, 42, 44, 11, 55, 38, 20, 48, 52, 0, 32, 60, 63, 4, 58, 36, 3, 53, 50, 12, 54, 49, 39, 7, 37, 51, 9, 35, 69, 8, 33, 57, 76, 24, 73, 62, 14, 66, 70, 5, 64, 56, 41, 6, 61, 93, 26, 89, 65, 29, 81, 80, 94, 21, 92, 86, 23, 77, 91, 13, 75, 99, 74, 16, 95, 68, 25, 72, 82, 17, 78, 84, 79, 15, 88, 98, 28, 67, 59]\n",
      "[31, 47, 45, 1, 30, 43, 2, 40, 46, 10, 34, 42, 44, 11, 55, 38, 20, 48, 52, 0, 32, 60, 63, 4, 58, 36, 3, 53, 50, 12, 54, 49, 39, 7, 37, 51, 9, 35, 69, 8, 33, 57, 76, 24, 73, 62, 14, 66, 70, 5, 64, 56, 41, 6, 61, 93, 26, 89, 65, 29, 81, 80, 94, 21, 92, 86, 23, 77, 91, 13, 75, 99, 74, 16, 95, 68, 25, 72, 82, 17, 78, 84, 79, 15, 88, 98, 28, 67, 59, 19]\n",
      "[31, 47, 45, 1, 30, 43, 2, 40, 46, 10, 34, 42, 44, 11, 55, 38, 20, 48, 52, 0, 32, 60, 63, 4, 58, 36, 3, 53, 50, 12, 54, 49, 39, 7, 37, 51, 9, 35, 69, 8, 33, 57, 76, 24, 73, 62, 14, 66, 70, 5, 64, 56, 41, 6, 61, 93, 26, 89, 65, 29, 81, 80, 94, 21, 92, 86, 23, 77, 91, 13, 75, 99, 74, 16, 95, 68, 25, 72, 82, 17, 78, 84, 79, 15, 88, 98, 28, 67, 59, 19, 96]\n",
      "[31, 47, 45, 1, 30, 43, 2, 40, 46, 10, 34, 42, 44, 11, 55, 38, 20, 48, 52, 0, 32, 60, 63, 4, 58, 36, 3, 53, 50, 12, 54, 49, 39, 7, 37, 51, 9, 35, 69, 8, 33, 57, 76, 24, 73, 62, 14, 66, 70, 5, 64, 56, 41, 6, 61, 93, 26, 89, 65, 29, 81, 80, 94, 21, 92, 86, 23, 77, 91, 13, 75, 99, 74, 16, 95, 68, 25, 72, 82, 17, 78, 84, 79, 15, 88, 98, 28, 67, 59, 19, 96, 83]\n",
      "[31, 47, 45, 1, 30, 43, 2, 40, 46, 10, 34, 42, 44, 11, 55, 38, 20, 48, 52, 0, 32, 60, 63, 4, 58, 36, 3, 53, 50, 12, 54, 49, 39, 7, 37, 51, 9, 35, 69, 8, 33, 57, 76, 24, 73, 62, 14, 66, 70, 5, 64, 56, 41, 6, 61, 93, 26, 89, 65, 29, 81, 80, 94, 21, 92, 86, 23, 77, 91, 13, 75, 99, 74, 16, 95, 68, 25, 72, 82, 17, 78, 84, 79, 15, 88, 98, 28, 67, 59, 19, 96, 83, 85]\n",
      "[31, 47, 45, 1, 30, 43, 2, 40, 46, 10, 34, 42, 44, 11, 55, 38, 20, 48, 52, 0, 32, 60, 63, 4, 58, 36, 3, 53, 50, 12, 54, 49, 39, 7, 37, 51, 9, 35, 69, 8, 33, 57, 76, 24, 73, 62, 14, 66, 70, 5, 64, 56, 41, 6, 61, 93, 26, 89, 65, 29, 81, 80, 94, 21, 92, 86, 23, 77, 91, 13, 75, 99, 74, 16, 95, 68, 25, 72, 82, 17, 78, 84, 79, 15, 88, 98, 28, 67, 59, 19, 96, 83, 85, 27]\n",
      "[31, 47, 45, 1, 30, 43, 2, 40, 46, 10, 34, 42, 44, 11, 55, 38, 20, 48, 52, 0, 32, 60, 63, 4, 58, 36, 3, 53, 50, 12, 54, 49, 39, 7, 37, 51, 9, 35, 69, 8, 33, 57, 76, 24, 73, 62, 14, 66, 70, 5, 64, 56, 41, 6, 61, 93, 26, 89, 65, 29, 81, 80, 94, 21, 92, 86, 23, 77, 91, 13, 75, 99, 74, 16, 95, 68, 25, 72, 82, 17, 78, 84, 79, 15, 88, 98, 28, 67, 59, 19, 96, 83, 85, 27, 90]\n",
      "[31, 47, 45, 1, 30, 43, 2, 40, 46, 10, 34, 42, 44, 11, 55, 38, 20, 48, 52, 0, 32, 60, 63, 4, 58, 36, 3, 53, 50, 12, 54, 49, 39, 7, 37, 51, 9, 35, 69, 8, 33, 57, 76, 24, 73, 62, 14, 66, 70, 5, 64, 56, 41, 6, 61, 93, 26, 89, 65, 29, 81, 80, 94, 21, 92, 86, 23, 77, 91, 13, 75, 99, 74, 16, 95, 68, 25, 72, 82, 17, 78, 84, 79, 15, 88, 98, 28, 67, 59, 19, 96, 83, 85, 27, 90, 22]\n",
      "[31, 47, 45, 1, 30, 43, 2, 40, 46, 10, 34, 42, 44, 11, 55, 38, 20, 48, 52, 0, 32, 60, 63, 4, 58, 36, 3, 53, 50, 12, 54, 49, 39, 7, 37, 51, 9, 35, 69, 8, 33, 57, 76, 24, 73, 62, 14, 66, 70, 5, 64, 56, 41, 6, 61, 93, 26, 89, 65, 29, 81, 80, 94, 21, 92, 86, 23, 77, 91, 13, 75, 99, 74, 16, 95, 68, 25, 72, 82, 17, 78, 84, 79, 15, 88, 98, 28, 67, 59, 19, 96, 83, 85, 27, 90, 22, 87]\n",
      "[31, 47, 45, 1, 30, 43, 2, 40, 46, 10, 34, 42, 44, 11, 55, 38, 20, 48, 52, 0, 32, 60, 63, 4, 58, 36, 3, 53, 50, 12, 54, 49, 39, 7, 37, 51, 9, 35, 69, 8, 33, 57, 76, 24, 73, 62, 14, 66, 70, 5, 64, 56, 41, 6, 61, 93, 26, 89, 65, 29, 81, 80, 94, 21, 92, 86, 23, 77, 91, 13, 75, 99, 74, 16, 95, 68, 25, 72, 82, 17, 78, 84, 79, 15, 88, 98, 28, 67, 59, 19, 96, 83, 85, 27, 90, 22, 87, 18]\n"
     ]
    },
    {
     "data": {
      "text/plain": "([31,\n  47,\n  45,\n  1,\n  30,\n  43,\n  2,\n  40,\n  46,\n  10,\n  34,\n  42,\n  44,\n  11,\n  55,\n  38,\n  20,\n  48,\n  52,\n  0,\n  32,\n  60,\n  63,\n  4,\n  58,\n  36,\n  3,\n  53,\n  50,\n  12,\n  54,\n  49,\n  39,\n  7,\n  37,\n  51,\n  9,\n  35,\n  69,\n  8,\n  33,\n  57,\n  76,\n  24,\n  73,\n  62,\n  14,\n  66,\n  70,\n  5,\n  64,\n  56,\n  41,\n  6,\n  61,\n  93,\n  26,\n  89,\n  65,\n  29,\n  81,\n  80,\n  94,\n  21,\n  92,\n  86,\n  23,\n  77,\n  91,\n  13,\n  75,\n  99,\n  74,\n  16,\n  95,\n  68,\n  25,\n  72,\n  82,\n  17,\n  78,\n  84,\n  79,\n  15,\n  88,\n  98,\n  28,\n  67,\n  59,\n  19,\n  96,\n  83,\n  85,\n  27,\n  90,\n  22,\n  87,\n  18,\n  97,\n  71],\n array([19.,  3.,  6., 26., 23., 49., 53., 33., 39., 36.,  9., 13., 29.,\n        69., 46., 83., 73., 79., 97., 89., 16., 63., 95., 66., 43., 76.,\n        56., 93., 86., 59.,  4.,  0., 20., 40., 10., 37., 25., 34., 15.,\n        32.,  7., 52., 11.,  5., 12.,  2.,  8.,  1., 17., 31., 28., 35.,\n        18., 27., 30., 14., 51., 41., 24., 88., 21., 54., 45., 22., 50.,\n        58., 47., 87., 75., 38., 48., 99., 77., 44., 72., 70., 42., 67.,\n        80., 82., 61., 60., 78., 91., 81., 92., 65., 96., 84., 57., 94.,\n        68., 64., 55., 62., 74., 90., 98., 85., 71.]))"
     },
     "execution_count": 12,
     "metadata": {},
     "output_type": "execute_result"
    }
   ],
   "source": [
    "fair_agg_ranking_permutation_0=ul.GrBinaryIPF(agg_ranking_permutation_0,attribute[:,1])\n",
    "fair_agg_ranking_0=np.zeros(len(fair_agg_ranking_permutation_0))\n",
    "for i in range(len(fair_agg_ranking_permutation_0)):\n",
    "    fair_agg_ranking_0[fair_agg_ranking_permutation_0[i]]=i\n",
    "fair_agg_ranking_permutation_0,fair_agg_ranking_0"
   ],
   "metadata": {
    "collapsed": false,
    "ExecuteTime": {
     "end_time": "2023-11-29T21:01:06.208664Z",
     "start_time": "2023-11-29T21:01:06.173798900Z"
    }
   },
   "id": "64708f0ff1c080e4"
  },
  {
   "cell_type": "code",
   "execution_count": 13,
   "outputs": [
    {
     "name": "stdout",
     "output_type": "stream",
     "text": [
      "[]\n",
      "[31]\n",
      "[31, 30]\n",
      "[31, 30, 47]\n",
      "[31, 30, 47, 2]\n",
      "[31, 30, 47, 2, 45]\n",
      "[31, 30, 47, 2, 45, 40]\n",
      "[31, 30, 47, 2, 45, 40, 1]\n",
      "[31, 30, 47, 2, 45, 40, 1, 46]\n",
      "[31, 30, 47, 2, 45, 40, 1, 46, 43]\n",
      "[31, 30, 47, 2, 45, 40, 1, 46, 43, 10]\n",
      "[31, 30, 47, 2, 45, 40, 1, 46, 43, 10, 42]\n",
      "[31, 30, 47, 2, 45, 40, 1, 46, 43, 10, 42, 34]\n",
      "[31, 30, 47, 2, 45, 40, 1, 46, 43, 10, 42, 34, 48]\n",
      "[31, 30, 47, 2, 45, 40, 1, 46, 43, 10, 42, 34, 48, 11]\n",
      "[31, 30, 47, 2, 45, 40, 1, 46, 43, 10, 42, 34, 48, 11, 44]\n",
      "[31, 30, 47, 2, 45, 40, 1, 46, 43, 10, 42, 34, 48, 11, 44, 55]\n",
      "[31, 30, 47, 2, 45, 40, 1, 46, 43, 10, 42, 34, 48, 11, 44, 55, 4]\n",
      "[31, 30, 47, 2, 45, 40, 1, 46, 43, 10, 42, 34, 48, 11, 44, 55, 4, 52]\n",
      "[31, 30, 47, 2, 45, 40, 1, 46, 43, 10, 42, 34, 48, 11, 44, 55, 4, 52, 38]\n",
      "[31, 30, 47, 2, 45, 40, 1, 46, 43, 10, 42, 34, 48, 11, 44, 55, 4, 52, 38, 3]\n",
      "[31, 30, 47, 2, 45, 40, 1, 46, 43, 10, 42, 34, 48, 11, 44, 55, 4, 52, 38, 3, 60]\n",
      "[31, 30, 47, 2, 45, 40, 1, 46, 43, 10, 42, 34, 48, 11, 44, 55, 4, 52, 38, 3, 60, 32]\n",
      "[31, 30, 47, 2, 45, 40, 1, 46, 43, 10, 42, 34, 48, 11, 44, 55, 4, 52, 38, 3, 60, 32, 53]\n",
      "[31, 30, 47, 2, 45, 40, 1, 46, 43, 10, 42, 34, 48, 11, 44, 55, 4, 52, 38, 3, 60, 32, 53, 20]\n",
      "[31, 30, 47, 2, 45, 40, 1, 46, 43, 10, 42, 34, 48, 11, 44, 55, 4, 52, 38, 3, 60, 32, 53, 20, 58]\n",
      "[31, 30, 47, 2, 45, 40, 1, 46, 43, 10, 42, 34, 48, 11, 44, 55, 4, 52, 38, 3, 60, 32, 53, 20, 58, 50]\n",
      "[31, 30, 47, 2, 45, 40, 1, 46, 43, 10, 42, 34, 48, 11, 44, 55, 4, 52, 38, 3, 60, 32, 53, 20, 58, 50, 0]\n",
      "[31, 30, 47, 2, 45, 40, 1, 46, 43, 10, 42, 34, 48, 11, 44, 55, 4, 52, 38, 3, 60, 32, 53, 20, 58, 50, 0, 63]\n",
      "[31, 30, 47, 2, 45, 40, 1, 46, 43, 10, 42, 34, 48, 11, 44, 55, 4, 52, 38, 3, 60, 32, 53, 20, 58, 50, 0, 63, 49]\n",
      "[31, 30, 47, 2, 45, 40, 1, 46, 43, 10, 42, 34, 48, 11, 44, 55, 4, 52, 38, 3, 60, 32, 53, 20, 58, 50, 0, 63, 49, 12]\n",
      "[31, 30, 47, 2, 45, 40, 1, 46, 43, 10, 42, 34, 48, 11, 44, 55, 4, 52, 38, 3, 60, 32, 53, 20, 58, 50, 0, 63, 49, 12, 54]\n",
      "[31, 30, 47, 2, 45, 40, 1, 46, 43, 10, 42, 34, 48, 11, 44, 55, 4, 52, 38, 3, 60, 32, 53, 20, 58, 50, 0, 63, 49, 12, 54, 51]\n",
      "[31, 30, 47, 2, 45, 40, 1, 46, 43, 10, 42, 34, 48, 11, 44, 55, 4, 52, 38, 3, 60, 32, 53, 20, 58, 50, 0, 63, 49, 12, 54, 51, 57]\n",
      "[31, 30, 47, 2, 45, 40, 1, 46, 43, 10, 42, 34, 48, 11, 44, 55, 4, 52, 38, 3, 60, 32, 53, 20, 58, 50, 0, 63, 49, 12, 54, 51, 57, 8]\n",
      "[31, 30, 47, 2, 45, 40, 1, 46, 43, 10, 42, 34, 48, 11, 44, 55, 4, 52, 38, 3, 60, 32, 53, 20, 58, 50, 0, 63, 49, 12, 54, 51, 57, 8, 36]\n",
      "[31, 30, 47, 2, 45, 40, 1, 46, 43, 10, 42, 34, 48, 11, 44, 55, 4, 52, 38, 3, 60, 32, 53, 20, 58, 50, 0, 63, 49, 12, 54, 51, 57, 8, 36, 62]\n",
      "[31, 30, 47, 2, 45, 40, 1, 46, 43, 10, 42, 34, 48, 11, 44, 55, 4, 52, 38, 3, 60, 32, 53, 20, 58, 50, 0, 63, 49, 12, 54, 51, 57, 8, 36, 62, 14]\n",
      "[31, 30, 47, 2, 45, 40, 1, 46, 43, 10, 42, 34, 48, 11, 44, 55, 4, 52, 38, 3, 60, 32, 53, 20, 58, 50, 0, 63, 49, 12, 54, 51, 57, 8, 36, 62, 14, 39]\n",
      "[31, 30, 47, 2, 45, 40, 1, 46, 43, 10, 42, 34, 48, 11, 44, 55, 4, 52, 38, 3, 60, 32, 53, 20, 58, 50, 0, 63, 49, 12, 54, 51, 57, 8, 36, 62, 14, 39, 69]\n",
      "[31, 30, 47, 2, 45, 40, 1, 46, 43, 10, 42, 34, 48, 11, 44, 55, 4, 52, 38, 3, 60, 32, 53, 20, 58, 50, 0, 63, 49, 12, 54, 51, 57, 8, 36, 62, 14, 39, 69, 7]\n",
      "[31, 30, 47, 2, 45, 40, 1, 46, 43, 10, 42, 34, 48, 11, 44, 55, 4, 52, 38, 3, 60, 32, 53, 20, 58, 50, 0, 63, 49, 12, 54, 51, 57, 8, 36, 62, 14, 39, 69, 7, 73]\n",
      "[31, 30, 47, 2, 45, 40, 1, 46, 43, 10, 42, 34, 48, 11, 44, 55, 4, 52, 38, 3, 60, 32, 53, 20, 58, 50, 0, 63, 49, 12, 54, 51, 57, 8, 36, 62, 14, 39, 69, 7, 73, 56]\n",
      "[31, 30, 47, 2, 45, 40, 1, 46, 43, 10, 42, 34, 48, 11, 44, 55, 4, 52, 38, 3, 60, 32, 53, 20, 58, 50, 0, 63, 49, 12, 54, 51, 57, 8, 36, 62, 14, 39, 69, 7, 73, 56, 37]\n",
      "[31, 30, 47, 2, 45, 40, 1, 46, 43, 10, 42, 34, 48, 11, 44, 55, 4, 52, 38, 3, 60, 32, 53, 20, 58, 50, 0, 63, 49, 12, 54, 51, 57, 8, 36, 62, 14, 39, 69, 7, 73, 56, 37, 24]\n",
      "[31, 30, 47, 2, 45, 40, 1, 46, 43, 10, 42, 34, 48, 11, 44, 55, 4, 52, 38, 3, 60, 32, 53, 20, 58, 50, 0, 63, 49, 12, 54, 51, 57, 8, 36, 62, 14, 39, 69, 7, 73, 56, 37, 24, 64]\n",
      "[31, 30, 47, 2, 45, 40, 1, 46, 43, 10, 42, 34, 48, 11, 44, 55, 4, 52, 38, 3, 60, 32, 53, 20, 58, 50, 0, 63, 49, 12, 54, 51, 57, 8, 36, 62, 14, 39, 69, 7, 73, 56, 37, 24, 64, 66]\n",
      "[31, 30, 47, 2, 45, 40, 1, 46, 43, 10, 42, 34, 48, 11, 44, 55, 4, 52, 38, 3, 60, 32, 53, 20, 58, 50, 0, 63, 49, 12, 54, 51, 57, 8, 36, 62, 14, 39, 69, 7, 73, 56, 37, 24, 64, 66, 9]\n",
      "[31, 30, 47, 2, 45, 40, 1, 46, 43, 10, 42, 34, 48, 11, 44, 55, 4, 52, 38, 3, 60, 32, 53, 20, 58, 50, 0, 63, 49, 12, 54, 51, 57, 8, 36, 62, 14, 39, 69, 7, 73, 56, 37, 24, 64, 66, 9, 35]\n",
      "[31, 30, 47, 2, 45, 40, 1, 46, 43, 10, 42, 34, 48, 11, 44, 55, 4, 52, 38, 3, 60, 32, 53, 20, 58, 50, 0, 63, 49, 12, 54, 51, 57, 8, 36, 62, 14, 39, 69, 7, 73, 56, 37, 24, 64, 66, 9, 35, 76]\n",
      "[31, 30, 47, 2, 45, 40, 1, 46, 43, 10, 42, 34, 48, 11, 44, 55, 4, 52, 38, 3, 60, 32, 53, 20, 58, 50, 0, 63, 49, 12, 54, 51, 57, 8, 36, 62, 14, 39, 69, 7, 73, 56, 37, 24, 64, 66, 9, 35, 76, 6]\n",
      "[31, 30, 47, 2, 45, 40, 1, 46, 43, 10, 42, 34, 48, 11, 44, 55, 4, 52, 38, 3, 60, 32, 53, 20, 58, 50, 0, 63, 49, 12, 54, 51, 57, 8, 36, 62, 14, 39, 69, 7, 73, 56, 37, 24, 64, 66, 9, 35, 76, 6, 70]\n",
      "[31, 30, 47, 2, 45, 40, 1, 46, 43, 10, 42, 34, 48, 11, 44, 55, 4, 52, 38, 3, 60, 32, 53, 20, 58, 50, 0, 63, 49, 12, 54, 51, 57, 8, 36, 62, 14, 39, 69, 7, 73, 56, 37, 24, 64, 66, 9, 35, 76, 6, 70, 65]\n",
      "[31, 30, 47, 2, 45, 40, 1, 46, 43, 10, 42, 34, 48, 11, 44, 55, 4, 52, 38, 3, 60, 32, 53, 20, 58, 50, 0, 63, 49, 12, 54, 51, 57, 8, 36, 62, 14, 39, 69, 7, 73, 56, 37, 24, 64, 66, 9, 35, 76, 6, 70, 65, 61]\n",
      "[31, 30, 47, 2, 45, 40, 1, 46, 43, 10, 42, 34, 48, 11, 44, 55, 4, 52, 38, 3, 60, 32, 53, 20, 58, 50, 0, 63, 49, 12, 54, 51, 57, 8, 36, 62, 14, 39, 69, 7, 73, 56, 37, 24, 64, 66, 9, 35, 76, 6, 70, 65, 61, 5]\n",
      "[31, 30, 47, 2, 45, 40, 1, 46, 43, 10, 42, 34, 48, 11, 44, 55, 4, 52, 38, 3, 60, 32, 53, 20, 58, 50, 0, 63, 49, 12, 54, 51, 57, 8, 36, 62, 14, 39, 69, 7, 73, 56, 37, 24, 64, 66, 9, 35, 76, 6, 70, 65, 61, 5, 33]\n",
      "[31, 30, 47, 2, 45, 40, 1, 46, 43, 10, 42, 34, 48, 11, 44, 55, 4, 52, 38, 3, 60, 32, 53, 20, 58, 50, 0, 63, 49, 12, 54, 51, 57, 8, 36, 62, 14, 39, 69, 7, 73, 56, 37, 24, 64, 66, 9, 35, 76, 6, 70, 65, 61, 5, 33, 41]\n",
      "[31, 30, 47, 2, 45, 40, 1, 46, 43, 10, 42, 34, 48, 11, 44, 55, 4, 52, 38, 3, 60, 32, 53, 20, 58, 50, 0, 63, 49, 12, 54, 51, 57, 8, 36, 62, 14, 39, 69, 7, 73, 56, 37, 24, 64, 66, 9, 35, 76, 6, 70, 65, 61, 5, 33, 41, 16]\n",
      "[31, 30, 47, 2, 45, 40, 1, 46, 43, 10, 42, 34, 48, 11, 44, 55, 4, 52, 38, 3, 60, 32, 53, 20, 58, 50, 0, 63, 49, 12, 54, 51, 57, 8, 36, 62, 14, 39, 69, 7, 73, 56, 37, 24, 64, 66, 9, 35, 76, 6, 70, 65, 61, 5, 33, 41, 16, 81]\n",
      "[31, 30, 47, 2, 45, 40, 1, 46, 43, 10, 42, 34, 48, 11, 44, 55, 4, 52, 38, 3, 60, 32, 53, 20, 58, 50, 0, 63, 49, 12, 54, 51, 57, 8, 36, 62, 14, 39, 69, 7, 73, 56, 37, 24, 64, 66, 9, 35, 76, 6, 70, 65, 61, 5, 33, 41, 16, 81, 77]\n",
      "[31, 30, 47, 2, 45, 40, 1, 46, 43, 10, 42, 34, 48, 11, 44, 55, 4, 52, 38, 3, 60, 32, 53, 20, 58, 50, 0, 63, 49, 12, 54, 51, 57, 8, 36, 62, 14, 39, 69, 7, 73, 56, 37, 24, 64, 66, 9, 35, 76, 6, 70, 65, 61, 5, 33, 41, 16, 81, 77, 13]\n",
      "[31, 30, 47, 2, 45, 40, 1, 46, 43, 10, 42, 34, 48, 11, 44, 55, 4, 52, 38, 3, 60, 32, 53, 20, 58, 50, 0, 63, 49, 12, 54, 51, 57, 8, 36, 62, 14, 39, 69, 7, 73, 56, 37, 24, 64, 66, 9, 35, 76, 6, 70, 65, 61, 5, 33, 41, 16, 81, 77, 13, 80]\n",
      "[31, 30, 47, 2, 45, 40, 1, 46, 43, 10, 42, 34, 48, 11, 44, 55, 4, 52, 38, 3, 60, 32, 53, 20, 58, 50, 0, 63, 49, 12, 54, 51, 57, 8, 36, 62, 14, 39, 69, 7, 73, 56, 37, 24, 64, 66, 9, 35, 76, 6, 70, 65, 61, 5, 33, 41, 16, 81, 77, 13, 80, 86]\n",
      "[31, 30, 47, 2, 45, 40, 1, 46, 43, 10, 42, 34, 48, 11, 44, 55, 4, 52, 38, 3, 60, 32, 53, 20, 58, 50, 0, 63, 49, 12, 54, 51, 57, 8, 36, 62, 14, 39, 69, 7, 73, 56, 37, 24, 64, 66, 9, 35, 76, 6, 70, 65, 61, 5, 33, 41, 16, 81, 77, 13, 80, 86, 68]\n",
      "[31, 30, 47, 2, 45, 40, 1, 46, 43, 10, 42, 34, 48, 11, 44, 55, 4, 52, 38, 3, 60, 32, 53, 20, 58, 50, 0, 63, 49, 12, 54, 51, 57, 8, 36, 62, 14, 39, 69, 7, 73, 56, 37, 24, 64, 66, 9, 35, 76, 6, 70, 65, 61, 5, 33, 41, 16, 81, 77, 13, 80, 86, 68, 15]\n",
      "[31, 30, 47, 2, 45, 40, 1, 46, 43, 10, 42, 34, 48, 11, 44, 55, 4, 52, 38, 3, 60, 32, 53, 20, 58, 50, 0, 63, 49, 12, 54, 51, 57, 8, 36, 62, 14, 39, 69, 7, 73, 56, 37, 24, 64, 66, 9, 35, 76, 6, 70, 65, 61, 5, 33, 41, 16, 81, 77, 13, 80, 86, 68, 15, 78]\n",
      "[31, 30, 47, 2, 45, 40, 1, 46, 43, 10, 42, 34, 48, 11, 44, 55, 4, 52, 38, 3, 60, 32, 53, 20, 58, 50, 0, 63, 49, 12, 54, 51, 57, 8, 36, 62, 14, 39, 69, 7, 73, 56, 37, 24, 64, 66, 9, 35, 76, 6, 70, 65, 61, 5, 33, 41, 16, 81, 77, 13, 80, 86, 68, 15, 78, 72]\n",
      "[31, 30, 47, 2, 45, 40, 1, 46, 43, 10, 42, 34, 48, 11, 44, 55, 4, 52, 38, 3, 60, 32, 53, 20, 58, 50, 0, 63, 49, 12, 54, 51, 57, 8, 36, 62, 14, 39, 69, 7, 73, 56, 37, 24, 64, 66, 9, 35, 76, 6, 70, 65, 61, 5, 33, 41, 16, 81, 77, 13, 80, 86, 68, 15, 78, 72, 29]\n",
      "[31, 30, 47, 2, 45, 40, 1, 46, 43, 10, 42, 34, 48, 11, 44, 55, 4, 52, 38, 3, 60, 32, 53, 20, 58, 50, 0, 63, 49, 12, 54, 51, 57, 8, 36, 62, 14, 39, 69, 7, 73, 56, 37, 24, 64, 66, 9, 35, 76, 6, 70, 65, 61, 5, 33, 41, 16, 81, 77, 13, 80, 86, 68, 15, 78, 72, 29, 93]\n",
      "[31, 30, 47, 2, 45, 40, 1, 46, 43, 10, 42, 34, 48, 11, 44, 55, 4, 52, 38, 3, 60, 32, 53, 20, 58, 50, 0, 63, 49, 12, 54, 51, 57, 8, 36, 62, 14, 39, 69, 7, 73, 56, 37, 24, 64, 66, 9, 35, 76, 6, 70, 65, 61, 5, 33, 41, 16, 81, 77, 13, 80, 86, 68, 15, 78, 72, 29, 93, 89]\n",
      "[31, 30, 47, 2, 45, 40, 1, 46, 43, 10, 42, 34, 48, 11, 44, 55, 4, 52, 38, 3, 60, 32, 53, 20, 58, 50, 0, 63, 49, 12, 54, 51, 57, 8, 36, 62, 14, 39, 69, 7, 73, 56, 37, 24, 64, 66, 9, 35, 76, 6, 70, 65, 61, 5, 33, 41, 16, 81, 77, 13, 80, 86, 68, 15, 78, 72, 29, 93, 89, 26]\n",
      "[31, 30, 47, 2, 45, 40, 1, 46, 43, 10, 42, 34, 48, 11, 44, 55, 4, 52, 38, 3, 60, 32, 53, 20, 58, 50, 0, 63, 49, 12, 54, 51, 57, 8, 36, 62, 14, 39, 69, 7, 73, 56, 37, 24, 64, 66, 9, 35, 76, 6, 70, 65, 61, 5, 33, 41, 16, 81, 77, 13, 80, 86, 68, 15, 78, 72, 29, 93, 89, 26, 74]\n",
      "[31, 30, 47, 2, 45, 40, 1, 46, 43, 10, 42, 34, 48, 11, 44, 55, 4, 52, 38, 3, 60, 32, 53, 20, 58, 50, 0, 63, 49, 12, 54, 51, 57, 8, 36, 62, 14, 39, 69, 7, 73, 56, 37, 24, 64, 66, 9, 35, 76, 6, 70, 65, 61, 5, 33, 41, 16, 81, 77, 13, 80, 86, 68, 15, 78, 72, 29, 93, 89, 26, 74, 75]\n",
      "[31, 30, 47, 2, 45, 40, 1, 46, 43, 10, 42, 34, 48, 11, 44, 55, 4, 52, 38, 3, 60, 32, 53, 20, 58, 50, 0, 63, 49, 12, 54, 51, 57, 8, 36, 62, 14, 39, 69, 7, 73, 56, 37, 24, 64, 66, 9, 35, 76, 6, 70, 65, 61, 5, 33, 41, 16, 81, 77, 13, 80, 86, 68, 15, 78, 72, 29, 93, 89, 26, 74, 75, 67]\n",
      "[31, 30, 47, 2, 45, 40, 1, 46, 43, 10, 42, 34, 48, 11, 44, 55, 4, 52, 38, 3, 60, 32, 53, 20, 58, 50, 0, 63, 49, 12, 54, 51, 57, 8, 36, 62, 14, 39, 69, 7, 73, 56, 37, 24, 64, 66, 9, 35, 76, 6, 70, 65, 61, 5, 33, 41, 16, 81, 77, 13, 80, 86, 68, 15, 78, 72, 29, 93, 89, 26, 74, 75, 67, 21]\n",
      "[31, 30, 47, 2, 45, 40, 1, 46, 43, 10, 42, 34, 48, 11, 44, 55, 4, 52, 38, 3, 60, 32, 53, 20, 58, 50, 0, 63, 49, 12, 54, 51, 57, 8, 36, 62, 14, 39, 69, 7, 73, 56, 37, 24, 64, 66, 9, 35, 76, 6, 70, 65, 61, 5, 33, 41, 16, 81, 77, 13, 80, 86, 68, 15, 78, 72, 29, 93, 89, 26, 74, 75, 67, 21, 92]\n",
      "[31, 30, 47, 2, 45, 40, 1, 46, 43, 10, 42, 34, 48, 11, 44, 55, 4, 52, 38, 3, 60, 32, 53, 20, 58, 50, 0, 63, 49, 12, 54, 51, 57, 8, 36, 62, 14, 39, 69, 7, 73, 56, 37, 24, 64, 66, 9, 35, 76, 6, 70, 65, 61, 5, 33, 41, 16, 81, 77, 13, 80, 86, 68, 15, 78, 72, 29, 93, 89, 26, 74, 75, 67, 21, 92, 84]\n",
      "[31, 30, 47, 2, 45, 40, 1, 46, 43, 10, 42, 34, 48, 11, 44, 55, 4, 52, 38, 3, 60, 32, 53, 20, 58, 50, 0, 63, 49, 12, 54, 51, 57, 8, 36, 62, 14, 39, 69, 7, 73, 56, 37, 24, 64, 66, 9, 35, 76, 6, 70, 65, 61, 5, 33, 41, 16, 81, 77, 13, 80, 86, 68, 15, 78, 72, 29, 93, 89, 26, 74, 75, 67, 21, 92, 84, 17]\n",
      "[31, 30, 47, 2, 45, 40, 1, 46, 43, 10, 42, 34, 48, 11, 44, 55, 4, 52, 38, 3, 60, 32, 53, 20, 58, 50, 0, 63, 49, 12, 54, 51, 57, 8, 36, 62, 14, 39, 69, 7, 73, 56, 37, 24, 64, 66, 9, 35, 76, 6, 70, 65, 61, 5, 33, 41, 16, 81, 77, 13, 80, 86, 68, 15, 78, 72, 29, 93, 89, 26, 74, 75, 67, 21, 92, 84, 17, 94]\n",
      "[31, 30, 47, 2, 45, 40, 1, 46, 43, 10, 42, 34, 48, 11, 44, 55, 4, 52, 38, 3, 60, 32, 53, 20, 58, 50, 0, 63, 49, 12, 54, 51, 57, 8, 36, 62, 14, 39, 69, 7, 73, 56, 37, 24, 64, 66, 9, 35, 76, 6, 70, 65, 61, 5, 33, 41, 16, 81, 77, 13, 80, 86, 68, 15, 78, 72, 29, 93, 89, 26, 74, 75, 67, 21, 92, 84, 17, 94, 82]\n",
      "[31, 30, 47, 2, 45, 40, 1, 46, 43, 10, 42, 34, 48, 11, 44, 55, 4, 52, 38, 3, 60, 32, 53, 20, 58, 50, 0, 63, 49, 12, 54, 51, 57, 8, 36, 62, 14, 39, 69, 7, 73, 56, 37, 24, 64, 66, 9, 35, 76, 6, 70, 65, 61, 5, 33, 41, 16, 81, 77, 13, 80, 86, 68, 15, 78, 72, 29, 93, 89, 26, 74, 75, 67, 21, 92, 84, 17, 94, 82, 19]\n",
      "[31, 30, 47, 2, 45, 40, 1, 46, 43, 10, 42, 34, 48, 11, 44, 55, 4, 52, 38, 3, 60, 32, 53, 20, 58, 50, 0, 63, 49, 12, 54, 51, 57, 8, 36, 62, 14, 39, 69, 7, 73, 56, 37, 24, 64, 66, 9, 35, 76, 6, 70, 65, 61, 5, 33, 41, 16, 81, 77, 13, 80, 86, 68, 15, 78, 72, 29, 93, 89, 26, 74, 75, 67, 21, 92, 84, 17, 94, 82, 19, 91]\n",
      "[31, 30, 47, 2, 45, 40, 1, 46, 43, 10, 42, 34, 48, 11, 44, 55, 4, 52, 38, 3, 60, 32, 53, 20, 58, 50, 0, 63, 49, 12, 54, 51, 57, 8, 36, 62, 14, 39, 69, 7, 73, 56, 37, 24, 64, 66, 9, 35, 76, 6, 70, 65, 61, 5, 33, 41, 16, 81, 77, 13, 80, 86, 68, 15, 78, 72, 29, 93, 89, 26, 74, 75, 67, 21, 92, 84, 17, 94, 82, 19, 91, 79]\n",
      "[31, 30, 47, 2, 45, 40, 1, 46, 43, 10, 42, 34, 48, 11, 44, 55, 4, 52, 38, 3, 60, 32, 53, 20, 58, 50, 0, 63, 49, 12, 54, 51, 57, 8, 36, 62, 14, 39, 69, 7, 73, 56, 37, 24, 64, 66, 9, 35, 76, 6, 70, 65, 61, 5, 33, 41, 16, 81, 77, 13, 80, 86, 68, 15, 78, 72, 29, 93, 89, 26, 74, 75, 67, 21, 92, 84, 17, 94, 82, 19, 91, 79, 88]\n",
      "[31, 30, 47, 2, 45, 40, 1, 46, 43, 10, 42, 34, 48, 11, 44, 55, 4, 52, 38, 3, 60, 32, 53, 20, 58, 50, 0, 63, 49, 12, 54, 51, 57, 8, 36, 62, 14, 39, 69, 7, 73, 56, 37, 24, 64, 66, 9, 35, 76, 6, 70, 65, 61, 5, 33, 41, 16, 81, 77, 13, 80, 86, 68, 15, 78, 72, 29, 93, 89, 26, 74, 75, 67, 21, 92, 84, 17, 94, 82, 19, 91, 79, 88, 23]\n",
      "[31, 30, 47, 2, 45, 40, 1, 46, 43, 10, 42, 34, 48, 11, 44, 55, 4, 52, 38, 3, 60, 32, 53, 20, 58, 50, 0, 63, 49, 12, 54, 51, 57, 8, 36, 62, 14, 39, 69, 7, 73, 56, 37, 24, 64, 66, 9, 35, 76, 6, 70, 65, 61, 5, 33, 41, 16, 81, 77, 13, 80, 86, 68, 15, 78, 72, 29, 93, 89, 26, 74, 75, 67, 21, 92, 84, 17, 94, 82, 19, 91, 79, 88, 23, 59]\n",
      "[31, 30, 47, 2, 45, 40, 1, 46, 43, 10, 42, 34, 48, 11, 44, 55, 4, 52, 38, 3, 60, 32, 53, 20, 58, 50, 0, 63, 49, 12, 54, 51, 57, 8, 36, 62, 14, 39, 69, 7, 73, 56, 37, 24, 64, 66, 9, 35, 76, 6, 70, 65, 61, 5, 33, 41, 16, 81, 77, 13, 80, 86, 68, 15, 78, 72, 29, 93, 89, 26, 74, 75, 67, 21, 92, 84, 17, 94, 82, 19, 91, 79, 88, 23, 59, 99]\n",
      "[31, 30, 47, 2, 45, 40, 1, 46, 43, 10, 42, 34, 48, 11, 44, 55, 4, 52, 38, 3, 60, 32, 53, 20, 58, 50, 0, 63, 49, 12, 54, 51, 57, 8, 36, 62, 14, 39, 69, 7, 73, 56, 37, 24, 64, 66, 9, 35, 76, 6, 70, 65, 61, 5, 33, 41, 16, 81, 77, 13, 80, 86, 68, 15, 78, 72, 29, 93, 89, 26, 74, 75, 67, 21, 92, 84, 17, 94, 82, 19, 91, 79, 88, 23, 59, 99, 18]\n",
      "[31, 30, 47, 2, 45, 40, 1, 46, 43, 10, 42, 34, 48, 11, 44, 55, 4, 52, 38, 3, 60, 32, 53, 20, 58, 50, 0, 63, 49, 12, 54, 51, 57, 8, 36, 62, 14, 39, 69, 7, 73, 56, 37, 24, 64, 66, 9, 35, 76, 6, 70, 65, 61, 5, 33, 41, 16, 81, 77, 13, 80, 86, 68, 15, 78, 72, 29, 93, 89, 26, 74, 75, 67, 21, 92, 84, 17, 94, 82, 19, 91, 79, 88, 23, 59, 99, 18, 83]\n",
      "[31, 30, 47, 2, 45, 40, 1, 46, 43, 10, 42, 34, 48, 11, 44, 55, 4, 52, 38, 3, 60, 32, 53, 20, 58, 50, 0, 63, 49, 12, 54, 51, 57, 8, 36, 62, 14, 39, 69, 7, 73, 56, 37, 24, 64, 66, 9, 35, 76, 6, 70, 65, 61, 5, 33, 41, 16, 81, 77, 13, 80, 86, 68, 15, 78, 72, 29, 93, 89, 26, 74, 75, 67, 21, 92, 84, 17, 94, 82, 19, 91, 79, 88, 23, 59, 99, 18, 83, 95]\n",
      "[31, 30, 47, 2, 45, 40, 1, 46, 43, 10, 42, 34, 48, 11, 44, 55, 4, 52, 38, 3, 60, 32, 53, 20, 58, 50, 0, 63, 49, 12, 54, 51, 57, 8, 36, 62, 14, 39, 69, 7, 73, 56, 37, 24, 64, 66, 9, 35, 76, 6, 70, 65, 61, 5, 33, 41, 16, 81, 77, 13, 80, 86, 68, 15, 78, 72, 29, 93, 89, 26, 74, 75, 67, 21, 92, 84, 17, 94, 82, 19, 91, 79, 88, 23, 59, 99, 18, 83, 95, 22]\n",
      "[31, 30, 47, 2, 45, 40, 1, 46, 43, 10, 42, 34, 48, 11, 44, 55, 4, 52, 38, 3, 60, 32, 53, 20, 58, 50, 0, 63, 49, 12, 54, 51, 57, 8, 36, 62, 14, 39, 69, 7, 73, 56, 37, 24, 64, 66, 9, 35, 76, 6, 70, 65, 61, 5, 33, 41, 16, 81, 77, 13, 80, 86, 68, 15, 78, 72, 29, 93, 89, 26, 74, 75, 67, 21, 92, 84, 17, 94, 82, 19, 91, 79, 88, 23, 59, 99, 18, 83, 95, 22, 85]\n",
      "[31, 30, 47, 2, 45, 40, 1, 46, 43, 10, 42, 34, 48, 11, 44, 55, 4, 52, 38, 3, 60, 32, 53, 20, 58, 50, 0, 63, 49, 12, 54, 51, 57, 8, 36, 62, 14, 39, 69, 7, 73, 56, 37, 24, 64, 66, 9, 35, 76, 6, 70, 65, 61, 5, 33, 41, 16, 81, 77, 13, 80, 86, 68, 15, 78, 72, 29, 93, 89, 26, 74, 75, 67, 21, 92, 84, 17, 94, 82, 19, 91, 79, 88, 23, 59, 99, 18, 83, 95, 22, 85, 98]\n",
      "[31, 30, 47, 2, 45, 40, 1, 46, 43, 10, 42, 34, 48, 11, 44, 55, 4, 52, 38, 3, 60, 32, 53, 20, 58, 50, 0, 63, 49, 12, 54, 51, 57, 8, 36, 62, 14, 39, 69, 7, 73, 56, 37, 24, 64, 66, 9, 35, 76, 6, 70, 65, 61, 5, 33, 41, 16, 81, 77, 13, 80, 86, 68, 15, 78, 72, 29, 93, 89, 26, 74, 75, 67, 21, 92, 84, 17, 94, 82, 19, 91, 79, 88, 23, 59, 99, 18, 83, 95, 22, 85, 98, 96]\n",
      "[31, 30, 47, 2, 45, 40, 1, 46, 43, 10, 42, 34, 48, 11, 44, 55, 4, 52, 38, 3, 60, 32, 53, 20, 58, 50, 0, 63, 49, 12, 54, 51, 57, 8, 36, 62, 14, 39, 69, 7, 73, 56, 37, 24, 64, 66, 9, 35, 76, 6, 70, 65, 61, 5, 33, 41, 16, 81, 77, 13, 80, 86, 68, 15, 78, 72, 29, 93, 89, 26, 74, 75, 67, 21, 92, 84, 17, 94, 82, 19, 91, 79, 88, 23, 59, 99, 18, 83, 95, 22, 85, 98, 96, 25]\n",
      "[31, 30, 47, 2, 45, 40, 1, 46, 43, 10, 42, 34, 48, 11, 44, 55, 4, 52, 38, 3, 60, 32, 53, 20, 58, 50, 0, 63, 49, 12, 54, 51, 57, 8, 36, 62, 14, 39, 69, 7, 73, 56, 37, 24, 64, 66, 9, 35, 76, 6, 70, 65, 61, 5, 33, 41, 16, 81, 77, 13, 80, 86, 68, 15, 78, 72, 29, 93, 89, 26, 74, 75, 67, 21, 92, 84, 17, 94, 82, 19, 91, 79, 88, 23, 59, 99, 18, 83, 95, 22, 85, 98, 96, 25, 90]\n",
      "[31, 30, 47, 2, 45, 40, 1, 46, 43, 10, 42, 34, 48, 11, 44, 55, 4, 52, 38, 3, 60, 32, 53, 20, 58, 50, 0, 63, 49, 12, 54, 51, 57, 8, 36, 62, 14, 39, 69, 7, 73, 56, 37, 24, 64, 66, 9, 35, 76, 6, 70, 65, 61, 5, 33, 41, 16, 81, 77, 13, 80, 86, 68, 15, 78, 72, 29, 93, 89, 26, 74, 75, 67, 21, 92, 84, 17, 94, 82, 19, 91, 79, 88, 23, 59, 99, 18, 83, 95, 22, 85, 98, 96, 25, 90, 87]\n",
      "[31, 30, 47, 2, 45, 40, 1, 46, 43, 10, 42, 34, 48, 11, 44, 55, 4, 52, 38, 3, 60, 32, 53, 20, 58, 50, 0, 63, 49, 12, 54, 51, 57, 8, 36, 62, 14, 39, 69, 7, 73, 56, 37, 24, 64, 66, 9, 35, 76, 6, 70, 65, 61, 5, 33, 41, 16, 81, 77, 13, 80, 86, 68, 15, 78, 72, 29, 93, 89, 26, 74, 75, 67, 21, 92, 84, 17, 94, 82, 19, 91, 79, 88, 23, 59, 99, 18, 83, 95, 22, 85, 98, 96, 25, 90, 87, 28]\n",
      "[31, 30, 47, 2, 45, 40, 1, 46, 43, 10, 42, 34, 48, 11, 44, 55, 4, 52, 38, 3, 60, 32, 53, 20, 58, 50, 0, 63, 49, 12, 54, 51, 57, 8, 36, 62, 14, 39, 69, 7, 73, 56, 37, 24, 64, 66, 9, 35, 76, 6, 70, 65, 61, 5, 33, 41, 16, 81, 77, 13, 80, 86, 68, 15, 78, 72, 29, 93, 89, 26, 74, 75, 67, 21, 92, 84, 17, 94, 82, 19, 91, 79, 88, 23, 59, 99, 18, 83, 95, 22, 85, 98, 96, 25, 90, 87, 28, 71]\n",
      "[31, 30, 47, 2, 45, 40, 1, 46, 43, 10, 42, 34, 48, 11, 44, 55, 4, 52, 38, 3, 60, 32, 53, 20, 58, 50, 0, 63, 49, 12, 54, 51, 57, 8, 36, 62, 14, 39, 69, 7, 73, 56, 37, 24, 64, 66, 9, 35, 76, 6, 70, 65, 61, 5, 33, 41, 16, 81, 77, 13, 80, 86, 68, 15, 78, 72, 29, 93, 89, 26, 74, 75, 67, 21, 92, 84, 17, 94, 82, 19, 91, 79, 88, 23, 59, 99, 18, 83, 95, 22, 85, 98, 96, 25, 90, 87, 28, 71, 97]\n",
      "[31, 30, 47, 2, 45, 40, 1, 46, 43, 10, 42, 34, 48, 11, 44, 55, 4, 52, 38, 3, 60, 32, 53, 20, 58, 50, 0, 63, 49, 12, 54, 51, 57, 8, 36, 62, 14, 39, 69, 7, 73, 56, 37, 24, 64, 66, 9, 35, 76, 6, 70, 65, 61, 5, 33, 41, 16, 81, 77, 13, 80, 86, 68, 15, 78, 72, 29, 93, 89, 26, 74, 75, 67, 21, 92, 84, 17, 94, 82, 19, 91, 79, 88, 23, 59, 99, 18, 83, 95, 22, 85, 98, 96, 25, 90, 87, 28, 71, 97, 27]\n"
     ]
    },
    {
     "data": {
      "text/plain": "([31,\n  30,\n  47,\n  2,\n  45,\n  40,\n  1,\n  46,\n  43,\n  10,\n  42,\n  34,\n  48,\n  11,\n  44,\n  55,\n  4,\n  52,\n  38,\n  3,\n  60,\n  32,\n  53,\n  20,\n  58,\n  50,\n  0,\n  63,\n  49,\n  12,\n  54,\n  51,\n  57,\n  8,\n  36,\n  62,\n  14,\n  39,\n  69,\n  7,\n  73,\n  56,\n  37,\n  24,\n  64,\n  66,\n  9,\n  35,\n  76,\n  6,\n  70,\n  65,\n  61,\n  5,\n  33,\n  41,\n  16,\n  81,\n  77,\n  13,\n  80,\n  86,\n  68,\n  15,\n  78,\n  72,\n  29,\n  93,\n  89,\n  26,\n  74,\n  75,\n  67,\n  21,\n  92,\n  84,\n  17,\n  94,\n  82,\n  19,\n  91,\n  79,\n  88,\n  23,\n  59,\n  99,\n  18,\n  83,\n  95,\n  22,\n  85,\n  98,\n  96,\n  25,\n  90,\n  87,\n  28,\n  71,\n  97,\n  27],\n array([26.,  6.,  3., 19., 16., 53., 49., 39., 33., 46.,  9., 13., 29.,\n        59., 36., 63., 56., 76., 86., 79., 23., 73., 89., 83., 43., 93.,\n        69., 99., 96., 66.,  1.,  0., 21., 54., 11., 47., 34., 42., 18.,\n        37.,  5., 55., 10.,  8., 14.,  4.,  7.,  2., 12., 28., 25., 31.,\n        17., 22., 30., 15., 41., 32., 24., 84., 20., 52., 35., 27., 44.,\n        51., 45., 72., 62., 38., 50., 97., 65., 40., 70., 71., 48., 58.,\n        64., 81., 60., 57., 78., 87., 75., 90., 61., 95., 82., 68., 94.,\n        80., 74., 67., 77., 88., 92., 98., 91., 85.]))"
     },
     "execution_count": 13,
     "metadata": {},
     "output_type": "execute_result"
    }
   ],
   "source": [
    "fair_agg_ranking_permutation_1=ul.GrBinaryIPF(agg_ranking_permutation_1,attribute[:,1])\n",
    "fair_agg_ranking_1=np.zeros(len(fair_agg_ranking_permutation_1))\n",
    "for i in range(len(fair_agg_ranking_permutation_1)):\n",
    "    fair_agg_ranking_1[fair_agg_ranking_permutation_1[i]]=i\n",
    "fair_agg_ranking_permutation_1,fair_agg_ranking_1"
   ],
   "metadata": {
    "collapsed": false,
    "ExecuteTime": {
     "end_time": "2023-11-29T21:01:07.186777800Z",
     "start_time": "2023-11-29T21:01:07.148635300Z"
    }
   },
   "id": "27bd438c5da38921"
  },
  {
   "cell_type": "code",
   "execution_count": 14,
   "outputs": [
    {
     "data": {
      "text/plain": "22568"
     },
     "execution_count": 14,
     "metadata": {},
     "output_type": "execute_result"
    }
   ],
   "source": [
    "fair_agg_ranking_distance_0=ul.kemeny_dist(rankings,fair_agg_ranking_0)\n",
    "fair_agg_ranking_distance_0"
   ],
   "metadata": {
    "collapsed": false,
    "ExecuteTime": {
     "end_time": "2023-11-29T21:01:08.294781900Z",
     "start_time": "2023-11-29T21:01:08.125718900Z"
    }
   },
   "id": "b13e2fe52e8cdb0c"
  },
  {
   "cell_type": "code",
   "execution_count": 15,
   "outputs": [
    {
     "data": {
      "text/plain": "22472"
     },
     "execution_count": 15,
     "metadata": {},
     "output_type": "execute_result"
    }
   ],
   "source": [
    "fair_agg_ranking_distance_1=ul.kemeny_dist(rankings,fair_agg_ranking_1)\n",
    "fair_agg_ranking_distance_1"
   ],
   "metadata": {
    "collapsed": false,
    "ExecuteTime": {
     "end_time": "2023-11-29T21:01:09.488169100Z",
     "start_time": "2023-11-29T21:01:09.301931400Z"
    }
   },
   "id": "989a639992b95e0f"
  },
  {
   "cell_type": "code",
   "execution_count": 88,
   "outputs": [
    {
     "data": {
      "text/plain": "0.04380952380952381"
     },
     "execution_count": 88,
     "metadata": {},
     "output_type": "execute_result"
    }
   ],
   "source": [
    "fair_agg_ranking_0_m=np.c_[np.arange(30),fair_agg_ranking_0[:30]]\n",
    "fair_agg_ranking_0_w=np.c_[np.arange(30,100),fair_agg_ranking_0[30:]]\n",
    "parity_fair_agg_ranking_0=metrics.pairwise_statistical_parity(fair_agg_ranking_0_m,fair_agg_ranking_0_w)\n",
    "parity_fair_agg_ranking_0"
   ],
   "metadata": {
    "collapsed": false,
    "ExecuteTime": {
     "end_time": "2023-11-29T20:50:19.271722Z",
     "start_time": "2023-11-29T20:50:19.242483800Z"
    }
   },
   "id": "6a38dddfabcdfc6e"
  },
  {
   "cell_type": "code",
   "execution_count": 89,
   "outputs": [
    {
     "data": {
      "text/plain": "-0.04285714285714286"
     },
     "execution_count": 89,
     "metadata": {},
     "output_type": "execute_result"
    }
   ],
   "source": [
    "fair_agg_ranking_1_m=np.c_[np.arange(30),fair_agg_ranking_1[:30]]\n",
    "fair_agg_ranking_1_w=np.c_[np.arange(30,100),fair_agg_ranking_1[30:]]\n",
    "parity_fair_agg_ranking_1=metrics.pairwise_statistical_parity(fair_agg_ranking_1_m,fair_agg_ranking_1_w)\n",
    "parity_fair_agg_ranking_1"
   ],
   "metadata": {
    "collapsed": false,
    "ExecuteTime": {
     "end_time": "2023-11-29T20:50:20.216070200Z",
     "start_time": "2023-11-29T20:50:20.183965700Z"
    }
   },
   "id": "c2778885e989e817"
  },
  {
   "cell_type": "code",
   "execution_count": 90,
   "outputs": [
    {
     "name": "stdout",
     "output_type": "stream",
     "text": [
      "['ranker', 1, True]\n",
      "['ranker', 2, False]\n",
      "['ranker', 3, False]\n",
      "['ranker', 4, False]\n",
      "['ranker', 5, False]\n",
      "['ranker', 6, False]\n",
      "['ranker', 7, False]\n",
      "['ranker', 8, False]\n",
      "['ranker', 9, False]\n",
      "['ranker', 10, False]\n",
      "['ranker', 11, False]\n",
      "['ranker', 12, False]\n",
      "['ranker', 13, False]\n",
      "['ranker', 14, False]\n",
      "['ranker', 15, False]\n",
      "['ranker', 16, False]\n",
      "['ranker', 17, False]\n",
      "['ranker', 18, False]\n",
      "['ranker', 19, False]\n",
      "['ranker', 20, False]\n",
      "['ranker', 21, False]\n",
      "['ranker', 22, False]\n",
      "['ranker', 23, False]\n",
      "['ranker', 24, False]\n",
      "['ranker', 25, False]\n",
      "['ranker', 26, False]\n",
      "['ranker', 27, False]\n",
      "['ranker', 28, False]\n",
      "['ranker', 29, False]\n",
      "['ranker', 30, False]\n",
      "['ranker', 31, False]\n",
      "['ranker', 32, False]\n",
      "['ranker', 33, False]\n",
      "['ranker', 34, False]\n",
      "['ranker', 35, False]\n",
      "['ranker', 36, False]\n",
      "['ranker', 37, False]\n",
      "['ranker', 38, False]\n",
      "['ranker', 39, False]\n",
      "['ranker', 40, False]\n",
      "['ranker', 41, False]\n",
      "['ranker', 42, False]\n",
      "['ranker', 43, False]\n",
      "['ranker', 44, False]\n",
      "['ranker', 45, False]\n",
      "['ranker', 46, False]\n",
      "['ranker', 47, False]\n",
      "['ranker', 48, False]\n",
      "['ranker', 49, False]\n",
      "['ranker', 50, False]\n",
      "['ranker', 51, False]\n",
      "['ranker', 52, False]\n",
      "['ranker', 53, False]\n",
      "['ranker', 54, False]\n",
      "['ranker', 55, False]\n",
      "['ranker', 56, False]\n",
      "['ranker', 57, False]\n",
      "['ranker', 58, False]\n",
      "['ranker', 59, False]\n",
      "['ranker', 60, False]\n",
      "['ranker', 61, False]\n",
      "['ranker', 62, False]\n",
      "['ranker', 63, False]\n",
      "['ranker', 64, False]\n",
      "['ranker', 65, False]\n",
      "['ranker', 66, False]\n",
      "['ranker', 67, False]\n",
      "['ranker', 68, False]\n",
      "['ranker', 69, False]\n",
      "['ranker', 70, False]\n",
      "['ranker', 71, False]\n",
      "['ranker', 72, False]\n",
      "['ranker', 73, False]\n",
      "['ranker', 74, False]\n",
      "['ranker', 75, False]\n",
      "['ranker', 76, False]\n",
      "['ranker', 77, False]\n",
      "['ranker', 78, False]\n",
      "['ranker', 79, False]\n",
      "['ranker', 80, False]\n",
      "['ranker', 81, False]\n",
      "['ranker', 82, False]\n",
      "['ranker', 83, False]\n",
      "['ranker', 84, False]\n",
      "['ranker', 85, False]\n",
      "['ranker', 86, False]\n",
      "['ranker', 87, False]\n",
      "['ranker', 88, False]\n",
      "['ranker', 89, False]\n",
      "['ranker', 90, False]\n",
      "['ranker', 91, False]\n",
      "['ranker', 92, False]\n",
      "['ranker', 93, False]\n",
      "['ranker', 94, False]\n",
      "['ranker', 95, False]\n",
      "['ranker', 96, False]\n",
      "['ranker', 97, True]\n",
      "['ranker', 98, True]\n",
      "['ranker', 99, True]\n"
     ]
    }
   ],
   "source": [
    "agg_ranking_0_satisfied_array=[]\n",
    "k_threshold=threshold\n",
    "for k in range(1,100):\n",
    "    agg_ranking_0_k =pd.DataFrame(columns=['id', 'ranker'])\n",
    "    agg_ranking_0_k[\"id\"]=np.arange(0,100,1)\n",
    "    agg_ranking_0_k[\"ranker\"]=agg_ranking_0\n",
    "    agg_ranking_0_k_m =agg_ranking_0_k.head(30).to_numpy()\n",
    "    agg_ranking_0_k_w =agg_ranking_0_k.tail(70).to_numpy()\n",
    "    agg_ranking_0_k_groups=np.array([agg_ranking_0_k_m,agg_ranking_0_k_w], dtype=object)\n",
    "    agg_ranking_0_k_satisfied=metrics.top_k_parity(agg_ranking_0_k_groups,k,k_threshold )\n",
    "    print([\"ranker\",k,agg_ranking_0_k_satisfied])\n",
    "    agg_ranking_0_satisfied_array.append([\"ranker\",k,agg_ranking_0_k_satisfied])\n"
   ],
   "metadata": {
    "collapsed": false,
    "ExecuteTime": {
     "end_time": "2023-11-29T20:50:26.564083500Z",
     "start_time": "2023-11-29T20:50:26.416255300Z"
    }
   },
   "id": "4872eaeac48594d8"
  },
  {
   "cell_type": "code",
   "execution_count": 91,
   "outputs": [
    {
     "data": {
      "text/plain": "[['ranker', 1, True],\n ['ranker', 2, False],\n ['ranker', 3, False],\n ['ranker', 4, False],\n ['ranker', 5, False],\n ['ranker', 6, False],\n ['ranker', 7, False],\n ['ranker', 8, False],\n ['ranker', 9, False],\n ['ranker', 10, False],\n ['ranker', 11, False],\n ['ranker', 12, False],\n ['ranker', 13, False],\n ['ranker', 14, False],\n ['ranker', 15, False],\n ['ranker', 16, False],\n ['ranker', 17, False],\n ['ranker', 18, False],\n ['ranker', 19, False],\n ['ranker', 20, False],\n ['ranker', 21, False],\n ['ranker', 22, False],\n ['ranker', 23, False],\n ['ranker', 24, False],\n ['ranker', 25, False],\n ['ranker', 26, False],\n ['ranker', 27, False],\n ['ranker', 28, False],\n ['ranker', 29, False],\n ['ranker', 30, False],\n ['ranker', 31, False],\n ['ranker', 32, False],\n ['ranker', 33, False],\n ['ranker', 34, False],\n ['ranker', 35, False],\n ['ranker', 36, False],\n ['ranker', 37, False],\n ['ranker', 38, False],\n ['ranker', 39, False],\n ['ranker', 40, False],\n ['ranker', 41, False],\n ['ranker', 42, False],\n ['ranker', 43, False],\n ['ranker', 44, False],\n ['ranker', 45, False],\n ['ranker', 46, False],\n ['ranker', 47, False],\n ['ranker', 48, False],\n ['ranker', 49, False],\n ['ranker', 50, False],\n ['ranker', 51, False],\n ['ranker', 52, False],\n ['ranker', 53, False],\n ['ranker', 54, False],\n ['ranker', 55, False],\n ['ranker', 56, False],\n ['ranker', 57, False],\n ['ranker', 58, False],\n ['ranker', 59, False],\n ['ranker', 60, False],\n ['ranker', 61, False],\n ['ranker', 62, False],\n ['ranker', 63, False],\n ['ranker', 64, False],\n ['ranker', 65, False],\n ['ranker', 66, False],\n ['ranker', 67, False],\n ['ranker', 68, False],\n ['ranker', 69, False],\n ['ranker', 70, False],\n ['ranker', 71, False],\n ['ranker', 72, False],\n ['ranker', 73, False],\n ['ranker', 74, False],\n ['ranker', 75, False],\n ['ranker', 76, False],\n ['ranker', 77, False],\n ['ranker', 78, False],\n ['ranker', 79, False],\n ['ranker', 80, False],\n ['ranker', 81, False],\n ['ranker', 82, False],\n ['ranker', 83, False],\n ['ranker', 84, False],\n ['ranker', 85, False],\n ['ranker', 86, False],\n ['ranker', 87, False],\n ['ranker', 88, False],\n ['ranker', 89, False],\n ['ranker', 90, False],\n ['ranker', 91, False],\n ['ranker', 92, False],\n ['ranker', 93, False],\n ['ranker', 94, False],\n ['ranker', 95, False],\n ['ranker', 96, False],\n ['ranker', 97, True],\n ['ranker', 98, True],\n ['ranker', 99, True]]"
     },
     "execution_count": 91,
     "metadata": {},
     "output_type": "execute_result"
    }
   ],
   "source": [
    "agg_ranking_0_satisfied_array"
   ],
   "metadata": {
    "collapsed": false,
    "ExecuteTime": {
     "end_time": "2023-11-29T20:50:27.684997Z",
     "start_time": "2023-11-29T20:50:27.632298900Z"
    }
   },
   "id": "fca963029b8defaa"
  },
  {
   "cell_type": "code",
   "execution_count": 92,
   "outputs": [
    {
     "data": {
      "text/plain": "(37124,)"
     },
     "execution_count": 92,
     "metadata": {},
     "output_type": "execute_result"
    }
   ],
   "source": [
    "t0=time()\n",
    "kemeny_dist_0=ul.kemeny_dist(rankings,agg_ranking_0)\n",
    "##kemeny_dist_1=ul.kemeny_dist(rankings,agg_ranking_1)\n",
    "\n",
    "kemeny_dist_0,#kemeny_dist_1"
   ],
   "metadata": {
    "collapsed": false,
    "ExecuteTime": {
     "end_time": "2023-11-29T20:50:28.635403Z",
     "start_time": "2023-11-29T20:50:28.475384600Z"
    }
   },
   "id": "f4cb380833c55f87"
  },
  {
   "cell_type": "code",
   "execution_count": 22,
   "outputs": [],
   "source": [],
   "metadata": {
    "collapsed": false,
    "ExecuteTime": {
     "end_time": "2023-11-22T00:38:30.579112500Z",
     "start_time": "2023-11-22T00:38:30.555104900Z"
    }
   },
   "id": "48f37c4424c4920f"
  },
  {
   "cell_type": "code",
   "execution_count": 22,
   "outputs": [],
   "source": [],
   "metadata": {
    "collapsed": false,
    "ExecuteTime": {
     "end_time": "2023-11-22T00:38:30.824351Z",
     "start_time": "2023-11-22T00:38:30.800345300Z"
    }
   },
   "id": "ca472d44a76ecf2d"
  },
  {
   "cell_type": "code",
   "execution_count": 17,
   "outputs": [
    {
     "ename": "NameError",
     "evalue": "name 'agg_ranking_0' is not defined",
     "output_type": "error",
     "traceback": [
      "\u001B[1;31m---------------------------------------------------------------------------\u001B[0m",
      "\u001B[1;31mNameError\u001B[0m                                 Traceback (most recent call last)",
      "Cell \u001B[1;32mIn[17], line 1\u001B[0m\n\u001B[1;32m----> 1\u001B[0m ranking_mc_0_m\u001B[38;5;241m=\u001B[39mnp\u001B[38;5;241m.\u001B[39mc_[np\u001B[38;5;241m.\u001B[39marange(\u001B[38;5;241m30\u001B[39m),agg_ranking_0[:\u001B[38;5;241m30\u001B[39m]]\n\u001B[0;32m      2\u001B[0m ranking_mc_0_w\u001B[38;5;241m=\u001B[39mnp\u001B[38;5;241m.\u001B[39mc_[np\u001B[38;5;241m.\u001B[39marange(\u001B[38;5;241m30\u001B[39m,\u001B[38;5;241m100\u001B[39m),agg_ranking_0[\u001B[38;5;241m30\u001B[39m:]]\n\u001B[0;32m      3\u001B[0m \u001B[38;5;66;03m#ranking_mc_1_m=np.c_[np.arange(30),agg_ranking_1[:30]]\u001B[39;00m\n\u001B[0;32m      4\u001B[0m \u001B[38;5;66;03m#ranking_mc_1_w=np.c_[np.arange(30,100),agg_ranking_1[30:]]\u001B[39;00m\n",
      "\u001B[1;31mNameError\u001B[0m: name 'agg_ranking_0' is not defined"
     ]
    }
   ],
   "source": [
    "ranking_mc_0_m=np.c_[np.arange(30),agg_ranking_0[:30]]\n",
    "ranking_mc_0_w=np.c_[np.arange(30,100),agg_ranking_0[30:]]\n",
    "#ranking_mc_1_m=np.c_[np.arange(30),agg_ranking_1[:30]]\n",
    "#ranking_mc_1_w=np.c_[np.arange(30,100),agg_ranking_1[30:]]\n",
    "ranking_mc_0_m,ranking_mc_0_w,#ranking_mc_1_m,#ranking_mc_1_w"
   ],
   "metadata": {
    "collapsed": false,
    "ExecuteTime": {
     "end_time": "2023-11-29T19:40:37.471632600Z",
     "start_time": "2023-11-29T19:40:37.411781700Z"
    }
   },
   "id": "33e2e31d9146853d"
  },
  {
   "cell_type": "code",
   "execution_count": 24,
   "outputs": [
    {
     "data": {
      "text/plain": "(-0.38285714285714284,)"
     },
     "execution_count": 24,
     "metadata": {},
     "output_type": "execute_result"
    }
   ],
   "source": [
    "\n",
    "\n",
    "parity_mc_0=metrics.pairwise_statistical_parity(ranking_mc_0_m,ranking_mc_0_w)\n",
    "parity_mc_0,"
   ],
   "metadata": {
    "collapsed": false,
    "ExecuteTime": {
     "end_time": "2023-11-22T00:38:34.464110Z",
     "start_time": "2023-11-22T00:38:34.413244400Z"
    }
   },
   "id": "6076af817e04d5c5"
  },
  {
   "cell_type": "code",
   "execution_count": 8,
   "outputs": [],
   "source": [
    "n_voter,n_candidate=rankings.shape"
   ],
   "metadata": {
    "collapsed": false,
    "ExecuteTime": {
     "end_time": "2023-11-22T14:11:57.600035100Z",
     "start_time": "2023-11-22T14:11:57.572028Z"
    }
   },
   "id": "d542a0f88f0e0951"
  },
  {
   "cell_type": "code",
   "execution_count": 26,
   "outputs": [
    {
     "name": "stdout",
     "output_type": "stream",
     "text": [
      "Set parameter Username\n",
      "Academic license - for non-commercial use only - expires 2024-11-13\n",
      "1\n",
      "2\n",
      "3\n",
      "4\n",
      "5\n"
     ]
    }
   ],
   "source": [
    "kemeny_ranking=ul.aggregate_kemeny(n_voter,n_candidate,rankings)"
   ],
   "metadata": {
    "collapsed": false,
    "ExecuteTime": {
     "end_time": "2023-11-22T00:39:08.052236600Z",
     "start_time": "2023-11-22T00:38:35.831325700Z"
    }
   },
   "id": "9a0343295bb9a94f"
  },
  {
   "cell_type": "code",
   "execution_count": 27,
   "outputs": [
    {
     "data": {
      "text/plain": "(array([68.,  0.,  2., 73., 75., 76., 77., 78., 79., 80.,  4.,  5., 81.,\n        82., 83., 85., 86., 87., 88., 89.,  6., 90., 91., 92., 93., 94.,\n        95., 96., 97., 98.,  1.,  3.,  7.,  8.,  9., 10., 11., 12., 13.,\n        14., 15., 22., 16., 17., 18., 19., 20., 21., 23., 24., 25., 26.,\n        27., 28., 29., 30., 31., 32., 33., 34., 35., 36., 37., 38., 39.,\n        40., 41., 42., 43., 44., 45., 99., 46., 47., 48., 49., 50., 51.,\n        52., 53., 54., 55., 56., 57., 58., 59., 60., 61., 62., 63., 64.,\n        65., 66., 67., 69., 70., 71., 84., 72., 74.]),\n 10.413635492324829)"
     },
     "execution_count": 27,
     "metadata": {},
     "output_type": "execute_result"
    }
   ],
   "source": [
    "\n",
    "kemeny_ranking_gurobi=kemeny_ranking\n",
    "kemeny_ranking_gurobi"
   ],
   "metadata": {
    "collapsed": false,
    "ExecuteTime": {
     "end_time": "2023-11-22T00:39:30.346291500Z",
     "start_time": "2023-11-22T00:39:30.312912200Z"
    }
   },
   "id": "65a707961dad4738"
  },
  {
   "cell_type": "code",
   "execution_count": 28,
   "outputs": [
    {
     "data": {
      "text/plain": "20680"
     },
     "execution_count": 28,
     "metadata": {},
     "output_type": "execute_result"
    }
   ],
   "source": [
    "kemeny_dist_gurobi=ul.kemeny_dist(rankings,kemeny_ranking[0])\n",
    "kemeny_dist_gurobi"
   ],
   "metadata": {
    "collapsed": false,
    "ExecuteTime": {
     "end_time": "2023-11-22T00:39:31.324631800Z",
     "start_time": "2023-11-22T00:39:31.038541800Z"
    }
   },
   "id": "3ec31d4e810644c7"
  },
  {
   "cell_type": "code",
   "execution_count": 29,
   "outputs": [
    {
     "data": {
      "text/plain": "-0.6333333333333333"
     },
     "execution_count": 29,
     "metadata": {},
     "output_type": "execute_result"
    }
   ],
   "source": [
    "kemeny_ranking_gurobi_m=np.c_[np.arange(30),kemeny_ranking_gurobi[0][:30]]\n",
    "kemeny_ranking_gurobi_w=np.c_[np.arange(30,100),kemeny_ranking_gurobi[0][30:]]\n",
    "parity_kemeny_ranking_gurobi=metrics.pairwise_statistical_parity(kemeny_ranking_gurobi_m,kemeny_ranking_gurobi_w)\n",
    "parity_kemeny_ranking_gurobi"
   ],
   "metadata": {
    "collapsed": false,
    "ExecuteTime": {
     "end_time": "2023-11-22T00:39:32.093062900Z",
     "start_time": "2023-11-22T00:39:32.066510Z"
    }
   },
   "id": "a6bebeb16beaaa73"
  },
  {
   "cell_type": "code",
   "execution_count": 29,
   "outputs": [],
   "source": [],
   "metadata": {
    "collapsed": false,
    "ExecuteTime": {
     "end_time": "2023-11-22T00:39:32.462863800Z",
     "start_time": "2023-11-22T00:39:32.424867600Z"
    }
   },
   "id": "8346f8f0a38316a8"
  },
  {
   "cell_type": "code",
   "execution_count": 29,
   "outputs": [],
   "source": [],
   "metadata": {
    "collapsed": false,
    "ExecuteTime": {
     "end_time": "2023-11-22T00:39:33.075946500Z",
     "start_time": "2023-11-22T00:39:33.044946600Z"
    }
   },
   "id": "e5dd3a0c888657e3"
  },
  {
   "cell_type": "code",
   "execution_count": null,
   "outputs": [],
   "source": [],
   "metadata": {
    "collapsed": false
   },
   "id": "e9eb04a6c8764798"
  },
  {
   "cell_type": "code",
   "execution_count": null,
   "outputs": [],
   "source": [],
   "metadata": {
    "collapsed": false
   },
   "id": "60c1a74a1ede879"
  },
  {
   "cell_type": "code",
   "execution_count": null,
   "outputs": [],
   "source": [],
   "metadata": {
    "collapsed": false
   },
   "id": "28e2e71482bf88cc"
  },
  {
   "cell_type": "code",
   "execution_count": null,
   "outputs": [],
   "source": [],
   "metadata": {
    "collapsed": false
   },
   "id": "786bcc6d1db7883e"
  },
  {
   "cell_type": "code",
   "execution_count": null,
   "outputs": [],
   "source": [],
   "metadata": {
    "collapsed": false
   },
   "id": "5972c015e88437eb"
  },
  {
   "cell_type": "code",
   "execution_count": null,
   "outputs": [],
   "source": [],
   "metadata": {
    "collapsed": false
   },
   "id": "28b7efe5c87cfe3a"
  },
  {
   "cell_type": "code",
   "execution_count": null,
   "outputs": [],
   "source": [],
   "metadata": {
    "collapsed": false
   },
   "id": "14d57d304324f95"
  },
  {
   "cell_type": "code",
   "execution_count": null,
   "outputs": [],
   "source": [],
   "metadata": {
    "collapsed": false
   },
   "id": "f940accacc4864da"
  },
  {
   "cell_type": "code",
   "execution_count": null,
   "outputs": [],
   "source": [],
   "metadata": {
    "collapsed": false
   },
   "id": "b332ff649d0d9a9b"
  },
  {
   "cell_type": "code",
   "execution_count": null,
   "outputs": [],
   "source": [],
   "metadata": {
    "collapsed": false
   },
   "id": "4d78b9381ee3ad18"
  },
  {
   "cell_type": "code",
   "execution_count": 25,
   "outputs": [],
   "source": [],
   "metadata": {
    "collapsed": false,
    "ExecuteTime": {
     "end_time": "2023-11-20T06:57:01.622144500Z",
     "start_time": "2023-11-20T06:57:01.593441700Z"
    }
   },
   "id": "b9e36bfcb9598720"
  },
  {
   "cell_type": "code",
   "execution_count": 25,
   "outputs": [],
   "source": [],
   "metadata": {
    "collapsed": false,
    "ExecuteTime": {
     "end_time": "2023-11-20T06:57:02.214821700Z",
     "start_time": "2023-11-20T06:57:02.171629100Z"
    }
   },
   "id": "a44dcce61bb5099c"
  },
  {
   "cell_type": "code",
   "execution_count": 9,
   "outputs": [
    {
     "data": {
      "text/plain": "(-1, numpy.int32)"
     },
     "execution_count": 9,
     "metadata": {},
     "output_type": "execute_result"
    }
   ],
   "source": [
    "fair_kemeny_ranking_gurobi_attribute=attribute[:,1]\n",
    "fair_kemeny_ranking_gurobi_attribute[1]-fair_kemeny_ranking_gurobi_attribute[50],type(fair_kemeny_ranking_gurobi_attribute[0])"
   ],
   "metadata": {
    "collapsed": false,
    "ExecuteTime": {
     "end_time": "2023-11-22T14:12:20.173781600Z",
     "start_time": "2023-11-22T14:12:20.144846500Z"
    }
   },
   "id": "ff33f76b50b3acb1"
  },
  {
   "cell_type": "code",
   "execution_count": 10,
   "outputs": [
    {
     "name": "stdout",
     "output_type": "stream",
     "text": [
      "Set parameter Username\n",
      "Academic license - for non-commercial use only - expires 2024-11-13\n"
     ]
    }
   ],
   "source": [
    "fair_kemeny_ranking_gurobi=ul.aggregate_parity(n_voter,n_candidate,rankings,fair_kemeny_ranking_gurobi_attribute,threshold)"
   ],
   "metadata": {
    "collapsed": false,
    "ExecuteTime": {
     "end_time": "2023-11-22T14:14:48.760555200Z",
     "start_time": "2023-11-22T14:12:20.874385100Z"
    }
   },
   "id": "5a1fac1313de4ce6"
  },
  {
   "cell_type": "code",
   "execution_count": 12,
   "outputs": [
    {
     "data": {
      "text/plain": "(array([ 3.,  4.,  5.,  6.,  7.,  8., 82.,  9., 10., 11., 12., 13., 14.,\n        83., 16., 84., 85., 86., 87., 88., 15., 89., 90., 91., 17., 92.,\n        93., 94., 95., 96., 18.,  0., 19., 21., 20., 22., 23., 24., 25.,\n        26., 27., 28., 29., 30., 31.,  1., 32.,  2., 33., 34., 35., 36.,\n        37., 38., 39., 40., 41., 42., 43., 44., 45., 46., 47., 48., 49.,\n        50., 51., 52., 53., 54., 55., 97., 56., 57., 58., 60., 59., 61.,\n        62., 63., 64., 65., 66., 67., 68., 69., 70., 98., 71., 72., 73.,\n        74., 75., 76., 77., 78., 79., 99., 80., 81.]),\n 127.11997652053833)"
     },
     "execution_count": 12,
     "metadata": {},
     "output_type": "execute_result"
    }
   ],
   "source": [
    "fair_kemeny_ranking_gurobi"
   ],
   "metadata": {
    "collapsed": false,
    "ExecuteTime": {
     "end_time": "2023-11-22T14:15:47.550391900Z",
     "start_time": "2023-11-22T14:15:47.492868600Z"
    }
   },
   "id": "d4c49d5da0b8256d"
  },
  {
   "cell_type": "code",
   "execution_count": 13,
   "outputs": [
    {
     "data": {
      "text/plain": "((array([ 3.,  4.,  5.,  6.,  7.,  8., 82.,  9., 10., 11., 12., 13., 14.,\n         83., 16., 84., 85., 86., 87., 88., 15., 89., 90., 91., 17., 92.,\n         93., 94., 95., 96., 18.,  0., 19., 21., 20., 22., 23., 24., 25.,\n         26., 27., 28., 29., 30., 31.,  1., 32.,  2., 33., 34., 35., 36.,\n         37., 38., 39., 40., 41., 42., 43., 44., 45., 46., 47., 48., 49.,\n         50., 51., 52., 53., 54., 55., 97., 56., 57., 58., 60., 59., 61.,\n         62., 63., 64., 65., 66., 67., 68., 69., 70., 98., 71., 72., 73.,\n         74., 75., 76., 77., 78., 79., 99., 80., 81.]),\n  127.11997652053833),\n array([31, 45, 47,  0,  1,  2,  3,  4,  5,  7,  8,  9, 10, 11, 12, 20, 14,\n        24, 30, 32, 34, 33, 35, 36, 37, 38, 39, 40, 41, 42, 43, 44, 46, 48,\n        49, 50, 51, 52, 53, 54, 55, 56, 57, 58, 59, 60, 61, 62, 63, 64, 65,\n        66, 67, 68, 69, 70, 72, 73, 74, 76, 75, 77, 78, 79, 80, 81, 82, 83,\n        84, 85, 86, 88, 89, 90, 91, 92, 93, 94, 95, 96, 98, 99,  6, 13, 15,\n        16, 17, 18, 19, 21, 22, 23, 25, 26, 27, 28, 29, 71, 87, 97],\n       dtype=int64))"
     },
     "execution_count": 13,
     "metadata": {},
     "output_type": "execute_result"
    }
   ],
   "source": [
    "optimal_fair_kemeny_ranking_gurobi_permutation=np.argsort(fair_kemeny_ranking_gurobi[0])\n",
    "fair_kemeny_ranking_gurobi,optimal_fair_kemeny_ranking_gurobi_permutation"
   ],
   "metadata": {
    "collapsed": false,
    "ExecuteTime": {
     "end_time": "2023-11-22T14:15:55.135429800Z",
     "start_time": "2023-11-22T14:15:55.109243800Z"
    }
   },
   "id": "66500c1e6525b3ee"
  },
  {
   "cell_type": "code",
   "execution_count": 14,
   "outputs": [],
   "source": [
    "fair_kemeny_dist_gurobi=ul.kemeny_dist(rankings,fair_kemeny_ranking_gurobi[0])"
   ],
   "metadata": {
    "collapsed": false,
    "ExecuteTime": {
     "end_time": "2023-11-22T14:16:28.413545300Z",
     "start_time": "2023-11-22T14:16:28.295650400Z"
    }
   },
   "id": "3b671a97009479ee"
  },
  {
   "cell_type": "code",
   "execution_count": 15,
   "outputs": [
    {
     "data": {
      "text/plain": "21060"
     },
     "execution_count": 15,
     "metadata": {},
     "output_type": "execute_result"
    }
   ],
   "source": [
    "fair_kemeny_dist_gurobi"
   ],
   "metadata": {
    "collapsed": false,
    "ExecuteTime": {
     "end_time": "2023-11-22T14:16:29.553016200Z",
     "start_time": "2023-11-22T14:16:29.522642200Z"
    }
   },
   "id": "374659e79b306a4c"
  },
  {
   "cell_type": "code",
   "execution_count": 16,
   "outputs": [],
   "source": [
    "fair_kemeny_ranking_gurobi_m=np.c_[np.arange(30),fair_kemeny_ranking_gurobi[0][:30]]\n",
    "fair_kemeny_ranking_gurobi_w=np.c_[np.arange(30,100),fair_kemeny_ranking_gurobi[0][30:]]"
   ],
   "metadata": {
    "collapsed": false,
    "ExecuteTime": {
     "end_time": "2023-11-22T14:16:30.626796700Z",
     "start_time": "2023-11-22T14:16:30.595575700Z"
    }
   },
   "id": "a32e870167ba40a4"
  },
  {
   "cell_type": "code",
   "execution_count": 17,
   "outputs": [
    {
     "data": {
      "text/plain": "(array([[30., 18.],\n        [31.,  0.],\n        [32., 19.],\n        [33., 21.],\n        [34., 20.],\n        [35., 22.],\n        [36., 23.],\n        [37., 24.],\n        [38., 25.],\n        [39., 26.],\n        [40., 27.],\n        [41., 28.],\n        [42., 29.],\n        [43., 30.],\n        [44., 31.],\n        [45.,  1.],\n        [46., 32.],\n        [47.,  2.],\n        [48., 33.],\n        [49., 34.],\n        [50., 35.],\n        [51., 36.],\n        [52., 37.],\n        [53., 38.],\n        [54., 39.],\n        [55., 40.],\n        [56., 41.],\n        [57., 42.],\n        [58., 43.],\n        [59., 44.],\n        [60., 45.],\n        [61., 46.],\n        [62., 47.],\n        [63., 48.],\n        [64., 49.],\n        [65., 50.],\n        [66., 51.],\n        [67., 52.],\n        [68., 53.],\n        [69., 54.],\n        [70., 55.],\n        [71., 97.],\n        [72., 56.],\n        [73., 57.],\n        [74., 58.],\n        [75., 60.],\n        [76., 59.],\n        [77., 61.],\n        [78., 62.],\n        [79., 63.],\n        [80., 64.],\n        [81., 65.],\n        [82., 66.],\n        [83., 67.],\n        [84., 68.],\n        [85., 69.],\n        [86., 70.],\n        [87., 98.],\n        [88., 71.],\n        [89., 72.],\n        [90., 73.],\n        [91., 74.],\n        [92., 75.],\n        [93., 76.],\n        [94., 77.],\n        [95., 78.],\n        [96., 79.],\n        [97., 99.],\n        [98., 80.],\n        [99., 81.]]),\n array([[ 0.,  3.],\n        [ 1.,  4.],\n        [ 2.,  5.],\n        [ 3.,  6.],\n        [ 4.,  7.],\n        [ 5.,  8.],\n        [ 6., 82.],\n        [ 7.,  9.],\n        [ 8., 10.],\n        [ 9., 11.],\n        [10., 12.],\n        [11., 13.],\n        [12., 14.],\n        [13., 83.],\n        [14., 16.],\n        [15., 84.],\n        [16., 85.],\n        [17., 86.],\n        [18., 87.],\n        [19., 88.],\n        [20., 15.],\n        [21., 89.],\n        [22., 90.],\n        [23., 91.],\n        [24., 17.],\n        [25., 92.],\n        [26., 93.],\n        [27., 94.],\n        [28., 95.],\n        [29., 96.]]))"
     },
     "execution_count": 17,
     "metadata": {},
     "output_type": "execute_result"
    }
   ],
   "source": [
    "fair_kemeny_ranking_gurobi_w,fair_kemeny_ranking_gurobi_m"
   ],
   "metadata": {
    "collapsed": false,
    "ExecuteTime": {
     "end_time": "2023-11-22T14:16:31.440802400Z",
     "start_time": "2023-11-22T14:16:31.375225800Z"
    }
   },
   "id": "9c196fc8fd54a26"
  },
  {
   "cell_type": "code",
   "execution_count": 18,
   "outputs": [],
   "source": [
    "parity_fair_kemeny_ranking_gurobi=metrics.pairwise_statistical_parity(fair_kemeny_ranking_gurobi_m,fair_kemeny_ranking_gurobi_w)"
   ],
   "metadata": {
    "collapsed": false,
    "ExecuteTime": {
     "end_time": "2023-11-22T14:16:32.631708800Z",
     "start_time": "2023-11-22T14:16:32.598776900Z"
    }
   },
   "id": "240654cf758b9f9f"
  },
  {
   "cell_type": "code",
   "execution_count": 19,
   "outputs": [
    {
     "data": {
      "text/plain": "0.0"
     },
     "execution_count": 19,
     "metadata": {},
     "output_type": "execute_result"
    }
   ],
   "source": [
    "parity_fair_kemeny_ranking_gurobi"
   ],
   "metadata": {
    "collapsed": false,
    "ExecuteTime": {
     "end_time": "2023-11-22T14:16:33.022501300Z",
     "start_time": "2023-11-22T14:16:32.993595300Z"
    }
   },
   "id": "9b2386cecb784724"
  },
  {
   "cell_type": "code",
   "execution_count": 22,
   "outputs": [],
   "source": [
    "fair_kemeny_ranking_gurobi_satisfied_array=[]\n",
    "k_threshold=0.05\n",
    "for k in range(1,100):\n",
    "    fair_kemeny_ranking_gurobi_k =pd.DataFrame(columns=['id', 'ranker'])\n",
    "    fair_kemeny_ranking_gurobi_k[\"id\"]=np.arange(0,100,1)\n",
    "    fair_kemeny_ranking_gurobi_k[\"ranker\"]=fair_kemeny_ranking_gurobi[0]\n",
    "    fair_kemeny_ranking_gurobi_k_m =fair_kemeny_ranking_gurobi_k.head(30).to_numpy()\n",
    "    fair_kemeny_ranking_gurobi_k_w =fair_kemeny_ranking_gurobi_k.tail(70).to_numpy()\n",
    "    fair_kemeny_ranking_gurobi_k_groups=np.array([fair_kemeny_ranking_gurobi_k_m,fair_kemeny_ranking_gurobi_k_w], dtype=object)\n",
    "    fair_kemeny_ranking_gurobi_k_satisfied=metrics.top_k_parity(fair_kemeny_ranking_gurobi_k_groups,k,k_threshold )\n",
    "    fair_kemeny_ranking_gurobi_satisfied_array.append([\"ranker\",k,fair_kemeny_ranking_gurobi_k_satisfied])"
   ],
   "metadata": {
    "collapsed": false,
    "ExecuteTime": {
     "end_time": "2023-11-22T14:17:54.925206Z",
     "start_time": "2023-11-22T14:17:54.786703300Z"
    }
   },
   "id": "45ac70153b4d9de7"
  },
  {
   "cell_type": "code",
   "execution_count": 23,
   "outputs": [
    {
     "data": {
      "text/plain": "[['ranker', 1, True],\n ['ranker', 2, True],\n ['ranker', 3, True],\n ['ranker', 4, True],\n ['ranker', 5, True],\n ['ranker', 6, True],\n ['ranker', 7, False],\n ['ranker', 8, False],\n ['ranker', 9, False],\n ['ranker', 10, False],\n ['ranker', 11, False],\n ['ranker', 12, False],\n ['ranker', 13, False],\n ['ranker', 14, False],\n ['ranker', 15, False],\n ['ranker', 16, False],\n ['ranker', 17, False],\n ['ranker', 18, False],\n ['ranker', 19, False],\n ['ranker', 20, False],\n ['ranker', 21, False],\n ['ranker', 22, False],\n ['ranker', 23, False],\n ['ranker', 24, False],\n ['ranker', 25, False],\n ['ranker', 26, False],\n ['ranker', 27, False],\n ['ranker', 28, False],\n ['ranker', 29, False],\n ['ranker', 30, False],\n ['ranker', 31, False],\n ['ranker', 32, False],\n ['ranker', 33, False],\n ['ranker', 34, False],\n ['ranker', 35, False],\n ['ranker', 36, False],\n ['ranker', 37, False],\n ['ranker', 38, False],\n ['ranker', 39, False],\n ['ranker', 40, False],\n ['ranker', 41, True],\n ['ranker', 42, True],\n ['ranker', 43, True],\n ['ranker', 44, True],\n ['ranker', 45, True],\n ['ranker', 46, True],\n ['ranker', 47, True],\n ['ranker', 48, True],\n ['ranker', 49, True],\n ['ranker', 50, True],\n ['ranker', 51, True],\n ['ranker', 52, True],\n ['ranker', 53, True],\n ['ranker', 54, True],\n ['ranker', 55, True],\n ['ranker', 56, True],\n ['ranker', 57, True],\n ['ranker', 58, True],\n ['ranker', 59, True],\n ['ranker', 60, True],\n ['ranker', 61, True],\n ['ranker', 62, True],\n ['ranker', 63, True],\n ['ranker', 64, False],\n ['ranker', 65, False],\n ['ranker', 66, False],\n ['ranker', 67, False],\n ['ranker', 68, False],\n ['ranker', 69, False],\n ['ranker', 70, False],\n ['ranker', 71, False],\n ['ranker', 72, False],\n ['ranker', 73, False],\n ['ranker', 74, False],\n ['ranker', 75, False],\n ['ranker', 76, False],\n ['ranker', 77, False],\n ['ranker', 78, False],\n ['ranker', 79, False],\n ['ranker', 80, False],\n ['ranker', 81, False],\n ['ranker', 82, False],\n ['ranker', 83, False],\n ['ranker', 84, False],\n ['ranker', 85, False],\n ['ranker', 86, False],\n ['ranker', 87, False],\n ['ranker', 88, False],\n ['ranker', 89, True],\n ['ranker', 90, True],\n ['ranker', 91, True],\n ['ranker', 92, True],\n ['ranker', 93, True],\n ['ranker', 94, True],\n ['ranker', 95, True],\n ['ranker', 96, True],\n ['ranker', 97, True],\n ['ranker', 98, True],\n ['ranker', 99, True]]"
     },
     "execution_count": 23,
     "metadata": {},
     "output_type": "execute_result"
    }
   ],
   "source": [
    "fair_kemeny_ranking_gurobi_satisfied_array"
   ],
   "metadata": {
    "collapsed": false,
    "ExecuteTime": {
     "end_time": "2023-11-22T14:17:55.671936800Z",
     "start_time": "2023-11-22T14:17:55.627950800Z"
    }
   },
   "id": "463435e8c979055b"
  },
  {
   "cell_type": "code",
   "execution_count": 32,
   "outputs": [],
   "source": [],
   "metadata": {
    "collapsed": false,
    "ExecuteTime": {
     "end_time": "2023-11-17T22:37:35.067480400Z",
     "start_time": "2023-11-17T22:37:35.064177700Z"
    }
   },
   "id": "73be8c4895b1069d"
  },
  {
   "cell_type": "code",
   "execution_count": 32,
   "outputs": [],
   "source": [],
   "metadata": {
    "collapsed": false,
    "ExecuteTime": {
     "end_time": "2023-11-17T22:37:35.078089800Z",
     "start_time": "2023-11-17T22:37:35.068482300Z"
    }
   },
   "id": "e988d353fc650c4a"
  },
  {
   "cell_type": "code",
   "execution_count": 32,
   "outputs": [],
   "source": [],
   "metadata": {
    "collapsed": false,
    "ExecuteTime": {
     "end_time": "2023-11-17T22:37:35.081099100Z",
     "start_time": "2023-11-17T22:37:35.077578600Z"
    }
   },
   "id": "9c03b6a128ab644a"
  },
  {
   "cell_type": "code",
   "execution_count": 33,
   "outputs": [
    {
     "data": {
      "text/plain": "(array([0.00636478-0.j, 0.00445895-0.j, 0.00433305-0.j, 0.00697691-0.j,\n        0.00678303-0.j, 0.00819253-0.j, 0.0091479 -0.j, 0.00723867-0.j,\n        0.00742216-0.j, 0.00737572-0.j, 0.00498958-0.j, 0.00547314-0.j,\n        0.00618114-0.j, 0.01109269-0.j, 0.00715125-0.j, 0.01399296-0.j,\n        0.01099729-0.j, 0.01370725-0.j, 0.0187458 -0.j, 0.01531436-0.j,\n        0.00533095-0.j, 0.01035163-0.j, 0.01732745-0.j, 0.0101525 -0.j,\n        0.00683577-0.j, 0.01337098-0.j, 0.00865876-0.j, 0.01760905-0.j,\n        0.0135678 -0.j, 0.00888645-0.j, 0.0049487 -0.j, 0.00411924-0.j,\n        0.00809632-0.j, 0.01246436-0.j, 0.00627435-0.j, 0.01102661-0.j,\n        0.00971973-0.j, 0.0098939 -0.j, 0.0066931 -0.j, 0.00979832-0.j,\n        0.00565976-0.j, 0.01319912-0.j, 0.00582666-0.j, 0.00497843-0.j,\n        0.00582702-0.j, 0.00386067-0.j, 0.00503643-0.j, 0.00339434-0.j,\n        0.00583961-0.j, 0.00777182-0.j, 0.00772563-0.j, 0.00823878-0.j,\n        0.00590396-0.j, 0.00743119-0.j, 0.00737774-0.j, 0.00514415-0.j,\n        0.01008037-0.j, 0.00859091-0.j, 0.00683297-0.j, 0.0167103 -0.j,\n        0.00542604-0.j, 0.0101252 -0.j, 0.00851795-0.j, 0.00648652-0.j,\n        0.00899733-0.j, 0.01081723-0.j, 0.00875012-0.j, 0.01505542-0.j,\n        0.01363788-0.j, 0.00724248-0.j, 0.00889992-0.j, 0.02397759-0.j,\n        0.01327373-0.j, 0.00795582-0.j, 0.01222235-0.j, 0.01190583-0.j,\n        0.00784976-0.j, 0.01180579-0.j, 0.01346978-0.j, 0.01394523-0.j,\n        0.01032325-0.j, 0.01003226-0.j, 0.01263624-0.j, 0.01607308-0.j,\n        0.01329934-0.j, 0.01515813-0.j, 0.01019672-0.j, 0.02314601-0.j,\n        0.01358815-0.j, 0.00995031-0.j, 0.01659922-0.j, 0.01125098-0.j,\n        0.01015043-0.j, 0.00911063-0.j, 0.00994612-0.j, 0.01212657-0.j,\n        0.01370632-0.j, 0.02173349-0.j, 0.01326656-0.j, 0.01084918-0.j]),\n array([0.00824766+0.j, 0.00656996+0.j, 0.00640345+0.j, 0.00870433+0.j,\n        0.00853681+0.j, 0.00953834+0.j, 0.01006898+0.j, 0.00887219+0.j,\n        0.00890181+0.j, 0.00899166+0.j, 0.00705641+0.j, 0.00748827+0.j,\n        0.00794193+0.j, 0.01099348+0.j, 0.00867096+0.j, 0.01227241+0.j,\n        0.01087483+0.j, 0.01208194+0.j, 0.01372811+0.j, 0.01262545+0.j,\n        0.00738724+0.j, 0.0107357 +0.j, 0.01329728+0.j, 0.01059595+0.j,\n        0.00855823+0.j, 0.01207871+0.j, 0.00983435+0.j, 0.01351338+0.j,\n        0.01207802+0.j, 0.00993708+0.j, 0.0069769 +0.j, 0.00612361+0.j,\n        0.00942633+0.j, 0.011615  +0.j, 0.00814425+0.j, 0.01100053+0.j,\n        0.01031477+0.j, 0.01036944+0.j, 0.0083796 +0.j, 0.01035521+0.j,\n        0.0076195 +0.j, 0.01189452+0.j, 0.00776754+0.j, 0.00696424+0.j,\n        0.00769136+0.j, 0.00589158+0.j, 0.00699016+0.j, 0.00529158+0.j,\n        0.00765676+0.j, 0.00892924+0.j, 0.00894392+0.j, 0.00932122+0.j,\n        0.0077023 +0.j, 0.00879857+0.j, 0.00870293+0.j, 0.00707199+0.j,\n        0.01036596+0.j, 0.00947474+0.j, 0.00835996+0.j, 0.01286032+0.j,\n        0.00726916+0.j, 0.01025666+0.j, 0.00941295+0.j, 0.00810676+0.j,\n        0.00968625+0.j, 0.01069678+0.j, 0.00955441+0.j, 0.01224693+0.j,\n        0.01187128+0.j, 0.0086069 +0.j, 0.00973749+0.j, 0.0144051 +0.j,\n        0.01169982+0.j, 0.0091232 +0.j, 0.01128228+0.j, 0.01117285+0.j,\n        0.00913927+0.j, 0.01118251+0.j, 0.01190216+0.j, 0.01201652+0.j,\n        0.01052518+0.j, 0.01036048+0.j, 0.01152581+0.j, 0.01293378+0.j,\n        0.01183903+0.j, 0.01246342+0.j, 0.0104409 +0.j, 0.01466676+0.j,\n        0.01203655+0.j, 0.0104722 +0.j, 0.0129932 +0.j, 0.01105169+0.j,\n        0.01054929+0.j, 0.00994805+0.j, 0.01044598+0.j, 0.01153952+0.j,\n        0.01205107+0.j, 0.01429588+0.j, 0.01198438+0.j, 0.01091867+0.j]))"
     },
     "execution_count": 33,
     "metadata": {},
     "output_type": "execute_result"
    }
   ],
   "source": [
    "stationary_distribute_0 = mc.stationary_distribute(rankings, 0)\n",
    "stationary_distribute_1 = mc.stationary_distribute(rankings, 1)\n",
    "stationary_distribute_0, stationary_distribute_1"
   ],
   "metadata": {
    "collapsed": false,
    "ExecuteTime": {
     "end_time": "2023-11-17T22:37:35.302532Z",
     "start_time": "2023-11-17T22:37:35.082097400Z"
    }
   },
   "id": "f4da36d48118c2a7"
  },
  {
   "cell_type": "code",
   "execution_count": 34,
   "outputs": [
    {
     "data": {
      "text/plain": "(array([0.004, 0.003, 0.005, 0.006, 0.005, 0.005, 0.005, 0.004, 0.005,\n        0.005, 0.003, 0.004, 0.004, 0.005, 0.005, 0.008, 0.005, 0.006,\n        0.007, 0.006, 0.004, 0.005, 0.008, 0.006, 0.005, 0.006, 0.005,\n        0.007, 0.007, 0.005, 0.357, 0.005, 0.006, 0.009, 0.006, 0.009,\n        0.008, 0.009, 0.007, 0.007, 0.006, 0.01 , 0.006, 0.007, 0.007,\n        0.004, 0.005, 0.006, 0.007, 0.007, 0.008, 0.006, 0.006, 0.008,\n        0.007, 0.006, 0.007, 0.008, 0.007, 0.007, 0.007, 0.008, 0.008,\n        0.007, 0.008, 0.007, 0.007, 0.008, 0.008, 0.005, 0.006, 0.008,\n        0.007, 0.008, 0.007, 0.007, 0.006, 0.006, 0.008, 0.007, 0.007,\n        0.007, 0.008, 0.008, 0.007, 0.007, 0.006, 0.008, 0.008, 0.006,\n        0.008, 0.007, 0.006, 0.005, 0.007, 0.007, 0.007, 0.008, 0.007,\n        0.007]),\n array([0.00622084, 0.00466563, 0.00777605, 0.00933126, 0.00777605,\n        0.00777605, 0.00777605, 0.00622084, 0.00777605, 0.00777605,\n        0.00466563, 0.00622084, 0.00622084, 0.00777605, 0.00777605,\n        0.01244168, 0.00777605, 0.00933126, 0.01088647, 0.00933126,\n        0.00622084, 0.00777605, 0.01244168, 0.00933126, 0.00777605,\n        0.00933126, 0.00777605, 0.01088647, 0.01088647, 0.00777605,\n        0.        , 0.00777605, 0.00933126, 0.01399689, 0.00933126,\n        0.01399689, 0.01244168, 0.01399689, 0.01088647, 0.01088647,\n        0.00933126, 0.0155521 , 0.00933126, 0.01088647, 0.01088647,\n        0.00622084, 0.00777605, 0.00933126, 0.01088647, 0.01088647,\n        0.01244168, 0.00933126, 0.00933126, 0.01244168, 0.01088647,\n        0.00933126, 0.01088647, 0.01244168, 0.01088647, 0.01088647,\n        0.01088647, 0.01244168, 0.01244168, 0.01088647, 0.01244168,\n        0.01088647, 0.01088647, 0.01244168, 0.01244168, 0.00777605,\n        0.00933126, 0.01244168, 0.01088647, 0.01244168, 0.01088647,\n        0.01088647, 0.00933126, 0.00933126, 0.01244168, 0.01088647,\n        0.01088647, 0.01088647, 0.01244168, 0.01244168, 0.01088647,\n        0.01088647, 0.00933126, 0.01244168, 0.01244168, 0.00933126,\n        0.01244168, 0.01088647, 0.00933126, 0.00777605, 0.01088647,\n        0.01088647, 0.01088647, 0.01244168, 0.01088647, 0.01088647]))"
     },
     "execution_count": 34,
     "metadata": {},
     "output_type": "execute_result"
    }
   ],
   "source": [
    "transition_matrix_0 = mc.generate_transition_matrix(rankings)\n",
    "transition_matrix_1 = mc.generate_transition_matrix_without_self_circle(rankings)\n",
    "#sum_of_probability_candidate=np.array([np.sum(transition_matrix_2[i, :]) for i in range(rankings.shape[1])])\n",
    "\n",
    "transition_matrix_0[30],transition_matrix_1[30]"
   ],
   "metadata": {
    "collapsed": false,
    "ExecuteTime": {
     "end_time": "2023-11-17T22:37:35.496398500Z",
     "start_time": "2023-11-17T22:37:35.295531400Z"
    }
   },
   "id": "98abe1d8973c35f4"
  },
  {
   "cell_type": "code",
   "execution_count": 34,
   "outputs": [],
   "source": [],
   "metadata": {
    "collapsed": false,
    "ExecuteTime": {
     "end_time": "2023-11-17T22:37:35.496398500Z",
     "start_time": "2023-11-17T22:37:35.486566500Z"
    }
   },
   "id": "c9f0700baf5cebc2"
  },
  {
   "cell_type": "code",
   "execution_count": 34,
   "outputs": [],
   "source": [
    "\n"
   ],
   "metadata": {
    "collapsed": false,
    "ExecuteTime": {
     "end_time": "2023-11-17T22:37:35.501406600Z",
     "start_time": "2023-11-17T22:37:35.492932200Z"
    }
   },
   "id": "357ab9bba6221fe6"
  }
 ],
 "metadata": {
  "kernelspec": {
   "display_name": "Python 3",
   "language": "python",
   "name": "python3"
  },
  "language_info": {
   "codemirror_mode": {
    "name": "ipython",
    "version": 2
   },
   "file_extension": ".py",
   "mimetype": "text/x-python",
   "name": "python",
   "nbconvert_exporter": "python",
   "pygments_lexer": "ipython2",
   "version": "2.7.6"
  }
 },
 "nbformat": 4,
 "nbformat_minor": 5
}
