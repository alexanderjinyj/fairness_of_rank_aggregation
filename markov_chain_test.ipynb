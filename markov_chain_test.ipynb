{
 "cells": [
  {
   "cell_type": "code",
   "execution_count": 37,
   "outputs": [],
   "source": [
    "import numpy as np\n",
    "import markov_chains_methods as mc\n",
    "import utils as ul\n",
    "import pandas as pd\n",
    "import metrics\n",
    "from time import time"
   ],
   "metadata": {
    "collapsed": false,
    "ExecuteTime": {
     "end_time": "2023-11-30T21:11:34.465211200Z",
     "start_time": "2023-11-30T21:11:32.188791800Z"
    }
   },
   "id": "initial_id"
  },
  {
   "cell_type": "code",
   "execution_count": 38,
   "outputs": [
    {
     "data": {
      "text/plain": "   Unnamed: 0  ranker 1  ranker 2  ranker 3  ranker 4  ranker 5  ranker 6  \\\n0         M01        20        86        79        32        28        70   \n1         M02        14         9         7        52        55        26   \n2         M03        22         3        24        31        97        29   \n3         M04        54        87        13        22        95        46   \n4         M05        93         6        53        92        31        10   \n..        ...       ...       ...       ...       ...       ...       ...   \n95        W66        44        29        85        15        72        11   \n96        W67        50        66        29        83         4        81   \n97        W68        65        75        78        80        68        12   \n98        W69        41        60         9        34        99        30   \n99        W70        70        43        19        38        29        35   \n\n    ranker 7  ranker 8  ranker 9  ranker 10  ranker 11  ranker 12  \n0         21        71        71         71          1          1  \n1         89        72        72         72          2          2  \n2         41        73        73         73          3          3  \n3         32        74        74         74          4          4  \n4         56        75        75         75          5          5  \n..       ...       ...       ...        ...        ...        ...  \n95        67        66        66         66         96         81  \n96        40        67        67         67         97         82  \n97        73        68        68         68         98         83  \n98        63        69        69         69         99         84  \n99        52        70        70         70        100         85  \n\n[100 rows x 13 columns]",
      "text/html": "<div>\n<style scoped>\n    .dataframe tbody tr th:only-of-type {\n        vertical-align: middle;\n    }\n\n    .dataframe tbody tr th {\n        vertical-align: top;\n    }\n\n    .dataframe thead th {\n        text-align: right;\n    }\n</style>\n<table border=\"1\" class=\"dataframe\">\n  <thead>\n    <tr style=\"text-align: right;\">\n      <th></th>\n      <th>Unnamed: 0</th>\n      <th>ranker 1</th>\n      <th>ranker 2</th>\n      <th>ranker 3</th>\n      <th>ranker 4</th>\n      <th>ranker 5</th>\n      <th>ranker 6</th>\n      <th>ranker 7</th>\n      <th>ranker 8</th>\n      <th>ranker 9</th>\n      <th>ranker 10</th>\n      <th>ranker 11</th>\n      <th>ranker 12</th>\n    </tr>\n  </thead>\n  <tbody>\n    <tr>\n      <th>0</th>\n      <td>M01</td>\n      <td>20</td>\n      <td>86</td>\n      <td>79</td>\n      <td>32</td>\n      <td>28</td>\n      <td>70</td>\n      <td>21</td>\n      <td>71</td>\n      <td>71</td>\n      <td>71</td>\n      <td>1</td>\n      <td>1</td>\n    </tr>\n    <tr>\n      <th>1</th>\n      <td>M02</td>\n      <td>14</td>\n      <td>9</td>\n      <td>7</td>\n      <td>52</td>\n      <td>55</td>\n      <td>26</td>\n      <td>89</td>\n      <td>72</td>\n      <td>72</td>\n      <td>72</td>\n      <td>2</td>\n      <td>2</td>\n    </tr>\n    <tr>\n      <th>2</th>\n      <td>M03</td>\n      <td>22</td>\n      <td>3</td>\n      <td>24</td>\n      <td>31</td>\n      <td>97</td>\n      <td>29</td>\n      <td>41</td>\n      <td>73</td>\n      <td>73</td>\n      <td>73</td>\n      <td>3</td>\n      <td>3</td>\n    </tr>\n    <tr>\n      <th>3</th>\n      <td>M04</td>\n      <td>54</td>\n      <td>87</td>\n      <td>13</td>\n      <td>22</td>\n      <td>95</td>\n      <td>46</td>\n      <td>32</td>\n      <td>74</td>\n      <td>74</td>\n      <td>74</td>\n      <td>4</td>\n      <td>4</td>\n    </tr>\n    <tr>\n      <th>4</th>\n      <td>M05</td>\n      <td>93</td>\n      <td>6</td>\n      <td>53</td>\n      <td>92</td>\n      <td>31</td>\n      <td>10</td>\n      <td>56</td>\n      <td>75</td>\n      <td>75</td>\n      <td>75</td>\n      <td>5</td>\n      <td>5</td>\n    </tr>\n    <tr>\n      <th>...</th>\n      <td>...</td>\n      <td>...</td>\n      <td>...</td>\n      <td>...</td>\n      <td>...</td>\n      <td>...</td>\n      <td>...</td>\n      <td>...</td>\n      <td>...</td>\n      <td>...</td>\n      <td>...</td>\n      <td>...</td>\n      <td>...</td>\n    </tr>\n    <tr>\n      <th>95</th>\n      <td>W66</td>\n      <td>44</td>\n      <td>29</td>\n      <td>85</td>\n      <td>15</td>\n      <td>72</td>\n      <td>11</td>\n      <td>67</td>\n      <td>66</td>\n      <td>66</td>\n      <td>66</td>\n      <td>96</td>\n      <td>81</td>\n    </tr>\n    <tr>\n      <th>96</th>\n      <td>W67</td>\n      <td>50</td>\n      <td>66</td>\n      <td>29</td>\n      <td>83</td>\n      <td>4</td>\n      <td>81</td>\n      <td>40</td>\n      <td>67</td>\n      <td>67</td>\n      <td>67</td>\n      <td>97</td>\n      <td>82</td>\n    </tr>\n    <tr>\n      <th>97</th>\n      <td>W68</td>\n      <td>65</td>\n      <td>75</td>\n      <td>78</td>\n      <td>80</td>\n      <td>68</td>\n      <td>12</td>\n      <td>73</td>\n      <td>68</td>\n      <td>68</td>\n      <td>68</td>\n      <td>98</td>\n      <td>83</td>\n    </tr>\n    <tr>\n      <th>98</th>\n      <td>W69</td>\n      <td>41</td>\n      <td>60</td>\n      <td>9</td>\n      <td>34</td>\n      <td>99</td>\n      <td>30</td>\n      <td>63</td>\n      <td>69</td>\n      <td>69</td>\n      <td>69</td>\n      <td>99</td>\n      <td>84</td>\n    </tr>\n    <tr>\n      <th>99</th>\n      <td>W70</td>\n      <td>70</td>\n      <td>43</td>\n      <td>19</td>\n      <td>38</td>\n      <td>29</td>\n      <td>35</td>\n      <td>52</td>\n      <td>70</td>\n      <td>70</td>\n      <td>70</td>\n      <td>100</td>\n      <td>85</td>\n    </tr>\n  </tbody>\n</table>\n<p>100 rows × 13 columns</p>\n</div>"
     },
     "execution_count": 38,
     "metadata": {},
     "output_type": "execute_result"
    }
   ],
   "source": [
    "\n",
    "df=pd.read_csv('20230918dataset_uf.csv')\n",
    "#add a ranking all m candidates has smaller rank than w's\n",
    "df[\"ranker 11\"]=np.arange(1,101,1)\n",
    "#add a ranking half  m candidates on the top of ranking and another half m candidates on the bottom of rinking and w candidates on the middle  \n",
    "ranker_12=np.concatenate((np.arange(1,16,1),np.arange(86,101,1),np.arange(16,86,1)), axis=None)\n",
    "#print(ranker_12)\n",
    "df[\"ranker 12\"]=ranker_12\n",
    "df"
   ],
   "metadata": {
    "collapsed": false,
    "ExecuteTime": {
     "end_time": "2023-11-30T21:11:34.714111500Z",
     "start_time": "2023-11-30T21:11:32.192789300Z"
    }
   },
   "id": "324e1d81feffef57"
  },
  {
   "cell_type": "code",
   "execution_count": 39,
   "outputs": [
    {
     "data": {
      "text/plain": "array([[ 20,  86,  79, ...,  71,   1,   1],\n       [ 14,   9,   7, ...,  72,   2,   2],\n       [ 22,   3,  24, ...,  73,   3,   3],\n       ...,\n       [ 65,  75,  78, ...,  68,  98,  83],\n       [ 41,  60,   9, ...,  69,  99,  84],\n       [ 70,  43,  19, ...,  70, 100,  85]], dtype=int64)"
     },
     "execution_count": 39,
     "metadata": {},
     "output_type": "execute_result"
    }
   ],
   "source": [
    "rankings=df[df.columns[1:]].to_numpy()\n",
    "rankings"
   ],
   "metadata": {
    "collapsed": false,
    "ExecuteTime": {
     "end_time": "2023-11-30T21:11:34.715112Z",
     "start_time": "2023-11-30T21:11:32.222762500Z"
    }
   },
   "id": "ea94d30d73b1198c"
  },
  {
   "cell_type": "code",
   "execution_count": 40,
   "outputs": [
    {
     "data": {
      "text/plain": "(array([[ 20,  14,  22, ...,  65,  41,  70],\n        [ 86,   9,   3, ...,  75,  60,  43],\n        [ 79,   7,  24, ...,  78,   9,  19],\n        ...,\n        [ 71,  72,  73, ...,  68,  69,  70],\n        [  1,   2,   3, ...,  98,  99, 100],\n        [  1,   2,   3, ...,  83,  84,  85]], dtype=int64),\n (12, 100))"
     },
     "execution_count": 40,
     "metadata": {},
     "output_type": "execute_result"
    }
   ],
   "source": [
    "rankings=rankings.transpose()\n",
    "rankings,rankings.shape"
   ],
   "metadata": {
    "collapsed": false,
    "ExecuteTime": {
     "end_time": "2023-11-30T21:11:34.715112Z",
     "start_time": "2023-11-30T21:11:32.233090600Z"
    }
   },
   "id": "6b63e5af659975a1"
  },
  {
   "cell_type": "code",
   "execution_count": 41,
   "outputs": [],
   "source": [
    "threshold=0"
   ],
   "metadata": {
    "collapsed": false,
    "ExecuteTime": {
     "end_time": "2023-11-30T21:11:34.716110900Z",
     "start_time": "2023-11-30T21:11:32.244065700Z"
    }
   },
   "id": "162ecc8816a3daf5"
  },
  {
   "cell_type": "code",
   "execution_count": 42,
   "outputs": [],
   "source": [
    "attribute = np.append(np.repeat(0, 30), np.repeat(1, 70))\n",
    "attribute=np.c_[np.arange(100),attribute]\n",
    "df_groups=pd.DataFrame(attribute,columns=['id','attribute'])\n",
    "groups=df_groups.groupby(df_groups.columns[1]).count()\n",
    "groups=groups.to_numpy()\n",
    "groups=np.c_[np.array([[0],[1]]),groups]\n",
    "size_candidate = rankings.shape[1]"
   ],
   "metadata": {
    "collapsed": false,
    "ExecuteTime": {
     "end_time": "2023-11-30T21:11:34.716110900Z",
     "start_time": "2023-11-30T21:11:32.251212900Z"
    }
   },
   "id": "af3baf77345a451d"
  },
  {
   "cell_type": "code",
   "execution_count": 43,
   "outputs": [
    {
     "data": {
      "text/plain": "array([0.50949167, 0.0061    , 0.0061    , 0.005225  , 0.00525   ,\n       0.004875  , 0.00461667, 0.00505833, 0.00494167, 0.00501667,\n       0.00570833, 0.00553333, 0.0052    , 0.00408333, 0.00489167,\n       0.0036    , 0.00400833, 0.0036    , 0.00303333, 0.00335   ,\n       0.00541667, 0.00410833, 0.00311667, 0.00411667, 0.004875  ,\n       0.00353333, 0.00436667, 0.00301667, 0.00345   , 0.00428333,\n       0.00700833, 0.00725   , 0.00604167, 0.005175  , 0.00651667,\n       0.00539167, 0.0056    , 0.00553333, 0.00630833, 0.00551667,\n       0.0066    , 0.004925  , 0.0065    , 0.00675   , 0.0064    ,\n       0.00715   , 0.00664167, 0.00724167, 0.00631667, 0.00571667,\n       0.00571667, 0.0056    , 0.006225  , 0.00575   , 0.00573333,\n       0.006425  , 0.005125  , 0.00539167, 0.00581667, 0.004125  ,\n       0.00620833, 0.00498333, 0.00531667, 0.00585   , 0.005175  ,\n       0.004825  , 0.00516667, 0.004125  , 0.004325  , 0.00548333,\n       0.005125  , 0.00328333, 0.0043    , 0.005275  , 0.004425  ,\n       0.00448333, 0.00529167, 0.00446667, 0.00420833, 0.004125  ,\n       0.00469167, 0.00470833, 0.00425   , 0.003825  , 0.00411667,\n       0.00385833, 0.00460833, 0.00310833, 0.00405   , 0.00465   ,\n       0.00364167, 0.00436667, 0.00453333, 0.00473333, 0.004575  ,\n       0.00418333, 0.00389167, 0.00303333, 0.00395   , 0.004325  ])"
     },
     "execution_count": 43,
     "metadata": {},
     "output_type": "execute_result"
    }
   ],
   "source": [
    "precedence=mc.build_precedence_matrix(rankings)\n",
    "out_degree=mc.build_out_degree_matrix(precedence)\n",
    "matrix=mc.incresing_consensus_transition_matrix(rankings,precedence,out_degree)\n",
    "matrix[0]"
   ],
   "metadata": {
    "collapsed": false,
    "ExecuteTime": {
     "end_time": "2023-11-30T21:11:34.733108800Z",
     "start_time": "2023-11-30T21:11:32.260033300Z"
    }
   },
   "id": "e734f5d6369c6576"
  },
  {
   "cell_type": "code",
   "execution_count": 44,
   "outputs": [
    {
     "data": {
      "text/plain": "array([[ 0,  0],\n       [ 1,  0],\n       [ 2,  0],\n       [ 3,  0],\n       [ 4,  0],\n       [ 5,  0],\n       [ 6,  0],\n       [ 7,  0],\n       [ 8,  0],\n       [ 9,  0],\n       [10,  0],\n       [11,  0],\n       [12,  0],\n       [13,  0],\n       [14,  0],\n       [15,  0],\n       [16,  0],\n       [17,  0],\n       [18,  0],\n       [19,  0],\n       [20,  0],\n       [21,  0],\n       [22,  0],\n       [23,  0],\n       [24,  0],\n       [25,  0],\n       [26,  0],\n       [27,  0],\n       [28,  0],\n       [29,  0],\n       [30,  1],\n       [31,  1],\n       [32,  1],\n       [33,  1],\n       [34,  1],\n       [35,  1],\n       [36,  1],\n       [37,  1],\n       [38,  1],\n       [39,  1],\n       [40,  1],\n       [41,  1],\n       [42,  1],\n       [43,  1],\n       [44,  1],\n       [45,  1],\n       [46,  1],\n       [47,  1],\n       [48,  1],\n       [49,  1],\n       [50,  1],\n       [51,  1],\n       [52,  1],\n       [53,  1],\n       [54,  1],\n       [55,  1],\n       [56,  1],\n       [57,  1],\n       [58,  1],\n       [59,  1],\n       [60,  1],\n       [61,  1],\n       [62,  1],\n       [63,  1],\n       [64,  1],\n       [65,  1],\n       [66,  1],\n       [67,  1],\n       [68,  1],\n       [69,  1],\n       [70,  1],\n       [71,  1],\n       [72,  1],\n       [73,  1],\n       [74,  1],\n       [75,  1],\n       [76,  1],\n       [77,  1],\n       [78,  1],\n       [79,  1],\n       [80,  1],\n       [81,  1],\n       [82,  1],\n       [83,  1],\n       [84,  1],\n       [85,  1],\n       [86,  1],\n       [87,  1],\n       [88,  1],\n       [89,  1],\n       [90,  1],\n       [91,  1],\n       [92,  1],\n       [93,  1],\n       [94,  1],\n       [95,  1],\n       [96,  1],\n       [97,  1],\n       [98,  1],\n       [99,  1]])"
     },
     "execution_count": 44,
     "metadata": {},
     "output_type": "execute_result"
    }
   ],
   "source": [
    "attribute"
   ],
   "metadata": {
    "collapsed": false,
    "ExecuteTime": {
     "end_time": "2023-11-30T21:11:34.734108600Z",
     "start_time": "2023-11-30T21:11:32.428792600Z"
    }
   },
   "id": "f71408d9bdde345c"
  },
  {
   "cell_type": "code",
   "execution_count": 45,
   "outputs": [
    {
     "name": "stdout",
     "output_type": "stream",
     "text": [
      "initial: 47\n"
     ]
    },
    {
     "data": {
      "text/plain": "0.13900160789489746"
     },
     "execution_count": 45,
     "metadata": {},
     "output_type": "execute_result"
    }
   ],
   "source": [
    "#fair_kemeny_rankings_greedy_1_t0=time()\n",
    "#fair_kemeny_rankings_greedy_1=mc.fair_kemeny_mc_rankings_greedy(rankings,attribute,groups,threshold,1)\n",
    "#fair_kemeny_rankings_greedy_1_t1=time()\n",
    "\n",
    "fair_kemeny_rankings_greedy_0_t0=time()\n",
    "fair_kemeny_rankings_greedy_0=mc.fair_kemeny_mc_rankings_greedy(rankings,attribute,groups,threshold,0)\n",
    "fair_kemeny_rankings_greedy_0_t1=time()\n",
    "\n",
    "#fair_kemeny_rankings_greedy_1_t1-fair_kemeny_rankings_greedy_1_t0,\n",
    "fair_kemeny_rankings_greedy_0_t1-fair_kemeny_rankings_greedy_0_t0"
   ],
   "metadata": {
    "collapsed": false,
    "ExecuteTime": {
     "end_time": "2023-11-30T21:11:34.734108600Z",
     "start_time": "2023-11-30T21:11:32.438318200Z"
    }
   },
   "id": "3a04441457519f7b"
  },
  {
   "cell_type": "code",
   "execution_count": 46,
   "outputs": [
    {
     "data": {
      "text/plain": "array([16., 21.,  3., 45., 19., 57., 49., 29., 36., 33.,  6.,  9., 26.,\n       66., 39., 73., 69., 76., 93., 86., 13., 82., 89., 63., 43., 79.,\n       53., 99., 95., 56.,  4.,  1., 22., 50., 12., 41., 32., 37., 20.,\n       34.,  8., 54., 10.,  5., 14.,  2.,  7.,  0., 15., 30., 28., 31.,\n       17., 25., 27., 11., 51., 38., 23., 85., 18., 52., 42., 24., 48.,\n       55., 46., 83., 74., 35., 47., 96., 75., 44., 70., 67., 40., 68.,\n       80., 84., 59., 60., 77., 92., 81., 91., 64., 97., 87., 61., 94.,\n       71., 65., 58., 62., 78., 90., 98., 88., 72.])"
     },
     "execution_count": 46,
     "metadata": {},
     "output_type": "execute_result"
    }
   ],
   "source": [
    "fair_kemeny_rankings_greedy_0"
   ],
   "metadata": {
    "collapsed": false,
    "ExecuteTime": {
     "end_time": "2023-11-30T21:11:34.734108600Z",
     "start_time": "2023-11-30T21:11:32.586343900Z"
    }
   },
   "id": "356c5f95ed3ecd4c"
  },
  {
   "cell_type": "code",
   "execution_count": 47,
   "outputs": [
    {
     "data": {
      "text/plain": "(array([47, 31, 45,  2, 30, 43, 10, 46, 40, 11, 42, 55, 34, 20, 44, 48,  0,\n        52, 60,  4, 38,  1, 32, 58, 63, 53, 12, 54, 50,  7, 49, 51, 36,  9,\n        39, 69,  8, 37, 57, 14, 76, 35, 62, 24, 73,  3, 66, 70, 64,  6, 33,\n        56, 61, 26, 41, 65, 29,  5, 93, 80, 81, 89, 94, 23, 86, 92, 13, 75,\n        77, 16, 74, 91, 99, 15, 68, 72, 17, 82, 95, 25, 78, 84, 21, 67, 79,\n        59, 19, 88, 98, 22, 96, 85, 83, 18, 90, 28, 71, 87, 97, 27],\n       dtype=int64),\n 22614)"
     },
     "execution_count": 47,
     "metadata": {},
     "output_type": "execute_result"
    }
   ],
   "source": [
    "fair_kemeny_rankings_greedy_0_dist=ul.kemeny_dist(rankings,fair_kemeny_rankings_greedy_0)\n",
    "fair_kemeny_ranking_greedy_0_permutation=np.argsort(fair_kemeny_rankings_greedy_0)\n",
    "fair_kemeny_ranking_greedy_0_permutation,fair_kemeny_rankings_greedy_0_dist"
   ],
   "metadata": {
    "collapsed": false,
    "ExecuteTime": {
     "end_time": "2023-11-30T21:11:34.737112400Z",
     "start_time": "2023-11-30T21:11:32.612195600Z"
    }
   },
   "id": "8a56504c27979470"
  },
  {
   "cell_type": "code",
   "execution_count": 48,
   "outputs": [
    {
     "data": {
      "text/plain": "-0.03619047619047619"
     },
     "execution_count": 48,
     "metadata": {},
     "output_type": "execute_result"
    }
   ],
   "source": [
    "fair_kemeny_ranking_greedy_0_m=np.c_[np.arange(30),fair_kemeny_rankings_greedy_0[:30]]\n",
    "fair_kemeny_ranking_greedy_0_w=np.c_[np.arange(30,100),fair_kemeny_rankings_greedy_0[30:]]\n",
    "parity_optimal_fair_kemeny_ranking_greedy_0=metrics.pairwise_statistical_parity(fair_kemeny_ranking_greedy_0_m,fair_kemeny_ranking_greedy_0_w)\n",
    "parity_optimal_fair_kemeny_ranking_greedy_0"
   ],
   "metadata": {
    "collapsed": false,
    "ExecuteTime": {
     "end_time": "2023-11-30T21:11:34.737112400Z",
     "start_time": "2023-11-30T21:11:32.790692400Z"
    }
   },
   "id": "1427d6e97cce5c7e"
  },
  {
   "cell_type": "code",
   "execution_count": 49,
   "outputs": [],
   "source": [
    "satisfied_array=[]\n",
    "k_threshold=0.05\n",
    "for k in range(1,100):\n",
    "    ranking =pd.DataFrame(columns=['id', 'ranker'])\n",
    "    ranking[\"id\"]=np.arange(0,100,1)\n",
    "    ranking[\"ranker\"]=fair_kemeny_rankings_greedy_0\n",
    "    ranking_m =ranking.head(30).to_numpy()\n",
    "    ranking_w =ranking.tail(70).to_numpy()\n",
    "    rankings_fair=np.array([ranking_m,ranking_w], dtype=object)\n",
    "    satisfied=metrics.top_k_parity(rankings_fair,k,k-threshold )\n",
    "    satisfied_array.append([\"ranker\",k,satisfied])"
   ],
   "metadata": {
    "collapsed": false,
    "ExecuteTime": {
     "end_time": "2023-11-30T21:11:34.738109700Z",
     "start_time": "2023-11-30T21:11:32.804398700Z"
    }
   },
   "id": "198e9242bf3888f5"
  },
  {
   "cell_type": "code",
   "execution_count": 50,
   "outputs": [
    {
     "data": {
      "text/plain": "array([['ranker', '1', 'True'],\n       ['ranker', '2', 'True'],\n       ['ranker', '3', 'True'],\n       ['ranker', '4', 'True'],\n       ['ranker', '5', 'True'],\n       ['ranker', '6', 'True'],\n       ['ranker', '7', 'True'],\n       ['ranker', '8', 'True'],\n       ['ranker', '9', 'True'],\n       ['ranker', '10', 'True'],\n       ['ranker', '11', 'True'],\n       ['ranker', '12', 'True'],\n       ['ranker', '13', 'True'],\n       ['ranker', '14', 'True'],\n       ['ranker', '15', 'True'],\n       ['ranker', '16', 'True'],\n       ['ranker', '17', 'True'],\n       ['ranker', '18', 'True'],\n       ['ranker', '19', 'True'],\n       ['ranker', '20', 'True'],\n       ['ranker', '21', 'True'],\n       ['ranker', '22', 'True'],\n       ['ranker', '23', 'True'],\n       ['ranker', '24', 'True'],\n       ['ranker', '25', 'True'],\n       ['ranker', '26', 'True'],\n       ['ranker', '27', 'True'],\n       ['ranker', '28', 'True'],\n       ['ranker', '29', 'True'],\n       ['ranker', '30', 'True'],\n       ['ranker', '31', 'True'],\n       ['ranker', '32', 'True'],\n       ['ranker', '33', 'True'],\n       ['ranker', '34', 'True'],\n       ['ranker', '35', 'True'],\n       ['ranker', '36', 'True'],\n       ['ranker', '37', 'True'],\n       ['ranker', '38', 'True'],\n       ['ranker', '39', 'True'],\n       ['ranker', '40', 'True'],\n       ['ranker', '41', 'True'],\n       ['ranker', '42', 'True'],\n       ['ranker', '43', 'True'],\n       ['ranker', '44', 'True'],\n       ['ranker', '45', 'True'],\n       ['ranker', '46', 'True'],\n       ['ranker', '47', 'True'],\n       ['ranker', '48', 'True'],\n       ['ranker', '49', 'True'],\n       ['ranker', '50', 'True'],\n       ['ranker', '51', 'True'],\n       ['ranker', '52', 'True'],\n       ['ranker', '53', 'True'],\n       ['ranker', '54', 'True'],\n       ['ranker', '55', 'True'],\n       ['ranker', '56', 'True'],\n       ['ranker', '57', 'True'],\n       ['ranker', '58', 'True'],\n       ['ranker', '59', 'True'],\n       ['ranker', '60', 'True'],\n       ['ranker', '61', 'True'],\n       ['ranker', '62', 'True'],\n       ['ranker', '63', 'True'],\n       ['ranker', '64', 'True'],\n       ['ranker', '65', 'True'],\n       ['ranker', '66', 'True'],\n       ['ranker', '67', 'True'],\n       ['ranker', '68', 'True'],\n       ['ranker', '69', 'True'],\n       ['ranker', '70', 'True'],\n       ['ranker', '71', 'True'],\n       ['ranker', '72', 'True'],\n       ['ranker', '73', 'True'],\n       ['ranker', '74', 'True'],\n       ['ranker', '75', 'True'],\n       ['ranker', '76', 'True'],\n       ['ranker', '77', 'True'],\n       ['ranker', '78', 'True'],\n       ['ranker', '79', 'True'],\n       ['ranker', '80', 'True'],\n       ['ranker', '81', 'True'],\n       ['ranker', '82', 'True'],\n       ['ranker', '83', 'True'],\n       ['ranker', '84', 'True'],\n       ['ranker', '85', 'True'],\n       ['ranker', '86', 'True'],\n       ['ranker', '87', 'True'],\n       ['ranker', '88', 'True'],\n       ['ranker', '89', 'True'],\n       ['ranker', '90', 'True'],\n       ['ranker', '91', 'True'],\n       ['ranker', '92', 'True'],\n       ['ranker', '93', 'True'],\n       ['ranker', '94', 'True'],\n       ['ranker', '95', 'True'],\n       ['ranker', '96', 'True'],\n       ['ranker', '97', 'True'],\n       ['ranker', '98', 'True'],\n       ['ranker', '99', 'True']], dtype='<U11')"
     },
     "execution_count": 50,
     "metadata": {},
     "output_type": "execute_result"
    }
   ],
   "source": [
    "satisfied_array=np.array(satisfied_array)\n",
    "satisfied_array"
   ],
   "metadata": {
    "collapsed": false,
    "ExecuteTime": {
     "end_time": "2023-11-30T21:11:34.739110300Z",
     "start_time": "2023-11-30T21:11:32.948515100Z"
    }
   },
   "id": "678f30cf210a0e28"
  },
  {
   "cell_type": "code",
   "execution_count": 51,
   "outputs": [
    {
     "data": {
      "text/plain": "array([['ranker', '1', 'True'],\n       ['ranker', '2', 'True'],\n       ['ranker', '3', 'True'],\n       ['ranker', '4', 'True'],\n       ['ranker', '5', 'True'],\n       ['ranker', '6', 'True'],\n       ['ranker', '7', 'True'],\n       ['ranker', '8', 'True'],\n       ['ranker', '9', 'True'],\n       ['ranker', '10', 'True'],\n       ['ranker', '11', 'True'],\n       ['ranker', '12', 'True'],\n       ['ranker', '13', 'True'],\n       ['ranker', '14', 'True'],\n       ['ranker', '15', 'True'],\n       ['ranker', '16', 'True'],\n       ['ranker', '17', 'True'],\n       ['ranker', '18', 'True'],\n       ['ranker', '19', 'True'],\n       ['ranker', '20', 'True'],\n       ['ranker', '21', 'True'],\n       ['ranker', '22', 'True'],\n       ['ranker', '23', 'True'],\n       ['ranker', '24', 'True'],\n       ['ranker', '25', 'True'],\n       ['ranker', '26', 'True'],\n       ['ranker', '27', 'True'],\n       ['ranker', '28', 'True'],\n       ['ranker', '29', 'True'],\n       ['ranker', '30', 'True'],\n       ['ranker', '31', 'True'],\n       ['ranker', '32', 'True'],\n       ['ranker', '33', 'True'],\n       ['ranker', '34', 'True'],\n       ['ranker', '35', 'True'],\n       ['ranker', '36', 'True'],\n       ['ranker', '37', 'True'],\n       ['ranker', '38', 'True'],\n       ['ranker', '39', 'True'],\n       ['ranker', '40', 'True'],\n       ['ranker', '41', 'True'],\n       ['ranker', '42', 'True'],\n       ['ranker', '43', 'True'],\n       ['ranker', '44', 'True'],\n       ['ranker', '45', 'True'],\n       ['ranker', '46', 'True'],\n       ['ranker', '47', 'True'],\n       ['ranker', '48', 'True'],\n       ['ranker', '49', 'True'],\n       ['ranker', '50', 'True'],\n       ['ranker', '51', 'True'],\n       ['ranker', '52', 'True'],\n       ['ranker', '53', 'True'],\n       ['ranker', '54', 'True'],\n       ['ranker', '55', 'True'],\n       ['ranker', '56', 'True'],\n       ['ranker', '57', 'True'],\n       ['ranker', '58', 'True'],\n       ['ranker', '59', 'True'],\n       ['ranker', '60', 'True'],\n       ['ranker', '61', 'True'],\n       ['ranker', '62', 'True'],\n       ['ranker', '63', 'True'],\n       ['ranker', '64', 'True'],\n       ['ranker', '65', 'True'],\n       ['ranker', '66', 'True'],\n       ['ranker', '67', 'True'],\n       ['ranker', '68', 'True'],\n       ['ranker', '69', 'True'],\n       ['ranker', '70', 'True'],\n       ['ranker', '71', 'True'],\n       ['ranker', '72', 'True'],\n       ['ranker', '73', 'True'],\n       ['ranker', '74', 'True'],\n       ['ranker', '75', 'True'],\n       ['ranker', '76', 'True'],\n       ['ranker', '77', 'True'],\n       ['ranker', '78', 'True'],\n       ['ranker', '79', 'True'],\n       ['ranker', '80', 'True'],\n       ['ranker', '81', 'True'],\n       ['ranker', '82', 'True'],\n       ['ranker', '83', 'True'],\n       ['ranker', '84', 'True'],\n       ['ranker', '85', 'True'],\n       ['ranker', '86', 'True'],\n       ['ranker', '87', 'True'],\n       ['ranker', '88', 'True'],\n       ['ranker', '89', 'True'],\n       ['ranker', '90', 'True'],\n       ['ranker', '91', 'True'],\n       ['ranker', '92', 'True'],\n       ['ranker', '93', 'True'],\n       ['ranker', '94', 'True'],\n       ['ranker', '95', 'True'],\n       ['ranker', '96', 'True'],\n       ['ranker', '97', 'True'],\n       ['ranker', '98', 'True'],\n       ['ranker', '99', 'True']], dtype='<U11')"
     },
     "execution_count": 51,
     "metadata": {},
     "output_type": "execute_result"
    }
   ],
   "source": [
    "satisfied_array=np.array(satisfied_array)\n",
    "satisfied_array"
   ],
   "metadata": {
    "collapsed": false,
    "ExecuteTime": {
     "end_time": "2023-11-30T21:11:34.757111400Z",
     "start_time": "2023-11-30T21:11:32.958350200Z"
    }
   },
   "id": "ce5bb71364fc80fc"
  },
  {
   "cell_type": "code",
   "execution_count": 51,
   "outputs": [],
   "source": [],
   "metadata": {
    "collapsed": false,
    "ExecuteTime": {
     "end_time": "2023-11-30T21:11:34.757111400Z",
     "start_time": "2023-11-30T21:11:32.968796Z"
    }
   },
   "id": "1f1487083221af7b"
  },
  {
   "cell_type": "code",
   "execution_count": 52,
   "outputs": [
    {
     "name": "stdout",
     "output_type": "stream",
     "text": [
      "[ 0.  8.  8.  9.  9.  9.  9.  8.  8.  9.  7.  8.  8.  9.  8.  8.  8.  9.\n",
      " 10.  9.  6.  8. 11.  9.  8.  8.  6. 10.  9.  8.  6.  4.  6.  8.  6.  8.\n",
      "  7.  7.  8.  6.  6.  8.  5.  6.  4.  3.  5.  3.  5.  7.  6.  6.  5.  5.\n",
      "  6.  4.  6.  6.  5.  8.  4.  6.  6.  6.  6.  6.  4.  6.  6.  4.  5.  8.\n",
      "  6.  5.  6.  7.  5.  6.  6.  7.  6.  5.  6.  6.  5.  6.  6.  6.  6.  5.\n",
      "  7.  6.  4.  5.  6.  6.  6.  6.  6.  6.]\n",
      "[649. 728. 728. 621. 624. 579. 548. 603. 589. 596. 683. 660. 620. 484.\n",
      " 583. 428. 477. 426. 356. 396. 650. 489. 364. 488. 581. 420. 524. 354.\n",
      " 408. 510. 841. 874. 725. 617. 782. 643. 670. 662. 753. 662. 792. 587.\n",
      " 782. 810. 772. 864. 799. 875. 760. 684. 686. 672. 749. 692. 688. 775.\n",
      " 615. 647. 700. 491. 749. 598. 638. 702. 621. 579. 624. 495. 519. 662.\n",
      " 617. 390. 516. 635. 531. 536. 637. 536. 505. 493. 563. 567. 510. 459.\n",
      " 496. 463. 553. 373. 486. 560. 435. 524. 548. 570. 549. 502. 467. 364.\n",
      " 474. 519.]\n",
      "0\n",
      "1\n",
      "2\n",
      "3\n",
      "4\n",
      "5\n",
      "6\n",
      "7\n",
      "8\n",
      "9\n",
      "10\n",
      "11\n",
      "12\n",
      "13\n",
      "14\n",
      "15\n",
      "16\n",
      "17\n",
      "18\n",
      "19\n",
      "20\n",
      "21\n",
      "22\n",
      "23\n",
      "24\n",
      "25\n",
      "26\n",
      "27\n",
      "28\n",
      "29\n",
      "30\n",
      "31\n",
      "32\n",
      "33\n",
      "34\n",
      "35\n",
      "36\n",
      "37\n",
      "38\n",
      "39\n",
      "40\n",
      "41\n",
      "42\n",
      "43\n",
      "44\n",
      "45\n",
      "46\n",
      "47\n",
      "48\n",
      "49\n",
      "50\n",
      "51\n",
      "52\n",
      "53\n",
      "54\n",
      "55\n",
      "56\n",
      "57\n",
      "58\n",
      "59\n",
      "60\n",
      "61\n",
      "62\n",
      "63\n",
      "64\n",
      "65\n",
      "66\n",
      "67\n",
      "68\n",
      "69\n",
      "70\n",
      "71\n",
      "72\n",
      "73\n",
      "74\n",
      "75\n",
      "76\n",
      "77\n",
      "78\n",
      "79\n",
      "80\n",
      "81\n",
      "82\n",
      "83\n",
      "84\n",
      "85\n",
      "86\n",
      "87\n",
      "88\n",
      "89\n",
      "90\n",
      "91\n",
      "92\n",
      "93\n",
      "94\n",
      "95\n",
      "96\n",
      "97\n",
      "98\n",
      "99\n",
      "[0.52379167 0.00366667 0.00366667 0.002875   0.002875   0.002875\n",
      " 0.002875   0.00366667 0.00366667 0.002875   0.00445833 0.00366667\n",
      " 0.00366667 0.002875   0.00366667 0.00366667 0.00366667 0.002875\n",
      " 0.00208333 0.002875   0.00525    0.00366667 0.00129167 0.002875\n",
      " 0.00366667 0.00366667 0.00525    0.00208333 0.002875   0.00366667\n",
      " 0.00525    0.00683333 0.00525    0.00366667 0.00525    0.00366667\n",
      " 0.00445833 0.00445833 0.00366667 0.00525    0.00525    0.00366667\n",
      " 0.00604167 0.00525    0.00683333 0.007625   0.00604167 0.007625\n",
      " 0.00604167 0.00445833 0.00525    0.00525    0.00604167 0.00604167\n",
      " 0.00525    0.00683333 0.00525    0.00525    0.00604167 0.00366667\n",
      " 0.00683333 0.00525    0.00525    0.00525    0.00525    0.00525\n",
      " 0.00683333 0.00525    0.00525    0.00683333 0.00604167 0.00366667\n",
      " 0.00525    0.00604167 0.00525    0.00445833 0.00604167 0.00525\n",
      " 0.00525    0.00445833 0.00525    0.00604167 0.00525    0.00525\n",
      " 0.00604167 0.00525    0.00525    0.00525    0.00525    0.00604167\n",
      " 0.00445833 0.00525    0.00683333 0.00604167 0.00525    0.00525\n",
      " 0.00525    0.00525    0.00525    0.00525   ]\n",
      "[1.+0.j]\n",
      "[ 0.  8.  8.  9.  9.  9.  9.  8.  8.  9.  7.  8.  8.  9.  8.  8.  8.  9.\n",
      " 10.  9.  6.  8. 11.  9.  8.  8.  6. 10.  9.  8.  6.  4.  6.  8.  6.  8.\n",
      "  7.  7.  8.  6.  6.  8.  5.  6.  4.  3.  5.  3.  5.  7.  6.  6.  5.  5.\n",
      "  6.  4.  6.  6.  5.  8.  4.  6.  6.  6.  6.  6.  4.  6.  6.  4.  5.  8.\n",
      "  6.  5.  6.  7.  5.  6.  6.  7.  6.  5.  6.  6.  5.  6.  6.  6.  6.  5.\n",
      "  7.  6.  4.  5.  6.  6.  6.  6.  6.  6.]\n",
      "[649. 728. 728. 621. 624. 579. 548. 603. 589. 596. 683. 660. 620. 484.\n",
      " 583. 428. 477. 426. 356. 396. 650. 489. 364. 488. 581. 420. 524. 354.\n",
      " 408. 510. 841. 874. 725. 617. 782. 643. 670. 662. 753. 662. 792. 587.\n",
      " 782. 810. 772. 864. 799. 875. 760. 684. 686. 672. 749. 692. 688. 775.\n",
      " 615. 647. 700. 491. 749. 598. 638. 702. 621. 579. 624. 495. 519. 662.\n",
      " 617. 390. 516. 635. 531. 536. 637. 536. 505. 493. 563. 567. 510. 459.\n",
      " 496. 463. 553. 373. 486. 560. 435. 524. 548. 570. 549. 502. 467. 364.\n",
      " 474. 519.]\n",
      "[0.50949167 0.0061     0.0061     0.005225   0.00525    0.004875\n",
      " 0.00461667 0.00505833 0.00494167 0.00501667 0.00570833 0.00553333\n",
      " 0.0052     0.00408333 0.00489167 0.0036     0.00400833 0.0036\n",
      " 0.00303333 0.00335    0.00541667 0.00410833 0.00311667 0.00411667\n",
      " 0.004875   0.00353333 0.00436667 0.00301667 0.00345    0.00428333\n",
      " 0.00700833 0.00725    0.00604167 0.005175   0.00651667 0.00539167\n",
      " 0.0056     0.00553333 0.00630833 0.00551667 0.0066     0.004925\n",
      " 0.0065     0.00675    0.0064     0.00715    0.00664167 0.00724167\n",
      " 0.00631667 0.00571667 0.00571667 0.0056     0.006225   0.00575\n",
      " 0.00573333 0.006425   0.005125   0.00539167 0.00581667 0.004125\n",
      " 0.00620833 0.00498333 0.00531667 0.00585    0.005175   0.004825\n",
      " 0.00516667 0.004125   0.004325   0.00548333 0.005125   0.00328333\n",
      " 0.0043     0.005275   0.004425   0.00448333 0.00529167 0.00446667\n",
      " 0.00420833 0.004125   0.00469167 0.00470833 0.00425    0.003825\n",
      " 0.00411667 0.00385833 0.00460833 0.00310833 0.00405    0.00465\n",
      " 0.00364167 0.00436667 0.00453333 0.00473333 0.004575   0.00418333\n",
      " 0.00389167 0.00303333 0.00395    0.004325  ]\n",
      "[1.+0.j]\n"
     ]
    },
    {
     "data": {
      "text/plain": "(array([31, 16, 17, 38, 34, 52, 58, 42, 48, 45, 18, 28, 39, 77, 51, 90, 80,\n        89, 98, 93, 29, 72, 94, 74, 49, 88, 63, 95, 92, 64,  3,  0, 14, 37,\n         7, 32, 22, 27, 11, 26,  5, 50,  8,  4,  9,  2,  6,  1, 12, 25, 23,\n        30, 13, 21, 24, 10, 47, 35, 20, 84, 15, 53, 40, 19, 46, 55, 43, 83,\n        71, 33, 44, 97, 73, 41, 69, 66, 36, 65, 76, 79, 59, 57, 75, 86, 78,\n        87, 62, 96, 81, 56, 91, 67, 61, 54, 60, 70, 85, 99, 82, 68],\n       dtype=int64),\n 0.14099740982055664,\n array([32, 16, 15, 41, 39, 54, 62, 46, 49, 48, 24, 30, 42, 82, 51, 89, 83,\n        90, 98, 93, 31, 79, 97, 80, 52, 91, 67, 99, 92, 72,  3,  1, 17, 44,\n         8, 34, 26, 29, 12, 28,  6, 50,  7,  4, 10,  2,  5,  0, 11, 23, 22,\n        25, 14, 20, 21,  9, 45, 33, 19, 78, 13, 47, 35, 18, 40, 53, 38, 76,\n        68, 27, 43, 94, 70, 37, 65, 63, 36, 64, 73, 77, 57, 56, 71, 87, 75,\n        86, 59, 95, 81, 58, 88, 66, 61, 55, 60, 74, 85, 96, 84, 69],\n       dtype=int64))"
     },
     "execution_count": 52,
     "metadata": {},
     "output_type": "execute_result"
    }
   ],
   "source": [
    "\n",
    "t0=time()\n",
    "agg_ranking_0=mc.aggregate_rank_mc(rankings,0)\n",
    "t1=time()\n",
    "agg_ranking_1=mc.aggregate_rank_mc(rankings,1)\n",
    "agg_ranking_0,t1-t0,agg_ranking_1"
   ],
   "metadata": {
    "collapsed": false,
    "ExecuteTime": {
     "end_time": "2023-11-30T21:11:34.758112Z",
     "start_time": "2023-11-30T21:11:32.976586700Z"
    }
   },
   "id": "fd96e6566fe900fb"
  },
  {
   "cell_type": "code",
   "execution_count": 53,
   "outputs": [
    {
     "data": {
      "text/plain": "(array([31, 47, 45, 30, 43, 40, 46, 34, 42, 44, 55, 38, 48, 52, 32, 60,  1,\n         2, 10, 63, 58, 53, 36, 50, 54, 49, 39, 37, 11, 20, 51,  0, 35, 69,\n         4, 57, 76, 33,  3, 12, 62, 73,  7, 66, 70,  9, 64, 56,  8, 24, 41,\n        14,  5, 61, 93, 65, 89, 81,  6, 80, 94, 92, 86, 26, 29, 77, 75, 91,\n        99, 74, 95, 68, 21, 72, 23, 82, 78, 13, 84, 79, 16, 88, 98, 67, 59,\n        96, 83, 85, 25, 17, 15, 90, 28, 19, 22, 27, 87, 71, 18, 97],\n       dtype=int64),\n array([47, 31, 45, 30, 43, 46, 40, 42, 34, 55, 44, 48, 38, 60, 52,  2,  1,\n        32, 63, 58, 53, 54, 50, 49, 10, 51, 36, 69, 39, 37, 11, 20,  0, 57,\n        35, 62, 76, 73, 66,  4, 64,  3, 12, 70, 33, 56,  7, 61,  9,  8, 41,\n        14, 24, 65,  5, 93, 81, 80, 89, 86, 94, 92,  6, 75, 77, 74, 91, 26,\n        68, 99, 72, 82, 29, 78, 95, 84, 67, 79, 59, 21, 23, 88, 13, 16, 98,\n        96, 85, 83, 90, 15, 17, 25, 28, 19, 71, 87, 97, 22, 18, 27],\n       dtype=int64),\n 22318,\n 22224)"
     },
     "execution_count": 53,
     "metadata": {},
     "output_type": "execute_result"
    }
   ],
   "source": [
    "agg_ranking_permutation_0=np.argsort(agg_ranking_0)\n",
    "agg_ranking_permutation_1=np.argsort(agg_ranking_1)\n",
    "agg_ranking_permutation_0,agg_ranking_permutation_1,ul.kemeny_dist(rankings,agg_ranking_0),ul.kemeny_dist(rankings,agg_ranking_1)"
   ],
   "metadata": {
    "collapsed": false,
    "ExecuteTime": {
     "end_time": "2023-11-30T21:11:34.760111300Z",
     "start_time": "2023-11-30T21:11:33.315885Z"
    }
   },
   "id": "11942c5b16cb1ee6"
  },
  {
   "cell_type": "code",
   "execution_count": 54,
   "outputs": [
    {
     "data": {
      "text/plain": "([31,\n  47,\n  45,\n  1,\n  30,\n  43,\n  2,\n  40,\n  46,\n  10,\n  34,\n  42,\n  44,\n  11,\n  55,\n  38,\n  20,\n  48,\n  52,\n  0,\n  32,\n  60,\n  63,\n  4,\n  58,\n  53,\n  3,\n  36,\n  50,\n  12,\n  54,\n  49,\n  39,\n  7,\n  37,\n  51,\n  9,\n  35,\n  69,\n  8,\n  57,\n  76,\n  33,\n  24,\n  62,\n  73,\n  14,\n  66,\n  70,\n  5,\n  64,\n  56,\n  41,\n  6,\n  61,\n  93,\n  26,\n  65,\n  89,\n  29,\n  81,\n  80,\n  94,\n  21,\n  92,\n  86,\n  23,\n  77,\n  75,\n  13,\n  91,\n  99,\n  74,\n  16,\n  95,\n  68,\n  25,\n  72,\n  82,\n  17,\n  78,\n  84,\n  79,\n  15,\n  88,\n  98,\n  28,\n  67,\n  59,\n  19,\n  96,\n  83,\n  85,\n  22,\n  90,\n  27,\n  87,\n  71,\n  18,\n  97],\n array([19.,  3.,  6., 26., 23., 49., 53., 33., 39., 36.,  9., 13., 29.,\n        69., 46., 83., 73., 79., 98., 89., 16., 63., 93., 66., 43., 76.,\n        56., 95., 86., 59.,  4.,  0., 20., 42., 10., 37., 27., 34., 15.,\n        32.,  7., 52., 11.,  5., 12.,  2.,  8.,  1., 17., 31., 28., 35.,\n        18., 25., 30., 14., 51., 40., 24., 88., 21., 54., 44., 22., 50.,\n        57., 47., 87., 75., 38., 48., 97., 77., 45., 72., 68., 41., 67.,\n        80., 82., 61., 60., 78., 91., 81., 92., 65., 96., 84., 58., 94.,\n        70., 64., 55., 62., 74., 90., 99., 85., 71.]))"
     },
     "execution_count": 54,
     "metadata": {},
     "output_type": "execute_result"
    }
   ],
   "source": [
    "fair_agg_ranking_permutation_0=ul.GrBinaryIPF(agg_ranking_permutation_0,attribute[:,1])\n",
    "fair_agg_ranking_0=np.zeros(len(fair_agg_ranking_permutation_0))\n",
    "for i in range(len(fair_agg_ranking_permutation_0)):\n",
    "    fair_agg_ranking_0[fair_agg_ranking_permutation_0[i]]=i\n",
    "fair_agg_ranking_permutation_0,fair_agg_ranking_0"
   ],
   "metadata": {
    "collapsed": false,
    "ExecuteTime": {
     "end_time": "2023-11-30T21:11:34.761110800Z",
     "start_time": "2023-11-30T21:11:33.833451700Z"
    }
   },
   "id": "64708f0ff1c080e4"
  },
  {
   "cell_type": "code",
   "execution_count": 55,
   "outputs": [
    {
     "data": {
      "text/plain": "([47,\n  31,\n  45,\n  2,\n  30,\n  43,\n  1,\n  46,\n  40,\n  10,\n  42,\n  34,\n  55,\n  11,\n  44,\n  48,\n  20,\n  38,\n  60,\n  0,\n  52,\n  32,\n  63,\n  4,\n  58,\n  53,\n  3,\n  54,\n  50,\n  12,\n  49,\n  51,\n  36,\n  7,\n  69,\n  39,\n  9,\n  37,\n  57,\n  8,\n  35,\n  62,\n  76,\n  14,\n  73,\n  66,\n  24,\n  64,\n  70,\n  5,\n  33,\n  56,\n  61,\n  6,\n  41,\n  65,\n  26,\n  93,\n  81,\n  29,\n  80,\n  89,\n  86,\n  21,\n  94,\n  92,\n  23,\n  75,\n  77,\n  13,\n  74,\n  91,\n  68,\n  16,\n  99,\n  72,\n  15,\n  82,\n  78,\n  17,\n  95,\n  84,\n  67,\n  25,\n  79,\n  59,\n  28,\n  88,\n  98,\n  19,\n  96,\n  85,\n  83,\n  22,\n  90,\n  71,\n  18,\n  87,\n  97,\n  27],\n array([19.,  6.,  3., 26., 23., 49., 53., 33., 39., 36.,  9., 13., 29.,\n        69., 43., 76., 73., 79., 96., 89., 16., 63., 93., 66., 46., 83.,\n        56., 99., 86., 59.,  4.,  1., 21., 50., 11., 40., 32., 37., 17.,\n        35.,  8., 54., 10.,  5., 14.,  2.,  7.,  0., 15., 30., 28., 31.,\n        20., 25., 27., 12., 51., 38., 24., 85., 18., 52., 41., 22., 47.,\n        55., 45., 82., 72., 34., 48., 95., 75., 44., 70., 67., 42., 68.,\n        78., 84., 60., 58., 77., 92., 81., 91., 62., 97., 87., 61., 94.,\n        71., 65., 57., 64., 80., 90., 98., 88., 74.]))"
     },
     "execution_count": 55,
     "metadata": {},
     "output_type": "execute_result"
    }
   ],
   "source": [
    "fair_agg_ranking_permutation_1=ul.GrBinaryIPF(agg_ranking_permutation_1,attribute[:,1])\n",
    "fair_agg_ranking_1=np.zeros(len(fair_agg_ranking_permutation_1))\n",
    "for i in range(len(fair_agg_ranking_permutation_1)):\n",
    "    fair_agg_ranking_1[fair_agg_ranking_permutation_1[i]]=i\n",
    "fair_agg_ranking_permutation_1,fair_agg_ranking_1"
   ],
   "metadata": {
    "collapsed": false,
    "ExecuteTime": {
     "end_time": "2023-11-30T21:11:34.761110800Z",
     "start_time": "2023-11-30T21:11:33.850205400Z"
    }
   },
   "id": "27bd438c5da38921"
  },
  {
   "cell_type": "code",
   "execution_count": 56,
   "outputs": [
    {
     "data": {
      "text/plain": "22546"
     },
     "execution_count": 56,
     "metadata": {},
     "output_type": "execute_result"
    }
   ],
   "source": [
    "fair_agg_ranking_distance_0=ul.kemeny_dist(rankings,fair_agg_ranking_0)\n",
    "fair_agg_ranking_distance_0"
   ],
   "metadata": {
    "collapsed": false,
    "ExecuteTime": {
     "end_time": "2023-11-30T21:11:34.762110900Z",
     "start_time": "2023-11-30T21:11:33.859442300Z"
    }
   },
   "id": "b13e2fe52e8cdb0c"
  },
  {
   "cell_type": "code",
   "execution_count": 57,
   "outputs": [
    {
     "data": {
      "text/plain": "22544"
     },
     "execution_count": 57,
     "metadata": {},
     "output_type": "execute_result"
    }
   ],
   "source": [
    "fair_agg_ranking_distance_1=ul.kemeny_dist(rankings,fair_agg_ranking_1)\n",
    "fair_agg_ranking_distance_1"
   ],
   "metadata": {
    "collapsed": false,
    "ExecuteTime": {
     "end_time": "2023-11-30T21:11:34.771109Z",
     "start_time": "2023-11-30T21:11:34.027946800Z"
    }
   },
   "id": "989a639992b95e0f"
  },
  {
   "cell_type": "code",
   "execution_count": 58,
   "outputs": [
    {
     "data": {
      "text/plain": "-0.040952380952380955"
     },
     "execution_count": 58,
     "metadata": {},
     "output_type": "execute_result"
    }
   ],
   "source": [
    "fair_agg_ranking_0_m=np.c_[np.arange(30),fair_agg_ranking_0[:30]]\n",
    "fair_agg_ranking_0_w=np.c_[np.arange(30,100),fair_agg_ranking_0[30:]]\n",
    "parity_fair_agg_ranking_0=metrics.pairwise_statistical_parity(fair_agg_ranking_0_m,fair_agg_ranking_0_w)\n",
    "parity_fair_agg_ranking_0"
   ],
   "metadata": {
    "collapsed": false,
    "ExecuteTime": {
     "end_time": "2023-11-30T21:11:34.771109Z",
     "start_time": "2023-11-30T21:11:34.222186700Z"
    }
   },
   "id": "6a38dddfabcdfc6e"
  },
  {
   "cell_type": "code",
   "execution_count": 59,
   "outputs": [
    {
     "data": {
      "text/plain": "-0.04285714285714286"
     },
     "execution_count": 59,
     "metadata": {},
     "output_type": "execute_result"
    }
   ],
   "source": [
    "fair_agg_ranking_1_m=np.c_[np.arange(30),fair_agg_ranking_1[:30]]\n",
    "fair_agg_ranking_1_w=np.c_[np.arange(30,100),fair_agg_ranking_1[30:]]\n",
    "parity_fair_agg_ranking_1=metrics.pairwise_statistical_parity(fair_agg_ranking_1_m,fair_agg_ranking_1_w)\n",
    "parity_fair_agg_ranking_1"
   ],
   "metadata": {
    "collapsed": false,
    "ExecuteTime": {
     "end_time": "2023-11-30T21:11:34.772110Z",
     "start_time": "2023-11-30T21:11:34.236588800Z"
    }
   },
   "id": "c2778885e989e817"
  },
  {
   "cell_type": "code",
   "execution_count": 60,
   "outputs": [
    {
     "name": "stdout",
     "output_type": "stream",
     "text": [
      "['ranker', 1, True]\n",
      "['ranker', 2, True]\n",
      "['ranker', 3, True]\n",
      "['ranker', 4, False]\n",
      "['ranker', 5, False]\n",
      "['ranker', 6, False]\n",
      "['ranker', 7, False]\n",
      "['ranker', 8, False]\n",
      "['ranker', 9, False]\n",
      "['ranker', 10, False]\n",
      "['ranker', 11, False]\n",
      "['ranker', 12, False]\n",
      "['ranker', 13, False]\n",
      "['ranker', 14, False]\n",
      "['ranker', 15, False]\n",
      "['ranker', 16, False]\n",
      "['ranker', 17, False]\n",
      "['ranker', 18, False]\n",
      "['ranker', 19, False]\n",
      "['ranker', 20, False]\n",
      "['ranker', 21, False]\n",
      "['ranker', 22, False]\n",
      "['ranker', 23, False]\n",
      "['ranker', 24, False]\n",
      "['ranker', 25, False]\n",
      "['ranker', 26, False]\n",
      "['ranker', 27, False]\n",
      "['ranker', 28, False]\n",
      "['ranker', 29, False]\n",
      "['ranker', 30, False]\n",
      "['ranker', 31, False]\n",
      "['ranker', 32, False]\n",
      "['ranker', 33, False]\n",
      "['ranker', 34, False]\n",
      "['ranker', 35, False]\n",
      "['ranker', 36, False]\n",
      "['ranker', 37, False]\n",
      "['ranker', 38, False]\n",
      "['ranker', 39, False]\n",
      "['ranker', 40, False]\n",
      "['ranker', 41, False]\n",
      "['ranker', 42, False]\n",
      "['ranker', 43, False]\n",
      "['ranker', 44, False]\n",
      "['ranker', 45, False]\n",
      "['ranker', 46, False]\n",
      "['ranker', 47, False]\n",
      "['ranker', 48, False]\n",
      "['ranker', 49, False]\n",
      "['ranker', 50, False]\n",
      "['ranker', 51, False]\n",
      "['ranker', 52, False]\n",
      "['ranker', 53, True]\n",
      "['ranker', 54, False]\n",
      "['ranker', 55, False]\n",
      "['ranker', 56, False]\n",
      "['ranker', 57, False]\n",
      "['ranker', 58, False]\n",
      "['ranker', 59, False]\n",
      "['ranker', 60, False]\n",
      "['ranker', 61, False]\n",
      "['ranker', 62, False]\n",
      "['ranker', 63, False]\n",
      "['ranker', 64, False]\n",
      "['ranker', 65, False]\n",
      "['ranker', 66, False]\n",
      "['ranker', 67, False]\n",
      "['ranker', 68, False]\n",
      "['ranker', 69, False]\n",
      "['ranker', 70, False]\n",
      "['ranker', 71, False]\n",
      "['ranker', 72, False]\n",
      "['ranker', 73, False]\n",
      "['ranker', 74, False]\n",
      "['ranker', 75, False]\n",
      "['ranker', 76, False]\n",
      "['ranker', 77, False]\n",
      "['ranker', 78, False]\n",
      "['ranker', 79, False]\n",
      "['ranker', 80, False]\n",
      "['ranker', 81, False]\n",
      "['ranker', 82, False]\n",
      "['ranker', 83, False]\n",
      "['ranker', 84, False]\n",
      "['ranker', 85, False]\n",
      "['ranker', 86, False]\n",
      "['ranker', 87, False]\n",
      "['ranker', 88, False]\n",
      "['ranker', 89, False]\n",
      "['ranker', 90, False]\n",
      "['ranker', 91, False]\n",
      "['ranker', 92, False]\n",
      "['ranker', 93, False]\n",
      "['ranker', 94, False]\n",
      "['ranker', 95, True]\n",
      "['ranker', 96, True]\n",
      "['ranker', 97, True]\n",
      "['ranker', 98, True]\n",
      "['ranker', 99, True]\n"
     ]
    }
   ],
   "source": [
    "agg_ranking_0_satisfied_array=[]\n",
    "k_threshold=threshold\n",
    "for k in range(1,100):\n",
    "    agg_ranking_0_k =pd.DataFrame(columns=['id', 'ranker'])\n",
    "    agg_ranking_0_k[\"id\"]=np.arange(0,100,1)\n",
    "    agg_ranking_0_k[\"ranker\"]=agg_ranking_0\n",
    "    agg_ranking_0_k_m =agg_ranking_0_k.head(30).to_numpy()\n",
    "    agg_ranking_0_k_w =agg_ranking_0_k.tail(70).to_numpy()\n",
    "    agg_ranking_0_k_groups=np.array([agg_ranking_0_k_m,agg_ranking_0_k_w], dtype=object)\n",
    "    agg_ranking_0_k_satisfied=metrics.top_k_parity(agg_ranking_0_k_groups,k,k_threshold )\n",
    "    print([\"ranker\",k,agg_ranking_0_k_satisfied])\n",
    "    agg_ranking_0_satisfied_array.append([\"ranker\",k,agg_ranking_0_k_satisfied])\n"
   ],
   "metadata": {
    "collapsed": false,
    "ExecuteTime": {
     "end_time": "2023-11-30T21:11:34.772110Z",
     "start_time": "2023-11-30T21:11:34.247940500Z"
    }
   },
   "id": "4872eaeac48594d8"
  },
  {
   "cell_type": "code",
   "execution_count": 61,
   "outputs": [
    {
     "data": {
      "text/plain": "[['ranker', 1, True],\n ['ranker', 2, True],\n ['ranker', 3, True],\n ['ranker', 4, False],\n ['ranker', 5, False],\n ['ranker', 6, False],\n ['ranker', 7, False],\n ['ranker', 8, False],\n ['ranker', 9, False],\n ['ranker', 10, False],\n ['ranker', 11, False],\n ['ranker', 12, False],\n ['ranker', 13, False],\n ['ranker', 14, False],\n ['ranker', 15, False],\n ['ranker', 16, False],\n ['ranker', 17, False],\n ['ranker', 18, False],\n ['ranker', 19, False],\n ['ranker', 20, False],\n ['ranker', 21, False],\n ['ranker', 22, False],\n ['ranker', 23, False],\n ['ranker', 24, False],\n ['ranker', 25, False],\n ['ranker', 26, False],\n ['ranker', 27, False],\n ['ranker', 28, False],\n ['ranker', 29, False],\n ['ranker', 30, False],\n ['ranker', 31, False],\n ['ranker', 32, False],\n ['ranker', 33, False],\n ['ranker', 34, False],\n ['ranker', 35, False],\n ['ranker', 36, False],\n ['ranker', 37, False],\n ['ranker', 38, False],\n ['ranker', 39, False],\n ['ranker', 40, False],\n ['ranker', 41, False],\n ['ranker', 42, False],\n ['ranker', 43, False],\n ['ranker', 44, False],\n ['ranker', 45, False],\n ['ranker', 46, False],\n ['ranker', 47, False],\n ['ranker', 48, False],\n ['ranker', 49, False],\n ['ranker', 50, False],\n ['ranker', 51, False],\n ['ranker', 52, False],\n ['ranker', 53, True],\n ['ranker', 54, False],\n ['ranker', 55, False],\n ['ranker', 56, False],\n ['ranker', 57, False],\n ['ranker', 58, False],\n ['ranker', 59, False],\n ['ranker', 60, False],\n ['ranker', 61, False],\n ['ranker', 62, False],\n ['ranker', 63, False],\n ['ranker', 64, False],\n ['ranker', 65, False],\n ['ranker', 66, False],\n ['ranker', 67, False],\n ['ranker', 68, False],\n ['ranker', 69, False],\n ['ranker', 70, False],\n ['ranker', 71, False],\n ['ranker', 72, False],\n ['ranker', 73, False],\n ['ranker', 74, False],\n ['ranker', 75, False],\n ['ranker', 76, False],\n ['ranker', 77, False],\n ['ranker', 78, False],\n ['ranker', 79, False],\n ['ranker', 80, False],\n ['ranker', 81, False],\n ['ranker', 82, False],\n ['ranker', 83, False],\n ['ranker', 84, False],\n ['ranker', 85, False],\n ['ranker', 86, False],\n ['ranker', 87, False],\n ['ranker', 88, False],\n ['ranker', 89, False],\n ['ranker', 90, False],\n ['ranker', 91, False],\n ['ranker', 92, False],\n ['ranker', 93, False],\n ['ranker', 94, False],\n ['ranker', 95, True],\n ['ranker', 96, True],\n ['ranker', 97, True],\n ['ranker', 98, True],\n ['ranker', 99, True]]"
     },
     "execution_count": 61,
     "metadata": {},
     "output_type": "execute_result"
    }
   ],
   "source": [
    "agg_ranking_0_satisfied_array"
   ],
   "metadata": {
    "collapsed": false,
    "ExecuteTime": {
     "end_time": "2023-11-30T21:11:34.773110400Z",
     "start_time": "2023-11-30T21:11:34.391932Z"
    }
   },
   "id": "fca963029b8defaa"
  },
  {
   "cell_type": "code",
   "execution_count": 83,
   "outputs": [
    {
     "name": "stdout",
     "output_type": "stream",
     "text": [
      "['ranker', 1, True]\n",
      "['ranker', 2, True]\n",
      "['ranker', 3, True]\n",
      "['ranker', 4, False]\n",
      "['ranker', 5, False]\n",
      "['ranker', 6, False]\n",
      "['ranker', 7, False]\n",
      "['ranker', 8, False]\n",
      "['ranker', 9, False]\n",
      "['ranker', 10, False]\n",
      "['ranker', 11, False]\n",
      "['ranker', 12, False]\n",
      "['ranker', 13, False]\n",
      "['ranker', 14, False]\n",
      "['ranker', 15, False]\n",
      "['ranker', 16, False]\n",
      "['ranker', 17, False]\n",
      "['ranker', 18, False]\n",
      "['ranker', 19, False]\n",
      "['ranker', 20, False]\n",
      "['ranker', 21, False]\n",
      "['ranker', 22, False]\n",
      "['ranker', 23, False]\n",
      "['ranker', 24, False]\n",
      "['ranker', 25, False]\n",
      "['ranker', 26, False]\n",
      "['ranker', 27, False]\n",
      "['ranker', 28, False]\n",
      "['ranker', 29, False]\n",
      "['ranker', 30, False]\n",
      "['ranker', 31, False]\n",
      "['ranker', 32, False]\n",
      "['ranker', 33, False]\n",
      "['ranker', 34, False]\n",
      "['ranker', 35, False]\n",
      "['ranker', 36, False]\n",
      "['ranker', 37, False]\n",
      "['ranker', 38, False]\n",
      "['ranker', 39, False]\n",
      "['ranker', 40, False]\n",
      "['ranker', 41, False]\n",
      "['ranker', 42, False]\n",
      "['ranker', 43, False]\n",
      "['ranker', 44, False]\n",
      "['ranker', 45, False]\n",
      "['ranker', 46, False]\n",
      "['ranker', 47, False]\n",
      "['ranker', 48, False]\n",
      "['ranker', 49, False]\n",
      "['ranker', 50, False]\n",
      "['ranker', 51, False]\n",
      "['ranker', 52, False]\n",
      "['ranker', 53, False]\n",
      "['ranker', 54, False]\n",
      "['ranker', 55, False]\n",
      "['ranker', 56, False]\n",
      "['ranker', 57, False]\n",
      "['ranker', 58, False]\n",
      "['ranker', 59, False]\n",
      "['ranker', 60, False]\n",
      "['ranker', 61, False]\n",
      "['ranker', 62, False]\n",
      "['ranker', 63, False]\n",
      "['ranker', 64, False]\n",
      "['ranker', 65, False]\n",
      "['ranker', 66, False]\n",
      "['ranker', 67, False]\n",
      "['ranker', 68, False]\n",
      "['ranker', 69, False]\n",
      "['ranker', 70, False]\n",
      "['ranker', 71, False]\n",
      "['ranker', 72, False]\n",
      "['ranker', 73, False]\n",
      "['ranker', 74, False]\n",
      "['ranker', 75, False]\n",
      "['ranker', 76, False]\n",
      "['ranker', 77, False]\n",
      "['ranker', 78, False]\n",
      "['ranker', 79, False]\n",
      "['ranker', 80, False]\n",
      "['ranker', 81, False]\n",
      "['ranker', 82, False]\n",
      "['ranker', 83, False]\n",
      "['ranker', 84, False]\n",
      "['ranker', 85, False]\n",
      "['ranker', 86, False]\n",
      "['ranker', 87, False]\n",
      "['ranker', 88, False]\n",
      "['ranker', 89, False]\n",
      "['ranker', 90, False]\n",
      "['ranker', 91, False]\n",
      "['ranker', 92, False]\n",
      "['ranker', 93, False]\n",
      "['ranker', 94, False]\n",
      "['ranker', 95, False]\n",
      "['ranker', 96, False]\n",
      "['ranker', 97, False]\n",
      "['ranker', 98, False]\n",
      "['ranker', 99, True]\n"
     ]
    }
   ],
   "source": [
    "agg_ranking_0_satisfied_array=[]\n",
    "k_threshold=threshold\n",
    "for k in range(1,100):\n",
    "    agg_ranking_0_k =pd.DataFrame(columns=['id', 'ranker'])\n",
    "    agg_ranking_0_k[\"id\"]=np.arange(0,100,1)\n",
    "    agg_ranking_0_k[\"ranker\"]=agg_ranking_1\n",
    "    agg_ranking_0_k_m =agg_ranking_0_k.head(30).to_numpy()\n",
    "    agg_ranking_0_k_w =agg_ranking_0_k.tail(70).to_numpy()\n",
    "    agg_ranking_0_k_groups=np.array([agg_ranking_0_k_m,agg_ranking_0_k_w], dtype=object)\n",
    "    agg_ranking_0_k_satisfied=metrics.top_k_parity(agg_ranking_0_k_groups,k,k_threshold )\n",
    "    print([\"ranker\",k,agg_ranking_0_k_satisfied])\n",
    "    agg_ranking_0_satisfied_array.append([\"ranker\",k,agg_ranking_0_k_satisfied])"
   ],
   "metadata": {
    "collapsed": false,
    "ExecuteTime": {
     "end_time": "2023-11-30T21:25:49.354360Z",
     "start_time": "2023-11-30T21:25:49.202754200Z"
    }
   },
   "id": "48f37c4424c4920f"
  },
  {
   "cell_type": "code",
   "execution_count": null,
   "outputs": [],
   "source": [],
   "metadata": {
    "collapsed": false
   },
   "id": "5436372da4cfd1f2"
  },
  {
   "cell_type": "code",
   "execution_count": 62,
   "outputs": [],
   "source": [],
   "metadata": {
    "collapsed": false,
    "ExecuteTime": {
     "end_time": "2023-11-30T21:11:34.793110200Z",
     "start_time": "2023-11-30T21:11:34.575408800Z"
    }
   },
   "id": "ca472d44a76ecf2d"
  },
  {
   "cell_type": "code",
   "execution_count": 63,
   "outputs": [
    {
     "data": {
      "text/plain": "(array([[ 0, 31],\n        [ 1, 16],\n        [ 2, 17],\n        [ 3, 38],\n        [ 4, 34],\n        [ 5, 52],\n        [ 6, 58],\n        [ 7, 42],\n        [ 8, 48],\n        [ 9, 45],\n        [10, 18],\n        [11, 28],\n        [12, 39],\n        [13, 77],\n        [14, 51],\n        [15, 90],\n        [16, 80],\n        [17, 89],\n        [18, 98],\n        [19, 93],\n        [20, 29],\n        [21, 72],\n        [22, 94],\n        [23, 74],\n        [24, 49],\n        [25, 88],\n        [26, 63],\n        [27, 95],\n        [28, 92],\n        [29, 64]], dtype=int64),\n array([[30,  3],\n        [31,  0],\n        [32, 14],\n        [33, 37],\n        [34,  7],\n        [35, 32],\n        [36, 22],\n        [37, 27],\n        [38, 11],\n        [39, 26],\n        [40,  5],\n        [41, 50],\n        [42,  8],\n        [43,  4],\n        [44,  9],\n        [45,  2],\n        [46,  6],\n        [47,  1],\n        [48, 12],\n        [49, 25],\n        [50, 23],\n        [51, 30],\n        [52, 13],\n        [53, 21],\n        [54, 24],\n        [55, 10],\n        [56, 47],\n        [57, 35],\n        [58, 20],\n        [59, 84],\n        [60, 15],\n        [61, 53],\n        [62, 40],\n        [63, 19],\n        [64, 46],\n        [65, 55],\n        [66, 43],\n        [67, 83],\n        [68, 71],\n        [69, 33],\n        [70, 44],\n        [71, 97],\n        [72, 73],\n        [73, 41],\n        [74, 69],\n        [75, 66],\n        [76, 36],\n        [77, 65],\n        [78, 76],\n        [79, 79],\n        [80, 59],\n        [81, 57],\n        [82, 75],\n        [83, 86],\n        [84, 78],\n        [85, 87],\n        [86, 62],\n        [87, 96],\n        [88, 81],\n        [89, 56],\n        [90, 91],\n        [91, 67],\n        [92, 61],\n        [93, 54],\n        [94, 60],\n        [95, 70],\n        [96, 85],\n        [97, 99],\n        [98, 82],\n        [99, 68]], dtype=int64))"
     },
     "execution_count": 63,
     "metadata": {},
     "output_type": "execute_result"
    }
   ],
   "source": [
    "ranking_mc_0_m=np.c_[np.arange(30),agg_ranking_0[:30]]\n",
    "ranking_mc_0_w=np.c_[np.arange(30,100),agg_ranking_0[30:]]\n",
    "#ranking_mc_1_m=np.c_[np.arange(30),agg_ranking_1[:30]]\n",
    "#ranking_mc_1_w=np.c_[np.arange(30,100),agg_ranking_1[30:]]\n",
    "ranking_mc_0_m,ranking_mc_0_w,#ranking_mc_1_m,#ranking_mc_1_w"
   ],
   "metadata": {
    "collapsed": false,
    "ExecuteTime": {
     "end_time": "2023-11-30T21:11:34.793110200Z",
     "start_time": "2023-11-30T21:11:34.580933200Z"
    }
   },
   "id": "33e2e31d9146853d"
  },
  {
   "cell_type": "code",
   "execution_count": 64,
   "outputs": [
    {
     "data": {
      "text/plain": "(-0.26571428571428574,)"
     },
     "execution_count": 64,
     "metadata": {},
     "output_type": "execute_result"
    }
   ],
   "source": [
    "\n",
    "\n",
    "parity_mc_0=metrics.pairwise_statistical_parity(ranking_mc_0_m,ranking_mc_0_w)\n",
    "parity_mc_0,"
   ],
   "metadata": {
    "collapsed": false,
    "ExecuteTime": {
     "end_time": "2023-11-30T21:11:34.794110200Z",
     "start_time": "2023-11-30T21:11:34.591495800Z"
    }
   },
   "id": "6076af817e04d5c5"
  },
  {
   "cell_type": "code",
   "execution_count": 65,
   "outputs": [],
   "source": [
    "n_voter,n_candidate=rankings.shape"
   ],
   "metadata": {
    "collapsed": false,
    "ExecuteTime": {
     "end_time": "2023-11-30T21:11:34.794110200Z",
     "start_time": "2023-11-30T21:11:34.600998300Z"
    }
   },
   "id": "d542a0f88f0e0951"
  },
  {
   "cell_type": "code",
   "execution_count": 66,
   "outputs": [
    {
     "name": "stdout",
     "output_type": "stream",
     "text": [
      "1\n",
      "2\n",
      "3\n",
      "4\n",
      "5\n"
     ]
    }
   ],
   "source": [
    "kemeny_ranking=ul.aggregate_kemeny(n_voter,n_candidate,rankings)"
   ],
   "metadata": {
    "collapsed": false,
    "ExecuteTime": {
     "end_time": "2023-11-30T21:12:06.129743800Z",
     "start_time": "2023-11-30T21:11:34.611110400Z"
    }
   },
   "id": "9a0343295bb9a94f"
  },
  {
   "cell_type": "code",
   "execution_count": 67,
   "outputs": [
    {
     "data": {
      "text/plain": "(array([68.,  0.,  2., 73., 75., 76., 77., 78., 79., 80.,  4.,  5., 81.,\n        82., 83., 85., 86., 87., 88., 89.,  6., 90., 91., 92., 93., 94.,\n        95., 96., 97., 98.,  1.,  3.,  7.,  8.,  9., 10., 11., 12., 13.,\n        14., 15., 22., 16., 17., 18., 19., 20., 21., 23., 24., 25., 26.,\n        27., 28., 29., 30., 31., 32., 33., 34., 35., 36., 37., 38., 39.,\n        40., 41., 42., 43., 44., 45., 99., 46., 47., 48., 49., 50., 51.,\n        52., 53., 54., 55., 56., 57., 58., 59., 60., 61., 62., 63., 64.,\n        65., 66., 67., 69., 70., 71., 84., 72., 74.]),\n 10.22163724899292)"
     },
     "execution_count": 67,
     "metadata": {},
     "output_type": "execute_result"
    }
   ],
   "source": [
    "\n",
    "kemeny_ranking_gurobi=kemeny_ranking\n",
    "kemeny_ranking_gurobi"
   ],
   "metadata": {
    "collapsed": false,
    "ExecuteTime": {
     "end_time": "2023-11-30T21:12:06.139684100Z",
     "start_time": "2023-11-30T21:12:06.129743800Z"
    }
   },
   "id": "65a707961dad4738"
  },
  {
   "cell_type": "code",
   "execution_count": 68,
   "outputs": [
    {
     "data": {
      "text/plain": "20680"
     },
     "execution_count": 68,
     "metadata": {},
     "output_type": "execute_result"
    }
   ],
   "source": [
    "kemeny_dist_gurobi=ul.kemeny_dist(rankings,kemeny_ranking[0])\n",
    "kemeny_dist_gurobi"
   ],
   "metadata": {
    "collapsed": false,
    "ExecuteTime": {
     "end_time": "2023-11-30T21:12:06.291243700Z",
     "start_time": "2023-11-30T21:12:06.137683600Z"
    }
   },
   "id": "3ec31d4e810644c7"
  },
  {
   "cell_type": "code",
   "execution_count": 69,
   "outputs": [
    {
     "data": {
      "text/plain": "-0.6333333333333333"
     },
     "execution_count": 69,
     "metadata": {},
     "output_type": "execute_result"
    }
   ],
   "source": [
    "kemeny_ranking_gurobi_m=np.c_[np.arange(30),kemeny_ranking_gurobi[0][:30]]\n",
    "kemeny_ranking_gurobi_w=np.c_[np.arange(30,100),kemeny_ranking_gurobi[0][30:]]\n",
    "parity_kemeny_ranking_gurobi=metrics.pairwise_statistical_parity(kemeny_ranking_gurobi_m,kemeny_ranking_gurobi_w)\n",
    "parity_kemeny_ranking_gurobi"
   ],
   "metadata": {
    "collapsed": false,
    "ExecuteTime": {
     "end_time": "2023-11-30T21:12:06.310865900Z",
     "start_time": "2023-11-30T21:12:06.292242200Z"
    }
   },
   "id": "a6bebeb16beaaa73"
  },
  {
   "cell_type": "code",
   "execution_count": 69,
   "outputs": [],
   "source": [],
   "metadata": {
    "collapsed": false,
    "ExecuteTime": {
     "end_time": "2023-11-30T21:12:06.311886100Z",
     "start_time": "2023-11-30T21:12:06.301091300Z"
    }
   },
   "id": "8346f8f0a38316a8"
  },
  {
   "cell_type": "code",
   "execution_count": 69,
   "outputs": [],
   "source": [],
   "metadata": {
    "collapsed": false,
    "ExecuteTime": {
     "end_time": "2023-11-30T21:12:06.311886100Z",
     "start_time": "2023-11-30T21:12:06.305624500Z"
    }
   },
   "id": "e5dd3a0c888657e3"
  },
  {
   "cell_type": "code",
   "execution_count": 69,
   "outputs": [],
   "source": [],
   "metadata": {
    "collapsed": false,
    "ExecuteTime": {
     "end_time": "2023-11-30T21:12:06.402029900Z",
     "start_time": "2023-11-30T21:12:06.310865900Z"
    }
   },
   "id": "e9eb04a6c8764798"
  },
  {
   "cell_type": "code",
   "execution_count": 69,
   "outputs": [],
   "source": [],
   "metadata": {
    "collapsed": false,
    "ExecuteTime": {
     "end_time": "2023-11-30T21:12:06.412035800Z",
     "start_time": "2023-11-30T21:12:06.313895600Z"
    }
   },
   "id": "60c1a74a1ede879"
  },
  {
   "cell_type": "code",
   "execution_count": 69,
   "outputs": [],
   "source": [],
   "metadata": {
    "collapsed": false,
    "ExecuteTime": {
     "end_time": "2023-11-30T21:12:06.413036900Z",
     "start_time": "2023-11-30T21:12:06.323740300Z"
    }
   },
   "id": "28e2e71482bf88cc"
  },
  {
   "cell_type": "code",
   "execution_count": 69,
   "outputs": [],
   "source": [],
   "metadata": {
    "collapsed": false,
    "ExecuteTime": {
     "end_time": "2023-11-30T21:12:06.414041600Z",
     "start_time": "2023-11-30T21:12:06.328747500Z"
    }
   },
   "id": "786bcc6d1db7883e"
  },
  {
   "cell_type": "code",
   "execution_count": 69,
   "outputs": [],
   "source": [],
   "metadata": {
    "collapsed": false,
    "ExecuteTime": {
     "end_time": "2023-11-30T21:12:06.414041600Z",
     "start_time": "2023-11-30T21:12:06.332274800Z"
    }
   },
   "id": "5972c015e88437eb"
  },
  {
   "cell_type": "code",
   "execution_count": 69,
   "outputs": [],
   "source": [],
   "metadata": {
    "collapsed": false,
    "ExecuteTime": {
     "end_time": "2023-11-30T21:12:06.415036200Z",
     "start_time": "2023-11-30T21:12:06.337816400Z"
    }
   },
   "id": "28b7efe5c87cfe3a"
  },
  {
   "cell_type": "code",
   "execution_count": 69,
   "outputs": [],
   "source": [],
   "metadata": {
    "collapsed": false,
    "ExecuteTime": {
     "end_time": "2023-11-30T21:12:06.415036200Z",
     "start_time": "2023-11-30T21:12:06.342337800Z"
    }
   },
   "id": "14d57d304324f95"
  },
  {
   "cell_type": "code",
   "execution_count": 69,
   "outputs": [],
   "source": [],
   "metadata": {
    "collapsed": false,
    "ExecuteTime": {
     "end_time": "2023-11-30T21:12:06.415036200Z",
     "start_time": "2023-11-30T21:12:06.347107900Z"
    }
   },
   "id": "f940accacc4864da"
  },
  {
   "cell_type": "code",
   "execution_count": 69,
   "outputs": [],
   "source": [],
   "metadata": {
    "collapsed": false,
    "ExecuteTime": {
     "end_time": "2023-11-30T21:12:06.415036200Z",
     "start_time": "2023-11-30T21:12:06.350984500Z"
    }
   },
   "id": "b332ff649d0d9a9b"
  },
  {
   "cell_type": "code",
   "execution_count": 69,
   "outputs": [],
   "source": [],
   "metadata": {
    "collapsed": false,
    "ExecuteTime": {
     "end_time": "2023-11-30T21:12:06.415036200Z",
     "start_time": "2023-11-30T21:12:06.354641500Z"
    }
   },
   "id": "4d78b9381ee3ad18"
  },
  {
   "cell_type": "code",
   "execution_count": 69,
   "outputs": [],
   "source": [],
   "metadata": {
    "collapsed": false,
    "ExecuteTime": {
     "end_time": "2023-11-30T21:12:06.415036200Z",
     "start_time": "2023-11-30T21:12:06.358437500Z"
    }
   },
   "id": "b9e36bfcb9598720"
  },
  {
   "cell_type": "code",
   "execution_count": 69,
   "outputs": [],
   "source": [],
   "metadata": {
    "collapsed": false,
    "ExecuteTime": {
     "end_time": "2023-11-30T21:12:06.415036200Z",
     "start_time": "2023-11-30T21:12:06.361955900Z"
    }
   },
   "id": "a44dcce61bb5099c"
  },
  {
   "cell_type": "code",
   "execution_count": 70,
   "outputs": [
    {
     "data": {
      "text/plain": "(-1, numpy.int32)"
     },
     "execution_count": 70,
     "metadata": {},
     "output_type": "execute_result"
    }
   ],
   "source": [
    "fair_kemeny_ranking_gurobi_attribute=attribute[:,1]\n",
    "fair_kemeny_ranking_gurobi_attribute[1]-fair_kemeny_ranking_gurobi_attribute[50],type(fair_kemeny_ranking_gurobi_attribute[0])"
   ],
   "metadata": {
    "collapsed": false,
    "ExecuteTime": {
     "end_time": "2023-11-30T21:12:06.416039600Z",
     "start_time": "2023-11-30T21:12:06.368081Z"
    }
   },
   "id": "ff33f76b50b3acb1"
  },
  {
   "cell_type": "code",
   "execution_count": 71,
   "outputs": [],
   "source": [
    "fair_kemeny_ranking_gurobi=ul.aggregate_parity(n_voter,n_candidate,rankings,fair_kemeny_ranking_gurobi_attribute,threshold)"
   ],
   "metadata": {
    "collapsed": false,
    "ExecuteTime": {
     "end_time": "2023-11-30T21:14:37.802422200Z",
     "start_time": "2023-11-30T21:12:06.374034100Z"
    }
   },
   "id": "5a1fac1313de4ce6"
  },
  {
   "cell_type": "code",
   "execution_count": 72,
   "outputs": [
    {
     "data": {
      "text/plain": "(array([ 3.,  4.,  5.,  6.,  7.,  8., 82.,  9., 10., 11., 12., 13., 14.,\n        83., 16., 84., 85., 86., 87., 88., 15., 89., 90., 91., 17., 92.,\n        93., 94., 95., 96., 18.,  0., 19., 21., 20., 22., 23., 24., 25.,\n        26., 27., 28., 29., 30., 31.,  1., 32.,  2., 33., 34., 35., 36.,\n        37., 38., 39., 40., 41., 42., 43., 44., 45., 46., 47., 48., 49.,\n        50., 51., 52., 53., 54., 55., 97., 56., 57., 58., 60., 59., 61.,\n        62., 63., 64., 65., 66., 67., 68., 69., 70., 98., 71., 72., 73.,\n        74., 75., 76., 77., 78., 79., 99., 80., 81.]),\n 130.854590177536)"
     },
     "execution_count": 72,
     "metadata": {},
     "output_type": "execute_result"
    }
   ],
   "source": [
    "fair_kemeny_ranking_gurobi"
   ],
   "metadata": {
    "collapsed": false,
    "ExecuteTime": {
     "end_time": "2023-11-30T21:14:37.825368500Z",
     "start_time": "2023-11-30T21:14:37.806425400Z"
    }
   },
   "id": "d4c49d5da0b8256d"
  },
  {
   "cell_type": "code",
   "execution_count": 73,
   "outputs": [
    {
     "data": {
      "text/plain": "((array([ 3.,  4.,  5.,  6.,  7.,  8., 82.,  9., 10., 11., 12., 13., 14.,\n         83., 16., 84., 85., 86., 87., 88., 15., 89., 90., 91., 17., 92.,\n         93., 94., 95., 96., 18.,  0., 19., 21., 20., 22., 23., 24., 25.,\n         26., 27., 28., 29., 30., 31.,  1., 32.,  2., 33., 34., 35., 36.,\n         37., 38., 39., 40., 41., 42., 43., 44., 45., 46., 47., 48., 49.,\n         50., 51., 52., 53., 54., 55., 97., 56., 57., 58., 60., 59., 61.,\n         62., 63., 64., 65., 66., 67., 68., 69., 70., 98., 71., 72., 73.,\n         74., 75., 76., 77., 78., 79., 99., 80., 81.]),\n  130.854590177536),\n array([31, 45, 47,  0,  1,  2,  3,  4,  5,  7,  8,  9, 10, 11, 12, 20, 14,\n        24, 30, 32, 34, 33, 35, 36, 37, 38, 39, 40, 41, 42, 43, 44, 46, 48,\n        49, 50, 51, 52, 53, 54, 55, 56, 57, 58, 59, 60, 61, 62, 63, 64, 65,\n        66, 67, 68, 69, 70, 72, 73, 74, 76, 75, 77, 78, 79, 80, 81, 82, 83,\n        84, 85, 86, 88, 89, 90, 91, 92, 93, 94, 95, 96, 98, 99,  6, 13, 15,\n        16, 17, 18, 19, 21, 22, 23, 25, 26, 27, 28, 29, 71, 87, 97],\n       dtype=int64))"
     },
     "execution_count": 73,
     "metadata": {},
     "output_type": "execute_result"
    }
   ],
   "source": [
    "optimal_fair_kemeny_ranking_gurobi_permutation=np.argsort(fair_kemeny_ranking_gurobi[0])\n",
    "fair_kemeny_ranking_gurobi,optimal_fair_kemeny_ranking_gurobi_permutation"
   ],
   "metadata": {
    "collapsed": false,
    "ExecuteTime": {
     "end_time": "2023-11-30T21:14:37.826369200Z",
     "start_time": "2023-11-30T21:14:37.813635800Z"
    }
   },
   "id": "66500c1e6525b3ee"
  },
  {
   "cell_type": "code",
   "execution_count": 74,
   "outputs": [],
   "source": [
    "fair_kemeny_dist_gurobi=ul.kemeny_dist(rankings,fair_kemeny_ranking_gurobi[0])"
   ],
   "metadata": {
    "collapsed": false,
    "ExecuteTime": {
     "end_time": "2023-11-30T21:14:38.009962800Z",
     "start_time": "2023-11-30T21:14:37.822370100Z"
    }
   },
   "id": "3b671a97009479ee"
  },
  {
   "cell_type": "code",
   "execution_count": 75,
   "outputs": [
    {
     "data": {
      "text/plain": "21060"
     },
     "execution_count": 75,
     "metadata": {},
     "output_type": "execute_result"
    }
   ],
   "source": [
    "fair_kemeny_dist_gurobi"
   ],
   "metadata": {
    "collapsed": false,
    "ExecuteTime": {
     "end_time": "2023-11-30T21:14:38.035310200Z",
     "start_time": "2023-11-30T21:14:38.010962700Z"
    }
   },
   "id": "374659e79b306a4c"
  },
  {
   "cell_type": "code",
   "execution_count": 76,
   "outputs": [],
   "source": [
    "fair_kemeny_ranking_gurobi_m=np.c_[np.arange(30),fair_kemeny_ranking_gurobi[0][:30]]\n",
    "fair_kemeny_ranking_gurobi_w=np.c_[np.arange(30,100),fair_kemeny_ranking_gurobi[0][30:]]"
   ],
   "metadata": {
    "collapsed": false,
    "ExecuteTime": {
     "end_time": "2023-11-30T21:14:38.036309800Z",
     "start_time": "2023-11-30T21:14:38.019754100Z"
    }
   },
   "id": "a32e870167ba40a4"
  },
  {
   "cell_type": "code",
   "execution_count": 77,
   "outputs": [
    {
     "data": {
      "text/plain": "(array([[30., 18.],\n        [31.,  0.],\n        [32., 19.],\n        [33., 21.],\n        [34., 20.],\n        [35., 22.],\n        [36., 23.],\n        [37., 24.],\n        [38., 25.],\n        [39., 26.],\n        [40., 27.],\n        [41., 28.],\n        [42., 29.],\n        [43., 30.],\n        [44., 31.],\n        [45.,  1.],\n        [46., 32.],\n        [47.,  2.],\n        [48., 33.],\n        [49., 34.],\n        [50., 35.],\n        [51., 36.],\n        [52., 37.],\n        [53., 38.],\n        [54., 39.],\n        [55., 40.],\n        [56., 41.],\n        [57., 42.],\n        [58., 43.],\n        [59., 44.],\n        [60., 45.],\n        [61., 46.],\n        [62., 47.],\n        [63., 48.],\n        [64., 49.],\n        [65., 50.],\n        [66., 51.],\n        [67., 52.],\n        [68., 53.],\n        [69., 54.],\n        [70., 55.],\n        [71., 97.],\n        [72., 56.],\n        [73., 57.],\n        [74., 58.],\n        [75., 60.],\n        [76., 59.],\n        [77., 61.],\n        [78., 62.],\n        [79., 63.],\n        [80., 64.],\n        [81., 65.],\n        [82., 66.],\n        [83., 67.],\n        [84., 68.],\n        [85., 69.],\n        [86., 70.],\n        [87., 98.],\n        [88., 71.],\n        [89., 72.],\n        [90., 73.],\n        [91., 74.],\n        [92., 75.],\n        [93., 76.],\n        [94., 77.],\n        [95., 78.],\n        [96., 79.],\n        [97., 99.],\n        [98., 80.],\n        [99., 81.]]),\n array([[ 0.,  3.],\n        [ 1.,  4.],\n        [ 2.,  5.],\n        [ 3.,  6.],\n        [ 4.,  7.],\n        [ 5.,  8.],\n        [ 6., 82.],\n        [ 7.,  9.],\n        [ 8., 10.],\n        [ 9., 11.],\n        [10., 12.],\n        [11., 13.],\n        [12., 14.],\n        [13., 83.],\n        [14., 16.],\n        [15., 84.],\n        [16., 85.],\n        [17., 86.],\n        [18., 87.],\n        [19., 88.],\n        [20., 15.],\n        [21., 89.],\n        [22., 90.],\n        [23., 91.],\n        [24., 17.],\n        [25., 92.],\n        [26., 93.],\n        [27., 94.],\n        [28., 95.],\n        [29., 96.]]))"
     },
     "execution_count": 77,
     "metadata": {},
     "output_type": "execute_result"
    }
   ],
   "source": [
    "fair_kemeny_ranking_gurobi_w,fair_kemeny_ranking_gurobi_m"
   ],
   "metadata": {
    "collapsed": false,
    "ExecuteTime": {
     "end_time": "2023-11-30T21:14:38.038096800Z",
     "start_time": "2023-11-30T21:14:38.025829200Z"
    }
   },
   "id": "9c196fc8fd54a26"
  },
  {
   "cell_type": "code",
   "execution_count": 78,
   "outputs": [],
   "source": [
    "parity_fair_kemeny_ranking_gurobi=metrics.pairwise_statistical_parity(fair_kemeny_ranking_gurobi_m,fair_kemeny_ranking_gurobi_w)"
   ],
   "metadata": {
    "collapsed": false,
    "ExecuteTime": {
     "end_time": "2023-11-30T21:14:38.129532Z",
     "start_time": "2023-11-30T21:14:38.035310200Z"
    }
   },
   "id": "240654cf758b9f9f"
  },
  {
   "cell_type": "code",
   "execution_count": 79,
   "outputs": [
    {
     "data": {
      "text/plain": "0.0"
     },
     "execution_count": 79,
     "metadata": {},
     "output_type": "execute_result"
    }
   ],
   "source": [
    "parity_fair_kemeny_ranking_gurobi"
   ],
   "metadata": {
    "collapsed": false,
    "ExecuteTime": {
     "end_time": "2023-11-30T21:14:38.136536300Z",
     "start_time": "2023-11-30T21:14:38.041104500Z"
    }
   },
   "id": "9b2386cecb784724"
  },
  {
   "cell_type": "code",
   "execution_count": 80,
   "outputs": [],
   "source": [
    "fair_kemeny_ranking_gurobi_satisfied_array=[]\n",
    "k_threshold=0.05\n",
    "for k in range(1,100):\n",
    "    fair_kemeny_ranking_gurobi_k =pd.DataFrame(columns=['id', 'ranker'])\n",
    "    fair_kemeny_ranking_gurobi_k[\"id\"]=np.arange(0,100,1)\n",
    "    fair_kemeny_ranking_gurobi_k[\"ranker\"]=fair_kemeny_ranking_gurobi[0]\n",
    "    fair_kemeny_ranking_gurobi_k_m =fair_kemeny_ranking_gurobi_k.head(30).to_numpy()\n",
    "    fair_kemeny_ranking_gurobi_k_w =fair_kemeny_ranking_gurobi_k.tail(70).to_numpy()\n",
    "    fair_kemeny_ranking_gurobi_k_groups=np.array([fair_kemeny_ranking_gurobi_k_m,fair_kemeny_ranking_gurobi_k_w], dtype=object)\n",
    "    fair_kemeny_ranking_gurobi_k_satisfied=metrics.top_k_parity(fair_kemeny_ranking_gurobi_k_groups,k,k_threshold )\n",
    "    fair_kemeny_ranking_gurobi_satisfied_array.append([\"ranker\",k,fair_kemeny_ranking_gurobi_k_satisfied])"
   ],
   "metadata": {
    "collapsed": false,
    "ExecuteTime": {
     "end_time": "2023-11-30T21:14:38.206373200Z",
     "start_time": "2023-11-30T21:14:38.067536600Z"
    }
   },
   "id": "45ac70153b4d9de7"
  },
  {
   "cell_type": "code",
   "execution_count": 81,
   "outputs": [
    {
     "data": {
      "text/plain": "[['ranker', 1, True],\n ['ranker', 2, True],\n ['ranker', 3, True],\n ['ranker', 4, True],\n ['ranker', 5, True],\n ['ranker', 6, True],\n ['ranker', 7, False],\n ['ranker', 8, False],\n ['ranker', 9, False],\n ['ranker', 10, False],\n ['ranker', 11, False],\n ['ranker', 12, False],\n ['ranker', 13, False],\n ['ranker', 14, False],\n ['ranker', 15, False],\n ['ranker', 16, False],\n ['ranker', 17, False],\n ['ranker', 18, False],\n ['ranker', 19, False],\n ['ranker', 20, False],\n ['ranker', 21, False],\n ['ranker', 22, False],\n ['ranker', 23, False],\n ['ranker', 24, False],\n ['ranker', 25, False],\n ['ranker', 26, False],\n ['ranker', 27, False],\n ['ranker', 28, False],\n ['ranker', 29, False],\n ['ranker', 30, False],\n ['ranker', 31, False],\n ['ranker', 32, False],\n ['ranker', 33, False],\n ['ranker', 34, False],\n ['ranker', 35, False],\n ['ranker', 36, False],\n ['ranker', 37, False],\n ['ranker', 38, False],\n ['ranker', 39, False],\n ['ranker', 40, False],\n ['ranker', 41, True],\n ['ranker', 42, True],\n ['ranker', 43, True],\n ['ranker', 44, True],\n ['ranker', 45, True],\n ['ranker', 46, True],\n ['ranker', 47, True],\n ['ranker', 48, True],\n ['ranker', 49, True],\n ['ranker', 50, True],\n ['ranker', 51, True],\n ['ranker', 52, True],\n ['ranker', 53, True],\n ['ranker', 54, True],\n ['ranker', 55, True],\n ['ranker', 56, True],\n ['ranker', 57, True],\n ['ranker', 58, True],\n ['ranker', 59, True],\n ['ranker', 60, True],\n ['ranker', 61, True],\n ['ranker', 62, True],\n ['ranker', 63, True],\n ['ranker', 64, False],\n ['ranker', 65, False],\n ['ranker', 66, False],\n ['ranker', 67, False],\n ['ranker', 68, False],\n ['ranker', 69, False],\n ['ranker', 70, False],\n ['ranker', 71, False],\n ['ranker', 72, False],\n ['ranker', 73, False],\n ['ranker', 74, False],\n ['ranker', 75, False],\n ['ranker', 76, False],\n ['ranker', 77, False],\n ['ranker', 78, False],\n ['ranker', 79, False],\n ['ranker', 80, False],\n ['ranker', 81, False],\n ['ranker', 82, False],\n ['ranker', 83, False],\n ['ranker', 84, False],\n ['ranker', 85, False],\n ['ranker', 86, False],\n ['ranker', 87, False],\n ['ranker', 88, False],\n ['ranker', 89, True],\n ['ranker', 90, True],\n ['ranker', 91, True],\n ['ranker', 92, True],\n ['ranker', 93, True],\n ['ranker', 94, True],\n ['ranker', 95, True],\n ['ranker', 96, True],\n ['ranker', 97, True],\n ['ranker', 98, True],\n ['ranker', 99, True]]"
     },
     "execution_count": 81,
     "metadata": {},
     "output_type": "execute_result"
    }
   ],
   "source": [
    "fair_kemeny_ranking_gurobi_satisfied_array"
   ],
   "metadata": {
    "collapsed": false,
    "ExecuteTime": {
     "end_time": "2023-11-30T21:14:38.225922100Z",
     "start_time": "2023-11-30T21:14:38.187507400Z"
    }
   },
   "id": "463435e8c979055b"
  },
  {
   "cell_type": "code",
   "execution_count": 81,
   "outputs": [],
   "source": [],
   "metadata": {
    "collapsed": false,
    "ExecuteTime": {
     "end_time": "2023-11-30T21:14:38.225922100Z",
     "start_time": "2023-11-30T21:14:38.200578100Z"
    }
   },
   "id": "73be8c4895b1069d"
  },
  {
   "cell_type": "code",
   "execution_count": 81,
   "outputs": [],
   "source": [],
   "metadata": {
    "collapsed": false,
    "ExecuteTime": {
     "end_time": "2023-11-30T21:14:38.228921Z",
     "start_time": "2023-11-30T21:14:38.204098700Z"
    }
   },
   "id": "e988d353fc650c4a"
  },
  {
   "cell_type": "code",
   "execution_count": 81,
   "outputs": [],
   "source": [],
   "metadata": {
    "collapsed": false,
    "ExecuteTime": {
     "end_time": "2023-11-30T21:14:38.229921100Z",
     "start_time": "2023-11-30T21:14:38.208375Z"
    }
   },
   "id": "9c03b6a128ab644a"
  },
  {
   "cell_type": "code",
   "execution_count": 82,
   "outputs": [
    {
     "ename": "TypeError",
     "evalue": "stationary_distribute() missing 2 required positional arguments: 'out_degree_matrix' and 'type'",
     "output_type": "error",
     "traceback": [
      "\u001B[1;31m---------------------------------------------------------------------------\u001B[0m",
      "\u001B[1;31mTypeError\u001B[0m                                 Traceback (most recent call last)",
      "Cell \u001B[1;32mIn[82], line 1\u001B[0m\n\u001B[1;32m----> 1\u001B[0m stationary_distribute_0 \u001B[38;5;241m=\u001B[39m mc\u001B[38;5;241m.\u001B[39mstationary_distribute(rankings, \u001B[38;5;241m0\u001B[39m)\n\u001B[0;32m      2\u001B[0m stationary_distribute_1 \u001B[38;5;241m=\u001B[39m mc\u001B[38;5;241m.\u001B[39mstationary_distribute(rankings, \u001B[38;5;241m1\u001B[39m)\n\u001B[0;32m      3\u001B[0m stationary_distribute_0, stationary_distribute_1\n",
      "\u001B[1;31mTypeError\u001B[0m: stationary_distribute() missing 2 required positional arguments: 'out_degree_matrix' and 'type'"
     ]
    }
   ],
   "source": [
    "stationary_distribute_0 = mc.stationary_distribute(rankings, 0)\n",
    "stationary_distribute_1 = mc.stationary_distribute(rankings, 1)\n",
    "stationary_distribute_0, stationary_distribute_1"
   ],
   "metadata": {
    "collapsed": false,
    "ExecuteTime": {
     "end_time": "2023-11-30T21:14:38.894976Z",
     "start_time": "2023-11-30T21:14:38.214923200Z"
    }
   },
   "id": "f4da36d48118c2a7"
  },
  {
   "cell_type": "code",
   "execution_count": null,
   "outputs": [],
   "source": [
    "transition_matrix_0 = mc.generate_transition_matrix(rankings)\n",
    "transition_matrix_1 = mc.generate_transition_matrix_without_self_circle(rankings)\n",
    "#sum_of_probability_candidate=np.array([np.sum(transition_matrix_2[i, :]) for i in range(rankings.shape[1])])\n",
    "\n",
    "transition_matrix_0[30],transition_matrix_1[30]"
   ],
   "metadata": {
    "collapsed": false,
    "ExecuteTime": {
     "start_time": "2023-11-30T21:14:38.892977400Z"
    }
   },
   "id": "98abe1d8973c35f4"
  },
  {
   "cell_type": "code",
   "execution_count": null,
   "outputs": [],
   "source": [],
   "metadata": {
    "collapsed": false,
    "ExecuteTime": {
     "end_time": "2023-11-30T21:14:38.900975700Z",
     "start_time": "2023-11-30T21:14:38.896978200Z"
    }
   },
   "id": "c9f0700baf5cebc2"
  },
  {
   "cell_type": "code",
   "execution_count": null,
   "outputs": [],
   "source": [
    "\n"
   ],
   "metadata": {
    "collapsed": false,
    "ExecuteTime": {
     "start_time": "2023-11-30T21:14:38.899975500Z"
    }
   },
   "id": "357ab9bba6221fe6"
  }
 ],
 "metadata": {
  "kernelspec": {
   "display_name": "Python 3",
   "language": "python",
   "name": "python3"
  },
  "language_info": {
   "codemirror_mode": {
    "name": "ipython",
    "version": 2
   },
   "file_extension": ".py",
   "mimetype": "text/x-python",
   "name": "python",
   "nbconvert_exporter": "python",
   "pygments_lexer": "ipython2",
   "version": "2.7.6"
  }
 },
 "nbformat": 4,
 "nbformat_minor": 5
}
