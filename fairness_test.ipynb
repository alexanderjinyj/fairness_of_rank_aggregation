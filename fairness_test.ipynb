{
 "cells": [
  {
   "cell_type": "code",
   "execution_count": 1,
   "metadata": {
    "ExecuteTime": {
     "end_time": "2023-10-24T13:16:51.790257500Z",
     "start_time": "2023-10-24T13:16:50.610384700Z"
    }
   },
   "outputs": [],
   "source": [
    "import numpy as np\n",
    "import pandas as pd\n",
    "from metrics import *\n",
    "import matplotlib.pyplot as plt\n",
    "\n",
    "df=pd.read_csv('20230918dataset_uf.csv')\n",
    "#add a ranking all m candidates has smaller rank than w's\n",
    "df[\"ranker 11\"]=np.arange(1,101,1)\n",
    "#add a ranking half  m candidates on the top of ranking and another half m candidates on the bottom of rinking and w candidates on the middle  \n",
    "ranker_12=np.concatenate((np.arange(1,16,1),np.arange(86,101,1),np.arange(16,86,1)), axis=None)\n",
    "#print(ranker_12)\n",
    "df[\"ranker 12\"]=ranker_12\n",
    "#print(df.to_string())\n",
    "#df.head()\n"
   ]
  },
  {
   "cell_type": "code",
   "execution_count": 5,
   "metadata": {
    "ExecuteTime": {
     "end_time": "2023-10-24T13:53:07.156069800Z",
     "start_time": "2023-10-24T13:53:06.153260500Z"
    }
   },
   "outputs": [
    {
     "name": "stdout",
     "output_type": "stream",
     "text": [
      "in ranker 1 the pairwise statistical parity is 0.228\n",
      "in ranker 2 the pairwise statistical parity is 0.002\n",
      "in ranker 3 the pairwise statistical parity is -0.106\n",
      "in ranker 4 the pairwise statistical parity is -0.013\n",
      "in ranker 5 the pairwise statistical parity is 0.022\n",
      "in ranker 6 the pairwise statistical parity is 0.097\n",
      "in ranker 7 the pairwise statistical parity is 0.195\n",
      "in ranker 8 the pairwise statistical parity is -1.0\n",
      "in ranker 9 the pairwise statistical parity is -1.0\n",
      "in ranker 10 the pairwise statistical parity is -1.0\n",
      "in ranker 11 the pairwise statistical parity is 1.0\n",
      "in ranker 12 the pairwise statistical parity is 0.0\n"
     ]
    },
    {
     "data": {
      "text/plain": "<Figure size 1000x500 with 1 Axes>",
      "image/png": "[encoded data removed]"
     },
     "metadata": {},
     "output_type": "display_data"
    }
   ],
   "source": [
    "#pairwise_statistical_parity\n",
    "psp_scores=[]\n",
    "x=[]\n",
    "y=[]\n",
    "for ranker in df.columns[1:]:\n",
    "    ranking =pd.DataFrame(columns=['id', ranker])\n",
    "    ranking[\"id\"]=np.arange(0,100,1)\n",
    "    ranking[ranker]=df[ranker]\n",
    "    ranking_m =ranking.head(30).to_numpy()\n",
    "    ranking_w =ranking.tail(70).to_numpy()\n",
    "    ranker_psp_score=pairwise_statistical_parity(ranking_m,ranking_w )\n",
    "    x.append(ranker)\n",
    "    y.append(ranker_psp_score)\n",
    "    print(\"in \"+ranker +\" the pairwise statistical parity is \"+str(round(ranker_psp_score,3)))\n",
    "    psp_scores.append([ranker,ranker_psp_score])\n",
    "fig = plt.figure(figsize=(10, 5))\n",
    "plt.scatter(x,y)\n",
    "plt.xticks(x, x, rotation ='vertical') \n",
    "plt.margins(0.15)\n",
    "for psp in psp_scores:\n",
    "    plt.annotate(round(psp[1],3),xy=(psp[0],psp[1]),xytext=(psp[0],psp[1]+0.2), arrowprops=dict(arrowstyle=\"->\"))\n",
    "plt.show()\n",
    "\n"
   ]
  },
  {
   "cell_type": "code",
   "execution_count": 4,
   "metadata": {
    "collapsed": true,
    "jupyter": {
     "outputs_hidden": true
    },
    "ExecuteTime": {
     "end_time": "2023-10-24T13:44:04.399475500Z",
     "start_time": "2023-10-24T13:44:04.289341900Z"
    }
   },
   "outputs": [
    {
     "data": {
      "text/plain": "\"\\nPairwise Statistical Parity Measure: Ratio of 'a' to 'b'.\\n'a' represents the difference between two groups of pairs. One group includes candidates with attribute value 'm' who have a smaller rank \\nthan candidates with the same attribute value 'w,' while the other includes the reverse scenario.\\n\\n'b' denotes the total number of pairs consisting of candidates with attribute value 'm' and candidates with attribute value 'w.' \\n\\nthe ratio illustrates how favored candidates with attribute value m over candidates with attribute value w in the ranking.\\n\\nif the ratio is positive showing candidates with attribute value m is favored over candidates with attribute value w in the ranking.\\nif the ratio is negative showing canditates with attribute value w is favored over candidates with attribute value m in the ranking.\\nif ratio is 0 showing 2 groups of candidates are equaled favored.\\nif the ratio is 1 and -1, showing one group is absolutely favored in the rank, it means all one group's candidates rank is smaller than the group's candidates rank.\\n\\nin ranker 8 9 10, all the m candidates have larger rank than w's, so the  pairwise statistical parity score is -1.\\nin ranker 1, all the m candidtae have smaller rank than  w's, so the  pairwise statistical parity score is 1.\\nin ranker 12, half the m candidates have smaller rank than all w candidatas and half the m candidates have greater rank than all w candidatas, so the  pairwise statistical parity score is 0\\n\""
     },
     "execution_count": 4,
     "metadata": {},
     "output_type": "execute_result"
    }
   ],
   "source": [
    "\"\"\"\n",
    "Pairwise Statistical Parity Measure: Ratio of 'a' to 'b'.\n",
    "'a' represents the difference between two groups of pairs. One group includes candidates with attribute value 'm' who have a smaller rank \n",
    "than candidates with the same attribute value 'w,' while the other includes the reverse scenario.\n",
    "\n",
    "'b' denotes the total number of pairs consisting of candidates with attribute value 'm' and candidates with attribute value 'w.' \n",
    "\n",
    "the ratio illustrates how favored candidates with attribute value m over candidates with attribute value w in the ranking.\n",
    "\n",
    "if the ratio is positive showing candidates with attribute value m is favored over candidates with attribute value w in the ranking.\n",
    "if the ratio is negative showing candidates with attribute value w is favored over candidates with attribute value m in the ranking.\n",
    "if ratio is 0 showing 2 groups of candidates are equaled favored.\n",
    "if the ratio is 1 and -1, showing one group is absolutely favored in the rank, it means all one group's candidates rank is smaller than the group's candidates rank.\n",
    "\n",
    "in ranker 8 9 10, all the m candidates have larger rank than w's, so the  pairwise statistical parity score is -1.\n",
    "in ranker 1, all the m candidate have smaller rank than  w's, so the  pairwise statistical parity score is 1.\n",
    "in ranker 12, half the m candidates have smaller rank than all w candidates and half the m candidates have greater rank than all w candidates, so the  pairwise statistical parity score is 0\n",
    "\"\"\""
   ]
  },
  {
   "cell_type": "code",
   "execution_count": 9,
   "metadata": {
    "ExecuteTime": {
     "end_time": "2023-10-24T12:47:07.158802100Z",
     "start_time": "2023-10-24T12:47:07.114028700Z"
    }
   },
   "outputs": [
    {
     "name": "stdout",
     "output_type": "stream",
     "text": [
      "ranker 6 satisfied top-9-parity\n",
      "ranker 1, ranker 3 satisfied top-10-parity\n",
      "ranker 1, ranker 2, ranker 3, ranker 7, ranker 11 satisfied top-99-parity\n",
      "ranker 1, ranker 2, ranker 3, ranker 4, ranker 5, ranker 6, ranker 7, ranker 8, ranker 9, ranker 10, ranker 11, ranker 12 satisfied top-100-parity\n",
      "ranker 1, ranker 2, ranker 3, ranker 5, ranker 7, ranker 8, ranker 9, ranker 10 satisfied top-1-parity\n"
     ]
    }
   ],
   "source": [
    "#top_k_parity\n",
    "satisfied_array_1=[]\n",
    "satisfied_array_2=[]\n",
    "satisfied_array_3=[]\n",
    "satisfied_array_4=[]\n",
    "satisfied_array_5=[]\n",
    "for ranker in df.columns[1:]:\n",
    "    ranking =pd.DataFrame(columns=['id', ranker])\n",
    "    ranking[\"id\"]=np.arange(0,100,1)\n",
    "    ranking[ranker]=df[ranker]\n",
    "    ranking_m =ranking.head(30).to_numpy()\n",
    "    ranking_w =ranking.tail(70).to_numpy()\n",
    "    rankings=np.array([ranking_m,ranking_w], dtype=object)\n",
    "    satisfied_1=top_k_parity(rankings,9 )\n",
    "    satisfied_2=top_k_parity(rankings,10 )\n",
    "    satisfied_3=top_k_parity(rankings,99 )\n",
    "    satisfied_4=top_k_parity(rankings,100 )\n",
    "    satisfied_5=top_k_parity(rankings,1 )\n",
    "    satisfied_array_1.append([ranker,satisfied_1])\n",
    "    satisfied_array_2.append([ranker,satisfied_2])\n",
    "    satisfied_array_3.append([ranker,satisfied_3])\n",
    "    satisfied_array_4.append([ranker,satisfied_4])\n",
    "    satisfied_array_5.append([ranker,satisfied_5])\n",
    "\n",
    "satisfied_ranker=[]\n",
    "for satisfied in satisfied_array_1:\n",
    "    if satisfied[1]:\n",
    "        satisfied_ranker.append(satisfied[0])\n",
    "if len(satisfied_ranker)>0:\n",
    "    rankers=\"\"\n",
    "    for ranker in satisfied_ranker:\n",
    "        if rankers==\"\":\n",
    "            rankers=rankers + ranker\n",
    "        else:\n",
    "            rankers=rankers + \", \"+ranker\n",
    "    print(rankers + \" satisfied top-9-parity\")\n",
    "else:\n",
    "    print(\"none of rankers satisfied top-10-parity  \")\n",
    "\n",
    "satisfied_ranker=[]\n",
    "for satisfied in satisfied_array_2:\n",
    "    if satisfied[1]:\n",
    "        satisfied_ranker.append(satisfied[0])\n",
    "if len(satisfied_ranker)>0:\n",
    "    rankers=\"\"\n",
    "    for ranker in satisfied_ranker:\n",
    "        if rankers==\"\":\n",
    "            rankers=rankers + ranker\n",
    "        else:\n",
    "            rankers=rankers + \", \"+ranker\n",
    "    print(rankers + \" satisfied top-10-parity\")\n",
    "else:\n",
    "    print(\"none of rankers satisfied top-10-parity  \")\n",
    "\n",
    "satisfied_ranker=[]\n",
    "for satisfied in satisfied_array_3:\n",
    "    if satisfied[1]:\n",
    "        satisfied_ranker.append(satisfied[0])\n",
    "if len(satisfied_ranker)>0:\n",
    "    rankers=\"\"\n",
    "    for ranker in satisfied_ranker:\n",
    "        if rankers==\"\":\n",
    "            rankers=rankers + ranker\n",
    "        else:\n",
    "            rankers=rankers + \", \"+ranker\n",
    "    print(rankers + \" satisfied top-99-parity\")\n",
    "else:\n",
    "    print(\"none of rankers satisfied top-99-parity  \")\n",
    "\n",
    "satisfied_ranker=[]\n",
    "for satisfied in satisfied_array_4:\n",
    "    if satisfied[1]:\n",
    "        satisfied_ranker.append(satisfied[0])\n",
    "if len(satisfied_ranker)>0:\n",
    "    rankers=\"\"\n",
    "    for ranker in satisfied_ranker:\n",
    "        if rankers==\"\":\n",
    "            rankers=rankers + ranker\n",
    "        else:\n",
    "            rankers=rankers + \", \"+ranker\n",
    "    print(rankers + \" satisfied top-100-parity\")\n",
    "else:\n",
    "    print(\"none of rankers satisfied top-100-parity  \")\n",
    "\n",
    "satisfied_ranker=[]\n",
    "for satisfied in satisfied_array_5:\n",
    "    if satisfied[1]:\n",
    "        satisfied_ranker.append(satisfied[0])\n",
    "if len(satisfied_ranker)>0:\n",
    "    rankers=\"\"\n",
    "    for ranker in satisfied_ranker:\n",
    "        if rankers==\"\":\n",
    "            rankers=rankers + ranker\n",
    "        else:\n",
    "            rankers=rankers + \", \"+ranker\n",
    "    print(rankers + \" satisfied top-1-parity\")\n",
    "else:\n",
    "    print(\"none of rankers satisfied top-1-parity  \")"
   ]
  },
  {
   "cell_type": "code",
   "execution_count": null,
   "metadata": {
    "collapsed": true,
    "jupyter": {
     "outputs_hidden": true
    }
   },
   "outputs": [],
   "source": [
    "\"\"\"\n",
    "   Top-K Parity Measure: Assessing Whether the Number of Candidates with a Special Attribute and a Rank Smaller than or Equal to 'k' \n",
    "   is Proportional to the Total Number of Candidates with that Special Attribute.\n",
    "   \n",
    "   top-9-parity:  9*0.3=2.7≈3 members of m candidates should  have rank smaller than 9     candidate 8 with rank 3  candidate 10 with 1   candidate12 with 6\n",
    "                  9*0.7=6.3≈6 members of w candidates should  have rank smaller than 9     candidate 39 44 53 58 84 90\n",
    "                                                                                           rank      9  2  5  7  8  4\n",
    "                  \n",
    "\"\"\" "
   ]
  },
  {
   "cell_type": "code",
   "execution_count": 6,
   "metadata": {},
   "outputs": [
    {
     "name": "stdout",
     "output_type": "stream",
     "text": [
      "the rank equality error for group m in ranker 1, ranker 2 is 0.485\n",
      "the rank equality error for group m in ranker 1, ranker 3 is 0.562\n",
      "the rank equality error for group m in ranker 1, ranker 4 is 0.449\n",
      "the rank equality error for group m in ranker 1, ranker 5 is 0.571\n",
      "the rank equality error for group m in ranker 1, ranker 6 is 0.438\n",
      "the rank equality error for group m in ranker 1, ranker 7 is 0.47\n",
      "the rank equality error for group m in ranker 1, ranker 8 is 0.614\n",
      "the rank equality error for group m in ranker 1, ranker 9 is 0.614\n",
      "the rank equality error for group m in ranker 1, ranker 10 is 0.614\n",
      "the rank equality error for group m in ranker 1, ranker 11 is 0.386\n",
      "the rank equality error for group m in ranker 1, ranker 12 is 0.5\n",
      "the rank equality error for group m in ranker 2, ranker 3 is 0.484\n",
      "the rank equality error for group m in ranker 2, ranker 4 is 0.535\n",
      "the rank equality error for group m in ranker 2, ranker 5 is 0.498\n",
      "the rank equality error for group m in ranker 2, ranker 6 is 0.509\n",
      "the rank equality error for group m in ranker 2, ranker 7 is 0.584\n",
      "the rank equality error for group m in ranker 2, ranker 8 is 0.501\n",
      "the rank equality error for group m in ranker 2, ranker 9 is 0.501\n",
      "the rank equality error for group m in ranker 2, ranker 10 is 0.501\n",
      "the rank equality error for group m in ranker 2, ranker 11 is 0.499\n",
      "the rank equality error for group m in ranker 2, ranker 12 is 0.536\n",
      "the rank equality error for group m in ranker 3, ranker 4 is 0.465\n",
      "the rank equality error for group m in ranker 3, ranker 5 is 0.536\n",
      "the rank equality error for group m in ranker 3, ranker 6 is 0.526\n",
      "the rank equality error for group m in ranker 3, ranker 7 is 0.499\n",
      "the rank equality error for group m in ranker 3, ranker 8 is 0.447\n",
      "the rank equality error for group m in ranker 3, ranker 9 is 0.447\n",
      "the rank equality error for group m in ranker 3, ranker 10 is 0.447\n",
      "the rank equality error for group m in ranker 3, ranker 11 is 0.553\n",
      "the rank equality error for group m in ranker 3, ranker 12 is 0.461\n",
      "the rank equality error for group m in ranker 4, ranker 5 is 0.552\n",
      "the rank equality error for group m in ranker 4, ranker 6 is 0.469\n",
      "the rank equality error for group m in ranker 4, ranker 7 is 0.416\n",
      "the rank equality error for group m in ranker 4, ranker 8 is 0.493\n",
      "the rank equality error for group m in ranker 4, ranker 9 is 0.493\n",
      "the rank equality error for group m in ranker 4, ranker 10 is 0.493\n",
      "the rank equality error for group m in ranker 4, ranker 11 is 0.507\n",
      "the rank equality error for group m in ranker 4, ranker 12 is 0.439\n",
      "the rank equality error for group m in ranker 5, ranker 6 is 0.537\n",
      "the rank equality error for group m in ranker 5, ranker 7 is 0.455\n",
      "the rank equality error for group m in ranker 5, ranker 8 is 0.511\n",
      "the rank equality error for group m in ranker 5, ranker 9 is 0.511\n",
      "the rank equality error for group m in ranker 5, ranker 10 is 0.511\n",
      "the rank equality error for group m in ranker 5, ranker 11 is 0.489\n",
      "the rank equality error for group m in ranker 5, ranker 12 is 0.53\n",
      "the rank equality error for group m in ranker 6, ranker 7 is 0.472\n",
      "the rank equality error for group m in ranker 6, ranker 8 is 0.549\n",
      "the rank equality error for group m in ranker 6, ranker 9 is 0.549\n",
      "the rank equality error for group m in ranker 6, ranker 10 is 0.549\n",
      "the rank equality error for group m in ranker 6, ranker 11 is 0.451\n",
      "the rank equality error for group m in ranker 6, ranker 12 is 0.423\n",
      "the rank equality error for group m in ranker 7, ranker 8 is 0.598\n",
      "the rank equality error for group m in ranker 7, ranker 9 is 0.598\n",
      "the rank equality error for group m in ranker 7, ranker 10 is 0.598\n",
      "the rank equality error for group m in ranker 7, ranker 11 is 0.402\n",
      "the rank equality error for group m in ranker 7, ranker 12 is 0.518\n",
      "the rank equality error for group m in ranker 8, ranker 9 is 0.0\n",
      "the rank equality error for group m in ranker 8, ranker 10 is 0.0\n",
      "the rank equality error for group m in ranker 8, ranker 11 is 1.0\n",
      "the rank equality error for group m in ranker 8, ranker 12 is 0.5\n",
      "the rank equality error for group m in ranker 9, ranker 10 is 0.0\n",
      "the rank equality error for group m in ranker 9, ranker 11 is 1.0\n",
      "the rank equality error for group m in ranker 9, ranker 12 is 0.5\n",
      "the rank equality error for group m in ranker 10, ranker 11 is 1.0\n",
      "the rank equality error for group m in ranker 10, ranker 12 is 0.5\n",
      "the rank equality error for group m in ranker 11, ranker 12 is 0.5\n"
     ]
    }
   ],
   "source": [
    "#rank_equality_error\n",
    "group_1= np.arange(0,30,1)  \n",
    "group_2= np.arange(30,100,1) \n",
    "ree_scores=[]\n",
    "for ranker_1 in range(0 , len(df.columns[1:])):\n",
    "    for ranker_2 in range(ranker_1+1,len(df.columns[1:])):\n",
    "        ranker_1_name=df.columns[ranker_1+1]\n",
    "        ranking_1=pd.DataFrame(columns=['id', ranker_1_name])\n",
    "        ranking_1[\"id\"]=np.arange(0,100,1)\n",
    "        ranking_1[ranker_1_name]=df[ranker_1_name]\n",
    "        ranker_2_name=df.columns[ranker_2+1]\n",
    "        ranking_2=pd.DataFrame(columns=['id', ranker_2_name])\n",
    "        ranking_2[\"id\"]=np.arange(0,100,1)\n",
    "        ranking_2[ranker_2_name]=df[ranker_2_name]\n",
    "        ree=rank_equality_error(ranking_1.to_numpy(),ranking_2.to_numpy(),group_1,group_2)\n",
    "        ree_scores.append(ree)\n",
    "        print(\"the rank equality error for group m in \" + ranker_1_name +\", \" + ranker_2_name +\" is \" + str(round(ree,3)) )     "
   ]
  },
  {
   "cell_type": "code",
   "execution_count": 7,
   "metadata": {
    "collapsed": true,
    "jupyter": {
     "outputs_hidden": true
    }
   },
   "outputs": [
    {
     "data": {
      "text/plain": [
       "\"\\nrank_equality_error measure  the ratio a to b\\n\\na represents the number of pairs of candidates where one candidate with attribute 'm' has a smaller rank \\nthan a candidate with attribute 'w' in one ranking, \\nwhile the rank of candidate 'm' is greater than the rank of candidate 'w' in another ranking. '\\n\\nb represents the number of total pairs\\n\\nThe ratio represents the percentage of pairs that display varying preferences between the two rankings.\\n\\nranker 8,9 and 10 have same ranking so the rank_equality_error of (8,9)(8,10)(9,10)is 0.\\n\\nrankers 8 9 10, all candidates with attribute 'm' have higher ranks than candidates with attribute 'w.' Conversely, in Ranker 11, the situation is reversed.\\nTherefore, the rank equality error for the pairs (8, 11), (9, 11), and (10, 11) is 1. \\n\\nranker 8 9 10 11 have 100 percent favoring one group of candidates over another one. \\nranker 12 favors half of the candidates with attribute 'm' over all of the candidates with attribute 'w' and \\nfavors all the candidates with 'w' over the other half of the candidates with attribute 'm'. \\nthe rank equality error for the pairs (8, 12), (9, 12), (10, 12), and(11,12)is 0.5 \\n\""
      ]
     },
     "execution_count": 7,
     "metadata": {},
     "output_type": "execute_result"
    }
   ],
   "source": [
    "\"\"\"\n",
    "rank_equality_error measure  the ratio a to b\n",
    "\n",
    "a represents the number of pairs of candidates where one candidate with attribute 'm' has a smaller rank \n",
    "than a candidate with attribute 'w' in one ranking, \n",
    "while the rank of candidate 'm' is greater than the rank of candidate 'w' in another ranking. '\n",
    "\n",
    "b represents the number of total pairs\n",
    "\n",
    "The ratio represents the percentage of pairs that display varying preferences between the two rankings.\n",
    "\n",
    "ranker 8,9 and 10 have same ranking so the rank_equality_error of (8,9)(8,10)(9,10)is 0.\n",
    "\n",
    "rankers 8 9 10, all candidates with attribute 'm' have higher ranks than candidates with attribute 'w.' Conversely, in Ranker 11, the situation is reversed.\n",
    "Therefore, the rank equality error for the pairs (8, 11), (9, 11), and (10, 11) is 1. \n",
    "\n",
    "ranker 8 9 10 11 have 100 percent favoring one group of candidates over another one. \n",
    "ranker 12 favors half of the candidates with attribute 'm' over all of the candidates with attribute 'w' and \n",
    "favors all the candidates with 'w' over the other half of the candidates with attribute 'm'. \n",
    "the rank equality error for the pairs (8, 12), (9, 12), (10, 12), and(11,12)is 0.5 \n",
    "\"\"\""
   ]
  },
  {
   "cell_type": "code",
   "execution_count": 2,
   "metadata": {
    "ExecuteTime": {
     "end_time": "2023-10-24T13:17:02.625491400Z",
     "start_time": "2023-10-24T13:17:00.850441100Z"
    }
   },
   "outputs": [
    {
     "name": "stdout",
     "output_type": "stream",
     "text": [
      "in ranker 1the value with maximum Favored Pair Representation is m, minimun is w, and the attribute rank parity score is 0.228\n",
      "in ranker 2the value with maximum Favored Pair Representation is m, minimun is w, and the attribute rank parity score is 0.002\n",
      "in ranker 3the value with maximum Favored Pair Representation is w, minimun is m, and the attribute rank parity score is 0.106\n",
      "in ranker 4the value with maximum Favored Pair Representation is w, minimun is m, and the attribute rank parity score is 0.013\n",
      "in ranker 5the value with maximum Favored Pair Representation is m, minimun is w, and the attribute rank parity score is 0.022\n",
      "in ranker 6the value with maximum Favored Pair Representation is m, minimun is w, and the attribute rank parity score is 0.097\n",
      "in ranker 7the value with maximum Favored Pair Representation is m, minimun is w, and the attribute rank parity score is 0.195\n",
      "in ranker 8the value with maximum Favored Pair Representation is w, minimun is m, and the attribute rank parity score is 1.\n",
      "in ranker 9the value with maximum Favored Pair Representation is w, minimun is m, and the attribute rank parity score is 1.\n",
      "in ranker 10the value with maximum Favored Pair Representation is w, minimun is m, and the attribute rank parity score is 1.\n",
      "in ranker 11the value with maximum Favored Pair Representation is m, minimun is w, and the attribute rank parity score is 1.\n",
      "in ranker 12the value with maximum Favored Pair Representation is  m w, minimun is  m w, and the attribute rank parity score is 0.\n"
     ]
    }
   ],
   "source": [
    "#attribute_rank_parity\n",
    "arps=[]\n",
    "attributes=pd.DataFrame(columns=['id', 'attr'])\n",
    "attributes[\"id\"]=np.arange(0,100,1)\n",
    "attributes[\"attr\"]=np.append(np.repeat(\"m\",30),np.repeat(\"w\",70))\n",
    "for ranker in df.columns[1:]:\n",
    "    ranking =pd.DataFrame(columns=['id', ranker])\n",
    "    ranking[\"id\"]=np.arange(0,100,1)\n",
    "    ranking[ranker]=df[ranker]\n",
    "    ranking=ranking.to_numpy()\n",
    "    arp=attribute_rank_parity(ranking,attributes.to_numpy(),0) \n",
    "    max_value=\"\"\n",
    "    min_value=\"\"\n",
    "    if arp[0].size>1 :\n",
    "        for i in arp[0]:\n",
    "            max_value=max_value +\" \"+ i.tolist()[0]\n",
    "    else:\n",
    "        max_value=arp[0][0].tolist()[0]\n",
    "    if arp[1].size>1 :\n",
    "        for i in arp[0]:\n",
    "            min_value=min_value +\" \"+ i.tolist()[0] \n",
    "    else:\n",
    "        min_value=arp[1].tolist()[0][0]\n",
    "    print(\"in \"+ ranker +\"the value with maximum Favored Pair Representation is \" + max_value+ \", minimum is \" + min_value + \", and the attribute rank parity score is \" + np.array2string(arp[2], precision=3,separator=' '))\n",
    "    arps.append(arp)\n"
   ]
  },
  {
   "cell_type": "code",
   "execution_count": 9,
   "metadata": {
    "collapsed": true,
    "jupyter": {
     "outputs_hidden": true
    }
   },
   "outputs": [
    {
     "data": {
      "text/plain": [
       "\"\\nFavored Pair Representation Measure: The Ratio of 'a' to 'b.' \\n'a' represents the number of pairs where the ranks of candidates with attribute 'm' are smaller than those of candidates with attribute 'w.' \\n'b' represents the total number of pairs that include one candidate with attribute 'm' and another with attribute 'w.'\\nThe ratio indicates the extent to which candidates with attribute 'm' are favored in the ranking.\\n\\nAttribute Rank Parity calculates the maximum difference in Favored Pair Representation for candidates with different attribute values, considering a fixed attribute,\\nand also the value with maximum Favored Pair Representation score and the value with minimunFavored Pair Representation score.\\n\\nIn Rankers 8 9 10 11, there is a 100 percent preference for one group of candidates with a particular attribute value. \\nAs a result, the Attribute Rank Parity score is 1. However, in Ranker 8, 9, and 10, the maximum is 'w', whereas in Ranker 11, the maximum is 'm'.\\n\\nIn Ranker 12, half of the candidates with attribute 'm' are favored over all candidates with attribute 'w,' and, \\nconversely, all candidates with 'w' are favored over the other half of the candidates with attribute 'm.' \\nConsequently, the Favored Pair Representation score for both groups is the same, resulting in an Attribute Rank Parity score of 0..\\n\""
      ]
     },
     "execution_count": 9,
     "metadata": {},
     "output_type": "execute_result"
    }
   ],
   "source": [
    "\"\"\"\n",
    "Favored Pair Representation Measure: The Ratio of 'a' to 'b.' \n",
    "'a' represents the number of pairs where the ranks of candidates with attribute 'm' are smaller than those of candidates with attribute 'w.' \n",
    "'b' represents the total number of pairs that include one candidate with attribute 'm' and another with attribute 'w.'\n",
    "The ratio indicates the extent to which candidates with attribute 'm' are favored in the ranking.\n",
    "\n",
    "Attribute Rank Parity calculates the maximum difference in Favored Pair Representation for candidates with different attribute values, considering a fixed attribute,\n",
    "and also the value with maximum Favored Pair Representation score and the value with minimum Favored Pair Representation score.\n",
    "\n",
    "In Rankers 8 9 10 11, there is a 100 percent preference for one group of candidates with a particular attribute value. \n",
    "As a result, the Attribute Rank Parity score is 1. However, in Ranker 8, 9, and 10, the maximum is 'w', whereas in Ranker 11, the maximum is 'm'.\n",
    "\n",
    "In Ranker 12, half of the candidates with attribute 'm' are favored over all candidates with attribute 'w,' and, \n",
    "conversely, all candidates with 'w' are favored over the other half of the candidates with attribute 'm.' \n",
    "Consequently, the Favored Pair Representation score for both groups is the same, resulting in an Attribute Rank Parity score of 0..\n",
    "\"\"\""
   ]
  },
  {
   "cell_type": "code",
   "execution_count": 10,
   "metadata": {
    "collapsed": true,
    "jupyter": {
     "outputs_hidden": true
    }
   },
   "outputs": [
    {
     "data": {
      "text/plain": [
       "'\\n\\nIn conclusion, \\n\\nPairwise Statistic Parity measures the fairness of rankings by assessing the degree to which one specific group of candidates, \\ndefined by a binary attribute, is favored.\\n\\nTop-K Parity measures the fairness of rankings within the top K positions for all groups of candidates defined by a specific attribute.\\n\\nRank Equality Error measures the differing preferences between two groups of candidates in two rankings.\\n\\nthe result of attribute rank parity and pairwise statistic parity are equal. \\nthe favored extent is same. \\nThrough the value with the maximum Favored Pair Representation, we can determine which group of candidates is favored in Attribute Rank Parity.           \\nThrough positivity, we can discern which group of candidates is favored in Pairwise Statistic Parity.. \\nPairwise Statistic Parity and Attribute Rank Parity measure fairness in the same way when the attribute has a binary value. \\nHowever, when the attribute has multiple values, Attribute Rank Parity can still assess the fairness of the ranking for that attribute.\\n'"
      ]
     },
     "execution_count": 10,
     "metadata": {},
     "output_type": "execute_result"
    }
   ],
   "source": [
    "\n",
    "\"\"\"\n",
    "\n",
    "In conclusion, \n",
    "\n",
    "Pairwise Statistic Parity measures the fairness of rankings by assessing the degree to which one specific group of candidates, \n",
    "defined by a binary attribute, is favored.\n",
    "\n",
    "Top-K Parity measures the fairness of rankings within the top K positions for all groups of candidates defined by a specific attribute.\n",
    "\n",
    "Rank Equality Error measures the differing preferences between two groups of candidates in two rankings.\n",
    "\n",
    "the result of attribute rank parity and pairwise statistic parity are equal. \n",
    "the favored extent is same. \n",
    "Through the value with the maximum Favored Pair Representation, we can determine which group of candidates is favored in Attribute Rank Parity.           \n",
    "Through positivity, we can discern which group of candidates is favored in Pairwise Statistic Parity.. \n",
    "Pairwise Statistic Parity and Attribute Rank Parity measure fairness in the same way when the attribute has a binary value. \n",
    "However, when the attribute has multiple values, Attribute Rank Parity can still assess the fairness of the ranking for that attribute.\n",
    "\"\"\"\n"
   ]
  },
  {
   "cell_type": "code",
   "execution_count": 3,
   "metadata": {
    "ExecuteTime": {
     "end_time": "2023-10-24T13:14:10.420560600Z",
     "start_time": "2023-10-24T13:14:10.383604Z"
    }
   },
   "outputs": [
    {
     "data": {
      "text/plain": "'1.24.3'"
     },
     "execution_count": 3,
     "metadata": {},
     "output_type": "execute_result"
    }
   ],
   "source": [
    "np.__version__"
   ]
  },
  {
   "cell_type": "code",
   "execution_count": null,
   "metadata": {},
   "outputs": [],
   "source": []
  }
 ],
 "metadata": {
  "kernelspec": {
   "display_name": "Python 3 (ipykernel)",
   "language": "python",
   "name": "python3"
  },
  "language_info": {
   "codemirror_mode": {
    "name": "ipython",
    "version": 3
   },
   "file_extension": ".py",
   "mimetype": "text/x-python",
   "name": "python",
   "nbconvert_exporter": "python",
   "pygments_lexer": "ipython3",
   "version": "3.11.5"
  }
 },
 "nbformat": 4,
 "nbformat_minor": 4
}
