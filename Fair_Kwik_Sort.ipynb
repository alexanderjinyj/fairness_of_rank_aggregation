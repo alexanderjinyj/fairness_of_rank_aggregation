{
 "cells": [
  {
   "cell_type": "code",
   "execution_count": 64,
   "id": "initial_id",
   "metadata": {
    "collapsed": true,
    "ExecuteTime": {
     "end_time": "2023-11-20T04:36:55.724031500Z",
     "start_time": "2023-11-20T04:36:55.702031200Z"
    }
   },
   "outputs": [],
   "source": [
    "import numpy as np\n",
    "import KwikSort as kwik\n",
    "import utils as ul\n",
    "import pandas as pd\n",
    "from time import time\n",
    "import metrics"
   ]
  },
  {
   "cell_type": "code",
   "execution_count": 64,
   "outputs": [],
   "source": [],
   "metadata": {
    "collapsed": false,
    "ExecuteTime": {
     "end_time": "2023-11-20T04:36:56.058397800Z",
     "start_time": "2023-11-20T04:36:56.029398700Z"
    }
   },
   "id": "9bb23c85c942a787"
  },
  {
   "cell_type": "code",
   "execution_count": 65,
   "outputs": [
    {
     "data": {
      "text/plain": "   Unnamed: 0  ranker 1  ranker 2  ranker 3  ranker 4  ranker 5  ranker 6  \\\n0         M01        20        86        79        32        28        70   \n1         M02        14         9         7        52        55        26   \n2         M03        22         3        24        31        97        29   \n3         M04        54        87        13        22        95        46   \n4         M05        93         6        53        92        31        10   \n..        ...       ...       ...       ...       ...       ...       ...   \n95        W66        44        29        85        15        72        11   \n96        W67        50        66        29        83         4        81   \n97        W68        65        75        78        80        68        12   \n98        W69        41        60         9        34        99        30   \n99        W70        70        43        19        38        29        35   \n\n    ranker 7  ranker 8  ranker 11  ranker 12  \n0         21        71          1          1  \n1         89        72          2          2  \n2         41        73          3          3  \n3         32        74          4          4  \n4         56        75          5          5  \n..       ...       ...        ...        ...  \n95        67        66         96         81  \n96        40        67         97         82  \n97        73        68         98         83  \n98        63        69         99         84  \n99        52        70        100         85  \n\n[100 rows x 11 columns]",
      "text/html": "<div>\n<style scoped>\n    .dataframe tbody tr th:only-of-type {\n        vertical-align: middle;\n    }\n\n    .dataframe tbody tr th {\n        vertical-align: top;\n    }\n\n    .dataframe thead th {\n        text-align: right;\n    }\n</style>\n<table border=\"1\" class=\"dataframe\">\n  <thead>\n    <tr style=\"text-align: right;\">\n      <th></th>\n      <th>Unnamed: 0</th>\n      <th>ranker 1</th>\n      <th>ranker 2</th>\n      <th>ranker 3</th>\n      <th>ranker 4</th>\n      <th>ranker 5</th>\n      <th>ranker 6</th>\n      <th>ranker 7</th>\n      <th>ranker 8</th>\n      <th>ranker 11</th>\n      <th>ranker 12</th>\n    </tr>\n  </thead>\n  <tbody>\n    <tr>\n      <th>0</th>\n      <td>M01</td>\n      <td>20</td>\n      <td>86</td>\n      <td>79</td>\n      <td>32</td>\n      <td>28</td>\n      <td>70</td>\n      <td>21</td>\n      <td>71</td>\n      <td>1</td>\n      <td>1</td>\n    </tr>\n    <tr>\n      <th>1</th>\n      <td>M02</td>\n      <td>14</td>\n      <td>9</td>\n      <td>7</td>\n      <td>52</td>\n      <td>55</td>\n      <td>26</td>\n      <td>89</td>\n      <td>72</td>\n      <td>2</td>\n      <td>2</td>\n    </tr>\n    <tr>\n      <th>2</th>\n      <td>M03</td>\n      <td>22</td>\n      <td>3</td>\n      <td>24</td>\n      <td>31</td>\n      <td>97</td>\n      <td>29</td>\n      <td>41</td>\n      <td>73</td>\n      <td>3</td>\n      <td>3</td>\n    </tr>\n    <tr>\n      <th>3</th>\n      <td>M04</td>\n      <td>54</td>\n      <td>87</td>\n      <td>13</td>\n      <td>22</td>\n      <td>95</td>\n      <td>46</td>\n      <td>32</td>\n      <td>74</td>\n      <td>4</td>\n      <td>4</td>\n    </tr>\n    <tr>\n      <th>4</th>\n      <td>M05</td>\n      <td>93</td>\n      <td>6</td>\n      <td>53</td>\n      <td>92</td>\n      <td>31</td>\n      <td>10</td>\n      <td>56</td>\n      <td>75</td>\n      <td>5</td>\n      <td>5</td>\n    </tr>\n    <tr>\n      <th>...</th>\n      <td>...</td>\n      <td>...</td>\n      <td>...</td>\n      <td>...</td>\n      <td>...</td>\n      <td>...</td>\n      <td>...</td>\n      <td>...</td>\n      <td>...</td>\n      <td>...</td>\n      <td>...</td>\n    </tr>\n    <tr>\n      <th>95</th>\n      <td>W66</td>\n      <td>44</td>\n      <td>29</td>\n      <td>85</td>\n      <td>15</td>\n      <td>72</td>\n      <td>11</td>\n      <td>67</td>\n      <td>66</td>\n      <td>96</td>\n      <td>81</td>\n    </tr>\n    <tr>\n      <th>96</th>\n      <td>W67</td>\n      <td>50</td>\n      <td>66</td>\n      <td>29</td>\n      <td>83</td>\n      <td>4</td>\n      <td>81</td>\n      <td>40</td>\n      <td>67</td>\n      <td>97</td>\n      <td>82</td>\n    </tr>\n    <tr>\n      <th>97</th>\n      <td>W68</td>\n      <td>65</td>\n      <td>75</td>\n      <td>78</td>\n      <td>80</td>\n      <td>68</td>\n      <td>12</td>\n      <td>73</td>\n      <td>68</td>\n      <td>98</td>\n      <td>83</td>\n    </tr>\n    <tr>\n      <th>98</th>\n      <td>W69</td>\n      <td>41</td>\n      <td>60</td>\n      <td>9</td>\n      <td>34</td>\n      <td>99</td>\n      <td>30</td>\n      <td>63</td>\n      <td>69</td>\n      <td>99</td>\n      <td>84</td>\n    </tr>\n    <tr>\n      <th>99</th>\n      <td>W70</td>\n      <td>70</td>\n      <td>43</td>\n      <td>19</td>\n      <td>38</td>\n      <td>29</td>\n      <td>35</td>\n      <td>52</td>\n      <td>70</td>\n      <td>100</td>\n      <td>85</td>\n    </tr>\n  </tbody>\n</table>\n<p>100 rows × 11 columns</p>\n</div>"
     },
     "execution_count": 65,
     "metadata": {},
     "output_type": "execute_result"
    }
   ],
   "source": [
    "df=pd.read_csv('20230918dataset_uf.csv')\n",
    "#add a ranking all m candidates has smaller rank than w's\n",
    "df[\"ranker 11\"]=np.arange(1,101,1)\n",
    "#add a ranking half  m candidates on the top of ranking and another half m candidates on the bottom of rinking and w candidates on the middle  \n",
    "ranker_12=np.concatenate((np.arange(1,16,1),np.arange(86,101,1),np.arange(16,86,1)), axis=None)\n",
    "#print(ranker_12)\n",
    "df[\"ranker 12\"]=ranker_12\n",
    "df=df.drop(['ranker 9','ranker 10'],axis=1)\n",
    "#df=df[df.columns[8:11]]\n",
    "df"
   ],
   "metadata": {
    "collapsed": false,
    "ExecuteTime": {
     "end_time": "2023-11-20T04:36:56.354071500Z",
     "start_time": "2023-11-20T04:36:56.318124300Z"
    }
   },
   "id": "957cc369fc5da99b"
  },
  {
   "cell_type": "code",
   "execution_count": 66,
   "outputs": [
    {
     "data": {
      "text/plain": "array([[ 20,  86,  79,  32,  28,  70,  21,  71,   1,   1],\n       [ 14,   9,   7,  52,  55,  26,  89,  72,   2,   2],\n       [ 22,   3,  24,  31,  97,  29,  41,  73,   3,   3],\n       [ 54,  87,  13,  22,  95,  46,  32,  74,   4,   4],\n       [ 93,   6,  53,  92,  31,  10,  56,  75,   5,   5],\n       [ 24,  38,  88,   2, 100,  61,  68,  76,   6,   6],\n       [ 10,  45,  31,  59,  98,  84,  80,  77,   7,   7],\n       [ 85,  37,  77,  76,  19,   3,  50,  78,   8,   8],\n       [ 59,  70,  44,  53,  27,  54,  49,  79,   9,   9],\n       [ 31,  97,  97,  25,  77,   1,  16,  80,  10,  10],\n       [ 58,  90,   5,   6,  18,  67,   8,  81,  11,  11],\n       [ 12,  49,  90,  44,  67,   6,   2,  82,  12,  12],\n       [ 47,  63,  60,  69,  32,  15,  19,  83,  13,  13],\n       [ 86,  61,  43,  49,  37,  63,  97,  84,  14,  14],\n       [ 21,  69,  49,  63,   8,  65,  57,  85,  15,  15],\n       [ 17,  46,  34,  97,  91,  36,  91,  86,  16,  86],\n       [ 71,  76,  70,  64,  39,  24,  14,  87,  17,  87],\n       [  2,  74,  92,  84,  62,  45,  45,  88,  18,  88],\n       [ 94,  15,  76,  98,  40, 100,  46,  89,  19,  89],\n       [ 76,  80,  42,  86,   5,  76,  59,  90,  20,  90],\n       [ 36,  16,  37,   1,   6,  62,   7,  91,  21,  91],\n       [  6,  17,  47,  56,  82,  23,  90,  92,  22,  92],\n       [ 56,  95,  98,  12,  61,  90,  29,  93,  23,  93],\n       [ 43,  89,  22,  42,  54,  47,  15,  94,  24,  94],\n       [ 19,   4,  10,  55,  43,  49,  34,  95,  25,  95],\n       [ 48,   5,  57,  27,  85,  53,  95,  96,  26,  96],\n       [ 64,  58,  75,   5,  15,  38,   6,  97,  27,  97],\n       [ 33,  36,  99, 100,   3,  95,  60,  98,  28,  98],\n       [ 52,  59,  38,  87,  66,  34,  31,  99,  29,  99],\n       [ 23,  33,  69,  40,  51,  41,   3, 100,  30, 100],\n       [ 16,  39,  12,  89,  42,  85,  26,   1,  31,  16],\n       [ 11,  30,  68,  67,  13,  31,  51,   2,  32,  17],\n       [ 99,  28,  23,  79,  12,  78,  96,   3,  33,  18],\n       [ 38,  77,  82,  85,  60,  97,  79,   4,  34,  19],\n       [ 92,  26,   3,  82,  49,  91,   5,   5,  35,  20],\n       [ 84,  91,  86,  18,  50,  87,  66,   6,  36,  21],\n       [ 90,  47,  52,  48,  45,  75,  93,   7,  37,  22],\n       [ 75,  52,  45,  43,  81,  92,  65,   8,  38,  23],\n       [ 30,  88,  87,  71,  34,   9,  38,   9,  39,  24],\n       [ 97,  24,  65,  74,  75,  25,  83,  10,  40,  25],\n       [ 13,   2,  83,  47,  93,  33,  37,  11,  41,  26],\n       [ 78, 100,  20,  91,  90,  86,  43,  12,  42,  27],\n       [  5,  44,  89,  26,  35,  17,  92,  13,  43,  28],\n       [ 42,  92,  39,  39,  25,   2,  36,  14,  44,  29],\n       [ 62,  40,  36,   8,  87,  55,  20,  15,  45,  30],\n       [  4,  22,  93,   3,  20,  58,  11,  16,  46,  31],\n       [ 88,  14,   8,  62,  69,  21,   9,  17,  47,  32],\n       [ 40,  72,  15,  13,  24,  13,  13,  18,  48,  33],\n       [ 15,  42,  80,  19,  63,  20,  61,  19,  49,  34],\n       [ 68,  13,  50,  72,  58,  71,  39,  20,  50,  35],\n       [ 29,  41,  54,  65,  79,  52,  44,  21,  51,  36],\n       [ 87,  18,  16,  61,  26,  83,  82,  22,  52,  37],\n       [ 91,  10,  58,  46,  11,   5,  70,  23,  53,  38],\n       [ 46,  82,  67,   7,  46,  18,  77,  24,  54,  39],\n       [ 72,  57,  35,  50,  41,  59,  28,  25,  55,  40],\n       [ 74,  48,   2,  10,  92,  14,  10,  26,  56,  41],\n       [ 57,  27,   4,  90,  83,  60,  84,  27,  57,  42],\n       [ 25,  85,  46,  68,  52,   7,  85,  28,  58,  43],\n       [ 49,   7,  73,  28,   1,  99,  53,  29,  59,  44],\n       [  7,  98,  84,  78,  89,  80,  78,  30,  60,  45],\n       [ 18,  68,  32,  11,  33,  88,   1,  31,  61,  46],\n       [ 66,  65,  56,  37,  56,  48,  69,  32,  62,  47],\n       [ 35,  54,  25,  54,  88,  22,  74,  33,  63,  48],\n       [ 60,  94,   6,   4,  48,  16,  55,  34,  64,  49],\n       [ 28,  64,  26,  16,  71,  82,  72,  35,  65,  50],\n       [ 45,  35, 100,   9,  86,  57,  64,  36,  66,  51],\n       [ 83,  79,  14,  24,  59,  69,  18,  37,  67,  52],\n       [ 77,  81,  72,  70,  65,  93,  12,  38,  68,  53],\n       [ 80,  19,  62,  96,  44,  42,  98,  39,  69,  54],\n       [  1,  73,  55,  75,  22,  44,  23,  40,  70,  55],\n       [  9,  12,  95,  94,  10,  66,  47,  41,  71,  56],\n       [ 89,  96,  71,  88,  36,  89,  86,  42,  72,  57],\n       [ 81,  78,  28,  77,  84,  51,  25,  43,  73,  58],\n       [ 39,  50,  40,  20,  96,  28,  27,  44,  74,  59],\n       [ 73,  34,  66,  93,  17,  74,  42,  45,  75,  60],\n       [ 37,  11,  96,  66,  80,  64,  35,  46,  76,  61],\n       [ 27,   8,  61,  36,   9,  43,  99,  47,  77,  62],\n       [ 53,  20,  91,  73,   2,  40, 100,  48,  78,  63],\n       [ 98,  25,  18,  30,  53,  94,  87,  49,  79,  64],\n       [ 34,  71,   1,  57,  94,  79,  76,  50,  80,  65],\n       [ 55,   1,  27,  60,  23,  96,  75,  51,  81,  66],\n       [ 69,  23,  51,  14,  73,  50,  48,  52,  82,  67],\n       [ 67,  99,  30,  29,  47,  37,  71,  53,  83,  68],\n       [ 82,  55,  81,  99,   7,   8,  94,  54,  84,  69],\n       [ 96,  84,  59,  45,  14,  32,  54,  55,  85,  70],\n       [ 79,  83,  48,  81,  70,  27,  24,  56,  86,  71],\n       [ 63,  32,  33,  33,  21,  73,  62,  57,  87,  72],\n       [100,  21,  74,  95,  16,  98,  88,  58,  88,  73],\n       [ 95,  56,  21,  21,  74,  77,  30,  59,  89,  74],\n       [  3,  67,  63,  58,  78,   4,  22,  60,  90,  75],\n       [ 32,  53,  94,  35,  64,  56,  81,  61,  91,  76],\n       [ 26,  51,  41,  51,  76,  72,   4,  62,  92,  77],\n       [  8,  62,  64,  23,  38,  39,  58,  63,  93,  78],\n       [ 61,  31,  17,  41,  30,  68,  17,  64,  94,  79],\n       [ 51,  93,  11,  17,  57,  19,  33,  65,  95,  80],\n       [ 44,  29,  85,  15,  72,  11,  67,  66,  96,  81],\n       [ 50,  66,  29,  83,   4,  81,  40,  67,  97,  82],\n       [ 65,  75,  78,  80,  68,  12,  73,  68,  98,  83],\n       [ 41,  60,   9,  34,  99,  30,  63,  69,  99,  84],\n       [ 70,  43,  19,  38,  29,  35,  52,  70, 100,  85]], dtype=int64)"
     },
     "execution_count": 66,
     "metadata": {},
     "output_type": "execute_result"
    }
   ],
   "source": [
    "rankings=df[df.columns[1:]].to_numpy()\n",
    "rankings"
   ],
   "metadata": {
    "collapsed": false,
    "ExecuteTime": {
     "end_time": "2023-11-20T04:36:56.654656300Z",
     "start_time": "2023-11-20T04:36:56.579475Z"
    }
   },
   "id": "ffcf35310c61429b"
  },
  {
   "cell_type": "code",
   "execution_count": 67,
   "outputs": [
    {
     "data": {
      "text/plain": "(array([[ 20,  14,  22,  54,  93,  24,  10,  85,  59,  31,  58,  12,  47,\n          86,  21,  17,  71,   2,  94,  76,  36,   6,  56,  43,  19,  48,\n          64,  33,  52,  23,  16,  11,  99,  38,  92,  84,  90,  75,  30,\n          97,  13,  78,   5,  42,  62,   4,  88,  40,  15,  68,  29,  87,\n          91,  46,  72,  74,  57,  25,  49,   7,  18,  66,  35,  60,  28,\n          45,  83,  77,  80,   1,   9,  89,  81,  39,  73,  37,  27,  53,\n          98,  34,  55,  69,  67,  82,  96,  79,  63, 100,  95,   3,  32,\n          26,   8,  61,  51,  44,  50,  65,  41,  70],\n        [ 86,   9,   3,  87,   6,  38,  45,  37,  70,  97,  90,  49,  63,\n          61,  69,  46,  76,  74,  15,  80,  16,  17,  95,  89,   4,   5,\n          58,  36,  59,  33,  39,  30,  28,  77,  26,  91,  47,  52,  88,\n          24,   2, 100,  44,  92,  40,  22,  14,  72,  42,  13,  41,  18,\n          10,  82,  57,  48,  27,  85,   7,  98,  68,  65,  54,  94,  64,\n          35,  79,  81,  19,  73,  12,  96,  78,  50,  34,  11,   8,  20,\n          25,  71,   1,  23,  99,  55,  84,  83,  32,  21,  56,  67,  53,\n          51,  62,  31,  93,  29,  66,  75,  60,  43],\n        [ 79,   7,  24,  13,  53,  88,  31,  77,  44,  97,   5,  90,  60,\n          43,  49,  34,  70,  92,  76,  42,  37,  47,  98,  22,  10,  57,\n          75,  99,  38,  69,  12,  68,  23,  82,   3,  86,  52,  45,  87,\n          65,  83,  20,  89,  39,  36,  93,   8,  15,  80,  50,  54,  16,\n          58,  67,  35,   2,   4,  46,  73,  84,  32,  56,  25,   6,  26,\n         100,  14,  72,  62,  55,  95,  71,  28,  40,  66,  96,  61,  91,\n          18,   1,  27,  51,  30,  81,  59,  48,  33,  74,  21,  63,  94,\n          41,  64,  17,  11,  85,  29,  78,   9,  19],\n        [ 32,  52,  31,  22,  92,   2,  59,  76,  53,  25,   6,  44,  69,\n          49,  63,  97,  64,  84,  98,  86,   1,  56,  12,  42,  55,  27,\n           5, 100,  87,  40,  89,  67,  79,  85,  82,  18,  48,  43,  71,\n          74,  47,  91,  26,  39,   8,   3,  62,  13,  19,  72,  65,  61,\n          46,   7,  50,  10,  90,  68,  28,  78,  11,  37,  54,   4,  16,\n           9,  24,  70,  96,  75,  94,  88,  77,  20,  93,  66,  36,  73,\n          30,  57,  60,  14,  29,  99,  45,  81,  33,  95,  21,  58,  35,\n          51,  23,  41,  17,  15,  83,  80,  34,  38],\n        [ 28,  55,  97,  95,  31, 100,  98,  19,  27,  77,  18,  67,  32,\n          37,   8,  91,  39,  62,  40,   5,   6,  82,  61,  54,  43,  85,\n          15,   3,  66,  51,  42,  13,  12,  60,  49,  50,  45,  81,  34,\n          75,  93,  90,  35,  25,  87,  20,  69,  24,  63,  58,  79,  26,\n          11,  46,  41,  92,  83,  52,   1,  89,  33,  56,  88,  48,  71,\n          86,  59,  65,  44,  22,  10,  36,  84,  96,  17,  80,   9,   2,\n          53,  94,  23,  73,  47,   7,  14,  70,  21,  16,  74,  78,  64,\n          76,  38,  30,  57,  72,   4,  68,  99,  29],\n        [ 70,  26,  29,  46,  10,  61,  84,   3,  54,   1,  67,   6,  15,\n          63,  65,  36,  24,  45, 100,  76,  62,  23,  90,  47,  49,  53,\n          38,  95,  34,  41,  85,  31,  78,  97,  91,  87,  75,  92,   9,\n          25,  33,  86,  17,   2,  55,  58,  21,  13,  20,  71,  52,  83,\n           5,  18,  59,  14,  60,   7,  99,  80,  88,  48,  22,  16,  82,\n          57,  69,  93,  42,  44,  66,  89,  51,  28,  74,  64,  43,  40,\n          94,  79,  96,  50,  37,   8,  32,  27,  73,  98,  77,   4,  56,\n          72,  39,  68,  19,  11,  81,  12,  30,  35],\n        [ 21,  89,  41,  32,  56,  68,  80,  50,  49,  16,   8,   2,  19,\n          97,  57,  91,  14,  45,  46,  59,   7,  90,  29,  15,  34,  95,\n           6,  60,  31,   3,  26,  51,  96,  79,   5,  66,  93,  65,  38,\n          83,  37,  43,  92,  36,  20,  11,   9,  13,  61,  39,  44,  82,\n          70,  77,  28,  10,  84,  85,  53,  78,   1,  69,  74,  55,  72,\n          64,  18,  12,  98,  23,  47,  86,  25,  27,  42,  35,  99, 100,\n          87,  76,  75,  48,  71,  94,  54,  24,  62,  88,  30,  22,  81,\n           4,  58,  17,  33,  67,  40,  73,  63,  52],\n        [ 71,  72,  73,  74,  75,  76,  77,  78,  79,  80,  81,  82,  83,\n          84,  85,  86,  87,  88,  89,  90,  91,  92,  93,  94,  95,  96,\n          97,  98,  99, 100,   1,   2,   3,   4,   5,   6,   7,   8,   9,\n          10,  11,  12,  13,  14,  15,  16,  17,  18,  19,  20,  21,  22,\n          23,  24,  25,  26,  27,  28,  29,  30,  31,  32,  33,  34,  35,\n          36,  37,  38,  39,  40,  41,  42,  43,  44,  45,  46,  47,  48,\n          49,  50,  51,  52,  53,  54,  55,  56,  57,  58,  59,  60,  61,\n          62,  63,  64,  65,  66,  67,  68,  69,  70],\n        [  1,   2,   3,   4,   5,   6,   7,   8,   9,  10,  11,  12,  13,\n          14,  15,  16,  17,  18,  19,  20,  21,  22,  23,  24,  25,  26,\n          27,  28,  29,  30,  31,  32,  33,  34,  35,  36,  37,  38,  39,\n          40,  41,  42,  43,  44,  45,  46,  47,  48,  49,  50,  51,  52,\n          53,  54,  55,  56,  57,  58,  59,  60,  61,  62,  63,  64,  65,\n          66,  67,  68,  69,  70,  71,  72,  73,  74,  75,  76,  77,  78,\n          79,  80,  81,  82,  83,  84,  85,  86,  87,  88,  89,  90,  91,\n          92,  93,  94,  95,  96,  97,  98,  99, 100],\n        [  1,   2,   3,   4,   5,   6,   7,   8,   9,  10,  11,  12,  13,\n          14,  15,  86,  87,  88,  89,  90,  91,  92,  93,  94,  95,  96,\n          97,  98,  99, 100,  16,  17,  18,  19,  20,  21,  22,  23,  24,\n          25,  26,  27,  28,  29,  30,  31,  32,  33,  34,  35,  36,  37,\n          38,  39,  40,  41,  42,  43,  44,  45,  46,  47,  48,  49,  50,\n          51,  52,  53,  54,  55,  56,  57,  58,  59,  60,  61,  62,  63,\n          64,  65,  66,  67,  68,  69,  70,  71,  72,  73,  74,  75,  76,\n          77,  78,  79,  80,  81,  82,  83,  84,  85]], dtype=int64),\n (10, 100))"
     },
     "execution_count": 67,
     "metadata": {},
     "output_type": "execute_result"
    }
   ],
   "source": [
    "rankings=rankings.transpose()\n",
    "rankings,rankings.shape"
   ],
   "metadata": {
    "collapsed": false,
    "ExecuteTime": {
     "end_time": "2023-11-20T04:36:56.954366600Z",
     "start_time": "2023-11-20T04:36:56.924133Z"
    }
   },
   "id": "62343594cba99dc6"
  },
  {
   "cell_type": "code",
   "execution_count": 68,
   "outputs": [],
   "source": [
    "threshold=0.1"
   ],
   "metadata": {
    "collapsed": false,
    "ExecuteTime": {
     "end_time": "2023-11-20T04:36:57.541441500Z",
     "start_time": "2023-11-20T04:36:57.518446200Z"
    }
   },
   "id": "e16f597bdc8cb98c"
  },
  {
   "cell_type": "code",
   "execution_count": 69,
   "outputs": [
    {
     "data": {
      "text/plain": "array([ 0,  1,  2,  3,  4,  5,  6,  7,  8,  9, 10, 11, 12, 13, 14, 15, 16,\n       17, 18, 19, 20, 21, 22, 23, 24, 25, 26, 27, 28, 29, 30, 31, 32, 33,\n       34, 35, 36, 37, 38, 39, 40, 41, 42, 43, 44, 45, 46, 47, 48, 49, 50,\n       51, 52, 53, 54, 55, 56, 57, 58, 59, 60, 61, 62, 63, 64, 65, 66, 67,\n       68, 69, 70, 71, 72, 73, 74, 75, 76, 77, 78, 79, 80, 81, 82, 83, 84,\n       85, 86, 87, 88, 89, 90, 91, 92, 93, 94, 95, 96, 97, 98, 99])"
     },
     "execution_count": 69,
     "metadata": {},
     "output_type": "execute_result"
    }
   ],
   "source": [
    "attribute = np.append(np.repeat(0, 30), np.repeat(1, 70))\n",
    "attribute=np.c_[np.arange(100),attribute]\n",
    "df_groups=pd.DataFrame(attribute,columns=['id','attribute'])\n",
    "groups=df_groups.groupby(df_groups.columns[1]).count()\n",
    "groups=groups.to_numpy()\n",
    "groups=np.c_[np.array([[0],[1]]),groups]\n",
    "Vertices=attribute[:,0]\n",
    "Vertices\n",
    "\n"
   ],
   "metadata": {
    "collapsed": false,
    "ExecuteTime": {
     "end_time": "2023-11-20T04:36:57.926416600Z",
     "start_time": "2023-11-20T04:36:57.893417300Z"
    }
   },
   "id": "5f19ab7e103c6a59"
  },
  {
   "cell_type": "code",
   "execution_count": 70,
   "outputs": [],
   "source": [
    "kemeny_ranking_Kwik=kwik.KwikSort(Vertices,rankings)"
   ],
   "metadata": {
    "collapsed": false,
    "ExecuteTime": {
     "end_time": "2023-11-20T04:36:58.284546800Z",
     "start_time": "2023-11-20T04:36:58.168160200Z"
    }
   },
   "id": "380e06fdd2fdd71d"
  },
  {
   "cell_type": "code",
   "execution_count": 71,
   "outputs": [
    {
     "data": {
      "text/plain": "array([ 1, 46, 20, 31, 45, 10, 93,  0, 11, 12, 30, 47, 40, 42, 44, 48, 60,\n       34, 43, 57, 38, 63,  9, 73,  2, 76, 26, 29,  3, 23, 54, 94, 24,  8,\n       13, 14, 75, 80, 82, 49, 50, 35, 37, 41, 58, 52, 32, 69, 53, 55, 56,\n       62, 64, 65, 66, 70, 77, 81, 72, 78, 84, 86, 51, 89,  4, 61, 74, 95,\n       99, 88, 92,  5, 59,  6,  7, 36, 17, 33, 39, 85, 68, 83, 87, 90, 91,\n       79, 98, 96, 21, 67, 15, 16, 22, 25, 27, 28, 97, 19, 71, 18])"
     },
     "execution_count": 71,
     "metadata": {},
     "output_type": "execute_result"
    }
   ],
   "source": [
    "kemeny_ranking_Kwik\n"
   ],
   "metadata": {
    "collapsed": false,
    "ExecuteTime": {
     "end_time": "2023-11-20T04:36:58.441289100Z",
     "start_time": "2023-11-20T04:36:58.411649100Z"
    }
   },
   "id": "88373a61b763d636"
  },
  {
   "cell_type": "code",
   "execution_count": 72,
   "outputs": [
    {
     "data": {
      "text/plain": "24104"
     },
     "execution_count": 72,
     "metadata": {},
     "output_type": "execute_result"
    }
   ],
   "source": [
    "kemeny_dist_kwik=ul.kemeny_dist(rankings,kemeny_ranking_Kwik)\n",
    "kemeny_dist_kwik"
   ],
   "metadata": {
    "collapsed": false,
    "ExecuteTime": {
     "end_time": "2023-11-20T04:36:58.872520200Z",
     "start_time": "2023-11-20T04:36:58.685936600Z"
    }
   },
   "id": "4280963b724eed01"
  },
  {
   "cell_type": "code",
   "execution_count": 73,
   "outputs": [
    {
     "data": {
      "text/plain": "10.712010145187378"
     },
     "execution_count": 73,
     "metadata": {},
     "output_type": "execute_result"
    }
   ],
   "source": [
    "t0=time()\n",
    "fair_Kwik_Sort_ranking=kwik.fair_Kwik_Sort(rankings,attribute,groups,threshold)\n",
    "t1=time()   \n",
    "t1-t0"
   ],
   "metadata": {
    "collapsed": false,
    "ExecuteTime": {
     "end_time": "2023-11-20T04:37:09.675844300Z",
     "start_time": "2023-11-20T04:36:58.956725800Z"
    }
   },
   "id": "93ef282670b22b88"
  },
  {
   "cell_type": "code",
   "execution_count": 74,
   "outputs": [],
   "source": [
    "fair_kemeny_dist_kwik=ul.kemeny_dist(rankings,fair_Kwik_Sort_ranking)"
   ],
   "metadata": {
    "collapsed": false,
    "ExecuteTime": {
     "end_time": "2023-11-20T04:37:09.805772200Z",
     "start_time": "2023-11-20T04:37:09.676846700Z"
    }
   },
   "id": "32ab81a72d7fbcb8"
  },
  {
   "cell_type": "code",
   "execution_count": 75,
   "outputs": [
    {
     "data": {
      "text/plain": "(23910,\n array([ 1, 31, 45, 56, 20,  5, 40, 42, 26, 30, 47, 43, 55,  3, 10, 44, 46,\n        48, 60, 58, 52, 92, 93, 11, 94, 24, 50, 29, 54, 62, 64,  8, 14, 34,\n        53, 57, 38, 12, 63, 49, 61, 16, 65, 66,  2, 69, 70,  4, 76, 89,  0,\n        73, 81, 88, 91,  7, 95, 35,  9, 98, 37, 80, 75, 82, 78, 13, 84, 86,\n        17, 51, 96, 99, 18, 90, 19, 97, 21,  6, 23, 32, 74, 36, 79, 33, 39,\n        67, 77, 15, 72, 22, 83, 25, 27, 85, 41, 59, 68, 28, 71, 87]))"
     },
     "execution_count": 75,
     "metadata": {},
     "output_type": "execute_result"
    }
   ],
   "source": [
    "fair_kemeny_dist_kwik,fair_Kwik_Sort_ranking"
   ],
   "metadata": {
    "collapsed": false,
    "ExecuteTime": {
     "end_time": "2023-11-20T04:37:09.813111700Z",
     "start_time": "2023-11-20T04:37:09.807775800Z"
    }
   },
   "id": "4b677cffb8575404"
  },
  {
   "cell_type": "code",
   "execution_count": 76,
   "outputs": [],
   "source": [
    "fair_Kwik_Sort_ranking_satisfied_array=[]\n",
    "k_threshold=threshold\n",
    "for k in range(1,100):\n",
    "    fair_Kwik_Sort_ranking_k =pd.DataFrame(columns=['id', 'ranker'])\n",
    "    fair_Kwik_Sort_ranking_k[\"id\"]=np.arange(0,100,1)\n",
    "    fair_Kwik_Sort_ranking_k[\"ranker\"]=fair_Kwik_Sort_ranking\n",
    "    fair_Kwik_Sort_ranking_k_m =fair_Kwik_Sort_ranking_k.head(30).to_numpy()\n",
    "    fair_Kwik_Sort_ranking_k_w =fair_Kwik_Sort_ranking_k.tail(70).to_numpy()\n",
    "    fair_Kwik_Sort_ranking_k_groups=np.array([fair_Kwik_Sort_ranking_k_m,fair_Kwik_Sort_ranking_k_w], dtype=object)\n",
    "    fair_Kwik_Sort_ranking_k_satisfied=metrics.top_k_parity(fair_Kwik_Sort_ranking_k_groups,k,k_threshold )\n",
    "    fair_Kwik_Sort_ranking_satisfied_array.append([\"ranker\",k,fair_Kwik_Sort_ranking_k_satisfied])"
   ],
   "metadata": {
    "collapsed": false,
    "ExecuteTime": {
     "end_time": "2023-11-20T04:37:09.927135Z",
     "start_time": "2023-11-20T04:37:09.817112500Z"
    }
   },
   "id": "3e7fd78977b5e2c5"
  },
  {
   "cell_type": "code",
   "execution_count": 77,
   "outputs": [
    {
     "data": {
      "text/plain": "[['ranker', 1, True],\n ['ranker', 2, True],\n ['ranker', 3, True],\n ['ranker', 4, True],\n ['ranker', 5, True],\n ['ranker', 6, True],\n ['ranker', 7, True],\n ['ranker', 8, True],\n ['ranker', 9, True],\n ['ranker', 10, True],\n ['ranker', 11, True],\n ['ranker', 12, True],\n ['ranker', 13, True],\n ['ranker', 14, True],\n ['ranker', 15, True],\n ['ranker', 16, True],\n ['ranker', 17, True],\n ['ranker', 18, True],\n ['ranker', 19, True],\n ['ranker', 20, True],\n ['ranker', 21, True],\n ['ranker', 22, True],\n ['ranker', 23, True],\n ['ranker', 24, True],\n ['ranker', 25, True],\n ['ranker', 26, True],\n ['ranker', 27, True],\n ['ranker', 28, True],\n ['ranker', 29, True],\n ['ranker', 30, True],\n ['ranker', 31, True],\n ['ranker', 32, True],\n ['ranker', 33, True],\n ['ranker', 34, True],\n ['ranker', 35, True],\n ['ranker', 36, True],\n ['ranker', 37, True],\n ['ranker', 38, True],\n ['ranker', 39, True],\n ['ranker', 40, True],\n ['ranker', 41, True],\n ['ranker', 42, True],\n ['ranker', 43, True],\n ['ranker', 44, True],\n ['ranker', 45, True],\n ['ranker', 46, True],\n ['ranker', 47, True],\n ['ranker', 48, True],\n ['ranker', 49, True],\n ['ranker', 50, True],\n ['ranker', 51, True],\n ['ranker', 52, True],\n ['ranker', 53, True],\n ['ranker', 54, True],\n ['ranker', 55, True],\n ['ranker', 56, True],\n ['ranker', 57, False],\n ['ranker', 58, True],\n ['ranker', 59, False],\n ['ranker', 60, False],\n ['ranker', 61, False],\n ['ranker', 62, False],\n ['ranker', 63, False],\n ['ranker', 64, False],\n ['ranker', 65, False],\n ['ranker', 66, True],\n ['ranker', 67, True],\n ['ranker', 68, True],\n ['ranker', 69, True],\n ['ranker', 70, True],\n ['ranker', 71, True],\n ['ranker', 72, True],\n ['ranker', 73, True],\n ['ranker', 74, True],\n ['ranker', 75, True],\n ['ranker', 76, True],\n ['ranker', 77, True],\n ['ranker', 78, True],\n ['ranker', 79, True],\n ['ranker', 80, True],\n ['ranker', 81, True],\n ['ranker', 82, True],\n ['ranker', 83, True],\n ['ranker', 84, True],\n ['ranker', 85, True],\n ['ranker', 86, True],\n ['ranker', 87, True],\n ['ranker', 88, True],\n ['ranker', 89, True],\n ['ranker', 90, True],\n ['ranker', 91, True],\n ['ranker', 92, True],\n ['ranker', 93, True],\n ['ranker', 94, True],\n ['ranker', 95, True],\n ['ranker', 96, True],\n ['ranker', 97, True],\n ['ranker', 98, True],\n ['ranker', 99, True]]"
     },
     "execution_count": 77,
     "metadata": {},
     "output_type": "execute_result"
    }
   ],
   "source": [
    "fair_Kwik_Sort_ranking_satisfied_array"
   ],
   "metadata": {
    "collapsed": false,
    "ExecuteTime": {
     "end_time": "2023-11-20T04:37:09.942616800Z",
     "start_time": "2023-11-20T04:37:09.931139100Z"
    }
   },
   "id": "91ac4b0d8b3891c6"
  },
  {
   "cell_type": "code",
   "execution_count": 78,
   "outputs": [],
   "source": [
    "fair_Kwik_Sort_ranking_m=np.c_[np.arange(30),fair_Kwik_Sort_ranking[:30]]\n",
    "fair_Kwik_Sort_ranking_w=np.c_[np.arange(30,100),fair_Kwik_Sort_ranking[30:]]"
   ],
   "metadata": {
    "collapsed": false,
    "ExecuteTime": {
     "end_time": "2023-11-20T04:37:09.964013800Z",
     "start_time": "2023-11-20T04:37:09.941611300Z"
    }
   },
   "id": "bc58f8adbf9815e"
  },
  {
   "cell_type": "code",
   "execution_count": 79,
   "outputs": [
    {
     "data": {
      "text/plain": "0.2038095238095238"
     },
     "execution_count": 79,
     "metadata": {},
     "output_type": "execute_result"
    }
   ],
   "source": [
    "fair_Kwik_Sort_ranking_parity=metrics.pairwise_statistical_parity(fair_Kwik_Sort_ranking_m,fair_Kwik_Sort_ranking_w)\n",
    "fair_Kwik_Sort_ranking_parity"
   ],
   "metadata": {
    "collapsed": false,
    "ExecuteTime": {
     "end_time": "2023-11-20T04:37:10.021007500Z",
     "start_time": "2023-11-20T04:37:09.953612Z"
    }
   },
   "id": "6548626c3efa54f8"
  },
  {
   "cell_type": "code",
   "execution_count": null,
   "outputs": [],
   "source": [],
   "metadata": {
    "collapsed": false
   },
   "id": "cc1ac1f2080e2681"
  },
  {
   "cell_type": "code",
   "execution_count": null,
   "outputs": [],
   "source": [],
   "metadata": {
    "collapsed": false
   },
   "id": "f623a439c90c58a7"
  },
  {
   "cell_type": "code",
   "execution_count": 15,
   "outputs": [
    {
     "data": {
      "text/plain": "array([[ 0,  1, 11, ..., 61, 56, 49],\n       [ 0,  3,  1, ..., 60, 52, 61],\n       [ 0,  3,  5, ..., 43, 49, 52],\n       ...,\n       [ 0,  2,  8, ..., 52, 61, 53],\n       [ 0,  1,  4, ..., 63, 52, 61],\n       [ 0,  2,  1, ..., 61, 62, 53]])"
     },
     "execution_count": 15,
     "metadata": {},
     "output_type": "execute_result"
    }
   ],
   "source": [
    "base_rankings = np.load('cs_baseranks.npy').astype(int)\n",
    "base_rankings"
   ],
   "metadata": {
    "collapsed": false,
    "ExecuteTime": {
     "start_time": "2023-11-20T04:18:42.292586400Z"
    }
   },
   "id": "1d8aca9cdc8d3f92"
  },
  {
   "cell_type": "code",
   "execution_count": 140,
   "outputs": [
    {
     "name": "stdout",
     "output_type": "stream",
     "text": [
      "[] [1] []\n",
      "[1] [3] []\n",
      "[] [0] [1 3]\n",
      "[] [5] []\n",
      "[5] [6] []\n",
      "[] [4] [5 6]\n",
      "[0 1 3] [2] [4 5 6]\n",
      "[] [8] []\n",
      "[8] [9] []\n",
      "[8 9] [10] []\n",
      "[ 8  9 10] [11] []\n",
      "[0 1 3 2 4 5 6] [7] [ 8  9 10 11]\n",
      "[] [13] []\n",
      "[] [18] []\n",
      "[13] [14] [18]\n",
      "[] [15] []\n",
      "[15] [19] []\n",
      "[] [24] [15 19]\n",
      "[] [23] []\n",
      "[24 15 19] [16] [23]\n",
      "[] [26] []\n",
      "[] [20] [26]\n",
      "[20 26] [28] []\n",
      "[] [25] []\n",
      "[] [29] []\n",
      "[] [30] [29]\n",
      "[25] [27] [30 29]\n",
      "[20 26 28] [22] [25 27 30 29]\n",
      "[] [35] []\n",
      "[] [31] []\n",
      "[35] [36] [31]\n",
      "[] [41] []\n",
      "[] [46] []\n",
      "[41] [34] [46]\n",
      "[] [33] [41 34 46]\n",
      "[35 36 31] [37] [33 41 34 46]\n",
      "[20 26 28 22 25 27 30 29] [32] [35 36 31 37 33 41 34 46]\n",
      "[24 15 19 16 23] [21] [20 26 28 22 25 27 30 29 32 35 36 31 37 33 41 34 46]\n",
      "[13 14 18] [17] [24 15 19 16 23 21 20 26 28 22 25 27 30 29 32 35 36 31 37 33 41 34 46]\n",
      "[ 0  1  3  2  4  5  6  7  8  9 10 11] [12] [13 14 18 17 24 15 19 16 23 21 20 26 28 22 25 27 30 29 32 35 36 31 37 33\n",
      " 41 34 46]\n",
      "[] [38] []\n",
      "[] [43] []\n",
      "[43] [40] []\n",
      "[43 40] [49] []\n",
      "[43 40 49] [47] []\n",
      "[38] [42] [43 40 49 47]\n",
      "[38 42 43 40 49 47] [52] []\n",
      "[] [48] []\n",
      "[] [44] [48]\n",
      "[] [50] []\n",
      "[] [54] []\n",
      "[] [60] []\n",
      "[] [64] [60]\n",
      "[] [56] []\n",
      "[] [63] []\n",
      "[56] [57] [63]\n",
      "[64 60] [61] [56 57 63]\n",
      "[] [62] []\n",
      "[] [58] [62]\n",
      "[64 60 61 56 57 63] [59] [58 62]\n",
      "[54] [55] [64 60 61 56 57 63 59 58 62]\n",
      "[50] [53] [54 55 64 60 61 56 57 63 59 58 62]\n",
      "[44 48] [51] [50 53 54 55 64 60 61 56 57 63 59 58 62]\n",
      "[38 42 43 40 49 47 52] [45] [44 48 51 50 53 54 55 64 60 61 56 57 63 59 58 62]\n",
      "[ 0  1  3  2  4  5  6  7  8  9 10 11 12 13 14 18 17 24 15 19 16 23 21 20\n",
      " 26 28 22 25 27 30 29 32 35 36 31 37 33 41 34 46] [39] [38 42 43 40 49 47 52 45 44 48 51 50 53 54 55 64 60 61 56 57 63 59 58 62]\n"
     ]
    }
   ],
   "source": [
    "\n",
    "\n",
    "t0=time()\n",
    "kemeny_ranking_Kwik_cs=kwik.KwikSort(base_rankings)\n",
    "t1=time()\n",
    "t1-t0"
   ],
   "metadata": {
    "collapsed": false,
    "ExecuteTime": {
     "start_time": "2023-11-20T01:57:50.090339Z"
    }
   },
   "id": "48879f6092f4a9be"
  },
  {
   "cell_type": "code",
   "execution_count": 141,
   "outputs": [
    {
     "data": {
      "text/plain": "array([ 0,  1,  3,  2,  4,  5,  6,  7,  8,  9, 10, 11, 12, 13, 14, 18, 17,\n       24, 15, 19, 16, 23, 21, 20, 26, 28, 22, 25, 27, 30, 29, 32, 35, 36,\n       31, 37, 33, 41, 34, 46, 39, 38, 42, 43, 40, 49, 47, 52, 45, 44, 48,\n       51, 50, 53, 54, 55, 64, 60, 61, 56, 57, 63, 59, 58, 62])"
     },
     "execution_count": 141,
     "metadata": {},
     "output_type": "execute_result"
    }
   ],
   "source": [
    "kemeny_ranking_Kwik_cs"
   ],
   "metadata": {
    "collapsed": false,
    "ExecuteTime": {
     "start_time": "2023-11-20T01:57:50.933676200Z"
    }
   },
   "id": "d8efae2657cf17c2"
  },
  {
   "cell_type": "code",
   "execution_count": 142,
   "outputs": [
    {
     "data": {
      "text/plain": "5713"
     },
     "execution_count": 142,
     "metadata": {},
     "output_type": "execute_result"
    }
   ],
   "source": [
    "kemeny_dist_kwik_cs=ul.kemeny_dist(base_rankings,kemeny_ranking_Kwik_cs)\n",
    "kemeny_dist_kwik_cs"
   ],
   "metadata": {
    "collapsed": false,
    "ExecuteTime": {
     "start_time": "2023-11-20T01:57:51.807501300Z"
    }
   },
   "id": "7ff104b6e1226741"
  },
  {
   "cell_type": "code",
   "execution_count": 143,
   "outputs": [],
   "source": [
    "\n"
   ],
   "metadata": {
    "collapsed": false,
    "ExecuteTime": {
     "start_time": "2023-11-20T01:57:52.780646700Z"
    }
   },
   "id": "c021a6f20099001d"
  },
  {
   "cell_type": "code",
   "execution_count": 144,
   "outputs": [
    {
     "name": "stdout",
     "output_type": "stream",
     "text": [
      "31 53\n"
     ]
    }
   ],
   "source": [
    "length_L=random.randint(0,99)\n",
    "length_R=random.randint(0,99-length_L)\n",
    "print(length_L,length_R)\n",
    "\n"
   ],
   "metadata": {
    "collapsed": false,
    "ExecuteTime": {
     "start_time": "2023-11-20T01:57:53.878399600Z"
    }
   },
   "id": "63d4af0dc7d9cae8"
  },
  {
   "cell_type": "code",
   "execution_count": 145,
   "outputs": [
    {
     "name": "stdout",
     "output_type": "stream",
     "text": [
      "[0, 1, 2, 3, 4, 5, 6, 7, 8, 9, 10, 11, 12, 13, 14, 15, 16, 17, 18, 19, 20, 21, 22, 23, 24, 25, 26, 27, 28, 29, 30, 31, 32, 33, 34, 35, 36, 37, 38, 39, 40, 41, 42, 43, 44, 45, 46, 47, 48, 49, 50, 51, 52, 53, 54, 55, 56, 57, 58, 59, 60, 61, 62, 63, 64, 65, 66, 67, 68, 69, 70, 71, 72, 73, 74, 75, 76, 77, 78, 79, 80, 81, 82, 83, 84, 85, 86, 87, 88, 89, 90, 91, 92, 93, 94, 95, 96, 97, 98, 99]\n"
     ]
    },
    {
     "data": {
      "text/plain": "([37,\n  58,\n  42,\n  86,\n  57,\n  81,\n  78,\n  6,\n  40,\n  77,\n  83,\n  95,\n  91,\n  33,\n  89,\n  96,\n  54,\n  24,\n  4,\n  32,\n  30,\n  39,\n  12,\n  18,\n  16,\n  97,\n  1,\n  68,\n  49,\n  0,\n  69,\n  34,\n  25,\n  72,\n  44,\n  64,\n  76,\n  51,\n  8,\n  13,\n  23,\n  46,\n  99,\n  50,\n  26,\n  67,\n  43,\n  52,\n  41,\n  2,\n  62,\n  47,\n  7],\n [71,\n  65,\n  35,\n  19,\n  15,\n  85,\n  17,\n  55,\n  80,\n  21,\n  92,\n  63,\n  61,\n  27,\n  36,\n  45,\n  20,\n  14,\n  59,\n  3,\n  5,\n  31,\n  9,\n  38,\n  87,\n  90,\n  73,\n  11,\n  66,\n  60,\n  10],\n [98])"
     },
     "execution_count": 145,
     "metadata": {},
     "output_type": "execute_result"
    }
   ],
   "source": [
    "Vertices_R=[]\n",
    "Vertices_L=[]\n",
    "Vertices=list(range(0,100))\n",
    "print(Vertices)\n",
    "for i in range(length_L):\n",
    "    vertice=Vertices[random.randint(0,len(Vertices)-1)]\n",
    "    Vertices_L.append(vertice)\n",
    "    Vertices.remove(vertice)\n",
    "for i in range(length_R):\n",
    "    vertice=Vertices[random.randint(0,len(Vertices)-1)]\n",
    "    Vertices_R.append(vertice)\n",
    "    Vertices.remove(vertice)   \n",
    "pivot_candidate=[Vertices[random.randint(0,len(Vertices)-1)]]\n",
    "Vertices_R,Vertices_L,pivot_candidate"
   ],
   "metadata": {
    "collapsed": false,
    "ExecuteTime": {
     "start_time": "2023-11-20T01:57:56.091691700Z"
    }
   },
   "id": "f676fe5580102c0"
  },
  {
   "cell_type": "code",
   "execution_count": 146,
   "outputs": [
    {
     "data": {
      "text/plain": "([98], 98)"
     },
     "execution_count": 146,
     "metadata": {},
     "output_type": "execute_result"
    }
   ],
   "source": [
    "\n",
    "pivot_candidate,pivot_candidate[0]"
   ],
   "metadata": {
    "collapsed": false,
    "ExecuteTime": {
     "start_time": "2023-11-20T01:57:57.128546500Z"
    }
   },
   "id": "adbb66922fee63c2"
  },
  {
   "cell_type": "code",
   "execution_count": 255,
   "outputs": [],
   "source": [
    "def fair_Kwik_Sort_recur(unweighted_majority_Tournament,Fas_Tournament,attribute,groups, threshold):\n",
    "    Vertices=unweighted_majority_Tournament[0]\n",
    "    Arc=unweighted_majority_Tournament[1]\n",
    "    size_candidates=len(Vertices)\n",
    "    if size_candidates ==0:\n",
    "        print(np.zeros(0),'null')\n",
    "        return np.zeros(0)\n",
    "\n",
    "    pivot_candidate=Vertices[randrange(size_candidates)]\n",
    "    pivot_candidate=[pivot_candidate]\n",
    "    if size_candidates==1:\n",
    "        print(pivot_candidate[0],'pi')\n",
    "        return np.array([pivot_candidate[0]])\n",
    "    Vertices_L=[]\n",
    "    Vertices_R=[]\n",
    "    for j in range(size_candidates):\n",
    "        if Arc[Vertices[j],pivot_candidate[0]]==1:\n",
    "            Vertices_L.append(Vertices[j])\n",
    "        if Arc[pivot_candidate[0],Vertices[j]]==1:\n",
    "            Vertices_R.append(Vertices[j])\n",
    "\n",
    "    if size_candidates==2:\n",
    "        result=np.concatenate((Vertices_L,np.array([pivot_candidate[0]]).astype(int),Vertices_R))\n",
    "        print(result,'re')\n",
    "        return result\n",
    "    \n",
    "    Vertices_L, pivot_candidate, Vertices_R=adjust_unfairness(rankings,Vertices_L,pivot_candidate,Vertices_R,groups,attribute,threshold)\n",
    "    print(Vertices_L,pivot_candidate,Vertices_R,'addver')\n",
    "    unweighted_majority_Tournament_L=generate_unweighted_majority_Tournament(Vertices_L,Fas_Tournament)\n",
    "    unweighted_majority_Tournament_R=generate_unweighted_majority_Tournament(Vertices_R,Fas_Tournament)\n",
    "    \n",
    "    permutation_L=fair_Kwik_Sort_recur(unweighted_majority_Tournament_L,Fas_Tournament,attribute,groups,threshold)\n",
    "    permutation_R=fair_Kwik_Sort_recur(unweighted_majority_Tournament_R,Fas_Tournament,attribute,groups,threshold)\n",
    "    if len(permutation_L)>0:\n",
    "        permutation_L=permutation_L.astype(int)\n",
    "    if len(permutation_R)>0:\n",
    "         permutation_R=permutation_R.astype(int)\n",
    "    if len(pivot_candidate)>0:\n",
    "        print(permutation_L,pivot_candidate[0],permutation_R,'per1')\n",
    "        return np.concatenate((permutation_L,np.array([pivot_candidate[0]]).astype(int),permutation_R))\n",
    "    else:\n",
    "        print(permutation_L,permutation_R,'per2')\n",
    "        return np.concatenate((permutation_L,permutation_R))"
   ],
   "metadata": {
    "collapsed": false,
    "ExecuteTime": {
     "start_time": "2023-11-20T02:48:57.619991300Z"
    }
   },
   "id": "5306eaba33c26a68"
  },
  {
   "cell_type": "code",
   "execution_count": 256,
   "outputs": [],
   "source": [
    "def fair_Kwik_Sort(rankings,attribute,groups,threshold):\n",
    "    Vertices=np.arange(rankings.shape[1])\n",
    "    Fas_Tournament=build_graph(rankings)\n",
    "    unweighted_majority_Tournament=generate_unweighted_majority_Tournament(Vertices,Fas_Tournament)\n",
    "    ranking_opt=fair_Kwik_Sort_recur(rankings,unweighted_majority_Tournament,Fas_Tournament,attribute,groups,threshold)\n",
    "\n",
    "    return ranking_opt"
   ],
   "metadata": {
    "collapsed": false,
    "ExecuteTime": {
     "start_time": "2023-11-20T02:48:58.201289100Z"
    }
   },
   "id": "c876859f30416644"
  },
  {
   "cell_type": "code",
   "execution_count": 257,
   "outputs": [],
   "source": [
    "\n",
    "\n",
    "\n",
    "from math import ceil\n",
    "from numpy.ma import floor\n",
    "\n",
    "def boundary(proportion_group,length_Vertices,threshold):\n",
    "    return(round((proportion_group-threshold)*(length_Vertices)),round((proportion_group+threshold)*(length_Vertices)))\n",
    "    \n",
    "def adjust_unfairness(rankings,Vertices_L,pivot_candidate,Vertices_R,groups,attribute,threshold):\n",
    "    length_Vertices_L=len(Vertices_L)\n",
    "    length_Vertices_R=len(Vertices_R)\n",
    "    #print(length_Vertices_L,length_Vertices_R,pivot_candidate)\n",
    "    proportions_groups=proportions(groups)\n",
    "    boundary_L=[]\n",
    "    boundary_L.append(boundary(proportions_groups[0],length_Vertices_L,threshold))\n",
    "    boundary_L.append(boundary(proportions_groups[1],length_Vertices_L,threshold))\n",
    "    boundary_R=[]\n",
    "    boundary_R.append(boundary(proportions_groups[0],length_Vertices_R,threshold))\n",
    "    boundary_R.append(boundary(proportions_groups[1],length_Vertices_R,threshold))\n",
    "    #print(boundary_L,boundary_R,'boundary')\n",
    "    groups_of_Vertices_L=group_by(Vertices_L,groups,attribute)\n",
    "    groups_of_Vertices_R=group_by(Vertices_R,groups,attribute)\n",
    "    size_of_group_L=(len(groups_of_Vertices_L[0]),len(groups_of_Vertices_L[1]))\n",
    "    size_of_group_R=(len(groups_of_Vertices_R[0]),len(groups_of_Vertices_R[1]))\n",
    "    #print(size_of_group_L,size_of_group_R,'size')\n",
    "    unfairness_of_group_L=[]\n",
    "    unfairness_of_group_L.append((max(0,boundary_L[0][0]-size_of_group_L[0]),max(0,size_of_group_L[0]-boundary_L[0][1])))\n",
    "    unfairness_of_group_L.append((max(0,boundary_L[1][0]-size_of_group_L[1]),max(0,size_of_group_L[1]-boundary_L[1][1])))\n",
    "    unfairness_of_group_R=[]\n",
    "    unfairness_of_group_R.append((max(0,boundary_R[0][0]-size_of_group_R[0]),max(0,size_of_group_R[0]-boundary_R[0][1])))\n",
    "    unfairness_of_group_R.append((max(0,boundary_R[1][0]-size_of_group_R[1]),max(0,size_of_group_R[1]-boundary_R[1][1])))\n",
    "    #print(unfairness_of_group_L,unfairness_of_group_R,'unfair')\n",
    "    group_pivot=attribute[pivot_candidate[0]][1]\n",
    "    for group in groups:\n",
    "       # print(group,'p')\n",
    "        if group_pivot==group[0]:\n",
    "            #print(group,group_pivot,'0p')\n",
    "            gap_fairness_pivot=np.zeros(4)\n",
    "            gap_fairness_pivot[0]=unfairness_of_group_L[group[0]][0]\n",
    "            gap_fairness_pivot[1]=unfairness_of_group_R[group[0]][0]\n",
    "            gap_fairness_pivot[2]=unfairness_of_group_L[group[0]][1]\n",
    "            gap_fairness_pivot[3]=unfairness_of_group_R[group[0]][1]\n",
    "            max_unfairness_pivot=np.argmax(gap_fairness_pivot)\n",
    "            if gap_fairness_pivot[max_unfairness_pivot] >0:\n",
    "                if max_unfairness_pivot==0:\n",
    "                    kemeny_ranking_R=KwikSort(groups_of_Vertices_R[group[0]],rankings)\n",
    "                    Vertices_L.append(pivot_candidate[0])\n",
    "                    size_of_group_L_pivot=size_of_group_L[group[0]]+1\n",
    "                    new_boundary_L_pivot=boundary(proportions_groups[group[0]],len(Vertices_L),threshold)[0]\n",
    "                    for i in range(int(gap_fairness_pivot[max_unfairness_pivot] )-1):\n",
    "                        #print(i,size_of_group_L_pivot,new_boundary_L_pivot,'a')\n",
    "                        if size_of_group_L_pivot>=new_boundary_L_pivot:\n",
    "                            break\n",
    "                        Vertices_L.append(kemeny_ranking_R[i])\n",
    "                        Vertices_R.remove(kemeny_ranking_R[i])\n",
    "                        size_of_group_L_pivot=size_of_group_L_pivot+1\n",
    "                        new_boundary_L_pivot=boundary(proportions_groups[group[0]],len(Vertices_L),threshold)[0]\n",
    "                    pivot_candidate=[]\n",
    "                \n",
    "                if max_unfairness_pivot==1:\n",
    "                    kemeny_ranking_L=KwikSort(groups_of_Vertices_L[group[0]],rankings)\n",
    "                    Vertices_R.append(pivot_candidate[0])\n",
    "                    size_of_group_R_pivot=size_of_group_L[group[0]]\n",
    "                    new_boundary_R_pivot=boundary(proportions_groups[group[0]],len(Vertices_R),threshold)[0]\n",
    "                    size_of_kemeny_ranking_L = len(kemeny_ranking_L)\n",
    "                    for i in range(int(gap_fairness_pivot[max_unfairness_pivot] )):\n",
    "                        #print(i,size_of_group_R_pivot,new_boundary_R_pivot,size_of_kemeny_ranking_L,'b')\n",
    "                        if size_of_group_R_pivot>=new_boundary_R_pivot:\n",
    "                            break\n",
    "                        if(size_of_kemeny_ranking_L==0):\n",
    "                            break\n",
    "                        Vertices_R.append(kemeny_ranking_L[size_of_kemeny_ranking_L-i-1])\n",
    "                        Vertices_L.remove(kemeny_ranking_L[size_of_kemeny_ranking_L-i-1])\n",
    "                        size_of_group_R_pivot=size_of_group_R_pivot+1\n",
    "                        new_boundary_R_pivot=boundary(proportions_groups[group[0]],len(Vertices_R),threshold)[0]\n",
    "                    pivot_candidate=[]\n",
    "                \n",
    "                if max_unfairness_pivot==2:\n",
    "                    kemeny_ranking_L=KwikSort(groups_of_Vertices_L[group[0]],rankings)\n",
    "                    Vertices_R.append(pivot_candidate[0])\n",
    "                    size_of_group_L_pivot=size_of_group_L[group[0]]\n",
    "                    new_boundary_L_pivot=boundary(proportions_groups[group[0]],len(Vertices_L),threshold)[1]\n",
    "                    size_of_kemeny_ranking_L = len(kemeny_ranking_L)\n",
    "                    for i in range(int(gap_fairness_pivot[max_unfairness_pivot] )):\n",
    "                        #print(i,size_of_group_L_pivot,new_boundary_L_pivot,size_of_kemeny_ranking_L,'c')\n",
    "                        if size_of_group_L_pivot<=new_boundary_L_pivot:\n",
    "                            break\n",
    "                        if(size_of_kemeny_ranking_L==0):\n",
    "                            break\n",
    "                        Vertices_R.append(kemeny_ranking_L[size_of_kemeny_ranking_L-i-1])\n",
    "                        Vertices_L.remove(kemeny_ranking_L[size_of_kemeny_ranking_L-i-1])\n",
    "                        size_of_group_L_pivot=size_of_group_L_pivot-1\n",
    "                        new_boundary_L_pivot=boundary(proportions_groups[group[0]],len(Vertices_L),threshold)[1]\n",
    "                    pivot_candidate=[]\n",
    "                    \n",
    "                if max_unfairness_pivot==3:\n",
    "                    kemeny_ranking_R=KwikSort(groups_of_Vertices_R[group[0]],rankings)\n",
    "                    Vertices_L.append(pivot_candidate[0])\n",
    "                    size_of_group_R_pivot=size_of_group_R[group[0]]\n",
    "                    new_boundary_R_pivot=boundary(proportions_groups[group[0]],len(Vertices_R),threshold)[1]\n",
    "                    for i in range(int(gap_fairness_pivot[max_unfairness_pivot] )):\n",
    "                        #print(i,size_of_group_R_pivot,new_boundary_R_pivot,'d')\n",
    "                        if size_of_group_R_pivot<=new_boundary_R_pivot:\n",
    "                            break\n",
    "                        Vertices_L.append(kemeny_ranking_R[i])\n",
    "                        Vertices_R.remove(kemeny_ranking_R[i])\n",
    "                        size_of_group_R_pivot-=1\n",
    "                        new_boundary_R_pivot=boundary(proportions_groups[group[0]],len(Vertices_R),threshold)[1]\n",
    "                    pivot_candidate=[]\n",
    "  \n",
    "        else:\n",
    "            gap_fairness_non_pivot=np.zeros(4)\n",
    "            gap_fairness_non_pivot[0]=unfairness_of_group_L[group[0]][0]\n",
    "            gap_fairness_non_pivot[1]=unfairness_of_group_R[group[0]][0]\n",
    "            gap_fairness_non_pivot[2]=unfairness_of_group_L[group[0]][1]\n",
    "            gap_fairness_non_pivot[3]=unfairness_of_group_R[group[0]][1]\n",
    "            max_unfairness_non_pivot=np.argmax(gap_fairness_non_pivot)\n",
    "            \n",
    "            if max_unfairness_non_pivot>=0:\n",
    "                \n",
    "                if gap_fairness_non_pivot[max_unfairness_non_pivot]==0:\n",
    "                    kemeny_ranking_R=KwikSort(groups_of_Vertices_R[group[0]],rankings)\n",
    "                    size_of_group_L_non_pivot=size_of_group_L[group[0]]\n",
    "                    for i in range(int(gap_fairness_non_pivot[max_unfairness_non_pivot])):\n",
    "                        #print(i,size_of_group_L_non_pivot,kemeny_ranking_R,'e')\n",
    "                        Vertices_L.append(kemeny_ranking_R[i])\n",
    "                        Vertices_R.remove(kemeny_ranking_R[i])\n",
    "                        size_of_group_L_non_pivot+=1\n",
    "                        new_boundary_L_non_pivot=boundary(proportions_groups[group[0]],len(Vertices_L),threshold)[0]\n",
    "                        if size_of_group_L_non_pivot >= new_boundary_L_non_pivot:\n",
    "                            break\n",
    "\n",
    "            \n",
    "                if max_unfairness_non_pivot==1:\n",
    "                    kemeny_ranking_L=KwikSort(groups_of_Vertices_L[group[0]],rankings)\n",
    "                    size_of_group_R_non_pivot=size_of_group_L[group[0]]\n",
    "                    size_of_kemeny_ranking_L = len(kemeny_ranking_L)\n",
    "                    for i in range(int(gap_fairness_non_pivot[max_unfairness_non_pivot])):\n",
    "                       # print(i,size_of_group_R_non_pivot,size_of_kemeny_ranking_L,'f')\n",
    "                        if(size_of_kemeny_ranking_L==0):\n",
    "                            break\n",
    "                        Vertices_R.append(kemeny_ranking_L[size_of_kemeny_ranking_L-i-1])\n",
    "                        Vertices_L.remove(kemeny_ranking_L[size_of_kemeny_ranking_L-i-1])\n",
    "                        size_of_group_R_non_pivot=size_of_group_R_non_pivot+1\n",
    "                        new_boundary_R_non_pivot=boundary(proportions_groups[group[0]],len(Vertices_R),threshold)[0]\n",
    "                       # print(i,size_of_group_R_non_pivot,size_of_kemeny_ranking_L,new_boundary_R_non_pivot,'f')\n",
    "                        if size_of_group_R_non_pivot>=new_boundary_R_non_pivot:\n",
    "                            break\n",
    "            \n",
    "                        \n",
    "            \n",
    "            \n",
    "                if max_unfairness_non_pivot==2:\n",
    "                    kemeny_ranking_L=KwikSort(groups_of_Vertices_L[group[0]],rankings)\n",
    "                    size_of_group_L_non_pivot=size_of_group_L[group[0]]\n",
    "                    size_of_kemeny_ranking_L = len(kemeny_ranking_L)\n",
    "                    for i in range(int(gap_fairness_non_pivot[max_unfairness_non_pivot])):\n",
    "                        size_of_kemeny_ranking_L = len(kemeny_ranking_L)\n",
    "                        #print(i,size_of_group_L_non_pivot,size_of_kemeny_ranking_L,'g')\n",
    "                        if(size_of_kemeny_ranking_L==0):#only 1 element situation\n",
    "                            break\n",
    "                        Vertices_R.append(kemeny_ranking_L[size_of_kemeny_ranking_L-i-1])\n",
    "                        Vertices_L.remove(kemeny_ranking_L[size_of_kemeny_ranking_L-i-1])\n",
    "                        new_boundary_L_non_pivot=boundary(proportions_groups[group[0]],len(Vertices_L),threshold)[1]\n",
    "                        #print(i,size_of_group_L_non_pivot,new_boundary_L_non_pivot,size_of_kemeny_ranking_L,'g')\n",
    "                        if size_of_group_L_non_pivot <= new_boundary_L_non_pivot:\n",
    "                            break\n",
    "\n",
    "\n",
    "           \n",
    "                if max_unfairness_non_pivot==3:\n",
    "                    kemeny_ranking_R=KwikSort(groups_of_Vertices_R[group[0]],rankings)\n",
    "                    size_of_group_R_non_pivot=size_of_group_R[group[0]]\n",
    "                    for i in range(int(gap_fairness_non_pivot[max_unfairness_non_pivot])):\n",
    "                        #print(i,size_of_group_R_non_pivot,'h')\n",
    "                        Vertices_L.append(kemeny_ranking_R[i])\n",
    "                        Vertices_R.remove(kemeny_ranking_R[i])\n",
    "                        size_of_group_R_non_pivot-=1\n",
    "                        new_boundary_R_non_pivot=boundary(proportions_groups[group[0]],len(Vertices_R),threshold)[1]\n",
    "                        if size_of_group_R_non_pivot<=new_boundary_R_non_pivot:\n",
    "                            break\n",
    "             \n",
    " \n",
    "    \n",
    "    return Vertices_L, pivot_candidate, Vertices_R\n",
    "\n",
    "def group_by(Vertices,groups,attribute):\n",
    "    groups_by=[]\n",
    "    for values in groups:\n",
    "        group=[]\n",
    "        groups_by.append(group)\n",
    "    for vertex in Vertices:\n",
    "        group_of_Vertice=attribute[vertex]\n",
    "        groups_by[group_of_Vertice[1]].append(vertex)\n",
    "    return groups_by\n",
    "\n",
    "\n",
    "def proportions(groups):\n",
    "    proportions = []\n",
    "    total_number = np.sum(groups[:, 1])\n",
    "    for group in groups:\n",
    "        proportions.append(group[1] / total_number)\n",
    "    proportions = np.array(proportions)\n",
    "    return proportions"
   ],
   "metadata": {
    "collapsed": false,
    "ExecuteTime": {
     "start_time": "2023-11-20T02:48:58.658132200Z"
    }
   },
   "id": "bf3991f8d18aace3"
  },
  {
   "cell_type": "code",
   "execution_count": 265,
   "outputs": [
    {
     "data": {
      "text/plain": "(array([[ 0,  0],\n        [ 1,  0],\n        [ 2,  1],\n        [ 3,  1],\n        [ 4,  0],\n        [ 5,  1],\n        [ 6,  1],\n        [ 7,  1],\n        [ 8,  0],\n        [ 9,  1],\n        [10,  0],\n        [11,  0],\n        [12,  0],\n        [13,  1],\n        [14,  0],\n        [15,  1],\n        [16,  1],\n        [17,  1],\n        [18,  0],\n        [19,  1],\n        [20,  0],\n        [21,  0],\n        [22,  1],\n        [23,  1],\n        [24,  0],\n        [25,  1],\n        [26,  1],\n        [27,  1],\n        [28,  0],\n        [29,  1],\n        [30,  0],\n        [31,  1],\n        [32,  1],\n        [33,  1],\n        [34,  0],\n        [35,  0],\n        [36,  1],\n        [37,  1],\n        [38,  1],\n        [39,  1],\n        [40,  1],\n        [41,  0],\n        [42,  1],\n        [43,  1],\n        [44,  1],\n        [45,  0],\n        [46,  0],\n        [47,  0],\n        [48,  1],\n        [49,  0],\n        [50,  0],\n        [51,  1],\n        [52,  1],\n        [53,  1],\n        [54,  1],\n        [55,  1],\n        [56,  1],\n        [57,  0],\n        [58,  1],\n        [59,  0],\n        [60,  1],\n        [61,  1],\n        [62,  0],\n        [63,  1],\n        [64,  0]], dtype=int64),\n array([[ 0, 26],\n        [ 1, 39]], dtype=int64))"
     },
     "execution_count": 265,
     "metadata": {},
     "output_type": "execute_result"
    }
   ],
   "source": [
    "cs_groups_df=pd.read_csv('cs_groups.csv', header=None,names=['candidate','attr_1','attr_2'])\n",
    "cs_groups_df=cs_groups_df[['candidate','attr_2']]\n",
    "attribute=cs_groups_df.to_numpy()\n",
    "groups=cs_groups_df.groupby(cs_groups_df.columns[1]).count()\n",
    "groups=groups.to_numpy()\n",
    "groups=np.c_[np.array([[0],[1]]),groups]\n",
    "attribute,groups"
   ],
   "metadata": {
    "collapsed": false,
    "ExecuteTime": {
     "end_time": "2023-11-20T03:04:28.088247Z",
     "start_time": "2023-11-20T03:04:28.053043700Z"
    }
   },
   "id": "f57ace61a0f8d632"
  },
  {
   "cell_type": "code",
   "execution_count": 266,
   "outputs": [
    {
     "name": "stdout",
     "output_type": "stream",
     "text": [
      "[0, 1, 2, 3, 4, 5, 6, 7, 8, 9, 10, 11, 12, 13, 14, 15, 16, 17, 18, 19, 20, 21, 22, 23, 24, 25, 26, 27, 28, 29, 30, 31, 32, 33, 34, 35, 36, 37, 38, 39, 40, 41, 42, 43, 44, 45, 46, 47, 48, 49, 51] [50] [52, 53, 54, 55, 56, 57, 58, 59, 60, 61, 62, 63, 64] addver\n",
      "[0, 1, 2, 3, 4, 5, 6, 7, 8, 9, 10, 11, 12, 13, 14, 15, 17, 19, 20, 24] [16] [18, 21, 22, 23, 25, 26, 27, 28, 29, 30, 31, 32, 33, 34, 35, 36, 37, 38, 39, 40, 41, 42, 43, 44, 45, 46, 47, 48, 49, 51] addver\n",
      "[0, 1, 2, 3, 4, 5, 6, 7, 8, 9, 10, 11, 12, 13] [14] [15, 17, 19, 20, 24] addver\n",
      "[0, 1, 2, 3, 4, 5, 6, 10] [] [8, 9, 11, 12, 13, 7] addver\n",
      "[0, 1, 3, 2] [] [5, 6, 10, 4] addver\n",
      "[0, 1, 3, 2] [] [] addver\n",
      "[] [0] [1, 3, 2] addver\n",
      "[] null\n",
      "[] [3] [2, 1] addver\n",
      "[] null\n",
      "[1. 2.] re\n",
      "[] 3 [1 2] per1\n",
      "[] 0 [3 1 2] per1\n",
      "[] null\n",
      "[0 3 1 2] [] per2\n",
      "[5, 6, 4] [10] [] addver\n",
      "[5, 4] [6] [] addver\n",
      "[4. 5.] re\n",
      "[] null\n",
      "[4 5] 6 [] per1\n",
      "[] null\n",
      "[4 5 6] 10 [] per1\n",
      "[0 3 1 2] [ 4  5  6 10] per2\n",
      "[8, 9, 7] [11] [12, 13] addver\n",
      "[] [7] [8, 9] addver\n",
      "[] null\n",
      "[8. 9.] re\n",
      "[] 7 [8 9] per1\n",
      "[12. 13.] re\n",
      "[7 8 9] 11 [12 13] per1\n",
      "[ 0  3  1  2  4  5  6 10] [ 7  8  9 11 12 13] per2\n",
      "[] [17] [15, 19, 20, 24] addver\n",
      "[] null\n",
      "[] [24] [15, 19, 20] addver\n",
      "[] null\n",
      "[15, 20] [19] [] addver\n",
      "[15. 20.] re\n",
      "[] null\n",
      "[15 20] 19 [] per1\n",
      "[] 24 [15 20 19] per1\n",
      "[] 17 [24 15 20 19] per1\n",
      "[ 0  3  1  2  4  5  6 10  7  8  9 11 12 13] 14 [17 24 15 20 19] per1\n",
      "[18, 21, 22, 23, 25, 26, 27, 28, 29, 30, 31, 32, 37] [33] [34, 35, 36, 38, 39, 40, 41, 42, 43, 44, 45, 46, 47, 48, 49, 51] addver\n",
      "[18, 21, 22, 23, 25, 26, 27, 29, 30, 32] [] [31, 37, 28] addver\n",
      "[18, 21, 22, 23, 25] [27] [26, 29, 30, 32] addver\n",
      "[18, 23, 22] [] [25, 21] addver\n",
      "[] [23] [22, 18] addver\n",
      "[] null\n",
      "[18. 22.] re\n",
      "[] 23 [18 22] per1\n",
      "[21. 25.] re\n",
      "[23 18 22] [21 25] per2\n",
      "[26, 30] [29] [32] addver\n",
      "[26. 30.] re\n",
      "32 pi\n",
      "[26 30] 29 [32] per1\n",
      "[23 18 22 21 25] 27 [26 30 29 32] per1\n",
      "[31, 28] [37] [] addver\n",
      "[28. 31.] re\n",
      "[] null\n",
      "[28 31] 37 [] per1\n",
      "[23 18 22 21 25 27 26 30 29 32] [28 31 37] per2\n",
      "[34, 35, 36, 38, 39, 41] [42] [40, 43, 44, 45, 46, 47, 48, 49, 51] addver\n",
      "[36, 38, 41] [34] [35, 39] addver\n",
      "[36, 41] [38] [] addver\n",
      "[36. 41.] re\n",
      "[] null\n",
      "[36 41] 38 [] per1\n",
      "[35. 39.] re\n",
      "[36 41 38] 34 [35 39] per1\n",
      "[] [43] [40, 44, 45, 47, 48, 49, 51, 46] addver\n",
      "[] null\n",
      "[40, 44, 45, 47, 46, 48] [] [51, 49] addver\n",
      "[40, 44, 45, 46] [48] [47] addver\n",
      "[40, 45, 46, 44] [] [] addver\n",
      "[45, 40] [] [44, 46] addver\n",
      "[40. 45.] re\n",
      "[46. 44.] re\n",
      "[40 45] [46 44] per2\n",
      "[] null\n",
      "[40 45 46 44] [] per2\n",
      "47 pi\n",
      "[40 45 46 44] 48 [47] per1\n",
      "[49. 51.] re\n",
      "[40 45 46 44 48 47] [49 51] per2\n",
      "[] 43 [40 45 46 44 48 47 49 51] per1\n",
      "[36 41 38 34 35 39] 42 [43 40 45 46 44 48 47 49 51] per1\n",
      "[23 18 22 21 25 27 26 30 29 32 28 31 37] 33 [36 41 38 34 35 39 42 43 40 45 46 44 48 47 49 51] per1\n",
      "[ 0  3  1  2  4  5  6 10  7  8  9 11 12 13 14 17 24 15 20 19] 16 [23 18 22 21 25 27 26 30 29 32 28 31 37 33 36 41 38 34 35 39 42 43 40 45\n",
      " 46 44 48 47 49 51] per1\n",
      "[52, 53, 54, 55, 57, 64] [] [56, 58, 59, 60, 61, 62, 63] addver\n",
      "[] [53] [52, 54, 55, 57, 64] addver\n",
      "[] null\n",
      "[52, 54, 55, 57] [64] [] addver\n",
      "[] [52] [54, 55, 57] addver\n",
      "[] null\n",
      "[] [54] [55, 57] addver\n",
      "[] null\n",
      "[55. 57.] re\n",
      "[] 54 [55 57] per1\n",
      "[] 52 [54 55 57] per1\n",
      "[] null\n",
      "[52 54 55 57] 64 [] per1\n",
      "[] 53 [52 54 55 57 64] per1\n",
      "[56, 58, 60, 61] [] [59, 62, 63] addver\n",
      "[61, 56, 60] [] [58] addver\n",
      "[61] [56] [60] addver\n",
      "61 pi\n",
      "60 pi\n",
      "[61] 56 [60] per1\n",
      "58 pi\n",
      "[61 56 60] [58] per2\n",
      "[62] [] [59, 63] addver\n",
      "62 pi\n",
      "[63. 59.] re\n",
      "[62] [63 59] per2\n",
      "[61 56 60 58] [62 63 59] per2\n",
      "[53 52 54 55 57 64] [61 56 60 58 62 63 59] per2\n",
      "[ 0  3  1  2  4  5  6 10  7  8  9 11 12 13 14 17 24 15 20 19 16 23 18 22\n",
      " 21 25 27 26 30 29 32 28 31 37 33 36 41 38 34 35 39 42 43 40 45 46 44 48\n",
      " 47 49 51] 50 [53 52 54 55 57 64 61 56 60 58 62 63 59] per1\n"
     ]
    }
   ],
   "source": [
    "t0=time()\n",
    "fair_Kwik_Sort_ranking_cs=fair_Kwik_Sort(base_rankings,attribute,groups,threshold)\n",
    "t1=time()\n",
    "t1-t0"
   ],
   "metadata": {
    "collapsed": false,
    "ExecuteTime": {
     "end_time": "2023-11-20T03:04:34.333975500Z",
     "start_time": "2023-11-20T03:04:28.677209900Z"
    }
   },
   "id": "fd2cf631e83b80de"
  },
  {
   "cell_type": "code",
   "execution_count": 267,
   "outputs": [
    {
     "data": {
      "text/plain": "(array([10, 43, 11, 34, 38, 40,  1, 45, 42, 63, 46, 30, 47,  2, 20, 44, 48,\n        55, 60,  0, 57,  8,  9, 24, 73, 58, 76, 81, 93,  3, 89, 31,  7, 99,\n        91,  4, 54,  5, 12, 13, 62, 88, 92, 21, 49, 36, 37, 64, 50, 52, 70,\n        14, 66, 69, 65, 35, 75, 53, 56, 61, 26, 39, 68, 77, 32, 72, 74, 29,\n        78, 86, 95, 90, 79, 15, 94,  6, 16, 98, 23, 80, 51, 96, 17, 33, 82,\n        19, 67, 85, 84, 22, 59, 41, 71, 87, 18, 25, 83, 27, 28, 97]),\n array([ 0,  3,  1,  2,  4,  5,  6, 10,  7,  8,  9, 11, 12, 13, 14, 17, 24,\n        15, 20, 19, 16, 23, 18, 22, 21, 25, 27, 26, 30, 29, 32, 28, 31, 37,\n        33, 36, 41, 38, 34, 35, 39, 42, 43, 40, 45, 46, 44, 48, 47, 49, 51,\n        50, 53, 52, 54, 55, 57, 64, 61, 56, 60, 58, 62, 63, 59]))"
     },
     "execution_count": 267,
     "metadata": {},
     "output_type": "execute_result"
    }
   ],
   "source": [
    "fair_Kwik_Sort_ranking,fair_Kwik_Sort_ranking_cs"
   ],
   "metadata": {
    "collapsed": false,
    "ExecuteTime": {
     "end_time": "2023-11-20T03:04:37.167335900Z",
     "start_time": "2023-11-20T03:04:37.135945400Z"
    }
   },
   "id": "141536653dbb0a08"
  },
  {
   "cell_type": "code",
   "execution_count": 268,
   "outputs": [
    {
     "data": {
      "text/plain": "(23880, 5639)"
     },
     "execution_count": 268,
     "metadata": {},
     "output_type": "execute_result"
    }
   ],
   "source": [
    "fair_kemeny_dist_kwik=ul.kemeny_dist(rankings,fair_Kwik_Sort_ranking)\n",
    "fair_kemeny_dist_kwik_cs=ul.kemeny_dist(base_rankings,fair_Kwik_Sort_ranking_cs)\n",
    "fair_kemeny_dist_kwik,fair_kemeny_dist_kwik_cs"
   ],
   "metadata": {
    "collapsed": false,
    "ExecuteTime": {
     "end_time": "2023-11-20T03:04:39.889784900Z",
     "start_time": "2023-11-20T03:04:39.639077900Z"
    }
   },
   "id": "44465627cfee1b19"
  },
  {
   "cell_type": "code",
   "execution_count": null,
   "outputs": [],
   "source": [],
   "metadata": {
    "collapsed": false
   },
   "id": "58f65ef1a36dbc3c"
  },
  {
   "cell_type": "code",
   "execution_count": null,
   "outputs": [],
   "source": [],
   "metadata": {
    "collapsed": false
   },
   "id": "d9cf3ea5ca06c2ab"
  },
  {
   "cell_type": "code",
   "execution_count": 395,
   "outputs": [
    {
     "name": "stdout",
     "output_type": "stream",
     "text": [
      "[(9.0, 9), (21.0, 21)] [(12.0, 13), (28.0, 29)] boundary\n",
      "(7, 23) (14, 27) size\n",
      "[(2.0, 0), (0, 2)] [(0, 1), (1.0, 0)] unfair\n",
      "1 46 gp\n",
      "[ 0 30] 1p\n",
      "[20, 19, 28, 8, 1, 15, 23, 12, 4, 13, 7, 26, 6, 14] [ 1  4  6 15 20 26  7  8 12 13 14 23 28 19] d\n",
      "[ 1 70] 0p\n",
      "0 lower\n",
      "46 wtf2\n",
      "2 upper\n"
     ]
    },
    {
     "ename": "IndexError",
     "evalue": "list index out of range",
     "output_type": "error",
     "traceback": [
      "\u001B[1;31m---------------------------------------------------------------------------\u001B[0m",
      "\u001B[1;31mIndexError\u001B[0m                                Traceback (most recent call last)",
      "Cell \u001B[1;32mIn[395], line 1\u001B[0m\n\u001B[1;32m----> 1\u001B[0m result\u001B[38;5;241m=\u001B[39madjust_unfairness(rankings,Vertices_L,[pivot_candidate],Vertices_R,groups,attribute,threshold)\n",
      "Cell \u001B[1;32mIn[394], line 54\u001B[0m, in \u001B[0;36madjust_unfairness\u001B[1;34m(rankings, Vertices_L, pivot_candidate, Vertices_R, groups, attribute, threshold)\u001B[0m\n\u001B[0;32m     52\u001B[0m \u001B[38;5;28;01mif\u001B[39;00m upper_gap_fairness_L \u001B[38;5;241m>\u001B[39m \u001B[38;5;241m0\u001B[39m:\n\u001B[0;32m     53\u001B[0m     kemeny_ranking_L\u001B[38;5;241m=\u001B[39mKwikSort(groups_of_Vertices_L[group[\u001B[38;5;241m0\u001B[39m]],rankings)\n\u001B[1;32m---> 54\u001B[0m     \u001B[38;5;28mprint\u001B[39m(pivot_candidate[\u001B[38;5;241m0\u001B[39m][\u001B[38;5;241m0\u001B[39m],\u001B[38;5;124m'\u001B[39m\u001B[38;5;124mwtf3\u001B[39m\u001B[38;5;124m'\u001B[39m)\n\u001B[0;32m     55\u001B[0m     Vertices_R\u001B[38;5;241m.\u001B[39mappend(pivot_candidate[\u001B[38;5;241m0\u001B[39m][\u001B[38;5;241m0\u001B[39m])\n\u001B[0;32m     56\u001B[0m     \u001B[38;5;28;01mfor\u001B[39;00m i \u001B[38;5;129;01min\u001B[39;00m \u001B[38;5;28mrange\u001B[39m(\u001B[38;5;28mint\u001B[39m(upper_gap_fairness_L)\u001B[38;5;241m-\u001B[39m\u001B[38;5;241m1\u001B[39m):\n",
      "\u001B[1;31mIndexError\u001B[0m: list index out of range"
     ]
    }
   ],
   "source": [
    "result=adjust_unfairness(rankings,Vertices_L,[pivot_candidate],Vertices_R,groups,attribute,threshold)"
   ],
   "metadata": {
    "collapsed": false,
    "ExecuteTime": {
     "end_time": "2023-11-19T02:21:28.682543600Z",
     "start_time": "2023-11-19T02:21:28.209541Z"
    }
   },
   "id": "ebce80b3e441cb07"
  },
  {
   "cell_type": "code",
   "execution_count": 329,
   "outputs": [
    {
     "data": {
      "text/plain": "([8,\n  38,\n  63,\n  1,\n  6,\n  48,\n  9,\n  86,\n  18,\n  82,\n  93,\n  75,\n  33,\n  92,\n  60,\n  81,\n  59,\n  54,\n  14,\n  49,\n  73,\n  16,\n  13,\n  30,\n  85,\n  34,\n  29,\n  99,\n  61,\n  44],\n [],\n [7,\n  42,\n  26,\n  70,\n  0,\n  57,\n  74,\n  12,\n  98,\n  24,\n  95,\n  94,\n  25,\n  53,\n  65,\n  76,\n  3,\n  89,\n  51,\n  41,\n  97,\n  69,\n  15,\n  79,\n  40,\n  2,\n  91,\n  78,\n  68,\n  32,\n  96,\n  66,\n  77,\n  80,\n  67,\n  55,\n  90,\n  50,\n  58,\n  35,\n  36,\n  22])"
     },
     "execution_count": 329,
     "metadata": {},
     "output_type": "execute_result"
    }
   ],
   "source": [
    "result"
   ],
   "metadata": {
    "collapsed": false,
    "ExecuteTime": {
     "end_time": "2023-11-19T02:06:53.512446100Z",
     "start_time": "2023-11-19T02:06:53.489454300Z"
    }
   },
   "id": "d320cae035c34e43"
  },
  {
   "cell_type": "code",
   "execution_count": 17,
   "outputs": [],
   "source": [
    "def proportions(groups):\n",
    "    proportions = []\n",
    "    total_number = np.sum(groups[:, 1])\n",
    "    for group in groups:\n",
    "        proportions.append(group[1] / total_number)\n",
    "    proportions = np.array(proportions)\n",
    "    return proportions"
   ],
   "metadata": {
    "collapsed": false,
    "ExecuteTime": {
     "end_time": "2023-11-19T04:18:21.203640800Z",
     "start_time": "2023-11-19T04:18:21.169409300Z"
    }
   },
   "id": "26577da65a90b83c"
  },
  {
   "cell_type": "code",
   "execution_count": 18,
   "outputs": [],
   "source": [
    "from random import randrange\n",
    "from itertools import combinations\n",
    "\n",
    "\n",
    "def generate_unweighted_majority_Tournament(Verticles,Fas_Tournament):\n",
    "    size_candidates=Fas_Tournament.shape[0]\n",
    "    size_Vertices=len(Verticles)\n",
    "    Arc=np.zeros((size_candidates,size_candidates))\n",
    "    for i,j in combinations(range(size_Vertices), 2):\n",
    "        if Fas_Tournament[Verticles[i],Verticles[j]]>Fas_Tournament[Verticles[j],Verticles[i]]:\n",
    "            Arc[Verticles[i],Verticles[j]]=1\n",
    "        else:\n",
    "            Arc[Verticles[j],Verticles[i]]=1\n",
    "    return Verticles,Arc\n",
    "\n",
    "\n",
    "\n",
    "def Kwik_Sort_recur(unweighted_majority_Tournament,Fas_Tournament):\n",
    "    Vertices=unweighted_majority_Tournament[0]\n",
    "    Arc=unweighted_majority_Tournament[1]\n",
    "    if len(Vertices) ==0:\n",
    "        return np.zeros(0)\n",
    "    size_candidates=len(Vertices)\n",
    "    pivot_candidate=Vertices[randrange(size_candidates)]\n",
    "    Vertices_L=[]\n",
    "    Vertices_R=[]\n",
    "    for j in range(size_candidates):\n",
    "        if Arc[Vertices[j],pivot_candidate]==1:\n",
    "            Vertices_L.append(Vertices[j])\n",
    "        if Arc[pivot_candidate,Vertices[j]]==1:\n",
    "            Vertices_R.append(Vertices[j])\n",
    "    Vertices_L=np.array(Vertices_L)\n",
    "    Vertices_R=np.array(Vertices_R)\n",
    "    unweighted_majority_Tournament_L=generate_unweighted_majority_Tournament(Vertices_L,Fas_Tournament)\n",
    "    unweighted_majority_Tournament_R=generate_unweighted_majority_Tournament(Vertices_R,Fas_Tournament)\n",
    "    permutation_L=Kwik_Sort_recur(unweighted_majority_Tournament_L,Fas_Tournament).astype(int)\n",
    "    permutation_R=Kwik_Sort_recur(unweighted_majority_Tournament_R,Fas_Tournament).astype(int)\n",
    "    return np.concatenate((permutation_L,np.array([pivot_candidate]).astype(int),permutation_R))\n",
    "\n",
    "\n",
    "def KwikSort(Vertices,rankings):\n",
    "    Fas_Tournament=build_graph(rankings)\n",
    "    unweighted_majority_Tournament=generate_unweighted_majority_Tournament(Vertices,Fas_Tournament)\n",
    "    ranking_opt=Kwik_Sort_recur(unweighted_majority_Tournament,Fas_Tournament)\n",
    "\n",
    "    return ranking_opt\n",
    "\n",
    "def build_graph(rankings):\n",
    "    n_voters, size_candidate = rankings.shape\n",
    "    edge_weights = np.zeros((size_candidate, size_candidate))\n",
    "    for i, j in combinations(range(size_candidate), 2):\n",
    "        preference = rankings[:, i] - rankings[:, j]\n",
    "        preference_i_j = np.sum(preference < 0)  # prefers i to j\n",
    "        preference_j_i = np.sum(preference > 0)  # prefers j to i\n",
    "        if preference_i_j > preference_j_i:\n",
    "            edge_weights[i, j] = preference_i_j\n",
    "        elif preference_i_j < preference_j_i:\n",
    "            edge_weights[j, i] = preference_j_i\n",
    "    return edge_weights"
   ],
   "metadata": {
    "collapsed": false,
    "ExecuteTime": {
     "end_time": "2023-11-19T04:18:21.574686500Z",
     "start_time": "2023-11-19T04:18:21.534632900Z"
    }
   },
   "id": "59851574766d5c6f"
  },
  {
   "cell_type": "code",
   "execution_count": 18,
   "outputs": [],
   "source": [],
   "metadata": {
    "collapsed": false,
    "ExecuteTime": {
     "end_time": "2023-11-19T04:18:22.251924800Z",
     "start_time": "2023-11-19T04:18:22.233408500Z"
    }
   },
   "id": "af6ba7f192649c93"
  },
  {
   "cell_type": "code",
   "execution_count": null,
   "outputs": [],
   "source": [],
   "metadata": {
    "collapsed": false
   },
   "id": "bb4ad306bb0e0c57"
  }
 ],
 "metadata": {
  "kernelspec": {
   "display_name": "Python 3",
   "language": "python",
   "name": "python3"
  },
  "language_info": {
   "codemirror_mode": {
    "name": "ipython",
    "version": 2
   },
   "file_extension": ".py",
   "mimetype": "text/x-python",
   "name": "python",
   "nbconvert_exporter": "python",
   "pygments_lexer": "ipython2",
   "version": "2.7.6"
  }
 },
 "nbformat": 4,
 "nbformat_minor": 5
}
