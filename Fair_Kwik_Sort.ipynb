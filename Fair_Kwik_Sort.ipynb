{
 "cells": [
  {
   "cell_type": "code",
   "execution_count": 62,
   "id": "initial_id",
   "metadata": {
    "collapsed": true,
    "ExecuteTime": {
     "end_time": "2023-11-20T07:00:45.544141600Z",
     "start_time": "2023-11-20T07:00:45.509624200Z"
    }
   },
   "outputs": [],
   "source": [
    "import numpy as np\n",
    "import KwikSort as kwik\n",
    "import utils as ul\n",
    "import pandas as pd\n",
    "from time import time\n",
    "import metrics"
   ]
  },
  {
   "cell_type": "code",
   "execution_count": 62,
   "outputs": [],
   "source": [],
   "metadata": {
    "collapsed": false,
    "ExecuteTime": {
     "end_time": "2023-11-20T07:00:45.925079100Z",
     "start_time": "2023-11-20T07:00:45.890671600Z"
    }
   },
   "id": "9bb23c85c942a787"
  },
  {
   "cell_type": "code",
   "execution_count": 63,
   "outputs": [
    {
     "data": {
      "text/plain": "   Unnamed: 0  ranker 1  ranker 2  ranker 3  ranker 4  ranker 5  ranker 6  \\\n0         M01        20        86        79        32        28        70   \n1         M02        14         9         7        52        55        26   \n2         M03        22         3        24        31        97        29   \n3         M04        54        87        13        22        95        46   \n4         M05        93         6        53        92        31        10   \n..        ...       ...       ...       ...       ...       ...       ...   \n95        W66        44        29        85        15        72        11   \n96        W67        50        66        29        83         4        81   \n97        W68        65        75        78        80        68        12   \n98        W69        41        60         9        34        99        30   \n99        W70        70        43        19        38        29        35   \n\n    ranker 7  ranker 8  ranker 9  ranker 10  ranker 11  ranker 12  \n0         21        71        71         71          1          1  \n1         89        72        72         72          2          2  \n2         41        73        73         73          3          3  \n3         32        74        74         74          4          4  \n4         56        75        75         75          5          5  \n..       ...       ...       ...        ...        ...        ...  \n95        67        66        66         66         96         81  \n96        40        67        67         67         97         82  \n97        73        68        68         68         98         83  \n98        63        69        69         69         99         84  \n99        52        70        70         70        100         85  \n\n[100 rows x 13 columns]",
      "text/html": "<div>\n<style scoped>\n    .dataframe tbody tr th:only-of-type {\n        vertical-align: middle;\n    }\n\n    .dataframe tbody tr th {\n        vertical-align: top;\n    }\n\n    .dataframe thead th {\n        text-align: right;\n    }\n</style>\n<table border=\"1\" class=\"dataframe\">\n  <thead>\n    <tr style=\"text-align: right;\">\n      <th></th>\n      <th>Unnamed: 0</th>\n      <th>ranker 1</th>\n      <th>ranker 2</th>\n      <th>ranker 3</th>\n      <th>ranker 4</th>\n      <th>ranker 5</th>\n      <th>ranker 6</th>\n      <th>ranker 7</th>\n      <th>ranker 8</th>\n      <th>ranker 9</th>\n      <th>ranker 10</th>\n      <th>ranker 11</th>\n      <th>ranker 12</th>\n    </tr>\n  </thead>\n  <tbody>\n    <tr>\n      <th>0</th>\n      <td>M01</td>\n      <td>20</td>\n      <td>86</td>\n      <td>79</td>\n      <td>32</td>\n      <td>28</td>\n      <td>70</td>\n      <td>21</td>\n      <td>71</td>\n      <td>71</td>\n      <td>71</td>\n      <td>1</td>\n      <td>1</td>\n    </tr>\n    <tr>\n      <th>1</th>\n      <td>M02</td>\n      <td>14</td>\n      <td>9</td>\n      <td>7</td>\n      <td>52</td>\n      <td>55</td>\n      <td>26</td>\n      <td>89</td>\n      <td>72</td>\n      <td>72</td>\n      <td>72</td>\n      <td>2</td>\n      <td>2</td>\n    </tr>\n    <tr>\n      <th>2</th>\n      <td>M03</td>\n      <td>22</td>\n      <td>3</td>\n      <td>24</td>\n      <td>31</td>\n      <td>97</td>\n      <td>29</td>\n      <td>41</td>\n      <td>73</td>\n      <td>73</td>\n      <td>73</td>\n      <td>3</td>\n      <td>3</td>\n    </tr>\n    <tr>\n      <th>3</th>\n      <td>M04</td>\n      <td>54</td>\n      <td>87</td>\n      <td>13</td>\n      <td>22</td>\n      <td>95</td>\n      <td>46</td>\n      <td>32</td>\n      <td>74</td>\n      <td>74</td>\n      <td>74</td>\n      <td>4</td>\n      <td>4</td>\n    </tr>\n    <tr>\n      <th>4</th>\n      <td>M05</td>\n      <td>93</td>\n      <td>6</td>\n      <td>53</td>\n      <td>92</td>\n      <td>31</td>\n      <td>10</td>\n      <td>56</td>\n      <td>75</td>\n      <td>75</td>\n      <td>75</td>\n      <td>5</td>\n      <td>5</td>\n    </tr>\n    <tr>\n      <th>...</th>\n      <td>...</td>\n      <td>...</td>\n      <td>...</td>\n      <td>...</td>\n      <td>...</td>\n      <td>...</td>\n      <td>...</td>\n      <td>...</td>\n      <td>...</td>\n      <td>...</td>\n      <td>...</td>\n      <td>...</td>\n      <td>...</td>\n    </tr>\n    <tr>\n      <th>95</th>\n      <td>W66</td>\n      <td>44</td>\n      <td>29</td>\n      <td>85</td>\n      <td>15</td>\n      <td>72</td>\n      <td>11</td>\n      <td>67</td>\n      <td>66</td>\n      <td>66</td>\n      <td>66</td>\n      <td>96</td>\n      <td>81</td>\n    </tr>\n    <tr>\n      <th>96</th>\n      <td>W67</td>\n      <td>50</td>\n      <td>66</td>\n      <td>29</td>\n      <td>83</td>\n      <td>4</td>\n      <td>81</td>\n      <td>40</td>\n      <td>67</td>\n      <td>67</td>\n      <td>67</td>\n      <td>97</td>\n      <td>82</td>\n    </tr>\n    <tr>\n      <th>97</th>\n      <td>W68</td>\n      <td>65</td>\n      <td>75</td>\n      <td>78</td>\n      <td>80</td>\n      <td>68</td>\n      <td>12</td>\n      <td>73</td>\n      <td>68</td>\n      <td>68</td>\n      <td>68</td>\n      <td>98</td>\n      <td>83</td>\n    </tr>\n    <tr>\n      <th>98</th>\n      <td>W69</td>\n      <td>41</td>\n      <td>60</td>\n      <td>9</td>\n      <td>34</td>\n      <td>99</td>\n      <td>30</td>\n      <td>63</td>\n      <td>69</td>\n      <td>69</td>\n      <td>69</td>\n      <td>99</td>\n      <td>84</td>\n    </tr>\n    <tr>\n      <th>99</th>\n      <td>W70</td>\n      <td>70</td>\n      <td>43</td>\n      <td>19</td>\n      <td>38</td>\n      <td>29</td>\n      <td>35</td>\n      <td>52</td>\n      <td>70</td>\n      <td>70</td>\n      <td>70</td>\n      <td>100</td>\n      <td>85</td>\n    </tr>\n  </tbody>\n</table>\n<p>100 rows × 13 columns</p>\n</div>"
     },
     "execution_count": 63,
     "metadata": {},
     "output_type": "execute_result"
    }
   ],
   "source": [
    "df=pd.read_csv('20230918dataset_uf.csv')\n",
    "#add a ranking all m candidates has smaller rank than w's\n",
    "df[\"ranker 11\"]=np.arange(1,101,1)\n",
    "#add a ranking half  m candidates on the top of ranking and another half m candidates on the bottom of rinking and w candidates on the middle  \n",
    "ranker_12=np.concatenate((np.arange(1,16,1),np.arange(86,101,1),np.arange(16,86,1)), axis=None)\n",
    "#print(ranker_12)\n",
    "df[\"ranker 12\"]=ranker_12\n",
    "#df=df[df.columns[8:11]]\n",
    "df"
   ],
   "metadata": {
    "collapsed": false,
    "ExecuteTime": {
     "end_time": "2023-11-20T07:00:46.321053200Z",
     "start_time": "2023-11-20T07:00:46.243681800Z"
    }
   },
   "id": "957cc369fc5da99b"
  },
  {
   "cell_type": "code",
   "execution_count": 64,
   "outputs": [
    {
     "data": {
      "text/plain": "array([[ 20,  86,  79, ...,  71,   1,   1],\n       [ 14,   9,   7, ...,  72,   2,   2],\n       [ 22,   3,  24, ...,  73,   3,   3],\n       ...,\n       [ 65,  75,  78, ...,  68,  98,  83],\n       [ 41,  60,   9, ...,  69,  99,  84],\n       [ 70,  43,  19, ...,  70, 100,  85]], dtype=int64)"
     },
     "execution_count": 64,
     "metadata": {},
     "output_type": "execute_result"
    }
   ],
   "source": [
    "rankings=df[df.columns[1:]].to_numpy()\n",
    "rankings"
   ],
   "metadata": {
    "collapsed": false,
    "ExecuteTime": {
     "end_time": "2023-11-20T07:00:47.168743200Z",
     "start_time": "2023-11-20T07:00:47.110199700Z"
    }
   },
   "id": "ffcf35310c61429b"
  },
  {
   "cell_type": "code",
   "execution_count": 65,
   "outputs": [
    {
     "data": {
      "text/plain": "(array([[ 20,  14,  22, ...,  65,  41,  70],\n        [ 86,   9,   3, ...,  75,  60,  43],\n        [ 79,   7,  24, ...,  78,   9,  19],\n        ...,\n        [ 71,  72,  73, ...,  68,  69,  70],\n        [  1,   2,   3, ...,  98,  99, 100],\n        [  1,   2,   3, ...,  83,  84,  85]], dtype=int64),\n (12, 100))"
     },
     "execution_count": 65,
     "metadata": {},
     "output_type": "execute_result"
    }
   ],
   "source": [
    "rankings=rankings.transpose()\n",
    "rankings,rankings.shape"
   ],
   "metadata": {
    "collapsed": false,
    "ExecuteTime": {
     "end_time": "2023-11-20T07:00:48.203369900Z",
     "start_time": "2023-11-20T07:00:48.090713900Z"
    }
   },
   "id": "62343594cba99dc6"
  },
  {
   "cell_type": "code",
   "execution_count": 79,
   "outputs": [],
   "source": [
    "threshold=0.1"
   ],
   "metadata": {
    "collapsed": false,
    "ExecuteTime": {
     "end_time": "2023-11-20T07:01:31.299553300Z",
     "start_time": "2023-11-20T07:01:31.275160400Z"
    }
   },
   "id": "e16f597bdc8cb98c"
  },
  {
   "cell_type": "code",
   "execution_count": 80,
   "outputs": [
    {
     "data": {
      "text/plain": "array([ 0,  1,  2,  3,  4,  5,  6,  7,  8,  9, 10, 11, 12, 13, 14, 15, 16,\n       17, 18, 19, 20, 21, 22, 23, 24, 25, 26, 27, 28, 29, 30, 31, 32, 33,\n       34, 35, 36, 37, 38, 39, 40, 41, 42, 43, 44, 45, 46, 47, 48, 49, 50,\n       51, 52, 53, 54, 55, 56, 57, 58, 59, 60, 61, 62, 63, 64, 65, 66, 67,\n       68, 69, 70, 71, 72, 73, 74, 75, 76, 77, 78, 79, 80, 81, 82, 83, 84,\n       85, 86, 87, 88, 89, 90, 91, 92, 93, 94, 95, 96, 97, 98, 99])"
     },
     "execution_count": 80,
     "metadata": {},
     "output_type": "execute_result"
    }
   ],
   "source": [
    "attribute = np.append(np.repeat(0, 30), np.repeat(1, 70))\n",
    "attribute=np.c_[np.arange(100),attribute]\n",
    "df_groups=pd.DataFrame(attribute,columns=['id','attribute'])\n",
    "groups=df_groups.groupby(df_groups.columns[1]).count()\n",
    "groups=groups.to_numpy()\n",
    "groups=np.c_[np.array([[0],[1]]),groups]\n",
    "Vertices=attribute[:,0]\n",
    "Vertices\n",
    "\n"
   ],
   "metadata": {
    "collapsed": false,
    "ExecuteTime": {
     "end_time": "2023-11-20T07:01:31.789067100Z",
     "start_time": "2023-11-20T07:01:31.734916500Z"
    }
   },
   "id": "5f19ab7e103c6a59"
  },
  {
   "cell_type": "code",
   "execution_count": 81,
   "outputs": [
    {
     "data": {
      "text/plain": "0.10299181938171387"
     },
     "execution_count": 81,
     "metadata": {},
     "output_type": "execute_result"
    }
   ],
   "source": [
    "t0=time()\n",
    "kemeny_ranking_Kwik=kwik.KwikSort(Vertices,rankings)\n",
    "t1=time()\n",
    "t1-t0"
   ],
   "metadata": {
    "collapsed": false,
    "ExecuteTime": {
     "end_time": "2023-11-20T07:01:32.204058300Z",
     "start_time": "2023-11-20T07:01:32.095058900Z"
    }
   },
   "id": "380e06fdd2fdd71d"
  },
  {
   "cell_type": "code",
   "execution_count": 82,
   "outputs": [
    {
     "data": {
      "text/plain": "array([30, 31, 34, 38, 40, 42, 44, 45, 46, 47, 48,  2, 50, 52, 54, 55, 58,\n       60, 57, 63, 92,  1, 56, 98,  3,  4, 20, 32, 43, 36, 37, 12, 49, 39,\n       41, 51, 53, 73, 10, 86, 26, 35, 61, 62, 64, 65, 66, 68, 69, 70, 72,\n       76, 93, 67, 74, 77, 78, 80, 81, 82, 83, 84, 85, 87, 88, 89, 91, 94,\n       95, 96, 97, 99,  0, 59, 75,  5, 79, 90,  6,  7,  8,  9, 11, 13, 14,\n       33, 71, 21, 15, 16, 18, 19, 29, 17, 23, 22, 24, 25, 27, 28])"
     },
     "execution_count": 82,
     "metadata": {},
     "output_type": "execute_result"
    }
   ],
   "source": [
    "kemeny_ranking_Kwik\n"
   ],
   "metadata": {
    "collapsed": false,
    "ExecuteTime": {
     "end_time": "2023-11-20T07:01:32.505537500Z",
     "start_time": "2023-11-20T07:01:32.470959700Z"
    }
   },
   "id": "88373a61b763d636"
  },
  {
   "cell_type": "code",
   "execution_count": 83,
   "outputs": [
    {
     "data": {
      "text/plain": "29764"
     },
     "execution_count": 83,
     "metadata": {},
     "output_type": "execute_result"
    }
   ],
   "source": [
    "kemeny_dist_kwik=ul.kemeny_dist(rankings,kemeny_ranking_Kwik)\n",
    "kemeny_dist_kwik"
   ],
   "metadata": {
    "collapsed": false,
    "ExecuteTime": {
     "end_time": "2023-11-20T07:01:33.366082300Z",
     "start_time": "2023-11-20T07:01:32.930739800Z"
    }
   },
   "id": "4280963b724eed01"
  },
  {
   "cell_type": "code",
   "execution_count": 84,
   "outputs": [
    {
     "data": {
      "text/plain": "0.19428571428571428"
     },
     "execution_count": 84,
     "metadata": {},
     "output_type": "execute_result"
    }
   ],
   "source": [
    "kemeny_ranking_Kwik_m=np.c_[np.arange(30),kemeny_ranking_Kwik[:30]]\n",
    "kemeny_ranking_Kwik_w=np.c_[np.arange(30,100),kemeny_ranking_Kwik[30:]]\n",
    "kemeny_ranking_Kwik_parity=metrics.pairwise_statistical_parity(kemeny_ranking_Kwik_m,kemeny_ranking_Kwik_w)\n",
    "kemeny_ranking_Kwik_parity"
   ],
   "metadata": {
    "collapsed": false,
    "ExecuteTime": {
     "end_time": "2023-11-20T07:01:33.680546500Z",
     "start_time": "2023-11-20T07:01:33.652965700Z"
    }
   },
   "id": "612b01be74936cb"
  },
  {
   "cell_type": "code",
   "execution_count": 84,
   "outputs": [],
   "source": [],
   "metadata": {
    "collapsed": false,
    "ExecuteTime": {
     "end_time": "2023-11-20T07:01:34.346254900Z",
     "start_time": "2023-11-20T07:01:34.317604700Z"
    }
   },
   "id": "d6d139a9ee717eb3"
  },
  {
   "cell_type": "code",
   "execution_count": 85,
   "outputs": [
    {
     "data": {
      "text/plain": "7.570042133331299"
     },
     "execution_count": 85,
     "metadata": {},
     "output_type": "execute_result"
    }
   ],
   "source": [
    "t0=time()\n",
    "fair_Kwik_Sort_ranking=kwik.fair_Kwik_Sort(rankings,attribute,groups,threshold)\n",
    "t1=time()   \n",
    "t1-t0"
   ],
   "metadata": {
    "collapsed": false,
    "ExecuteTime": {
     "end_time": "2023-11-20T07:01:42.374429800Z",
     "start_time": "2023-11-20T07:01:34.796631Z"
    }
   },
   "id": "93ef282670b22b88"
  },
  {
   "cell_type": "code",
   "execution_count": 86,
   "outputs": [],
   "source": [
    "fair_kemeny_dist_kwik=ul.kemeny_dist(rankings,fair_Kwik_Sort_ranking)"
   ],
   "metadata": {
    "collapsed": false,
    "ExecuteTime": {
     "end_time": "2023-11-20T07:01:42.525838400Z",
     "start_time": "2023-11-20T07:01:42.372434400Z"
    }
   },
   "id": "32ab81a72d7fbcb8"
  },
  {
   "cell_type": "code",
   "execution_count": 87,
   "outputs": [
    {
     "data": {
      "text/plain": "(29284,\n array([30, 31, 32, 34, 35, 38, 40, 20, 42, 47, 10, 43, 36, 44, 45, 46,  2,\n        39, 48, 49, 51, 52, 53, 54, 55, 11, 56, 57,  1, 58, 60, 63, 61,  0,\n        62, 64, 66, 68, 69, 70, 73,  3, 80,  4,  6, 76, 74, 77, 78, 81,  7,\n        82, 83, 84, 85, 86, 87, 88, 89, 91,  8, 92,  9, 93, 12, 94, 13, 14,\n        95, 96, 15, 98, 16, 99, 17, 18, 19, 21, 22, 23, 26, 29, 37, 41, 50,\n        59, 65, 67, 72, 75,  5, 79, 33, 71, 90, 24, 25, 97, 27, 28]))"
     },
     "execution_count": 87,
     "metadata": {},
     "output_type": "execute_result"
    }
   ],
   "source": [
    "fair_kemeny_dist_kwik,fair_Kwik_Sort_ranking"
   ],
   "metadata": {
    "collapsed": false,
    "ExecuteTime": {
     "end_time": "2023-11-20T07:01:42.534979200Z",
     "start_time": "2023-11-20T07:01:42.527847300Z"
    }
   },
   "id": "4b677cffb8575404"
  },
  {
   "cell_type": "code",
   "execution_count": 88,
   "outputs": [],
   "source": [
    "fair_Kwik_Sort_ranking_satisfied_array=[]\n",
    "k_threshold=threshold\n",
    "for k in range(1,100):\n",
    "    fair_Kwik_Sort_ranking_k =pd.DataFrame(columns=['id', 'ranker'])\n",
    "    fair_Kwik_Sort_ranking_k[\"id\"]=np.arange(0,100,1)\n",
    "    fair_Kwik_Sort_ranking_k[\"ranker\"]=fair_Kwik_Sort_ranking\n",
    "    fair_Kwik_Sort_ranking_k_m =fair_Kwik_Sort_ranking_k.head(30).to_numpy()\n",
    "    fair_Kwik_Sort_ranking_k_w =fair_Kwik_Sort_ranking_k.tail(70).to_numpy()\n",
    "    fair_Kwik_Sort_ranking_k_groups=np.array([fair_Kwik_Sort_ranking_k_m,fair_Kwik_Sort_ranking_k_w], dtype=object)\n",
    "    fair_Kwik_Sort_ranking_k_satisfied=metrics.top_k_parity(fair_Kwik_Sort_ranking_k_groups,k,k_threshold )\n",
    "    fair_Kwik_Sort_ranking_satisfied_array.append([\"ranker\",k,fair_Kwik_Sort_ranking_k_satisfied])"
   ],
   "metadata": {
    "collapsed": false,
    "ExecuteTime": {
     "end_time": "2023-11-20T07:01:44.188079100Z",
     "start_time": "2023-11-20T07:01:44.084937900Z"
    }
   },
   "id": "3e7fd78977b5e2c5"
  },
  {
   "cell_type": "code",
   "execution_count": 89,
   "outputs": [
    {
     "data": {
      "text/plain": "[['ranker', 1, True],\n ['ranker', 2, True],\n ['ranker', 3, True],\n ['ranker', 4, True],\n ['ranker', 5, True],\n ['ranker', 6, True],\n ['ranker', 7, True],\n ['ranker', 8, True],\n ['ranker', 9, True],\n ['ranker', 10, True],\n ['ranker', 11, True],\n ['ranker', 12, True],\n ['ranker', 13, True],\n ['ranker', 14, True],\n ['ranker', 15, True],\n ['ranker', 16, True],\n ['ranker', 17, True],\n ['ranker', 18, True],\n ['ranker', 19, True],\n ['ranker', 20, True],\n ['ranker', 21, True],\n ['ranker', 22, True],\n ['ranker', 23, True],\n ['ranker', 24, True],\n ['ranker', 25, True],\n ['ranker', 26, True],\n ['ranker', 27, True],\n ['ranker', 28, True],\n ['ranker', 29, True],\n ['ranker', 30, False],\n ['ranker', 31, True],\n ['ranker', 32, True],\n ['ranker', 33, True],\n ['ranker', 34, True],\n ['ranker', 35, True],\n ['ranker', 36, True],\n ['ranker', 37, True],\n ['ranker', 38, True],\n ['ranker', 39, True],\n ['ranker', 40, True],\n ['ranker', 41, True],\n ['ranker', 42, True],\n ['ranker', 43, True],\n ['ranker', 44, True],\n ['ranker', 45, True],\n ['ranker', 46, True],\n ['ranker', 47, True],\n ['ranker', 48, True],\n ['ranker', 49, False],\n ['ranker', 50, False],\n ['ranker', 51, False],\n ['ranker', 52, False],\n ['ranker', 53, False],\n ['ranker', 54, False],\n ['ranker', 55, False],\n ['ranker', 56, False],\n ['ranker', 57, False],\n ['ranker', 58, False],\n ['ranker', 59, False],\n ['ranker', 60, False],\n ['ranker', 61, False],\n ['ranker', 62, False],\n ['ranker', 63, False],\n ['ranker', 64, False],\n ['ranker', 65, False],\n ['ranker', 66, False],\n ['ranker', 67, False],\n ['ranker', 68, False],\n ['ranker', 69, False],\n ['ranker', 70, False],\n ['ranker', 71, False],\n ['ranker', 72, False],\n ['ranker', 73, True],\n ['ranker', 74, True],\n ['ranker', 75, True],\n ['ranker', 76, True],\n ['ranker', 77, True],\n ['ranker', 78, True],\n ['ranker', 79, True],\n ['ranker', 80, True],\n ['ranker', 81, True],\n ['ranker', 82, True],\n ['ranker', 83, True],\n ['ranker', 84, True],\n ['ranker', 85, True],\n ['ranker', 86, True],\n ['ranker', 87, True],\n ['ranker', 88, True],\n ['ranker', 89, True],\n ['ranker', 90, True],\n ['ranker', 91, True],\n ['ranker', 92, True],\n ['ranker', 93, True],\n ['ranker', 94, True],\n ['ranker', 95, True],\n ['ranker', 96, True],\n ['ranker', 97, True],\n ['ranker', 98, True],\n ['ranker', 99, True]]"
     },
     "execution_count": 89,
     "metadata": {},
     "output_type": "execute_result"
    }
   ],
   "source": [
    "fair_Kwik_Sort_ranking_satisfied_array "
   ],
   "metadata": {
    "collapsed": false,
    "ExecuteTime": {
     "end_time": "2023-11-20T07:01:44.926580600Z",
     "start_time": "2023-11-20T07:01:44.893190700Z"
    }
   },
   "id": "91ac4b0d8b3891c6"
  },
  {
   "cell_type": "code",
   "execution_count": 90,
   "outputs": [],
   "source": [
    "fair_Kwik_Sort_ranking_m=np.c_[np.arange(30),fair_Kwik_Sort_ranking[:30]]\n",
    "fair_Kwik_Sort_ranking_w=np.c_[np.arange(30,100),fair_Kwik_Sort_ranking[30:]]"
   ],
   "metadata": {
    "collapsed": false,
    "ExecuteTime": {
     "end_time": "2023-11-20T07:01:45.669951100Z",
     "start_time": "2023-11-20T07:01:45.642232300Z"
    }
   },
   "id": "bc58f8adbf9815e"
  },
  {
   "cell_type": "code",
   "execution_count": 91,
   "outputs": [
    {
     "data": {
      "text/plain": "0.31047619047619046"
     },
     "execution_count": 91,
     "metadata": {},
     "output_type": "execute_result"
    }
   ],
   "source": [
    "fair_Kwik_Sort_ranking_parity=metrics.pairwise_statistical_parity(fair_Kwik_Sort_ranking_m,fair_Kwik_Sort_ranking_w)\n",
    "fair_Kwik_Sort_ranking_parity"
   ],
   "metadata": {
    "collapsed": false,
    "ExecuteTime": {
     "end_time": "2023-11-20T07:01:46.579821400Z",
     "start_time": "2023-11-20T07:01:46.537665500Z"
    }
   },
   "id": "6548626c3efa54f8"
  },
  {
   "cell_type": "code",
   "execution_count": null,
   "outputs": [],
   "source": [],
   "metadata": {
    "collapsed": false
   },
   "id": "47f241e2158686eb"
  },
  {
   "cell_type": "code",
   "execution_count": null,
   "outputs": [],
   "source": [],
   "metadata": {
    "collapsed": false
   },
   "id": "507785b9eac81b47"
  },
  {
   "cell_type": "code",
   "execution_count": null,
   "outputs": [],
   "source": [],
   "metadata": {
    "collapsed": false
   },
   "id": "eb786c42deba55c8"
  },
  {
   "cell_type": "code",
   "execution_count": null,
   "outputs": [],
   "source": [],
   "metadata": {
    "collapsed": false
   },
   "id": "4e337a4bbdd55e6f"
  },
  {
   "cell_type": "code",
   "execution_count": null,
   "outputs": [],
   "source": [],
   "metadata": {
    "collapsed": false
   },
   "id": "a3b78e2371531555"
  },
  {
   "cell_type": "code",
   "execution_count": null,
   "outputs": [],
   "source": [],
   "metadata": {
    "collapsed": false
   },
   "id": "73eaada50d63eb9a"
  },
  {
   "cell_type": "code",
   "execution_count": null,
   "outputs": [],
   "source": [],
   "metadata": {
    "collapsed": false
   },
   "id": "30af7f3a10f870"
  },
  {
   "cell_type": "code",
   "execution_count": null,
   "outputs": [],
   "source": [],
   "metadata": {
    "collapsed": false
   },
   "id": "82ecbeb6a3305edb"
  },
  {
   "cell_type": "code",
   "execution_count": null,
   "outputs": [],
   "source": [],
   "metadata": {
    "collapsed": false
   },
   "id": "991a1af65a45521"
  },
  {
   "cell_type": "code",
   "execution_count": null,
   "outputs": [],
   "source": [],
   "metadata": {
    "collapsed": false
   },
   "id": "4f4319012f93081a"
  },
  {
   "cell_type": "code",
   "execution_count": null,
   "outputs": [],
   "source": [],
   "metadata": {
    "collapsed": false
   },
   "id": "551214af097e9fc8"
  },
  {
   "cell_type": "code",
   "execution_count": null,
   "outputs": [],
   "source": [],
   "metadata": {
    "collapsed": false
   },
   "id": "7fb5db0e63f3fe13"
  },
  {
   "cell_type": "code",
   "execution_count": null,
   "outputs": [],
   "source": [],
   "metadata": {
    "collapsed": false
   },
   "id": "cc1ac1f2080e2681"
  },
  {
   "cell_type": "code",
   "execution_count": 111,
   "outputs": [],
   "source": [
    "result_df.to_excel(\"experiment.xlsx\")"
   ],
   "metadata": {
    "collapsed": false,
    "ExecuteTime": {
     "end_time": "2023-11-20T05:36:40.599915200Z",
     "start_time": "2023-11-20T05:36:40.518404200Z"
    }
   },
   "id": "7957be3b0bf32ef9"
  },
  {
   "cell_type": "code",
   "execution_count": null,
   "outputs": [],
   "source": [],
   "metadata": {
    "collapsed": false
   },
   "id": "4c15bf7c823385c5"
  },
  {
   "cell_type": "code",
   "execution_count": null,
   "outputs": [],
   "source": [],
   "metadata": {
    "collapsed": false
   },
   "id": "5d2cd28cf9961989"
  },
  {
   "cell_type": "code",
   "execution_count": null,
   "outputs": [],
   "source": [],
   "metadata": {
    "collapsed": false
   },
   "id": "29bb18438eb25409"
  },
  {
   "cell_type": "code",
   "execution_count": 86,
   "outputs": [
    {
     "ename": "TypeError",
     "evalue": "'set' object is not subscriptable",
     "output_type": "error",
     "traceback": [
      "\u001B[1;31m---------------------------------------------------------------------------\u001B[0m",
      "\u001B[1;31mTypeError\u001B[0m                                 Traceback (most recent call last)",
      "Cell \u001B[1;32mIn[86], line 1\u001B[0m\n\u001B[1;32m----> 1\u001B[0m result_df[\u001B[38;5;124m\"\u001B[39m\u001B[38;5;124mmethod\u001B[39m\u001B[38;5;124m\"\u001B[39m]\n",
      "\u001B[1;31mTypeError\u001B[0m: 'set' object is not subscriptable"
     ]
    }
   ],
   "source": [
    "result_df[\"method\"]"
   ],
   "metadata": {
    "collapsed": false,
    "ExecuteTime": {
     "end_time": "2023-11-20T05:02:19.289711300Z",
     "start_time": "2023-11-20T05:02:19.207921700Z"
    }
   },
   "id": "b1817f7988ee3502"
  },
  {
   "cell_type": "code",
   "execution_count": null,
   "outputs": [],
   "source": [],
   "metadata": {
    "collapsed": false
   },
   "id": "dc34359a3e620e35"
  },
  {
   "cell_type": "code",
   "execution_count": 43,
   "outputs": [
    {
     "data": {
      "text/plain": "array([[ 0,  1, 11, ..., 61, 56, 49],\n       [ 0,  3,  1, ..., 60, 52, 61],\n       [ 0,  3,  5, ..., 43, 49, 52],\n       ...,\n       [ 0,  2,  8, ..., 52, 61, 53],\n       [ 0,  1,  4, ..., 63, 52, 61],\n       [ 0,  2,  1, ..., 61, 62, 53]])"
     },
     "execution_count": 43,
     "metadata": {},
     "output_type": "execute_result"
    }
   ],
   "source": [
    "base_rankings = np.load('cs_baseranks.npy').astype(int)\n",
    "base_rankings"
   ],
   "metadata": {
    "collapsed": false,
    "ExecuteTime": {
     "end_time": "2023-11-20T06:23:33.312849700Z",
     "start_time": "2023-11-20T06:23:33.291593300Z"
    }
   },
   "id": "1d8aca9cdc8d3f92"
  },
  {
   "cell_type": "code",
   "execution_count": 52,
   "outputs": [
    {
     "data": {
      "text/plain": "(array([ 0,  1,  2,  3,  4,  5,  6,  7,  8,  9, 10, 11, 12, 13, 14, 15, 16,\n        17, 18, 19, 20, 21, 22, 23, 24, 25, 26, 27, 28, 29, 30, 31, 32, 33,\n        34, 35, 36, 37, 38, 39, 40, 41, 42, 43, 44, 45, 46, 47, 48, 49, 50,\n        51, 52, 53, 54, 55, 56, 57, 58, 59, 60, 61, 62, 63, 64],\n       dtype=int64),\n array([[ 0,  0],\n        [ 1,  0],\n        [ 2,  1],\n        [ 3,  1],\n        [ 4,  0],\n        [ 5,  1],\n        [ 6,  1],\n        [ 7,  1],\n        [ 8,  0],\n        [ 9,  1],\n        [10,  0],\n        [11,  0],\n        [12,  0],\n        [13,  1],\n        [14,  0],\n        [15,  1],\n        [16,  1],\n        [17,  1],\n        [18,  0],\n        [19,  1],\n        [20,  0],\n        [21,  0],\n        [22,  1],\n        [23,  1],\n        [24,  0],\n        [25,  1],\n        [26,  1],\n        [27,  1],\n        [28,  0],\n        [29,  1],\n        [30,  0],\n        [31,  1],\n        [32,  1],\n        [33,  1],\n        [34,  0],\n        [35,  0],\n        [36,  1],\n        [37,  1],\n        [38,  1],\n        [39,  1],\n        [40,  1],\n        [41,  0],\n        [42,  1],\n        [43,  1],\n        [44,  1],\n        [45,  0],\n        [46,  0],\n        [47,  0],\n        [48,  1],\n        [49,  0],\n        [50,  0],\n        [51,  1],\n        [52,  1],\n        [53,  1],\n        [54,  1],\n        [55,  1],\n        [56,  1],\n        [57,  0],\n        [58,  1],\n        [59,  0],\n        [60,  1],\n        [61,  1],\n        [62,  0],\n        [63,  1],\n        [64,  0]], dtype=int64))"
     },
     "execution_count": 52,
     "metadata": {},
     "output_type": "execute_result"
    }
   ],
   "source": [
    "cs_groups_df=pd.read_csv('cs_groups.csv', header=None,names=['candidate','attr_1','attr_2'])\n",
    "cs_groups_df=cs_groups_df[['candidate','attr_2']]\n",
    "attribute_cs=cs_groups_df.to_numpy()\n",
    "groups_cs=cs_groups_df.groupby(cs_groups_df.columns[1]).count()\n",
    "groups_Cs=groups_cs.to_numpy()\n",
    "groups_cs=np.c_[np.array([[0],[1]]),groups_Cs]\n",
    "Vertices_cs=attribute_cs[:,0]\n",
    "Vertices_cs,attribute"
   ],
   "metadata": {
    "collapsed": false,
    "ExecuteTime": {
     "end_time": "2023-11-20T06:30:39.763999400Z",
     "start_time": "2023-11-20T06:30:39.733842100Z"
    }
   },
   "id": "f57ace61a0f8d632"
  },
  {
   "cell_type": "code",
   "execution_count": 59,
   "outputs": [
    {
     "data": {
      "text/plain": "2.0100066661834717"
     },
     "execution_count": 59,
     "metadata": {},
     "output_type": "execute_result"
    }
   ],
   "source": [
    "\n",
    "\n",
    "t0=time()\n",
    "fair_kemeny_ranking_Kwik_cs=kwik.fair_Kwik_Sort(base_rankings,attribute_cs,groups_cs,threshold)\n",
    "t1=time()\n",
    "t1-t0"
   ],
   "metadata": {
    "collapsed": false,
    "ExecuteTime": {
     "end_time": "2023-11-20T06:58:38.558962Z",
     "start_time": "2023-11-20T06:58:36.540845600Z"
    }
   },
   "id": "48879f6092f4a9be"
  },
  {
   "cell_type": "code",
   "execution_count": 60,
   "outputs": [
    {
     "data": {
      "text/plain": "array([ 0,  1,  3,  2,  4,  5,  6,  7,  8,  9, 10, 11, 12, 13, 14, 17, 24,\n       15, 19, 16, 18, 23, 26, 22, 25, 21, 27, 29, 20, 30, 32, 28, 31, 37,\n       33, 36, 38, 40, 41, 34, 35, 39, 42, 43, 44, 49, 47, 52, 45, 46, 51,\n       53, 48, 50, 54, 55, 64, 60, 61, 56, 57, 63, 59, 58, 62])"
     },
     "execution_count": 60,
     "metadata": {},
     "output_type": "execute_result"
    }
   ],
   "source": [
    "fair_kemeny_ranking_Kwik_cs"
   ],
   "metadata": {
    "collapsed": false,
    "ExecuteTime": {
     "end_time": "2023-11-20T06:58:44.105275700Z",
     "start_time": "2023-11-20T06:58:44.068174900Z"
    }
   },
   "id": "d8efae2657cf17c2"
  },
  {
   "cell_type": "code",
   "execution_count": 61,
   "outputs": [
    {
     "data": {
      "text/plain": "5725"
     },
     "execution_count": 61,
     "metadata": {},
     "output_type": "execute_result"
    }
   ],
   "source": [
    "kemeny_dist_kwik_cs=ul.kemeny_dist(base_rankings,fair_kemeny_ranking_Kwik_cs)\n",
    "kemeny_dist_kwik_cs"
   ],
   "metadata": {
    "collapsed": false,
    "ExecuteTime": {
     "end_time": "2023-11-20T06:58:45.392762700Z",
     "start_time": "2023-11-20T06:58:45.193621300Z"
    }
   },
   "id": "7ff104b6e1226741"
  },
  {
   "cell_type": "code",
   "execution_count": null,
   "outputs": [],
   "source": [],
   "metadata": {
    "collapsed": false
   },
   "id": "dd18f375b73bb1b8"
  },
  {
   "cell_type": "code",
   "execution_count": null,
   "outputs": [],
   "source": [],
   "metadata": {
    "collapsed": false
   },
   "id": "6b8c53ab12cfccbb"
  },
  {
   "cell_type": "code",
   "execution_count": null,
   "outputs": [],
   "source": [],
   "metadata": {
    "collapsed": false
   },
   "id": "d3290d394c25afc9"
  },
  {
   "cell_type": "code",
   "execution_count": 143,
   "outputs": [],
   "source": [
    "\n",
    "t0=time()\n",
    "fair_kemeny_ranking_Kwik_cs=kwik.fair_Kwik_Sort((Vertices_cs,base_rankings)\n",
    "t1=time()\n",
    "t1-t0\n"
   ],
   "metadata": {
    "collapsed": false,
    "ExecuteTime": {
     "start_time": "2023-11-20T01:57:52.780646700Z"
    }
   },
   "id": "c021a6f20099001d"
  },
  {
   "cell_type": "code",
   "execution_count": null,
   "outputs": [],
   "source": [],
   "metadata": {
    "collapsed": false
   },
   "id": "880c67154aab2d56"
  },
  {
   "cell_type": "code",
   "execution_count": null,
   "outputs": [],
   "source": [],
   "metadata": {
    "collapsed": false
   },
   "id": "f9fe0c794ce73902"
  },
  {
   "cell_type": "code",
   "execution_count": null,
   "outputs": [],
   "source": [],
   "metadata": {
    "collapsed": false
   },
   "id": "a8a7c213261f1409"
  },
  {
   "cell_type": "code",
   "execution_count": 144,
   "outputs": [
    {
     "name": "stdout",
     "output_type": "stream",
     "text": [
      "31 53\n"
     ]
    }
   ],
   "source": [
    "length_L=random.randint(0,99)\n",
    "length_R=random.randint(0,99-length_L)\n",
    "print(length_L,length_R)\n",
    "\n"
   ],
   "metadata": {
    "collapsed": false,
    "ExecuteTime": {
     "start_time": "2023-11-20T01:57:53.878399600Z"
    }
   },
   "id": "63d4af0dc7d9cae8"
  },
  {
   "cell_type": "code",
   "execution_count": 145,
   "outputs": [
    {
     "name": "stdout",
     "output_type": "stream",
     "text": [
      "[0, 1, 2, 3, 4, 5, 6, 7, 8, 9, 10, 11, 12, 13, 14, 15, 16, 17, 18, 19, 20, 21, 22, 23, 24, 25, 26, 27, 28, 29, 30, 31, 32, 33, 34, 35, 36, 37, 38, 39, 40, 41, 42, 43, 44, 45, 46, 47, 48, 49, 50, 51, 52, 53, 54, 55, 56, 57, 58, 59, 60, 61, 62, 63, 64, 65, 66, 67, 68, 69, 70, 71, 72, 73, 74, 75, 76, 77, 78, 79, 80, 81, 82, 83, 84, 85, 86, 87, 88, 89, 90, 91, 92, 93, 94, 95, 96, 97, 98, 99]\n"
     ]
    },
    {
     "data": {
      "text/plain": "([37,\n  58,\n  42,\n  86,\n  57,\n  81,\n  78,\n  6,\n  40,\n  77,\n  83,\n  95,\n  91,\n  33,\n  89,\n  96,\n  54,\n  24,\n  4,\n  32,\n  30,\n  39,\n  12,\n  18,\n  16,\n  97,\n  1,\n  68,\n  49,\n  0,\n  69,\n  34,\n  25,\n  72,\n  44,\n  64,\n  76,\n  51,\n  8,\n  13,\n  23,\n  46,\n  99,\n  50,\n  26,\n  67,\n  43,\n  52,\n  41,\n  2,\n  62,\n  47,\n  7],\n [71,\n  65,\n  35,\n  19,\n  15,\n  85,\n  17,\n  55,\n  80,\n  21,\n  92,\n  63,\n  61,\n  27,\n  36,\n  45,\n  20,\n  14,\n  59,\n  3,\n  5,\n  31,\n  9,\n  38,\n  87,\n  90,\n  73,\n  11,\n  66,\n  60,\n  10],\n [98])"
     },
     "execution_count": 145,
     "metadata": {},
     "output_type": "execute_result"
    }
   ],
   "source": [
    "Vertices_R=[]\n",
    "Vertices_L=[]\n",
    "Vertices=list(range(0,100))\n",
    "print(Vertices)\n",
    "for i in range(length_L):\n",
    "    vertice=Vertices[random.randint(0,len(Vertices)-1)]\n",
    "    Vertices_L.append(vertice)\n",
    "    Vertices.remove(vertice)\n",
    "for i in range(length_R):\n",
    "    vertice=Vertices[random.randint(0,len(Vertices)-1)]\n",
    "    Vertices_R.append(vertice)\n",
    "    Vertices.remove(vertice)   \n",
    "pivot_candidate=[Vertices[random.randint(0,len(Vertices)-1)]]\n",
    "Vertices_R,Vertices_L,pivot_candidate"
   ],
   "metadata": {
    "collapsed": false,
    "ExecuteTime": {
     "start_time": "2023-11-20T01:57:56.091691700Z"
    }
   },
   "id": "f676fe5580102c0"
  },
  {
   "cell_type": "code",
   "execution_count": 146,
   "outputs": [
    {
     "data": {
      "text/plain": "([98], 98)"
     },
     "execution_count": 146,
     "metadata": {},
     "output_type": "execute_result"
    }
   ],
   "source": [
    "\n",
    "pivot_candidate,pivot_candidate[0]"
   ],
   "metadata": {
    "collapsed": false,
    "ExecuteTime": {
     "start_time": "2023-11-20T01:57:57.128546500Z"
    }
   },
   "id": "adbb66922fee63c2"
  },
  {
   "cell_type": "code",
   "execution_count": 255,
   "outputs": [],
   "source": [
    "def fair_Kwik_Sort_recur(unweighted_majority_Tournament,Fas_Tournament,attribute,groups, threshold):\n",
    "    Vertices=unweighted_majority_Tournament[0]\n",
    "    Arc=unweighted_majority_Tournament[1]\n",
    "    size_candidates=len(Vertices)\n",
    "    if size_candidates ==0:\n",
    "        print(np.zeros(0),'null')\n",
    "        return np.zeros(0)\n",
    "\n",
    "    pivot_candidate=Vertices[randrange(size_candidates)]\n",
    "    pivot_candidate=[pivot_candidate]\n",
    "    if size_candidates==1:\n",
    "        print(pivot_candidate[0],'pi')\n",
    "        return np.array([pivot_candidate[0]])\n",
    "    Vertices_L=[]\n",
    "    Vertices_R=[]\n",
    "    for j in range(size_candidates):\n",
    "        if Arc[Vertices[j],pivot_candidate[0]]==1:\n",
    "            Vertices_L.append(Vertices[j])\n",
    "        if Arc[pivot_candidate[0],Vertices[j]]==1:\n",
    "            Vertices_R.append(Vertices[j])\n",
    "\n",
    "    if size_candidates==2:\n",
    "        result=np.concatenate((Vertices_L,np.array([pivot_candidate[0]]).astype(int),Vertices_R))\n",
    "        print(result,'re')\n",
    "        return result\n",
    "    \n",
    "    Vertices_L, pivot_candidate, Vertices_R=adjust_unfairness(rankings,Vertices_L,pivot_candidate,Vertices_R,groups,attribute,threshold)\n",
    "    print(Vertices_L,pivot_candidate,Vertices_R,'addver')\n",
    "    unweighted_majority_Tournament_L=generate_unweighted_majority_Tournament(Vertices_L,Fas_Tournament)\n",
    "    unweighted_majority_Tournament_R=generate_unweighted_majority_Tournament(Vertices_R,Fas_Tournament)\n",
    "    \n",
    "    permutation_L=fair_Kwik_Sort_recur(unweighted_majority_Tournament_L,Fas_Tournament,attribute,groups,threshold)\n",
    "    permutation_R=fair_Kwik_Sort_recur(unweighted_majority_Tournament_R,Fas_Tournament,attribute,groups,threshold)\n",
    "    if len(permutation_L)>0:\n",
    "        permutation_L=permutation_L.astype(int)\n",
    "    if len(permutation_R)>0:\n",
    "         permutation_R=permutation_R.astype(int)\n",
    "    if len(pivot_candidate)>0:\n",
    "        print(permutation_L,pivot_candidate[0],permutation_R,'per1')\n",
    "        return np.concatenate((permutation_L,np.array([pivot_candidate[0]]).astype(int),permutation_R))\n",
    "    else:\n",
    "        print(permutation_L,permutation_R,'per2')\n",
    "        return np.concatenate((permutation_L,permutation_R))"
   ],
   "metadata": {
    "collapsed": false,
    "ExecuteTime": {
     "start_time": "2023-11-20T02:48:57.619991300Z"
    }
   },
   "id": "5306eaba33c26a68"
  },
  {
   "cell_type": "code",
   "execution_count": 256,
   "outputs": [],
   "source": [
    "def fair_Kwik_Sort(rankings,attribute,groups,threshold):\n",
    "    Vertices=np.arange(rankings.shape[1])\n",
    "    Fas_Tournament=build_graph(rankings)\n",
    "    unweighted_majority_Tournament=generate_unweighted_majority_Tournament(Vertices,Fas_Tournament)\n",
    "    ranking_opt=fair_Kwik_Sort_recur(rankings,unweighted_majority_Tournament,Fas_Tournament,attribute,groups,threshold)\n",
    "\n",
    "    return ranking_opt"
   ],
   "metadata": {
    "collapsed": false,
    "ExecuteTime": {
     "start_time": "2023-11-20T02:48:58.201289100Z"
    }
   },
   "id": "c876859f30416644"
  },
  {
   "cell_type": "code",
   "execution_count": 257,
   "outputs": [],
   "source": [
    "\n",
    "\n",
    "\n",
    "from math import ceil\n",
    "from numpy.ma import floor\n",
    "\n",
    "def boundary(proportion_group,length_Vertices,threshold):\n",
    "    return(round((proportion_group-threshold)*(length_Vertices)),round((proportion_group+threshold)*(length_Vertices)))\n",
    "    \n",
    "def adjust_unfairness(rankings,Vertices_L,pivot_candidate,Vertices_R,groups,attribute,threshold):\n",
    "    length_Vertices_L=len(Vertices_L)\n",
    "    length_Vertices_R=len(Vertices_R)\n",
    "    #print(length_Vertices_L,length_Vertices_R,pivot_candidate)\n",
    "    proportions_groups=proportions(groups)\n",
    "    boundary_L=[]\n",
    "    boundary_L.append(boundary(proportions_groups[0],length_Vertices_L,threshold))\n",
    "    boundary_L.append(boundary(proportions_groups[1],length_Vertices_L,threshold))\n",
    "    boundary_R=[]\n",
    "    boundary_R.append(boundary(proportions_groups[0],length_Vertices_R,threshold))\n",
    "    boundary_R.append(boundary(proportions_groups[1],length_Vertices_R,threshold))\n",
    "    #print(boundary_L,boundary_R,'boundary')\n",
    "    groups_of_Vertices_L=group_by(Vertices_L,groups,attribute)\n",
    "    groups_of_Vertices_R=group_by(Vertices_R,groups,attribute)\n",
    "    size_of_group_L=(len(groups_of_Vertices_L[0]),len(groups_of_Vertices_L[1]))\n",
    "    size_of_group_R=(len(groups_of_Vertices_R[0]),len(groups_of_Vertices_R[1]))\n",
    "    #print(size_of_group_L,size_of_group_R,'size')\n",
    "    unfairness_of_group_L=[]\n",
    "    unfairness_of_group_L.append((max(0,boundary_L[0][0]-size_of_group_L[0]),max(0,size_of_group_L[0]-boundary_L[0][1])))\n",
    "    unfairness_of_group_L.append((max(0,boundary_L[1][0]-size_of_group_L[1]),max(0,size_of_group_L[1]-boundary_L[1][1])))\n",
    "    unfairness_of_group_R=[]\n",
    "    unfairness_of_group_R.append((max(0,boundary_R[0][0]-size_of_group_R[0]),max(0,size_of_group_R[0]-boundary_R[0][1])))\n",
    "    unfairness_of_group_R.append((max(0,boundary_R[1][0]-size_of_group_R[1]),max(0,size_of_group_R[1]-boundary_R[1][1])))\n",
    "    #print(unfairness_of_group_L,unfairness_of_group_R,'unfair')\n",
    "    group_pivot=attribute[pivot_candidate[0]][1]\n",
    "    for group in groups:\n",
    "       # print(group,'p')\n",
    "        if group_pivot==group[0]:\n",
    "            #print(group,group_pivot,'0p')\n",
    "            gap_fairness_pivot=np.zeros(4)\n",
    "            gap_fairness_pivot[0]=unfairness_of_group_L[group[0]][0]\n",
    "            gap_fairness_pivot[1]=unfairness_of_group_R[group[0]][0]\n",
    "            gap_fairness_pivot[2]=unfairness_of_group_L[group[0]][1]\n",
    "            gap_fairness_pivot[3]=unfairness_of_group_R[group[0]][1]\n",
    "            max_unfairness_pivot=np.argmax(gap_fairness_pivot)\n",
    "            if gap_fairness_pivot[max_unfairness_pivot] >0:\n",
    "                if max_unfairness_pivot==0:\n",
    "                    kemeny_ranking_R=KwikSort(groups_of_Vertices_R[group[0]],rankings)\n",
    "                    Vertices_L.append(pivot_candidate[0])\n",
    "                    size_of_group_L_pivot=size_of_group_L[group[0]]+1\n",
    "                    new_boundary_L_pivot=boundary(proportions_groups[group[0]],len(Vertices_L),threshold)[0]\n",
    "                    for i in range(int(gap_fairness_pivot[max_unfairness_pivot] )-1):\n",
    "                        #print(i,size_of_group_L_pivot,new_boundary_L_pivot,'a')\n",
    "                        if size_of_group_L_pivot>=new_boundary_L_pivot:\n",
    "                            break\n",
    "                        Vertices_L.append(kemeny_ranking_R[i])\n",
    "                        Vertices_R.remove(kemeny_ranking_R[i])\n",
    "                        size_of_group_L_pivot=size_of_group_L_pivot+1\n",
    "                        new_boundary_L_pivot=boundary(proportions_groups[group[0]],len(Vertices_L),threshold)[0]\n",
    "                    pivot_candidate=[]\n",
    "                \n",
    "                if max_unfairness_pivot==1:\n",
    "                    kemeny_ranking_L=KwikSort(groups_of_Vertices_L[group[0]],rankings)\n",
    "                    Vertices_R.append(pivot_candidate[0])\n",
    "                    size_of_group_R_pivot=size_of_group_L[group[0]]\n",
    "                    new_boundary_R_pivot=boundary(proportions_groups[group[0]],len(Vertices_R),threshold)[0]\n",
    "                    size_of_kemeny_ranking_L = len(kemeny_ranking_L)\n",
    "                    for i in range(int(gap_fairness_pivot[max_unfairness_pivot] )):\n",
    "                        #print(i,size_of_group_R_pivot,new_boundary_R_pivot,size_of_kemeny_ranking_L,'b')\n",
    "                        if size_of_group_R_pivot>=new_boundary_R_pivot:\n",
    "                            break\n",
    "                        if(size_of_kemeny_ranking_L==0):\n",
    "                            break\n",
    "                        Vertices_R.append(kemeny_ranking_L[size_of_kemeny_ranking_L-i-1])\n",
    "                        Vertices_L.remove(kemeny_ranking_L[size_of_kemeny_ranking_L-i-1])\n",
    "                        size_of_group_R_pivot=size_of_group_R_pivot+1\n",
    "                        new_boundary_R_pivot=boundary(proportions_groups[group[0]],len(Vertices_R),threshold)[0]\n",
    "                    pivot_candidate=[]\n",
    "                \n",
    "                if max_unfairness_pivot==2:\n",
    "                    kemeny_ranking_L=KwikSort(groups_of_Vertices_L[group[0]],rankings)\n",
    "                    Vertices_R.append(pivot_candidate[0])\n",
    "                    size_of_group_L_pivot=size_of_group_L[group[0]]\n",
    "                    new_boundary_L_pivot=boundary(proportions_groups[group[0]],len(Vertices_L),threshold)[1]\n",
    "                    size_of_kemeny_ranking_L = len(kemeny_ranking_L)\n",
    "                    for i in range(int(gap_fairness_pivot[max_unfairness_pivot] )):\n",
    "                        #print(i,size_of_group_L_pivot,new_boundary_L_pivot,size_of_kemeny_ranking_L,'c')\n",
    "                        if size_of_group_L_pivot<=new_boundary_L_pivot:\n",
    "                            break\n",
    "                        if(size_of_kemeny_ranking_L==0):\n",
    "                            break\n",
    "                        Vertices_R.append(kemeny_ranking_L[size_of_kemeny_ranking_L-i-1])\n",
    "                        Vertices_L.remove(kemeny_ranking_L[size_of_kemeny_ranking_L-i-1])\n",
    "                        size_of_group_L_pivot=size_of_group_L_pivot-1\n",
    "                        new_boundary_L_pivot=boundary(proportions_groups[group[0]],len(Vertices_L),threshold)[1]\n",
    "                    pivot_candidate=[]\n",
    "                    \n",
    "                if max_unfairness_pivot==3:\n",
    "                    kemeny_ranking_R=KwikSort(groups_of_Vertices_R[group[0]],rankings)\n",
    "                    Vertices_L.append(pivot_candidate[0])\n",
    "                    size_of_group_R_pivot=size_of_group_R[group[0]]\n",
    "                    new_boundary_R_pivot=boundary(proportions_groups[group[0]],len(Vertices_R),threshold)[1]\n",
    "                    for i in range(int(gap_fairness_pivot[max_unfairness_pivot] )):\n",
    "                        #print(i,size_of_group_R_pivot,new_boundary_R_pivot,'d')\n",
    "                        if size_of_group_R_pivot<=new_boundary_R_pivot:\n",
    "                            break\n",
    "                        Vertices_L.append(kemeny_ranking_R[i])\n",
    "                        Vertices_R.remove(kemeny_ranking_R[i])\n",
    "                        size_of_group_R_pivot-=1\n",
    "                        new_boundary_R_pivot=boundary(proportions_groups[group[0]],len(Vertices_R),threshold)[1]\n",
    "                    pivot_candidate=[]\n",
    "  \n",
    "        else:\n",
    "            gap_fairness_non_pivot=np.zeros(4)\n",
    "            gap_fairness_non_pivot[0]=unfairness_of_group_L[group[0]][0]\n",
    "            gap_fairness_non_pivot[1]=unfairness_of_group_R[group[0]][0]\n",
    "            gap_fairness_non_pivot[2]=unfairness_of_group_L[group[0]][1]\n",
    "            gap_fairness_non_pivot[3]=unfairness_of_group_R[group[0]][1]\n",
    "            max_unfairness_non_pivot=np.argmax(gap_fairness_non_pivot)\n",
    "            \n",
    "            if max_unfairness_non_pivot>=0:\n",
    "                \n",
    "                if gap_fairness_non_pivot[max_unfairness_non_pivot]==0:\n",
    "                    kemeny_ranking_R=KwikSort(groups_of_Vertices_R[group[0]],rankings)\n",
    "                    size_of_group_L_non_pivot=size_of_group_L[group[0]]\n",
    "                    for i in range(int(gap_fairness_non_pivot[max_unfairness_non_pivot])):\n",
    "                        #print(i,size_of_group_L_non_pivot,kemeny_ranking_R,'e')\n",
    "                        Vertices_L.append(kemeny_ranking_R[i])\n",
    "                        Vertices_R.remove(kemeny_ranking_R[i])\n",
    "                        size_of_group_L_non_pivot+=1\n",
    "                        new_boundary_L_non_pivot=boundary(proportions_groups[group[0]],len(Vertices_L),threshold)[0]\n",
    "                        if size_of_group_L_non_pivot >= new_boundary_L_non_pivot:\n",
    "                            break\n",
    "\n",
    "            \n",
    "                if max_unfairness_non_pivot==1:\n",
    "                    kemeny_ranking_L=KwikSort(groups_of_Vertices_L[group[0]],rankings)\n",
    "                    size_of_group_R_non_pivot=size_of_group_L[group[0]]\n",
    "                    size_of_kemeny_ranking_L = len(kemeny_ranking_L)\n",
    "                    for i in range(int(gap_fairness_non_pivot[max_unfairness_non_pivot])):\n",
    "                       # print(i,size_of_group_R_non_pivot,size_of_kemeny_ranking_L,'f')\n",
    "                        if(size_of_kemeny_ranking_L==0):\n",
    "                            break\n",
    "                        Vertices_R.append(kemeny_ranking_L[size_of_kemeny_ranking_L-i-1])\n",
    "                        Vertices_L.remove(kemeny_ranking_L[size_of_kemeny_ranking_L-i-1])\n",
    "                        size_of_group_R_non_pivot=size_of_group_R_non_pivot+1\n",
    "                        new_boundary_R_non_pivot=boundary(proportions_groups[group[0]],len(Vertices_R),threshold)[0]\n",
    "                       # print(i,size_of_group_R_non_pivot,size_of_kemeny_ranking_L,new_boundary_R_non_pivot,'f')\n",
    "                        if size_of_group_R_non_pivot>=new_boundary_R_non_pivot:\n",
    "                            break\n",
    "            \n",
    "                        \n",
    "            \n",
    "            \n",
    "                if max_unfairness_non_pivot==2:\n",
    "                    kemeny_ranking_L=KwikSort(groups_of_Vertices_L[group[0]],rankings)\n",
    "                    size_of_group_L_non_pivot=size_of_group_L[group[0]]\n",
    "                    size_of_kemeny_ranking_L = len(kemeny_ranking_L)\n",
    "                    for i in range(int(gap_fairness_non_pivot[max_unfairness_non_pivot])):\n",
    "                        size_of_kemeny_ranking_L = len(kemeny_ranking_L)\n",
    "                        #print(i,size_of_group_L_non_pivot,size_of_kemeny_ranking_L,'g')\n",
    "                        if(size_of_kemeny_ranking_L==0):#only 1 element situation\n",
    "                            break\n",
    "                        Vertices_R.append(kemeny_ranking_L[size_of_kemeny_ranking_L-i-1])\n",
    "                        Vertices_L.remove(kemeny_ranking_L[size_of_kemeny_ranking_L-i-1])\n",
    "                        new_boundary_L_non_pivot=boundary(proportions_groups[group[0]],len(Vertices_L),threshold)[1]\n",
    "                        #print(i,size_of_group_L_non_pivot,new_boundary_L_non_pivot,size_of_kemeny_ranking_L,'g')\n",
    "                        if size_of_group_L_non_pivot <= new_boundary_L_non_pivot:\n",
    "                            break\n",
    "\n",
    "\n",
    "           \n",
    "                if max_unfairness_non_pivot==3:\n",
    "                    kemeny_ranking_R=KwikSort(groups_of_Vertices_R[group[0]],rankings)\n",
    "                    size_of_group_R_non_pivot=size_of_group_R[group[0]]\n",
    "                    for i in range(int(gap_fairness_non_pivot[max_unfairness_non_pivot])):\n",
    "                        #print(i,size_of_group_R_non_pivot,'h')\n",
    "                        Vertices_L.append(kemeny_ranking_R[i])\n",
    "                        Vertices_R.remove(kemeny_ranking_R[i])\n",
    "                        size_of_group_R_non_pivot-=1\n",
    "                        new_boundary_R_non_pivot=boundary(proportions_groups[group[0]],len(Vertices_R),threshold)[1]\n",
    "                        if size_of_group_R_non_pivot<=new_boundary_R_non_pivot:\n",
    "                            break\n",
    "             \n",
    " \n",
    "    \n",
    "    return Vertices_L, pivot_candidate, Vertices_R\n",
    "\n",
    "def group_by(Vertices,groups,attribute):\n",
    "    groups_by=[]\n",
    "    for values in groups:\n",
    "        group=[]\n",
    "        groups_by.append(group)\n",
    "    for vertex in Vertices:\n",
    "        group_of_Vertice=attribute[vertex]\n",
    "        groups_by[group_of_Vertice[1]].append(vertex)\n",
    "    return groups_by\n",
    "\n",
    "\n",
    "def proportions(groups):\n",
    "    proportions = []\n",
    "    total_number = np.sum(groups[:, 1])\n",
    "    for group in groups:\n",
    "        proportions.append(group[1] / total_number)\n",
    "    proportions = np.array(proportions)\n",
    "    return proportions"
   ],
   "metadata": {
    "collapsed": false,
    "ExecuteTime": {
     "start_time": "2023-11-20T02:48:58.658132200Z"
    }
   },
   "id": "bf3991f8d18aace3"
  },
  {
   "cell_type": "code",
   "execution_count": 266,
   "outputs": [
    {
     "name": "stdout",
     "output_type": "stream",
     "text": [
      "[0, 1, 2, 3, 4, 5, 6, 7, 8, 9, 10, 11, 12, 13, 14, 15, 16, 17, 18, 19, 20, 21, 22, 23, 24, 25, 26, 27, 28, 29, 30, 31, 32, 33, 34, 35, 36, 37, 38, 39, 40, 41, 42, 43, 44, 45, 46, 47, 48, 49, 51] [50] [52, 53, 54, 55, 56, 57, 58, 59, 60, 61, 62, 63, 64] addver\n",
      "[0, 1, 2, 3, 4, 5, 6, 7, 8, 9, 10, 11, 12, 13, 14, 15, 17, 19, 20, 24] [16] [18, 21, 22, 23, 25, 26, 27, 28, 29, 30, 31, 32, 33, 34, 35, 36, 37, 38, 39, 40, 41, 42, 43, 44, 45, 46, 47, 48, 49, 51] addver\n",
      "[0, 1, 2, 3, 4, 5, 6, 7, 8, 9, 10, 11, 12, 13] [14] [15, 17, 19, 20, 24] addver\n",
      "[0, 1, 2, 3, 4, 5, 6, 10] [] [8, 9, 11, 12, 13, 7] addver\n",
      "[0, 1, 3, 2] [] [5, 6, 10, 4] addver\n",
      "[0, 1, 3, 2] [] [] addver\n",
      "[] [0] [1, 3, 2] addver\n",
      "[] null\n",
      "[] [3] [2, 1] addver\n",
      "[] null\n",
      "[1. 2.] re\n",
      "[] 3 [1 2] per1\n",
      "[] 0 [3 1 2] per1\n",
      "[] null\n",
      "[0 3 1 2] [] per2\n",
      "[5, 6, 4] [10] [] addver\n",
      "[5, 4] [6] [] addver\n",
      "[4. 5.] re\n",
      "[] null\n",
      "[4 5] 6 [] per1\n",
      "[] null\n",
      "[4 5 6] 10 [] per1\n",
      "[0 3 1 2] [ 4  5  6 10] per2\n",
      "[8, 9, 7] [11] [12, 13] addver\n",
      "[] [7] [8, 9] addver\n",
      "[] null\n",
      "[8. 9.] re\n",
      "[] 7 [8 9] per1\n",
      "[12. 13.] re\n",
      "[7 8 9] 11 [12 13] per1\n",
      "[ 0  3  1  2  4  5  6 10] [ 7  8  9 11 12 13] per2\n",
      "[] [17] [15, 19, 20, 24] addver\n",
      "[] null\n",
      "[] [24] [15, 19, 20] addver\n",
      "[] null\n",
      "[15, 20] [19] [] addver\n",
      "[15. 20.] re\n",
      "[] null\n",
      "[15 20] 19 [] per1\n",
      "[] 24 [15 20 19] per1\n",
      "[] 17 [24 15 20 19] per1\n",
      "[ 0  3  1  2  4  5  6 10  7  8  9 11 12 13] 14 [17 24 15 20 19] per1\n",
      "[18, 21, 22, 23, 25, 26, 27, 28, 29, 30, 31, 32, 37] [33] [34, 35, 36, 38, 39, 40, 41, 42, 43, 44, 45, 46, 47, 48, 49, 51] addver\n",
      "[18, 21, 22, 23, 25, 26, 27, 29, 30, 32] [] [31, 37, 28] addver\n",
      "[18, 21, 22, 23, 25] [27] [26, 29, 30, 32] addver\n",
      "[18, 23, 22] [] [25, 21] addver\n",
      "[] [23] [22, 18] addver\n",
      "[] null\n",
      "[18. 22.] re\n",
      "[] 23 [18 22] per1\n",
      "[21. 25.] re\n",
      "[23 18 22] [21 25] per2\n",
      "[26, 30] [29] [32] addver\n",
      "[26. 30.] re\n",
      "32 pi\n",
      "[26 30] 29 [32] per1\n",
      "[23 18 22 21 25] 27 [26 30 29 32] per1\n",
      "[31, 28] [37] [] addver\n",
      "[28. 31.] re\n",
      "[] null\n",
      "[28 31] 37 [] per1\n",
      "[23 18 22 21 25 27 26 30 29 32] [28 31 37] per2\n",
      "[34, 35, 36, 38, 39, 41] [42] [40, 43, 44, 45, 46, 47, 48, 49, 51] addver\n",
      "[36, 38, 41] [34] [35, 39] addver\n",
      "[36, 41] [38] [] addver\n",
      "[36. 41.] re\n",
      "[] null\n",
      "[36 41] 38 [] per1\n",
      "[35. 39.] re\n",
      "[36 41 38] 34 [35 39] per1\n",
      "[] [43] [40, 44, 45, 47, 48, 49, 51, 46] addver\n",
      "[] null\n",
      "[40, 44, 45, 47, 46, 48] [] [51, 49] addver\n",
      "[40, 44, 45, 46] [48] [47] addver\n",
      "[40, 45, 46, 44] [] [] addver\n",
      "[45, 40] [] [44, 46] addver\n",
      "[40. 45.] re\n",
      "[46. 44.] re\n",
      "[40 45] [46 44] per2\n",
      "[] null\n",
      "[40 45 46 44] [] per2\n",
      "47 pi\n",
      "[40 45 46 44] 48 [47] per1\n",
      "[49. 51.] re\n",
      "[40 45 46 44 48 47] [49 51] per2\n",
      "[] 43 [40 45 46 44 48 47 49 51] per1\n",
      "[36 41 38 34 35 39] 42 [43 40 45 46 44 48 47 49 51] per1\n",
      "[23 18 22 21 25 27 26 30 29 32 28 31 37] 33 [36 41 38 34 35 39 42 43 40 45 46 44 48 47 49 51] per1\n",
      "[ 0  3  1  2  4  5  6 10  7  8  9 11 12 13 14 17 24 15 20 19] 16 [23 18 22 21 25 27 26 30 29 32 28 31 37 33 36 41 38 34 35 39 42 43 40 45\n",
      " 46 44 48 47 49 51] per1\n",
      "[52, 53, 54, 55, 57, 64] [] [56, 58, 59, 60, 61, 62, 63] addver\n",
      "[] [53] [52, 54, 55, 57, 64] addver\n",
      "[] null\n",
      "[52, 54, 55, 57] [64] [] addver\n",
      "[] [52] [54, 55, 57] addver\n",
      "[] null\n",
      "[] [54] [55, 57] addver\n",
      "[] null\n",
      "[55. 57.] re\n",
      "[] 54 [55 57] per1\n",
      "[] 52 [54 55 57] per1\n",
      "[] null\n",
      "[52 54 55 57] 64 [] per1\n",
      "[] 53 [52 54 55 57 64] per1\n",
      "[56, 58, 60, 61] [] [59, 62, 63] addver\n",
      "[61, 56, 60] [] [58] addver\n",
      "[61] [56] [60] addver\n",
      "61 pi\n",
      "60 pi\n",
      "[61] 56 [60] per1\n",
      "58 pi\n",
      "[61 56 60] [58] per2\n",
      "[62] [] [59, 63] addver\n",
      "62 pi\n",
      "[63. 59.] re\n",
      "[62] [63 59] per2\n",
      "[61 56 60 58] [62 63 59] per2\n",
      "[53 52 54 55 57 64] [61 56 60 58 62 63 59] per2\n",
      "[ 0  3  1  2  4  5  6 10  7  8  9 11 12 13 14 17 24 15 20 19 16 23 18 22\n",
      " 21 25 27 26 30 29 32 28 31 37 33 36 41 38 34 35 39 42 43 40 45 46 44 48\n",
      " 47 49 51] 50 [53 52 54 55 57 64 61 56 60 58 62 63 59] per1\n"
     ]
    }
   ],
   "source": [
    "t0=time()\n",
    "fair_Kwik_Sort_ranking_cs=fair_Kwik_Sort(base_rankings,attribute,groups,threshold)\n",
    "t1=time()\n",
    "t1-t0"
   ],
   "metadata": {
    "collapsed": false,
    "ExecuteTime": {
     "end_time": "2023-11-20T03:04:34.333975500Z",
     "start_time": "2023-11-20T03:04:28.677209900Z"
    }
   },
   "id": "fd2cf631e83b80de"
  },
  {
   "cell_type": "code",
   "execution_count": 267,
   "outputs": [
    {
     "data": {
      "text/plain": "(array([10, 43, 11, 34, 38, 40,  1, 45, 42, 63, 46, 30, 47,  2, 20, 44, 48,\n        55, 60,  0, 57,  8,  9, 24, 73, 58, 76, 81, 93,  3, 89, 31,  7, 99,\n        91,  4, 54,  5, 12, 13, 62, 88, 92, 21, 49, 36, 37, 64, 50, 52, 70,\n        14, 66, 69, 65, 35, 75, 53, 56, 61, 26, 39, 68, 77, 32, 72, 74, 29,\n        78, 86, 95, 90, 79, 15, 94,  6, 16, 98, 23, 80, 51, 96, 17, 33, 82,\n        19, 67, 85, 84, 22, 59, 41, 71, 87, 18, 25, 83, 27, 28, 97]),\n array([ 0,  3,  1,  2,  4,  5,  6, 10,  7,  8,  9, 11, 12, 13, 14, 17, 24,\n        15, 20, 19, 16, 23, 18, 22, 21, 25, 27, 26, 30, 29, 32, 28, 31, 37,\n        33, 36, 41, 38, 34, 35, 39, 42, 43, 40, 45, 46, 44, 48, 47, 49, 51,\n        50, 53, 52, 54, 55, 57, 64, 61, 56, 60, 58, 62, 63, 59]))"
     },
     "execution_count": 267,
     "metadata": {},
     "output_type": "execute_result"
    }
   ],
   "source": [
    "fair_Kwik_Sort_ranking,fair_Kwik_Sort_ranking_cs"
   ],
   "metadata": {
    "collapsed": false,
    "ExecuteTime": {
     "end_time": "2023-11-20T03:04:37.167335900Z",
     "start_time": "2023-11-20T03:04:37.135945400Z"
    }
   },
   "id": "141536653dbb0a08"
  },
  {
   "cell_type": "code",
   "execution_count": 268,
   "outputs": [
    {
     "data": {
      "text/plain": "(23880, 5639)"
     },
     "execution_count": 268,
     "metadata": {},
     "output_type": "execute_result"
    }
   ],
   "source": [
    "fair_kemeny_dist_kwik=ul.kemeny_dist(rankings,fair_Kwik_Sort_ranking)\n",
    "fair_kemeny_dist_kwik_cs=ul.kemeny_dist(base_rankings,fair_Kwik_Sort_ranking_cs)\n",
    "fair_kemeny_dist_kwik,fair_kemeny_dist_kwik_cs"
   ],
   "metadata": {
    "collapsed": false,
    "ExecuteTime": {
     "end_time": "2023-11-20T03:04:39.889784900Z",
     "start_time": "2023-11-20T03:04:39.639077900Z"
    }
   },
   "id": "44465627cfee1b19"
  },
  {
   "cell_type": "code",
   "execution_count": null,
   "outputs": [],
   "source": [],
   "metadata": {
    "collapsed": false
   },
   "id": "58f65ef1a36dbc3c"
  },
  {
   "cell_type": "code",
   "execution_count": null,
   "outputs": [],
   "source": [],
   "metadata": {
    "collapsed": false
   },
   "id": "d9cf3ea5ca06c2ab"
  },
  {
   "cell_type": "code",
   "execution_count": 395,
   "outputs": [
    {
     "name": "stdout",
     "output_type": "stream",
     "text": [
      "[(9.0, 9), (21.0, 21)] [(12.0, 13), (28.0, 29)] boundary\n",
      "(7, 23) (14, 27) size\n",
      "[(2.0, 0), (0, 2)] [(0, 1), (1.0, 0)] unfair\n",
      "1 46 gp\n",
      "[ 0 30] 1p\n",
      "[20, 19, 28, 8, 1, 15, 23, 12, 4, 13, 7, 26, 6, 14] [ 1  4  6 15 20 26  7  8 12 13 14 23 28 19] d\n",
      "[ 1 70] 0p\n",
      "0 lower\n",
      "46 wtf2\n",
      "2 upper\n"
     ]
    },
    {
     "ename": "IndexError",
     "evalue": "list index out of range",
     "output_type": "error",
     "traceback": [
      "\u001B[1;31m---------------------------------------------------------------------------\u001B[0m",
      "\u001B[1;31mIndexError\u001B[0m                                Traceback (most recent call last)",
      "Cell \u001B[1;32mIn[395], line 1\u001B[0m\n\u001B[1;32m----> 1\u001B[0m result\u001B[38;5;241m=\u001B[39madjust_unfairness(rankings,Vertices_L,[pivot_candidate],Vertices_R,groups,attribute,threshold)\n",
      "Cell \u001B[1;32mIn[394], line 54\u001B[0m, in \u001B[0;36madjust_unfairness\u001B[1;34m(rankings, Vertices_L, pivot_candidate, Vertices_R, groups, attribute, threshold)\u001B[0m\n\u001B[0;32m     52\u001B[0m \u001B[38;5;28;01mif\u001B[39;00m upper_gap_fairness_L \u001B[38;5;241m>\u001B[39m \u001B[38;5;241m0\u001B[39m:\n\u001B[0;32m     53\u001B[0m     kemeny_ranking_L\u001B[38;5;241m=\u001B[39mKwikSort(groups_of_Vertices_L[group[\u001B[38;5;241m0\u001B[39m]],rankings)\n\u001B[1;32m---> 54\u001B[0m     \u001B[38;5;28mprint\u001B[39m(pivot_candidate[\u001B[38;5;241m0\u001B[39m][\u001B[38;5;241m0\u001B[39m],\u001B[38;5;124m'\u001B[39m\u001B[38;5;124mwtf3\u001B[39m\u001B[38;5;124m'\u001B[39m)\n\u001B[0;32m     55\u001B[0m     Vertices_R\u001B[38;5;241m.\u001B[39mappend(pivot_candidate[\u001B[38;5;241m0\u001B[39m][\u001B[38;5;241m0\u001B[39m])\n\u001B[0;32m     56\u001B[0m     \u001B[38;5;28;01mfor\u001B[39;00m i \u001B[38;5;129;01min\u001B[39;00m \u001B[38;5;28mrange\u001B[39m(\u001B[38;5;28mint\u001B[39m(upper_gap_fairness_L)\u001B[38;5;241m-\u001B[39m\u001B[38;5;241m1\u001B[39m):\n",
      "\u001B[1;31mIndexError\u001B[0m: list index out of range"
     ]
    }
   ],
   "source": [
    "result=adjust_unfairness(rankings,Vertices_L,[pivot_candidate],Vertices_R,groups,attribute,threshold)"
   ],
   "metadata": {
    "collapsed": false,
    "ExecuteTime": {
     "end_time": "2023-11-19T02:21:28.682543600Z",
     "start_time": "2023-11-19T02:21:28.209541Z"
    }
   },
   "id": "ebce80b3e441cb07"
  },
  {
   "cell_type": "code",
   "execution_count": 329,
   "outputs": [
    {
     "data": {
      "text/plain": "([8,\n  38,\n  63,\n  1,\n  6,\n  48,\n  9,\n  86,\n  18,\n  82,\n  93,\n  75,\n  33,\n  92,\n  60,\n  81,\n  59,\n  54,\n  14,\n  49,\n  73,\n  16,\n  13,\n  30,\n  85,\n  34,\n  29,\n  99,\n  61,\n  44],\n [],\n [7,\n  42,\n  26,\n  70,\n  0,\n  57,\n  74,\n  12,\n  98,\n  24,\n  95,\n  94,\n  25,\n  53,\n  65,\n  76,\n  3,\n  89,\n  51,\n  41,\n  97,\n  69,\n  15,\n  79,\n  40,\n  2,\n  91,\n  78,\n  68,\n  32,\n  96,\n  66,\n  77,\n  80,\n  67,\n  55,\n  90,\n  50,\n  58,\n  35,\n  36,\n  22])"
     },
     "execution_count": 329,
     "metadata": {},
     "output_type": "execute_result"
    }
   ],
   "source": [
    "result"
   ],
   "metadata": {
    "collapsed": false,
    "ExecuteTime": {
     "end_time": "2023-11-19T02:06:53.512446100Z",
     "start_time": "2023-11-19T02:06:53.489454300Z"
    }
   },
   "id": "d320cae035c34e43"
  },
  {
   "cell_type": "code",
   "execution_count": 17,
   "outputs": [],
   "source": [
    "def proportions(groups):\n",
    "    proportions = []\n",
    "    total_number = np.sum(groups[:, 1])\n",
    "    for group in groups:\n",
    "        proportions.append(group[1] / total_number)\n",
    "    proportions = np.array(proportions)\n",
    "    return proportions"
   ],
   "metadata": {
    "collapsed": false,
    "ExecuteTime": {
     "end_time": "2023-11-19T04:18:21.203640800Z",
     "start_time": "2023-11-19T04:18:21.169409300Z"
    }
   },
   "id": "26577da65a90b83c"
  },
  {
   "cell_type": "code",
   "execution_count": 18,
   "outputs": [],
   "source": [
    "from random import randrange\n",
    "from itertools import combinations\n",
    "\n",
    "\n",
    "def generate_unweighted_majority_Tournament(Verticles,Fas_Tournament):\n",
    "    size_candidates=Fas_Tournament.shape[0]\n",
    "    size_Vertices=len(Verticles)\n",
    "    Arc=np.zeros((size_candidates,size_candidates))\n",
    "    for i,j in combinations(range(size_Vertices), 2):\n",
    "        if Fas_Tournament[Verticles[i],Verticles[j]]>Fas_Tournament[Verticles[j],Verticles[i]]:\n",
    "            Arc[Verticles[i],Verticles[j]]=1\n",
    "        else:\n",
    "            Arc[Verticles[j],Verticles[i]]=1\n",
    "    return Verticles,Arc\n",
    "\n",
    "\n",
    "\n",
    "def Kwik_Sort_recur(unweighted_majority_Tournament,Fas_Tournament):\n",
    "    Vertices=unweighted_majority_Tournament[0]\n",
    "    Arc=unweighted_majority_Tournament[1]\n",
    "    if len(Vertices) ==0:\n",
    "        return np.zeros(0)\n",
    "    size_candidates=len(Vertices)\n",
    "    pivot_candidate=Vertices[randrange(size_candidates)]\n",
    "    Vertices_L=[]\n",
    "    Vertices_R=[]\n",
    "    for j in range(size_candidates):\n",
    "        if Arc[Vertices[j],pivot_candidate]==1:\n",
    "            Vertices_L.append(Vertices[j])\n",
    "        if Arc[pivot_candidate,Vertices[j]]==1:\n",
    "            Vertices_R.append(Vertices[j])\n",
    "    Vertices_L=np.array(Vertices_L)\n",
    "    Vertices_R=np.array(Vertices_R)\n",
    "    unweighted_majority_Tournament_L=generate_unweighted_majority_Tournament(Vertices_L,Fas_Tournament)\n",
    "    unweighted_majority_Tournament_R=generate_unweighted_majority_Tournament(Vertices_R,Fas_Tournament)\n",
    "    permutation_L=Kwik_Sort_recur(unweighted_majority_Tournament_L,Fas_Tournament).astype(int)\n",
    "    permutation_R=Kwik_Sort_recur(unweighted_majority_Tournament_R,Fas_Tournament).astype(int)\n",
    "    return np.concatenate((permutation_L,np.array([pivot_candidate]).astype(int),permutation_R))\n",
    "\n",
    "\n",
    "def KwikSort(Vertices,rankings):\n",
    "    Fas_Tournament=build_graph(rankings)\n",
    "    unweighted_majority_Tournament=generate_unweighted_majority_Tournament(Vertices,Fas_Tournament)\n",
    "    ranking_opt=Kwik_Sort_recur(unweighted_majority_Tournament,Fas_Tournament)\n",
    "\n",
    "    return ranking_opt\n",
    "\n",
    "def build_graph(rankings):\n",
    "    n_voters, size_candidate = rankings.shape\n",
    "    edge_weights = np.zeros((size_candidate, size_candidate))\n",
    "    for i, j in combinations(range(size_candidate), 2):\n",
    "        preference = rankings[:, i] - rankings[:, j]\n",
    "        preference_i_j = np.sum(preference < 0)  # prefers i to j\n",
    "        preference_j_i = np.sum(preference > 0)  # prefers j to i\n",
    "        if preference_i_j > preference_j_i:\n",
    "            edge_weights[i, j] = preference_i_j\n",
    "        elif preference_i_j < preference_j_i:\n",
    "            edge_weights[j, i] = preference_j_i\n",
    "    return edge_weights"
   ],
   "metadata": {
    "collapsed": false,
    "ExecuteTime": {
     "end_time": "2023-11-19T04:18:21.574686500Z",
     "start_time": "2023-11-19T04:18:21.534632900Z"
    }
   },
   "id": "59851574766d5c6f"
  },
  {
   "cell_type": "code",
   "execution_count": 18,
   "outputs": [],
   "source": [],
   "metadata": {
    "collapsed": false,
    "ExecuteTime": {
     "end_time": "2023-11-19T04:18:22.251924800Z",
     "start_time": "2023-11-19T04:18:22.233408500Z"
    }
   },
   "id": "af6ba7f192649c93"
  },
  {
   "cell_type": "code",
   "execution_count": null,
   "outputs": [],
   "source": [],
   "metadata": {
    "collapsed": false
   },
   "id": "bb4ad306bb0e0c57"
  }
 ],
 "metadata": {
  "kernelspec": {
   "display_name": "Python 3",
   "language": "python",
   "name": "python3"
  },
  "language_info": {
   "codemirror_mode": {
    "name": "ipython",
    "version": 2
   },
   "file_extension": ".py",
   "mimetype": "text/x-python",
   "name": "python",
   "nbconvert_exporter": "python",
   "pygments_lexer": "ipython2",
   "version": "2.7.6"
  }
 },
 "nbformat": 4,
 "nbformat_minor": 5
}
