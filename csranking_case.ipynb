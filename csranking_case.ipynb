{
 "cells": [
  {
   "cell_type": "code",
   "execution_count": 2,
   "id": "initial_id",
   "metadata": {
    "collapsed": true,
    "ExecuteTime": {
     "end_time": "2023-11-16T08:59:11.432264600Z",
     "start_time": "2023-11-16T08:59:10.680861300Z"
    }
   },
   "outputs": [],
   "source": [
    "import numpy as np\n",
    "import markov_chains_methods as mc\n",
    "import utils as ul\n",
    "import pandas as pd\n",
    "import metrics\n",
    "from time import time"
   ]
  },
  {
   "cell_type": "code",
   "execution_count": 3,
   "outputs": [
    {
     "data": {
      "text/plain": "array([[ 0,  1, 11, ..., 61, 56, 49],\n       [ 0,  3,  1, ..., 60, 52, 61],\n       [ 0,  3,  5, ..., 43, 49, 52],\n       ...,\n       [ 0,  2,  8, ..., 52, 61, 53],\n       [ 0,  1,  4, ..., 63, 52, 61],\n       [ 0,  2,  1, ..., 61, 62, 53]])"
     },
     "execution_count": 3,
     "metadata": {},
     "output_type": "execute_result"
    }
   ],
   "source": [
    "base_ranks = np.load('cs_baseranks.npy').astype(int)\n",
    "base_ranks\n"
   ],
   "metadata": {
    "collapsed": false,
    "ExecuteTime": {
     "end_time": "2023-11-16T08:59:12.155748300Z",
     "start_time": "2023-11-16T08:59:12.145236200Z"
    }
   },
   "id": "93b558f7496b8e99"
  },
  {
   "cell_type": "code",
   "execution_count": null,
   "outputs": [],
   "source": [
    "rankings =base_ranks"
   ],
   "metadata": {
    "collapsed": false
   },
   "id": "46ae318632c8b9a9"
  }
 ],
 "metadata": {
  "kernelspec": {
   "display_name": "Python 3",
   "language": "python",
   "name": "python3"
  },
  "language_info": {
   "codemirror_mode": {
    "name": "ipython",
    "version": 2
   },
   "file_extension": ".py",
   "mimetype": "text/x-python",
   "name": "python",
   "nbconvert_exporter": "python",
   "pygments_lexer": "ipython2",
   "version": "2.7.6"
  }
 },
 "nbformat": 4,
 "nbformat_minor": 5
}
