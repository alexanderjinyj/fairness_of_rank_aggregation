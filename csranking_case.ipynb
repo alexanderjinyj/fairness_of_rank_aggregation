{
 "cells": [
  {
   "cell_type": "code",
   "execution_count": 1,
   "id": "initial_id",
   "metadata": {
    "collapsed": true,
    "ExecuteTime": {
     "end_time": "2023-11-18T19:33:00.018761800Z",
     "start_time": "2023-11-18T19:32:56.096488800Z"
    }
   },
   "outputs": [],
   "source": [
    "import numpy as np\n",
    "import markov_chains_methods as mc\n",
    "import utils as ul\n",
    "import pandas as pd\n",
    "import metrics\n",
    "from time import time"
   ]
  },
  {
   "cell_type": "code",
   "execution_count": 7,
   "outputs": [
    {
     "data": {
      "text/plain": "array([[ 0,  1, 11, ..., 61, 56, 49],\n       [ 0,  3,  1, ..., 60, 52, 61],\n       [ 0,  3,  5, ..., 43, 49, 52],\n       ...,\n       [ 0,  2,  8, ..., 52, 61, 53],\n       [ 0,  1,  4, ..., 63, 52, 61],\n       [ 0,  2,  1, ..., 61, 62, 53]])"
     },
     "execution_count": 7,
     "metadata": {},
     "output_type": "execute_result"
    }
   ],
   "source": [
    "base_ranks = np.load('cs_baseranks.npy').astype(int)\n",
    "base_ranks\n"
   ],
   "metadata": {
    "collapsed": false,
    "ExecuteTime": {
     "end_time": "2023-11-18T19:53:37.603427Z",
     "start_time": "2023-11-18T19:53:37.587619200Z"
    }
   },
   "id": "93b558f7496b8e99"
  },
  {
   "cell_type": "code",
   "execution_count": 30,
   "outputs": [],
   "source": [
    "for i in range(0):\n",
    "    print('a')"
   ],
   "metadata": {
    "collapsed": false,
    "ExecuteTime": {
     "end_time": "2023-11-18T23:32:53.270584100Z",
     "start_time": "2023-11-18T23:32:53.234216800Z"
    }
   },
   "id": "f8d5b7a577a633b7"
  },
  {
   "cell_type": "code",
   "execution_count": 26,
   "outputs": [
    {
     "name": "stdout",
     "output_type": "stream",
     "text": [
      "[43] [] [0 1 2 3 4 5 6 7 8 9]\n"
     ]
    },
    {
     "data": {
      "text/plain": "(array([], dtype=float64),\n array([0, 1, 2, 3, 4, 5, 6, 7, 8, 9]),\n array([10, 11, 12, 13, 14]),\n array([70.]))"
     },
     "execution_count": 26,
     "metadata": {},
     "output_type": "execute_result"
    }
   ],
   "source": [
    "from random import randrange\n",
    "\n",
    "a=np.empty(0)\n",
    "b=np.arange(10)\n",
    "c=np.arange(10,15)\n",
    "print(np.array([43]),a,b)\n",
    "#d=np.concatenate((b,a,np.array([17]),c))\n",
    "d=np.concatenate((a,np.array([70]),a))\n",
    "a,b,c,d"
   ],
   "metadata": {
    "collapsed": false,
    "ExecuteTime": {
     "end_time": "2023-11-18T20:25:47.900525400Z",
     "start_time": "2023-11-18T20:25:47.876414700Z"
    }
   },
   "id": "5b4f8e5a416634ff"
  },
  {
   "cell_type": "code",
   "execution_count": null,
   "outputs": [],
   "source": [
    "rankings =base_ranks"
   ],
   "metadata": {
    "collapsed": false
   },
   "id": "46ae318632c8b9a9"
  }
 ],
 "metadata": {
  "kernelspec": {
   "display_name": "Python 3",
   "language": "python",
   "name": "python3"
  },
  "language_info": {
   "codemirror_mode": {
    "name": "ipython",
    "version": 2
   },
   "file_extension": ".py",
   "mimetype": "text/x-python",
   "name": "python",
   "nbconvert_exporter": "python",
   "pygments_lexer": "ipython2",
   "version": "2.7.6"
  }
 },
 "nbformat": 4,
 "nbformat_minor": 5
}
